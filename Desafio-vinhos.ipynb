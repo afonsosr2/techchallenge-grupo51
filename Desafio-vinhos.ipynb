{
 "cells": [
  {
   "cell_type": "code",
   "execution_count": 74,
   "metadata": {},
   "outputs": [],
   "source": [
    "import pandas as pd \n",
    "import numpy as np \n",
    "import matplotlib.pyplot as plt\n",
    "import matplotlib.ticker as ticker\n",
    "import seaborn as sns"
   ]
  },
  {
   "attachments": {},
   "cell_type": "markdown",
   "metadata": {},
   "source": [
    "### Paleta de Cores"
   ]
  },
  {
   "cell_type": "code",
   "execution_count": 75,
   "metadata": {},
   "outputs": [],
   "source": [
    "## Paleta 01 - 5 cores\n",
    "RED1, GREEN1, GREEN2, YELLOW1, RED2 = \"#EE6055\", \"#60D394\", \"#AAF683\", \"#FFD97D\", \"#FF9B85\"\n",
    "PALETA01 = [RED1, GREEN1, GREEN2, YELLOW1, RED2]\n",
    "\n",
    "## Paleta 02 - 10 cores\n",
    "VINHO1, VINHO2, VINHO3, VINHO4, VINHO5 =  \"#590D22\", \"#800F2F\", \"#A4133C\", \"#C9184A\", \"#FF4D6D\"\n",
    "VINHO6, VINHO7, VINHO8, VINHO9, VINHO10 = \"#FF758F\", \"#FF758F\", \"#FF758F\", \"#FF758F\", \"#FF758F\"\n",
    "PALETA02 = [VINHO1, VINHO2, VINHO3, VINHO4, VINHO5, VINHO6, VINHO7, VINHO8, VINHO9, VINHO10]\n",
    "\n",
    "## Paleta 03 - Títulos\n",
    "CINZA1, CINZA2, CINZA3, CINZA4, CINZA5 = '#212529', '#495057', '#adb5bd', '#dee2e6', '#f8f9fa'"
   ]
  },
  {
   "attachments": {},
   "cell_type": "markdown",
   "metadata": {},
   "source": [
    "### Exploração dos dados"
   ]
  },
  {
   "cell_type": "code",
   "execution_count": 76,
   "metadata": {},
   "outputs": [],
   "source": [
    "dados = pd.read_csv(\"dados/ExpVinho.csv\", sep = \";\",encoding= \"utf-8\", thousands  = \".\")"
   ]
  },
  {
   "cell_type": "code",
   "execution_count": 77,
   "metadata": {},
   "outputs": [
    {
     "data": {
      "text/html": [
       "<div>\n",
       "<style scoped>\n",
       "    .dataframe tbody tr th:only-of-type {\n",
       "        vertical-align: middle;\n",
       "    }\n",
       "\n",
       "    .dataframe tbody tr th {\n",
       "        vertical-align: top;\n",
       "    }\n",
       "\n",
       "    .dataframe thead th {\n",
       "        text-align: right;\n",
       "    }\n",
       "</style>\n",
       "<table border=\"1\" class=\"dataframe\">\n",
       "  <thead>\n",
       "    <tr style=\"text-align: right;\">\n",
       "      <th></th>\n",
       "      <th>Id</th>\n",
       "      <th>País</th>\n",
       "      <th>1970</th>\n",
       "      <th>1970.1</th>\n",
       "      <th>1971</th>\n",
       "      <th>1971.1</th>\n",
       "      <th>1972</th>\n",
       "      <th>1972.1</th>\n",
       "      <th>1973</th>\n",
       "      <th>1973.1</th>\n",
       "      <th>...</th>\n",
       "      <th>2017</th>\n",
       "      <th>2017.1</th>\n",
       "      <th>2018</th>\n",
       "      <th>2018.1</th>\n",
       "      <th>2019</th>\n",
       "      <th>2019.1</th>\n",
       "      <th>2020</th>\n",
       "      <th>2020.1</th>\n",
       "      <th>2021</th>\n",
       "      <th>2021.1</th>\n",
       "    </tr>\n",
       "  </thead>\n",
       "  <tbody>\n",
       "    <tr>\n",
       "      <th>0</th>\n",
       "      <td>1</td>\n",
       "      <td>Afeganistão</td>\n",
       "      <td>0</td>\n",
       "      <td>0</td>\n",
       "      <td>0</td>\n",
       "      <td>0</td>\n",
       "      <td>0</td>\n",
       "      <td>0</td>\n",
       "      <td>0</td>\n",
       "      <td>0</td>\n",
       "      <td>...</td>\n",
       "      <td>0</td>\n",
       "      <td>0</td>\n",
       "      <td>0</td>\n",
       "      <td>0</td>\n",
       "      <td>0</td>\n",
       "      <td>0</td>\n",
       "      <td>0</td>\n",
       "      <td>0</td>\n",
       "      <td>11</td>\n",
       "      <td>46</td>\n",
       "    </tr>\n",
       "    <tr>\n",
       "      <th>1</th>\n",
       "      <td>2</td>\n",
       "      <td>África do Sul</td>\n",
       "      <td>0</td>\n",
       "      <td>0</td>\n",
       "      <td>0</td>\n",
       "      <td>0</td>\n",
       "      <td>0</td>\n",
       "      <td>0</td>\n",
       "      <td>0</td>\n",
       "      <td>0</td>\n",
       "      <td>...</td>\n",
       "      <td>0</td>\n",
       "      <td>0</td>\n",
       "      <td>0</td>\n",
       "      <td>0</td>\n",
       "      <td>26</td>\n",
       "      <td>95</td>\n",
       "      <td>4</td>\n",
       "      <td>21</td>\n",
       "      <td>0</td>\n",
       "      <td>0</td>\n",
       "    </tr>\n",
       "    <tr>\n",
       "      <th>2</th>\n",
       "      <td>3</td>\n",
       "      <td>Alemanha, República Democrática</td>\n",
       "      <td>0</td>\n",
       "      <td>0</td>\n",
       "      <td>0</td>\n",
       "      <td>0</td>\n",
       "      <td>4168</td>\n",
       "      <td>2630</td>\n",
       "      <td>12000</td>\n",
       "      <td>8250</td>\n",
       "      <td>...</td>\n",
       "      <td>15467</td>\n",
       "      <td>87702</td>\n",
       "      <td>10794</td>\n",
       "      <td>45382</td>\n",
       "      <td>3660</td>\n",
       "      <td>25467</td>\n",
       "      <td>6261</td>\n",
       "      <td>32605</td>\n",
       "      <td>2698</td>\n",
       "      <td>6741</td>\n",
       "    </tr>\n",
       "    <tr>\n",
       "      <th>3</th>\n",
       "      <td>4</td>\n",
       "      <td>Angola</td>\n",
       "      <td>0</td>\n",
       "      <td>0</td>\n",
       "      <td>0</td>\n",
       "      <td>0</td>\n",
       "      <td>0</td>\n",
       "      <td>0</td>\n",
       "      <td>0</td>\n",
       "      <td>0</td>\n",
       "      <td>...</td>\n",
       "      <td>10170</td>\n",
       "      <td>61680</td>\n",
       "      <td>477</td>\n",
       "      <td>709</td>\n",
       "      <td>345</td>\n",
       "      <td>1065</td>\n",
       "      <td>0</td>\n",
       "      <td>0</td>\n",
       "      <td>0</td>\n",
       "      <td>0</td>\n",
       "    </tr>\n",
       "    <tr>\n",
       "      <th>4</th>\n",
       "      <td>5</td>\n",
       "      <td>Anguilla</td>\n",
       "      <td>0</td>\n",
       "      <td>0</td>\n",
       "      <td>0</td>\n",
       "      <td>0</td>\n",
       "      <td>0</td>\n",
       "      <td>0</td>\n",
       "      <td>0</td>\n",
       "      <td>0</td>\n",
       "      <td>...</td>\n",
       "      <td>0</td>\n",
       "      <td>0</td>\n",
       "      <td>0</td>\n",
       "      <td>0</td>\n",
       "      <td>0</td>\n",
       "      <td>0</td>\n",
       "      <td>0</td>\n",
       "      <td>0</td>\n",
       "      <td>0</td>\n",
       "      <td>0</td>\n",
       "    </tr>\n",
       "  </tbody>\n",
       "</table>\n",
       "<p>5 rows × 106 columns</p>\n",
       "</div>"
      ],
      "text/plain": [
       "   Id                             País  1970  1970.1  1971  1971.1  1972  \\\n",
       "0   1                      Afeganistão     0       0     0       0     0   \n",
       "1   2                    África do Sul     0       0     0       0     0   \n",
       "2   3  Alemanha, República Democrática     0       0     0       0  4168   \n",
       "3   4                           Angola     0       0     0       0     0   \n",
       "4   5                         Anguilla     0       0     0       0     0   \n",
       "\n",
       "   1972.1   1973  1973.1  ...   2017  2017.1   2018  2018.1  2019  2019.1  \\\n",
       "0       0      0       0  ...      0       0      0       0     0       0   \n",
       "1       0      0       0  ...      0       0      0       0    26      95   \n",
       "2    2630  12000    8250  ...  15467   87702  10794   45382  3660   25467   \n",
       "3       0      0       0  ...  10170   61680    477     709   345    1065   \n",
       "4       0      0       0  ...      0       0      0       0     0       0   \n",
       "\n",
       "   2020  2020.1  2021  2021.1  \n",
       "0     0       0    11      46  \n",
       "1     4      21     0       0  \n",
       "2  6261   32605  2698    6741  \n",
       "3     0       0     0       0  \n",
       "4     0       0     0       0  \n",
       "\n",
       "[5 rows x 106 columns]"
      ]
     },
     "execution_count": 77,
     "metadata": {},
     "output_type": "execute_result"
    }
   ],
   "source": [
    "dados.head()"
   ]
  },
  {
   "cell_type": "code",
   "execution_count": 78,
   "metadata": {},
   "outputs": [
    {
     "name": "stdout",
     "output_type": "stream",
     "text": [
      "<class 'pandas.core.frame.DataFrame'>\n",
      "RangeIndex: 124 entries, 0 to 123\n",
      "Columns: 106 entries, Id to 2021.1\n",
      "dtypes: int64(105), object(1)\n",
      "memory usage: 102.8+ KB\n"
     ]
    }
   ],
   "source": [
    "dados.info()"
   ]
  },
  {
   "cell_type": "code",
   "execution_count": 79,
   "metadata": {},
   "outputs": [
    {
     "data": {
      "text/html": [
       "<div>\n",
       "<style scoped>\n",
       "    .dataframe tbody tr th:only-of-type {\n",
       "        vertical-align: middle;\n",
       "    }\n",
       "\n",
       "    .dataframe tbody tr th {\n",
       "        vertical-align: top;\n",
       "    }\n",
       "\n",
       "    .dataframe thead th {\n",
       "        text-align: right;\n",
       "    }\n",
       "</style>\n",
       "<table border=\"1\" class=\"dataframe\">\n",
       "  <thead>\n",
       "    <tr style=\"text-align: right;\">\n",
       "      <th></th>\n",
       "      <th>País</th>\n",
       "    </tr>\n",
       "  </thead>\n",
       "  <tbody>\n",
       "    <tr>\n",
       "      <th>0</th>\n",
       "      <td>Afeganistão</td>\n",
       "    </tr>\n",
       "    <tr>\n",
       "      <th>1</th>\n",
       "      <td>África do Sul</td>\n",
       "    </tr>\n",
       "    <tr>\n",
       "      <th>2</th>\n",
       "      <td>Alemanha, República Democrática</td>\n",
       "    </tr>\n",
       "    <tr>\n",
       "      <th>3</th>\n",
       "      <td>Angola</td>\n",
       "    </tr>\n",
       "    <tr>\n",
       "      <th>4</th>\n",
       "      <td>Anguilla</td>\n",
       "    </tr>\n",
       "  </tbody>\n",
       "</table>\n",
       "</div>"
      ],
      "text/plain": [
       "                              País\n",
       "0                      Afeganistão\n",
       "1                    África do Sul\n",
       "2  Alemanha, República Democrática\n",
       "3                           Angola\n",
       "4                         Anguilla"
      ]
     },
     "execution_count": 79,
     "metadata": {},
     "output_type": "execute_result"
    }
   ],
   "source": [
    "col_pais = dados[[\"País\"]]\n",
    "col_pais.head()"
   ]
  },
  {
   "cell_type": "code",
   "execution_count": 80,
   "metadata": {},
   "outputs": [
    {
     "data": {
      "text/html": [
       "<div>\n",
       "<style scoped>\n",
       "    .dataframe tbody tr th:only-of-type {\n",
       "        vertical-align: middle;\n",
       "    }\n",
       "\n",
       "    .dataframe tbody tr th {\n",
       "        vertical-align: top;\n",
       "    }\n",
       "\n",
       "    .dataframe thead th {\n",
       "        text-align: right;\n",
       "    }\n",
       "</style>\n",
       "<table border=\"1\" class=\"dataframe\">\n",
       "  <thead>\n",
       "    <tr style=\"text-align: right;\">\n",
       "      <th></th>\n",
       "      <th>2007</th>\n",
       "      <th>2007-Dolar</th>\n",
       "      <th>2008</th>\n",
       "      <th>2008-Dolar</th>\n",
       "      <th>2009</th>\n",
       "      <th>2009-Dolar</th>\n",
       "      <th>2010</th>\n",
       "      <th>2010-Dolar</th>\n",
       "      <th>2011</th>\n",
       "      <th>2011-Dolar</th>\n",
       "      <th>...</th>\n",
       "      <th>2017</th>\n",
       "      <th>2017-Dolar</th>\n",
       "      <th>2018</th>\n",
       "      <th>2018-Dolar</th>\n",
       "      <th>2019</th>\n",
       "      <th>2019-Dolar</th>\n",
       "      <th>2020</th>\n",
       "      <th>2020-Dolar</th>\n",
       "      <th>2021</th>\n",
       "      <th>2021-Dolar</th>\n",
       "    </tr>\n",
       "  </thead>\n",
       "  <tbody>\n",
       "    <tr>\n",
       "      <th>0</th>\n",
       "      <td>0</td>\n",
       "      <td>0</td>\n",
       "      <td>0</td>\n",
       "      <td>0</td>\n",
       "      <td>0</td>\n",
       "      <td>0</td>\n",
       "      <td>0</td>\n",
       "      <td>0</td>\n",
       "      <td>0</td>\n",
       "      <td>0</td>\n",
       "      <td>...</td>\n",
       "      <td>0</td>\n",
       "      <td>0</td>\n",
       "      <td>0</td>\n",
       "      <td>0</td>\n",
       "      <td>0</td>\n",
       "      <td>0</td>\n",
       "      <td>0</td>\n",
       "      <td>0</td>\n",
       "      <td>11</td>\n",
       "      <td>46</td>\n",
       "    </tr>\n",
       "    <tr>\n",
       "      <th>1</th>\n",
       "      <td>0</td>\n",
       "      <td>0</td>\n",
       "      <td>0</td>\n",
       "      <td>0</td>\n",
       "      <td>0</td>\n",
       "      <td>0</td>\n",
       "      <td>0</td>\n",
       "      <td>0</td>\n",
       "      <td>0</td>\n",
       "      <td>0</td>\n",
       "      <td>...</td>\n",
       "      <td>0</td>\n",
       "      <td>0</td>\n",
       "      <td>0</td>\n",
       "      <td>0</td>\n",
       "      <td>26</td>\n",
       "      <td>95</td>\n",
       "      <td>4</td>\n",
       "      <td>21</td>\n",
       "      <td>0</td>\n",
       "      <td>0</td>\n",
       "    </tr>\n",
       "    <tr>\n",
       "      <th>2</th>\n",
       "      <td>119512</td>\n",
       "      <td>238052</td>\n",
       "      <td>265742</td>\n",
       "      <td>429970</td>\n",
       "      <td>225086</td>\n",
       "      <td>393482</td>\n",
       "      <td>27715</td>\n",
       "      <td>138666</td>\n",
       "      <td>36070</td>\n",
       "      <td>144150</td>\n",
       "      <td>...</td>\n",
       "      <td>15467</td>\n",
       "      <td>87702</td>\n",
       "      <td>10794</td>\n",
       "      <td>45382</td>\n",
       "      <td>3660</td>\n",
       "      <td>25467</td>\n",
       "      <td>6261</td>\n",
       "      <td>32605</td>\n",
       "      <td>2698</td>\n",
       "      <td>6741</td>\n",
       "    </tr>\n",
       "    <tr>\n",
       "      <th>3</th>\n",
       "      <td>25931</td>\n",
       "      <td>49753</td>\n",
       "      <td>25721</td>\n",
       "      <td>71083</td>\n",
       "      <td>54786</td>\n",
       "      <td>84235</td>\n",
       "      <td>33557</td>\n",
       "      <td>189891</td>\n",
       "      <td>13889</td>\n",
       "      <td>69001</td>\n",
       "      <td>...</td>\n",
       "      <td>10170</td>\n",
       "      <td>61680</td>\n",
       "      <td>477</td>\n",
       "      <td>709</td>\n",
       "      <td>345</td>\n",
       "      <td>1065</td>\n",
       "      <td>0</td>\n",
       "      <td>0</td>\n",
       "      <td>0</td>\n",
       "      <td>0</td>\n",
       "    </tr>\n",
       "    <tr>\n",
       "      <th>4</th>\n",
       "      <td>0</td>\n",
       "      <td>0</td>\n",
       "      <td>0</td>\n",
       "      <td>0</td>\n",
       "      <td>0</td>\n",
       "      <td>0</td>\n",
       "      <td>0</td>\n",
       "      <td>0</td>\n",
       "      <td>0</td>\n",
       "      <td>0</td>\n",
       "      <td>...</td>\n",
       "      <td>0</td>\n",
       "      <td>0</td>\n",
       "      <td>0</td>\n",
       "      <td>0</td>\n",
       "      <td>0</td>\n",
       "      <td>0</td>\n",
       "      <td>0</td>\n",
       "      <td>0</td>\n",
       "      <td>0</td>\n",
       "      <td>0</td>\n",
       "    </tr>\n",
       "  </tbody>\n",
       "</table>\n",
       "<p>5 rows × 30 columns</p>\n",
       "</div>"
      ],
      "text/plain": [
       "     2007  2007-Dolar    2008  2008-Dolar    2009  2009-Dolar   2010  \\\n",
       "0       0           0       0           0       0           0      0   \n",
       "1       0           0       0           0       0           0      0   \n",
       "2  119512      238052  265742      429970  225086      393482  27715   \n",
       "3   25931       49753   25721       71083   54786       84235  33557   \n",
       "4       0           0       0           0       0           0      0   \n",
       "\n",
       "   2010-Dolar   2011  2011-Dolar  ...   2017  2017-Dolar   2018  2018-Dolar  \\\n",
       "0           0      0           0  ...      0           0      0           0   \n",
       "1           0      0           0  ...      0           0      0           0   \n",
       "2      138666  36070      144150  ...  15467       87702  10794       45382   \n",
       "3      189891  13889       69001  ...  10170       61680    477         709   \n",
       "4           0      0           0  ...      0           0      0           0   \n",
       "\n",
       "   2019  2019-Dolar  2020  2020-Dolar  2021  2021-Dolar  \n",
       "0     0           0     0           0    11          46  \n",
       "1    26          95     4          21     0           0  \n",
       "2  3660       25467  6261       32605  2698        6741  \n",
       "3   345        1065     0           0     0           0  \n",
       "4     0           0     0           0     0           0  \n",
       "\n",
       "[5 rows x 30 columns]"
      ]
     },
     "execution_count": 80,
     "metadata": {},
     "output_type": "execute_result"
    }
   ],
   "source": [
    "dados_15anos = dados[dados.columns[-30:]]\n",
    "cols = dados_15anos.columns.str.replace(\".1\", \"-Dolar\")\n",
    "dados_15anos.columns = cols\n",
    "dados_15anos.head()"
   ]
  },
  {
   "cell_type": "code",
   "execution_count": 81,
   "metadata": {},
   "outputs": [
    {
     "data": {
      "text/html": [
       "<div>\n",
       "<style scoped>\n",
       "    .dataframe tbody tr th:only-of-type {\n",
       "        vertical-align: middle;\n",
       "    }\n",
       "\n",
       "    .dataframe tbody tr th {\n",
       "        vertical-align: top;\n",
       "    }\n",
       "\n",
       "    .dataframe thead th {\n",
       "        text-align: right;\n",
       "    }\n",
       "</style>\n",
       "<table border=\"1\" class=\"dataframe\">\n",
       "  <thead>\n",
       "    <tr style=\"text-align: right;\">\n",
       "      <th></th>\n",
       "      <th>País</th>\n",
       "      <th>2007-Dolar</th>\n",
       "      <th>2008-Dolar</th>\n",
       "      <th>2009-Dolar</th>\n",
       "      <th>2010-Dolar</th>\n",
       "      <th>2011-Dolar</th>\n",
       "      <th>2012-Dolar</th>\n",
       "      <th>2013-Dolar</th>\n",
       "      <th>2014-Dolar</th>\n",
       "      <th>2015-Dolar</th>\n",
       "      <th>2016-Dolar</th>\n",
       "      <th>2017-Dolar</th>\n",
       "      <th>2018-Dolar</th>\n",
       "      <th>2019-Dolar</th>\n",
       "      <th>2020-Dolar</th>\n",
       "      <th>2021-Dolar</th>\n",
       "    </tr>\n",
       "  </thead>\n",
       "  <tbody>\n",
       "    <tr>\n",
       "      <th>0</th>\n",
       "      <td>Afeganistão</td>\n",
       "      <td>0</td>\n",
       "      <td>0</td>\n",
       "      <td>0</td>\n",
       "      <td>0</td>\n",
       "      <td>0</td>\n",
       "      <td>0</td>\n",
       "      <td>0</td>\n",
       "      <td>0</td>\n",
       "      <td>0</td>\n",
       "      <td>0</td>\n",
       "      <td>0</td>\n",
       "      <td>0</td>\n",
       "      <td>0</td>\n",
       "      <td>0</td>\n",
       "      <td>46</td>\n",
       "    </tr>\n",
       "    <tr>\n",
       "      <th>1</th>\n",
       "      <td>África do Sul</td>\n",
       "      <td>0</td>\n",
       "      <td>0</td>\n",
       "      <td>0</td>\n",
       "      <td>0</td>\n",
       "      <td>0</td>\n",
       "      <td>0</td>\n",
       "      <td>0</td>\n",
       "      <td>0</td>\n",
       "      <td>0</td>\n",
       "      <td>0</td>\n",
       "      <td>0</td>\n",
       "      <td>0</td>\n",
       "      <td>95</td>\n",
       "      <td>21</td>\n",
       "      <td>0</td>\n",
       "    </tr>\n",
       "    <tr>\n",
       "      <th>2</th>\n",
       "      <td>Alemanha, República Democrática</td>\n",
       "      <td>238052</td>\n",
       "      <td>429970</td>\n",
       "      <td>393482</td>\n",
       "      <td>138666</td>\n",
       "      <td>144150</td>\n",
       "      <td>56342</td>\n",
       "      <td>265978</td>\n",
       "      <td>761653</td>\n",
       "      <td>44780</td>\n",
       "      <td>68109</td>\n",
       "      <td>87702</td>\n",
       "      <td>45382</td>\n",
       "      <td>25467</td>\n",
       "      <td>32605</td>\n",
       "      <td>6741</td>\n",
       "    </tr>\n",
       "    <tr>\n",
       "      <th>3</th>\n",
       "      <td>Angola</td>\n",
       "      <td>49753</td>\n",
       "      <td>71083</td>\n",
       "      <td>84235</td>\n",
       "      <td>189891</td>\n",
       "      <td>69001</td>\n",
       "      <td>8861</td>\n",
       "      <td>9300</td>\n",
       "      <td>23124</td>\n",
       "      <td>17089</td>\n",
       "      <td>35390</td>\n",
       "      <td>61680</td>\n",
       "      <td>709</td>\n",
       "      <td>1065</td>\n",
       "      <td>0</td>\n",
       "      <td>0</td>\n",
       "    </tr>\n",
       "    <tr>\n",
       "      <th>4</th>\n",
       "      <td>Anguilla</td>\n",
       "      <td>0</td>\n",
       "      <td>0</td>\n",
       "      <td>0</td>\n",
       "      <td>0</td>\n",
       "      <td>0</td>\n",
       "      <td>0</td>\n",
       "      <td>0</td>\n",
       "      <td>0</td>\n",
       "      <td>0</td>\n",
       "      <td>0</td>\n",
       "      <td>0</td>\n",
       "      <td>0</td>\n",
       "      <td>0</td>\n",
       "      <td>0</td>\n",
       "      <td>0</td>\n",
       "    </tr>\n",
       "  </tbody>\n",
       "</table>\n",
       "</div>"
      ],
      "text/plain": [
       "                              País  2007-Dolar  2008-Dolar  2009-Dolar  \\\n",
       "0                      Afeganistão           0           0           0   \n",
       "1                    África do Sul           0           0           0   \n",
       "2  Alemanha, República Democrática      238052      429970      393482   \n",
       "3                           Angola       49753       71083       84235   \n",
       "4                         Anguilla           0           0           0   \n",
       "\n",
       "   2010-Dolar  2011-Dolar  2012-Dolar  2013-Dolar  2014-Dolar  2015-Dolar  \\\n",
       "0           0           0           0           0           0           0   \n",
       "1           0           0           0           0           0           0   \n",
       "2      138666      144150       56342      265978      761653       44780   \n",
       "3      189891       69001        8861        9300       23124       17089   \n",
       "4           0           0           0           0           0           0   \n",
       "\n",
       "   2016-Dolar  2017-Dolar  2018-Dolar  2019-Dolar  2020-Dolar  2021-Dolar  \n",
       "0           0           0           0           0           0          46  \n",
       "1           0           0           0          95          21           0  \n",
       "2       68109       87702       45382       25467       32605        6741  \n",
       "3       35390       61680         709        1065           0           0  \n",
       "4           0           0           0           0           0           0  "
      ]
     },
     "execution_count": 81,
     "metadata": {},
     "output_type": "execute_result"
    }
   ],
   "source": [
    "dados_dolar = dados_15anos[dados_15anos.columns[1::2]]\n",
    "dados_dolar = col_pais.join(dados_dolar)\n",
    "dados_dolar.head()"
   ]
  },
  {
   "cell_type": "code",
   "execution_count": 82,
   "metadata": {},
   "outputs": [
    {
     "data": {
      "text/html": [
       "<div>\n",
       "<style scoped>\n",
       "    .dataframe tbody tr th:only-of-type {\n",
       "        vertical-align: middle;\n",
       "    }\n",
       "\n",
       "    .dataframe tbody tr th {\n",
       "        vertical-align: top;\n",
       "    }\n",
       "\n",
       "    .dataframe thead th {\n",
       "        text-align: right;\n",
       "    }\n",
       "</style>\n",
       "<table border=\"1\" class=\"dataframe\">\n",
       "  <thead>\n",
       "    <tr style=\"text-align: right;\">\n",
       "      <th></th>\n",
       "      <th>País</th>\n",
       "      <th>2007-Dolar</th>\n",
       "      <th>2008-Dolar</th>\n",
       "      <th>2009-Dolar</th>\n",
       "      <th>2010-Dolar</th>\n",
       "      <th>2011-Dolar</th>\n",
       "      <th>2012-Dolar</th>\n",
       "      <th>2013-Dolar</th>\n",
       "      <th>2014-Dolar</th>\n",
       "      <th>2015-Dolar</th>\n",
       "      <th>2016-Dolar</th>\n",
       "      <th>2017-Dolar</th>\n",
       "      <th>2018-Dolar</th>\n",
       "      <th>2019-Dolar</th>\n",
       "      <th>2020-Dolar</th>\n",
       "      <th>2021-Dolar</th>\n",
       "      <th>Total</th>\n",
       "    </tr>\n",
       "  </thead>\n",
       "  <tbody>\n",
       "    <tr>\n",
       "      <th>0</th>\n",
       "      <td>Afeganistão</td>\n",
       "      <td>0</td>\n",
       "      <td>0</td>\n",
       "      <td>0</td>\n",
       "      <td>0</td>\n",
       "      <td>0</td>\n",
       "      <td>0</td>\n",
       "      <td>0</td>\n",
       "      <td>0</td>\n",
       "      <td>0</td>\n",
       "      <td>0</td>\n",
       "      <td>0</td>\n",
       "      <td>0</td>\n",
       "      <td>0</td>\n",
       "      <td>0</td>\n",
       "      <td>46</td>\n",
       "      <td>46</td>\n",
       "    </tr>\n",
       "    <tr>\n",
       "      <th>1</th>\n",
       "      <td>África do Sul</td>\n",
       "      <td>0</td>\n",
       "      <td>0</td>\n",
       "      <td>0</td>\n",
       "      <td>0</td>\n",
       "      <td>0</td>\n",
       "      <td>0</td>\n",
       "      <td>0</td>\n",
       "      <td>0</td>\n",
       "      <td>0</td>\n",
       "      <td>0</td>\n",
       "      <td>0</td>\n",
       "      <td>0</td>\n",
       "      <td>95</td>\n",
       "      <td>21</td>\n",
       "      <td>0</td>\n",
       "      <td>116</td>\n",
       "    </tr>\n",
       "    <tr>\n",
       "      <th>2</th>\n",
       "      <td>Alemanha, República Democrática</td>\n",
       "      <td>238052</td>\n",
       "      <td>429970</td>\n",
       "      <td>393482</td>\n",
       "      <td>138666</td>\n",
       "      <td>144150</td>\n",
       "      <td>56342</td>\n",
       "      <td>265978</td>\n",
       "      <td>761653</td>\n",
       "      <td>44780</td>\n",
       "      <td>68109</td>\n",
       "      <td>87702</td>\n",
       "      <td>45382</td>\n",
       "      <td>25467</td>\n",
       "      <td>32605</td>\n",
       "      <td>6741</td>\n",
       "      <td>2501027</td>\n",
       "    </tr>\n",
       "    <tr>\n",
       "      <th>3</th>\n",
       "      <td>Angola</td>\n",
       "      <td>49753</td>\n",
       "      <td>71083</td>\n",
       "      <td>84235</td>\n",
       "      <td>189891</td>\n",
       "      <td>69001</td>\n",
       "      <td>8861</td>\n",
       "      <td>9300</td>\n",
       "      <td>23124</td>\n",
       "      <td>17089</td>\n",
       "      <td>35390</td>\n",
       "      <td>61680</td>\n",
       "      <td>709</td>\n",
       "      <td>1065</td>\n",
       "      <td>0</td>\n",
       "      <td>0</td>\n",
       "      <td>571428</td>\n",
       "    </tr>\n",
       "    <tr>\n",
       "      <th>4</th>\n",
       "      <td>Anguilla</td>\n",
       "      <td>0</td>\n",
       "      <td>0</td>\n",
       "      <td>0</td>\n",
       "      <td>0</td>\n",
       "      <td>0</td>\n",
       "      <td>0</td>\n",
       "      <td>0</td>\n",
       "      <td>0</td>\n",
       "      <td>0</td>\n",
       "      <td>0</td>\n",
       "      <td>0</td>\n",
       "      <td>0</td>\n",
       "      <td>0</td>\n",
       "      <td>0</td>\n",
       "      <td>0</td>\n",
       "      <td>0</td>\n",
       "    </tr>\n",
       "  </tbody>\n",
       "</table>\n",
       "</div>"
      ],
      "text/plain": [
       "                              País  2007-Dolar  2008-Dolar  2009-Dolar  \\\n",
       "0                      Afeganistão           0           0           0   \n",
       "1                    África do Sul           0           0           0   \n",
       "2  Alemanha, República Democrática      238052      429970      393482   \n",
       "3                           Angola       49753       71083       84235   \n",
       "4                         Anguilla           0           0           0   \n",
       "\n",
       "   2010-Dolar  2011-Dolar  2012-Dolar  2013-Dolar  2014-Dolar  2015-Dolar  \\\n",
       "0           0           0           0           0           0           0   \n",
       "1           0           0           0           0           0           0   \n",
       "2      138666      144150       56342      265978      761653       44780   \n",
       "3      189891       69001        8861        9300       23124       17089   \n",
       "4           0           0           0           0           0           0   \n",
       "\n",
       "   2016-Dolar  2017-Dolar  2018-Dolar  2019-Dolar  2020-Dolar  2021-Dolar  \\\n",
       "0           0           0           0           0           0          46   \n",
       "1           0           0           0          95          21           0   \n",
       "2       68109       87702       45382       25467       32605        6741   \n",
       "3       35390       61680         709        1065           0           0   \n",
       "4           0           0           0           0           0           0   \n",
       "\n",
       "     Total  \n",
       "0       46  \n",
       "1      116  \n",
       "2  2501027  \n",
       "3   571428  \n",
       "4        0  "
      ]
     },
     "execution_count": 82,
     "metadata": {},
     "output_type": "execute_result"
    }
   ],
   "source": [
    "dados_dolar[\"Total\"] = dados_dolar.iloc[:,2:].sum(axis = 1)\n",
    "dados_dolar.head()"
   ]
  },
  {
   "cell_type": "code",
   "execution_count": 83,
   "metadata": {},
   "outputs": [],
   "source": [
    "dados_dolar[\"País\"].unique()\n",
    "dados_dolar.loc[dados_dolar[\"País\"] == \"Alemanha, República Democrática\", \"País\"] = \"Alemanha\"\n",
    "dados_dolar.loc[dados_dolar[\"País\"] == \"Coreia, Republica Sul\", \"País\"] = \"Coreia do Sul\"\n",
    "dados_dolar.loc[dados_dolar[\"País\"] == \"Eslovaca, Republica\", \"País\"] = \"Eslováquia\"\n",
    "dados_dolar.loc[dados_dolar[\"País\"] == \"Taiwan (FORMOSA)\", \"País\"] = \"Taiwan\"\n",
    "dados_dolar.loc[dados_dolar[\"País\"] == \"Tcheca, República\", \"País\"] = \"Chéquia\""
   ]
  },
  {
   "cell_type": "code",
   "execution_count": 84,
   "metadata": {},
   "outputs": [
    {
     "data": {
      "text/html": [
       "<div>\n",
       "<style scoped>\n",
       "    .dataframe tbody tr th:only-of-type {\n",
       "        vertical-align: middle;\n",
       "    }\n",
       "\n",
       "    .dataframe tbody tr th {\n",
       "        vertical-align: top;\n",
       "    }\n",
       "\n",
       "    .dataframe thead th {\n",
       "        text-align: right;\n",
       "    }\n",
       "</style>\n",
       "<table border=\"1\" class=\"dataframe\">\n",
       "  <thead>\n",
       "    <tr style=\"text-align: right;\">\n",
       "      <th></th>\n",
       "      <th>País</th>\n",
       "      <th>2007-Dolar</th>\n",
       "      <th>2008-Dolar</th>\n",
       "      <th>2009-Dolar</th>\n",
       "      <th>2010-Dolar</th>\n",
       "      <th>2011-Dolar</th>\n",
       "      <th>2012-Dolar</th>\n",
       "      <th>2013-Dolar</th>\n",
       "      <th>2014-Dolar</th>\n",
       "      <th>2015-Dolar</th>\n",
       "      <th>2016-Dolar</th>\n",
       "      <th>2017-Dolar</th>\n",
       "      <th>2018-Dolar</th>\n",
       "      <th>2019-Dolar</th>\n",
       "      <th>2020-Dolar</th>\n",
       "      <th>2021-Dolar</th>\n",
       "      <th>Total</th>\n",
       "    </tr>\n",
       "  </thead>\n",
       "  <tbody>\n",
       "    <tr>\n",
       "      <th>0</th>\n",
       "      <td>Afeganistão</td>\n",
       "      <td>0</td>\n",
       "      <td>0</td>\n",
       "      <td>0</td>\n",
       "      <td>0</td>\n",
       "      <td>0</td>\n",
       "      <td>0</td>\n",
       "      <td>0</td>\n",
       "      <td>0</td>\n",
       "      <td>0</td>\n",
       "      <td>0</td>\n",
       "      <td>0</td>\n",
       "      <td>0</td>\n",
       "      <td>0</td>\n",
       "      <td>0</td>\n",
       "      <td>46</td>\n",
       "      <td>46</td>\n",
       "    </tr>\n",
       "    <tr>\n",
       "      <th>1</th>\n",
       "      <td>África do Sul</td>\n",
       "      <td>0</td>\n",
       "      <td>0</td>\n",
       "      <td>0</td>\n",
       "      <td>0</td>\n",
       "      <td>0</td>\n",
       "      <td>0</td>\n",
       "      <td>0</td>\n",
       "      <td>0</td>\n",
       "      <td>0</td>\n",
       "      <td>0</td>\n",
       "      <td>0</td>\n",
       "      <td>0</td>\n",
       "      <td>95</td>\n",
       "      <td>21</td>\n",
       "      <td>0</td>\n",
       "      <td>116</td>\n",
       "    </tr>\n",
       "    <tr>\n",
       "      <th>2</th>\n",
       "      <td>Alemanha</td>\n",
       "      <td>238052</td>\n",
       "      <td>429970</td>\n",
       "      <td>393482</td>\n",
       "      <td>138666</td>\n",
       "      <td>144150</td>\n",
       "      <td>56342</td>\n",
       "      <td>265978</td>\n",
       "      <td>761653</td>\n",
       "      <td>44780</td>\n",
       "      <td>68109</td>\n",
       "      <td>87702</td>\n",
       "      <td>45382</td>\n",
       "      <td>25467</td>\n",
       "      <td>32605</td>\n",
       "      <td>6741</td>\n",
       "      <td>2501027</td>\n",
       "    </tr>\n",
       "    <tr>\n",
       "      <th>3</th>\n",
       "      <td>Angola</td>\n",
       "      <td>49753</td>\n",
       "      <td>71083</td>\n",
       "      <td>84235</td>\n",
       "      <td>189891</td>\n",
       "      <td>69001</td>\n",
       "      <td>8861</td>\n",
       "      <td>9300</td>\n",
       "      <td>23124</td>\n",
       "      <td>17089</td>\n",
       "      <td>35390</td>\n",
       "      <td>61680</td>\n",
       "      <td>709</td>\n",
       "      <td>1065</td>\n",
       "      <td>0</td>\n",
       "      <td>0</td>\n",
       "      <td>571428</td>\n",
       "    </tr>\n",
       "    <tr>\n",
       "      <th>4</th>\n",
       "      <td>Anguilla</td>\n",
       "      <td>0</td>\n",
       "      <td>0</td>\n",
       "      <td>0</td>\n",
       "      <td>0</td>\n",
       "      <td>0</td>\n",
       "      <td>0</td>\n",
       "      <td>0</td>\n",
       "      <td>0</td>\n",
       "      <td>0</td>\n",
       "      <td>0</td>\n",
       "      <td>0</td>\n",
       "      <td>0</td>\n",
       "      <td>0</td>\n",
       "      <td>0</td>\n",
       "      <td>0</td>\n",
       "      <td>0</td>\n",
       "    </tr>\n",
       "    <tr>\n",
       "      <th>...</th>\n",
       "      <td>...</td>\n",
       "      <td>...</td>\n",
       "      <td>...</td>\n",
       "      <td>...</td>\n",
       "      <td>...</td>\n",
       "      <td>...</td>\n",
       "      <td>...</td>\n",
       "      <td>...</td>\n",
       "      <td>...</td>\n",
       "      <td>...</td>\n",
       "      <td>...</td>\n",
       "      <td>...</td>\n",
       "      <td>...</td>\n",
       "      <td>...</td>\n",
       "      <td>...</td>\n",
       "      <td>...</td>\n",
       "      <td>...</td>\n",
       "    </tr>\n",
       "    <tr>\n",
       "      <th>119</th>\n",
       "      <td>Tuvalu</td>\n",
       "      <td>0</td>\n",
       "      <td>0</td>\n",
       "      <td>0</td>\n",
       "      <td>0</td>\n",
       "      <td>0</td>\n",
       "      <td>0</td>\n",
       "      <td>0</td>\n",
       "      <td>0</td>\n",
       "      <td>0</td>\n",
       "      <td>0</td>\n",
       "      <td>0</td>\n",
       "      <td>0</td>\n",
       "      <td>0</td>\n",
       "      <td>4</td>\n",
       "      <td>0</td>\n",
       "      <td>4</td>\n",
       "    </tr>\n",
       "    <tr>\n",
       "      <th>120</th>\n",
       "      <td>Uruguai</td>\n",
       "      <td>0</td>\n",
       "      <td>0</td>\n",
       "      <td>0</td>\n",
       "      <td>2929</td>\n",
       "      <td>4404</td>\n",
       "      <td>3879</td>\n",
       "      <td>13343</td>\n",
       "      <td>0</td>\n",
       "      <td>0</td>\n",
       "      <td>0</td>\n",
       "      <td>0</td>\n",
       "      <td>29617</td>\n",
       "      <td>18497</td>\n",
       "      <td>0</td>\n",
       "      <td>149842</td>\n",
       "      <td>222511</td>\n",
       "    </tr>\n",
       "    <tr>\n",
       "      <th>121</th>\n",
       "      <td>Vanuatu</td>\n",
       "      <td>0</td>\n",
       "      <td>0</td>\n",
       "      <td>0</td>\n",
       "      <td>0</td>\n",
       "      <td>0</td>\n",
       "      <td>0</td>\n",
       "      <td>0</td>\n",
       "      <td>0</td>\n",
       "      <td>0</td>\n",
       "      <td>0</td>\n",
       "      <td>0</td>\n",
       "      <td>0</td>\n",
       "      <td>0</td>\n",
       "      <td>31</td>\n",
       "      <td>0</td>\n",
       "      <td>31</td>\n",
       "    </tr>\n",
       "    <tr>\n",
       "      <th>122</th>\n",
       "      <td>Venezuela</td>\n",
       "      <td>27370</td>\n",
       "      <td>0</td>\n",
       "      <td>0</td>\n",
       "      <td>0</td>\n",
       "      <td>0</td>\n",
       "      <td>7492</td>\n",
       "      <td>0</td>\n",
       "      <td>232</td>\n",
       "      <td>0</td>\n",
       "      <td>0</td>\n",
       "      <td>2646</td>\n",
       "      <td>355</td>\n",
       "      <td>0</td>\n",
       "      <td>9808</td>\n",
       "      <td>35944</td>\n",
       "      <td>56477</td>\n",
       "    </tr>\n",
       "    <tr>\n",
       "      <th>123</th>\n",
       "      <td>Vietnã</td>\n",
       "      <td>0</td>\n",
       "      <td>0</td>\n",
       "      <td>2143</td>\n",
       "      <td>9977</td>\n",
       "      <td>0</td>\n",
       "      <td>0</td>\n",
       "      <td>0</td>\n",
       "      <td>0</td>\n",
       "      <td>0</td>\n",
       "      <td>0</td>\n",
       "      <td>0</td>\n",
       "      <td>0</td>\n",
       "      <td>32</td>\n",
       "      <td>584</td>\n",
       "      <td>0</td>\n",
       "      <td>12736</td>\n",
       "    </tr>\n",
       "  </tbody>\n",
       "</table>\n",
       "<p>124 rows × 17 columns</p>\n",
       "</div>"
      ],
      "text/plain": [
       "              País  2007-Dolar  2008-Dolar  2009-Dolar  2010-Dolar  \\\n",
       "0      Afeganistão           0           0           0           0   \n",
       "1    África do Sul           0           0           0           0   \n",
       "2         Alemanha      238052      429970      393482      138666   \n",
       "3           Angola       49753       71083       84235      189891   \n",
       "4         Anguilla           0           0           0           0   \n",
       "..             ...         ...         ...         ...         ...   \n",
       "119         Tuvalu           0           0           0           0   \n",
       "120        Uruguai           0           0           0        2929   \n",
       "121        Vanuatu           0           0           0           0   \n",
       "122      Venezuela       27370           0           0           0   \n",
       "123         Vietnã           0           0        2143        9977   \n",
       "\n",
       "     2011-Dolar  2012-Dolar  2013-Dolar  2014-Dolar  2015-Dolar  2016-Dolar  \\\n",
       "0             0           0           0           0           0           0   \n",
       "1             0           0           0           0           0           0   \n",
       "2        144150       56342      265978      761653       44780       68109   \n",
       "3         69001        8861        9300       23124       17089       35390   \n",
       "4             0           0           0           0           0           0   \n",
       "..          ...         ...         ...         ...         ...         ...   \n",
       "119           0           0           0           0           0           0   \n",
       "120        4404        3879       13343           0           0           0   \n",
       "121           0           0           0           0           0           0   \n",
       "122           0        7492           0         232           0           0   \n",
       "123           0           0           0           0           0           0   \n",
       "\n",
       "     2017-Dolar  2018-Dolar  2019-Dolar  2020-Dolar  2021-Dolar    Total  \n",
       "0             0           0           0           0          46       46  \n",
       "1             0           0          95          21           0      116  \n",
       "2         87702       45382       25467       32605        6741  2501027  \n",
       "3         61680         709        1065           0           0   571428  \n",
       "4             0           0           0           0           0        0  \n",
       "..          ...         ...         ...         ...         ...      ...  \n",
       "119           0           0           0           4           0        4  \n",
       "120           0       29617       18497           0      149842   222511  \n",
       "121           0           0           0          31           0       31  \n",
       "122        2646         355           0        9808       35944    56477  \n",
       "123           0           0          32         584           0    12736  \n",
       "\n",
       "[124 rows x 17 columns]"
      ]
     },
     "execution_count": 84,
     "metadata": {},
     "output_type": "execute_result"
    }
   ],
   "source": [
    "dados_dolar"
   ]
  },
  {
   "cell_type": "code",
   "execution_count": 85,
   "metadata": {},
   "outputs": [
    {
     "data": {
      "text/plain": [
       "array(['Afeganistão', 'África do Sul', 'Alemanha', 'Angola', 'Anguilla',\n",
       "       'Antígua e Barbuda', 'Antilhas Holandesas', 'Argentina', 'Aruba',\n",
       "       'Austrália', 'Áustria', 'Bahamas', 'Bangladesh', 'Barbados',\n",
       "       'Barein', 'Bélgica', 'Belice', 'Benin', 'Bolívia',\n",
       "       'Bósnia-Herzegovina', 'Brasil', 'Bulgária', 'Cabo Verde',\n",
       "       'Camarões', 'Canadá', 'Catar', 'Cayman, Ilhas', 'Chile', 'China',\n",
       "       'Chipre', 'Cingapura', 'Colômbia', 'Comores', 'Congo',\n",
       "       'Coreia do Sul', 'Costa do Marfim', 'Costa Rica', 'Croácia',\n",
       "       'Cuba', 'Curaçao', 'Dinamarca', 'Dominica', 'El Salvador',\n",
       "       'Emirados Arabes Unidos', 'Equador', 'Eslováquia', 'Espanha',\n",
       "       'Estados Unidos', 'Estônia', 'Filipinas', 'Finlândia', 'França',\n",
       "       'Gana', 'Gibraltar', 'Grécia', 'Guatemala', 'Guiana',\n",
       "       'Guiana Francesa', 'Guine Bissau', 'Guine Equatorial', 'Haiti',\n",
       "       'Honduras', 'Hong Kong', 'Hungria', 'Ilha de Man', 'Ilhas Virgens',\n",
       "       'India', 'Indonésia', 'Irã', 'Iraque', 'Irlanda', 'Itália',\n",
       "       'Jamaica', 'Japão', 'Jordânia', 'Letônia', 'Líbano', 'Libéria',\n",
       "       'Luxemburgo', 'Malásia', 'Malta', 'Marshall, Ilhas', 'Mauritânia',\n",
       "       'México', 'Montenegro', 'Namibia', 'Nicaragua', 'Nigéria',\n",
       "       'Noruega', 'Nova Caledônia', 'Nova Zelândia', 'Países Baixos',\n",
       "       'Panamá', 'Paraguai', 'Peru', 'Polônia', 'Porto Rico', 'Portugal',\n",
       "       'Quênia', 'Reino Unido', 'República Dominicana', 'Rússia',\n",
       "       'São Tomé e Príncipe', 'São Vicente e Granadinas', 'Senegal',\n",
       "       'Serra Leoa', 'Singapura', 'Suazilândia', 'Suécia', 'Suíça',\n",
       "       'Suriname', 'Tailândia', 'Taiwan', 'Tanzânia', 'Chéquia', 'Togo',\n",
       "       'Trinidade Tobago', 'Tunísia', 'Turquia', 'Tuvalu', 'Uruguai',\n",
       "       'Vanuatu', 'Venezuela', 'Vietnã'], dtype=object)"
      ]
     },
     "execution_count": 85,
     "metadata": {},
     "output_type": "execute_result"
    }
   ],
   "source": [
    "dados_dolar[\"País\"].unique()"
   ]
  },
  {
   "cell_type": "code",
   "execution_count": 86,
   "metadata": {},
   "outputs": [
    {
     "data": {
      "text/html": [
       "<div>\n",
       "<style scoped>\n",
       "    .dataframe tbody tr th:only-of-type {\n",
       "        vertical-align: middle;\n",
       "    }\n",
       "\n",
       "    .dataframe tbody tr th {\n",
       "        vertical-align: top;\n",
       "    }\n",
       "\n",
       "    .dataframe thead th {\n",
       "        text-align: right;\n",
       "    }\n",
       "</style>\n",
       "<table border=\"1\" class=\"dataframe\">\n",
       "  <thead>\n",
       "    <tr style=\"text-align: right;\">\n",
       "      <th></th>\n",
       "      <th>Mundo</th>\n",
       "      <th>—</th>\n",
       "      <th>101,560,901</th>\n",
       "      <th>2022</th>\n",
       "      <th>96,100,091</th>\n",
       "      <th>2021</th>\n",
       "      <th>85,328,323</th>\n",
       "      <th>2020</th>\n",
       "    </tr>\n",
       "  </thead>\n",
       "  <tbody>\n",
       "    <tr>\n",
       "      <th>0</th>\n",
       "      <td>Estados Unidos</td>\n",
       "      <td>América</td>\n",
       "      <td>26854599</td>\n",
       "      <td>2023</td>\n",
       "      <td>22996100</td>\n",
       "      <td>2021</td>\n",
       "      <td>20893746</td>\n",
       "      <td>2020</td>\n",
       "    </tr>\n",
       "    <tr>\n",
       "      <th>1</th>\n",
       "      <td>China</td>\n",
       "      <td>Ásia</td>\n",
       "      <td>19912753</td>\n",
       "      <td>[n 1]2023</td>\n",
       "      <td>17734063</td>\n",
       "      <td>[n 2]2021</td>\n",
       "      <td>14722801</td>\n",
       "      <td>[n 1]2020</td>\n",
       "    </tr>\n",
       "    <tr>\n",
       "      <th>2</th>\n",
       "      <td>Japão</td>\n",
       "      <td>Ásia</td>\n",
       "      <td>4428183</td>\n",
       "      <td>2023</td>\n",
       "      <td>4937422</td>\n",
       "      <td>2021</td>\n",
       "      <td>5057759</td>\n",
       "      <td>2020</td>\n",
       "    </tr>\n",
       "    <tr>\n",
       "      <th>3</th>\n",
       "      <td>Alemanha</td>\n",
       "      <td>Europa</td>\n",
       "      <td>4308854</td>\n",
       "      <td>2023</td>\n",
       "      <td>4223116</td>\n",
       "      <td>2021</td>\n",
       "      <td>3846414</td>\n",
       "      <td>2020</td>\n",
       "    </tr>\n",
       "    <tr>\n",
       "      <th>4</th>\n",
       "      <td>Índia</td>\n",
       "      <td>Ásia</td>\n",
       "      <td>3773102</td>\n",
       "      <td>2023</td>\n",
       "      <td>3173398</td>\n",
       "      <td>2021</td>\n",
       "      <td>2664749</td>\n",
       "      <td>2020</td>\n",
       "    </tr>\n",
       "  </tbody>\n",
       "</table>\n",
       "</div>"
      ],
      "text/plain": [
       "            Mundo        — 101,560,901       2022 96,100,091       2021  \\\n",
       "0  Estados Unidos  América    26854599       2023   22996100       2021   \n",
       "1           China     Ásia    19912753  [n 1]2023   17734063  [n 2]2021   \n",
       "2           Japão     Ásia     4428183       2023    4937422       2021   \n",
       "3        Alemanha   Europa     4308854       2023    4223116       2021   \n",
       "4           Índia     Ásia     3773102       2023    3173398       2021   \n",
       "\n",
       "  85,328,323       2020  \n",
       "0   20893746       2020  \n",
       "1   14722801  [n 1]2020  \n",
       "2    5057759       2020  \n",
       "3    3846414       2020  \n",
       "4    2664749       2020  "
      ]
     },
     "execution_count": 86,
     "metadata": {},
     "output_type": "execute_result"
    }
   ],
   "source": [
    "dados_pais_continente = pd.read_html(\"https://pt.wikipedia.org/wiki/Lista_de_pa%C3%ADses_por_PIB_nominal\", match = \"País/Território\",\n",
    "                flavor=\"lxml\", header=2)[0]\n",
    "dados_pais_continente.head()"
   ]
  },
  {
   "cell_type": "code",
   "execution_count": 87,
   "metadata": {},
   "outputs": [
    {
     "data": {
      "text/html": [
       "<div>\n",
       "<style scoped>\n",
       "    .dataframe tbody tr th:only-of-type {\n",
       "        vertical-align: middle;\n",
       "    }\n",
       "\n",
       "    .dataframe tbody tr th {\n",
       "        vertical-align: top;\n",
       "    }\n",
       "\n",
       "    .dataframe thead th {\n",
       "        text-align: right;\n",
       "    }\n",
       "</style>\n",
       "<table border=\"1\" class=\"dataframe\">\n",
       "  <thead>\n",
       "    <tr style=\"text-align: right;\">\n",
       "      <th></th>\n",
       "      <th>País</th>\n",
       "      <th>Continente</th>\n",
       "    </tr>\n",
       "  </thead>\n",
       "  <tbody>\n",
       "    <tr>\n",
       "      <th>0</th>\n",
       "      <td>Estados Unidos</td>\n",
       "      <td>América</td>\n",
       "    </tr>\n",
       "    <tr>\n",
       "      <th>1</th>\n",
       "      <td>China</td>\n",
       "      <td>Ásia</td>\n",
       "    </tr>\n",
       "    <tr>\n",
       "      <th>2</th>\n",
       "      <td>Japão</td>\n",
       "      <td>Ásia</td>\n",
       "    </tr>\n",
       "    <tr>\n",
       "      <th>3</th>\n",
       "      <td>Alemanha</td>\n",
       "      <td>Europa</td>\n",
       "    </tr>\n",
       "    <tr>\n",
       "      <th>4</th>\n",
       "      <td>Índia</td>\n",
       "      <td>Ásia</td>\n",
       "    </tr>\n",
       "    <tr>\n",
       "      <th>...</th>\n",
       "      <td>...</td>\n",
       "      <td>...</td>\n",
       "    </tr>\n",
       "    <tr>\n",
       "      <th>211</th>\n",
       "      <td>Palau</td>\n",
       "      <td>Oceania</td>\n",
       "    </tr>\n",
       "    <tr>\n",
       "      <th>212</th>\n",
       "      <td>Kiribati</td>\n",
       "      <td>Oceania</td>\n",
       "    </tr>\n",
       "    <tr>\n",
       "      <th>213</th>\n",
       "      <td>Nauru</td>\n",
       "      <td>Oceania</td>\n",
       "    </tr>\n",
       "    <tr>\n",
       "      <th>214</th>\n",
       "      <td>Montserrat</td>\n",
       "      <td>América</td>\n",
       "    </tr>\n",
       "    <tr>\n",
       "      <th>215</th>\n",
       "      <td>Tuvalu</td>\n",
       "      <td>Oceania</td>\n",
       "    </tr>\n",
       "  </tbody>\n",
       "</table>\n",
       "<p>216 rows × 2 columns</p>\n",
       "</div>"
      ],
      "text/plain": [
       "               País Continente\n",
       "0    Estados Unidos    América\n",
       "1             China       Ásia\n",
       "2             Japão       Ásia\n",
       "3          Alemanha     Europa\n",
       "4             Índia       Ásia\n",
       "..              ...        ...\n",
       "211           Palau    Oceania\n",
       "212        Kiribati    Oceania\n",
       "213           Nauru    Oceania\n",
       "214      Montserrat    América\n",
       "215          Tuvalu    Oceania\n",
       "\n",
       "[216 rows x 2 columns]"
      ]
     },
     "execution_count": 87,
     "metadata": {},
     "output_type": "execute_result"
    }
   ],
   "source": [
    "dados_pais_continente = dados_pais_continente[dados_pais_continente.columns[:2]]\n",
    "dados_pais_continente.columns = [\"País\", \"Continente\"]\n",
    "dados_pais_continente[\"Continente\"] = dados_pais_continente[\"Continente\"].str.replace(\"Africa\", \"África\")\n",
    "dados_pais_continente[\"Continente\"] = dados_pais_continente[\"Continente\"].str.replace(\"Europa/Ásia\", \"Europa\")\n",
    "dados_pais_continente"
   ]
  },
  {
   "cell_type": "code",
   "execution_count": 88,
   "metadata": {},
   "outputs": [
    {
     "data": {
      "text/html": [
       "<div>\n",
       "<style scoped>\n",
       "    .dataframe tbody tr th:only-of-type {\n",
       "        vertical-align: middle;\n",
       "    }\n",
       "\n",
       "    .dataframe tbody tr th {\n",
       "        vertical-align: top;\n",
       "    }\n",
       "\n",
       "    .dataframe thead th {\n",
       "        text-align: right;\n",
       "    }\n",
       "</style>\n",
       "<table border=\"1\" class=\"dataframe\">\n",
       "  <thead>\n",
       "    <tr style=\"text-align: right;\">\n",
       "      <th></th>\n",
       "      <th>País</th>\n",
       "      <th>2007-Dolar</th>\n",
       "      <th>2008-Dolar</th>\n",
       "      <th>2009-Dolar</th>\n",
       "      <th>2010-Dolar</th>\n",
       "      <th>2011-Dolar</th>\n",
       "      <th>2012-Dolar</th>\n",
       "      <th>2013-Dolar</th>\n",
       "      <th>2014-Dolar</th>\n",
       "      <th>2015-Dolar</th>\n",
       "      <th>2016-Dolar</th>\n",
       "      <th>2017-Dolar</th>\n",
       "      <th>2018-Dolar</th>\n",
       "      <th>2019-Dolar</th>\n",
       "      <th>2020-Dolar</th>\n",
       "      <th>2021-Dolar</th>\n",
       "      <th>Total</th>\n",
       "      <th>Continente</th>\n",
       "    </tr>\n",
       "  </thead>\n",
       "  <tbody>\n",
       "    <tr>\n",
       "      <th>0</th>\n",
       "      <td>Afeganistão</td>\n",
       "      <td>0</td>\n",
       "      <td>0</td>\n",
       "      <td>0</td>\n",
       "      <td>0</td>\n",
       "      <td>0</td>\n",
       "      <td>0</td>\n",
       "      <td>0</td>\n",
       "      <td>0</td>\n",
       "      <td>0</td>\n",
       "      <td>0</td>\n",
       "      <td>0</td>\n",
       "      <td>0</td>\n",
       "      <td>0</td>\n",
       "      <td>0</td>\n",
       "      <td>46</td>\n",
       "      <td>46</td>\n",
       "      <td>Ásia</td>\n",
       "    </tr>\n",
       "    <tr>\n",
       "      <th>1</th>\n",
       "      <td>África do Sul</td>\n",
       "      <td>0</td>\n",
       "      <td>0</td>\n",
       "      <td>0</td>\n",
       "      <td>0</td>\n",
       "      <td>0</td>\n",
       "      <td>0</td>\n",
       "      <td>0</td>\n",
       "      <td>0</td>\n",
       "      <td>0</td>\n",
       "      <td>0</td>\n",
       "      <td>0</td>\n",
       "      <td>0</td>\n",
       "      <td>95</td>\n",
       "      <td>21</td>\n",
       "      <td>0</td>\n",
       "      <td>116</td>\n",
       "      <td>África</td>\n",
       "    </tr>\n",
       "    <tr>\n",
       "      <th>2</th>\n",
       "      <td>Alemanha</td>\n",
       "      <td>238052</td>\n",
       "      <td>429970</td>\n",
       "      <td>393482</td>\n",
       "      <td>138666</td>\n",
       "      <td>144150</td>\n",
       "      <td>56342</td>\n",
       "      <td>265978</td>\n",
       "      <td>761653</td>\n",
       "      <td>44780</td>\n",
       "      <td>68109</td>\n",
       "      <td>87702</td>\n",
       "      <td>45382</td>\n",
       "      <td>25467</td>\n",
       "      <td>32605</td>\n",
       "      <td>6741</td>\n",
       "      <td>2501027</td>\n",
       "      <td>Europa</td>\n",
       "    </tr>\n",
       "    <tr>\n",
       "      <th>3</th>\n",
       "      <td>Angola</td>\n",
       "      <td>49753</td>\n",
       "      <td>71083</td>\n",
       "      <td>84235</td>\n",
       "      <td>189891</td>\n",
       "      <td>69001</td>\n",
       "      <td>8861</td>\n",
       "      <td>9300</td>\n",
       "      <td>23124</td>\n",
       "      <td>17089</td>\n",
       "      <td>35390</td>\n",
       "      <td>61680</td>\n",
       "      <td>709</td>\n",
       "      <td>1065</td>\n",
       "      <td>0</td>\n",
       "      <td>0</td>\n",
       "      <td>571428</td>\n",
       "      <td>África</td>\n",
       "    </tr>\n",
       "    <tr>\n",
       "      <th>4</th>\n",
       "      <td>Antígua e Barbuda</td>\n",
       "      <td>0</td>\n",
       "      <td>0</td>\n",
       "      <td>0</td>\n",
       "      <td>0</td>\n",
       "      <td>0</td>\n",
       "      <td>0</td>\n",
       "      <td>0</td>\n",
       "      <td>0</td>\n",
       "      <td>0</td>\n",
       "      <td>0</td>\n",
       "      <td>0</td>\n",
       "      <td>191</td>\n",
       "      <td>1549</td>\n",
       "      <td>1864</td>\n",
       "      <td>2268</td>\n",
       "      <td>5872</td>\n",
       "      <td>América</td>\n",
       "    </tr>\n",
       "    <tr>\n",
       "      <th>...</th>\n",
       "      <td>...</td>\n",
       "      <td>...</td>\n",
       "      <td>...</td>\n",
       "      <td>...</td>\n",
       "      <td>...</td>\n",
       "      <td>...</td>\n",
       "      <td>...</td>\n",
       "      <td>...</td>\n",
       "      <td>...</td>\n",
       "      <td>...</td>\n",
       "      <td>...</td>\n",
       "      <td>...</td>\n",
       "      <td>...</td>\n",
       "      <td>...</td>\n",
       "      <td>...</td>\n",
       "      <td>...</td>\n",
       "      <td>...</td>\n",
       "      <td>...</td>\n",
       "    </tr>\n",
       "    <tr>\n",
       "      <th>91</th>\n",
       "      <td>Turquia</td>\n",
       "      <td>0</td>\n",
       "      <td>0</td>\n",
       "      <td>0</td>\n",
       "      <td>0</td>\n",
       "      <td>0</td>\n",
       "      <td>0</td>\n",
       "      <td>0</td>\n",
       "      <td>0</td>\n",
       "      <td>0</td>\n",
       "      <td>0</td>\n",
       "      <td>0</td>\n",
       "      <td>150</td>\n",
       "      <td>209</td>\n",
       "      <td>0</td>\n",
       "      <td>878</td>\n",
       "      <td>1237</td>\n",
       "      <td>Ásia</td>\n",
       "    </tr>\n",
       "    <tr>\n",
       "      <th>92</th>\n",
       "      <td>Tuvalu</td>\n",
       "      <td>0</td>\n",
       "      <td>0</td>\n",
       "      <td>0</td>\n",
       "      <td>0</td>\n",
       "      <td>0</td>\n",
       "      <td>0</td>\n",
       "      <td>0</td>\n",
       "      <td>0</td>\n",
       "      <td>0</td>\n",
       "      <td>0</td>\n",
       "      <td>0</td>\n",
       "      <td>0</td>\n",
       "      <td>0</td>\n",
       "      <td>4</td>\n",
       "      <td>0</td>\n",
       "      <td>4</td>\n",
       "      <td>Oceania</td>\n",
       "    </tr>\n",
       "    <tr>\n",
       "      <th>93</th>\n",
       "      <td>Uruguai</td>\n",
       "      <td>0</td>\n",
       "      <td>0</td>\n",
       "      <td>0</td>\n",
       "      <td>2929</td>\n",
       "      <td>4404</td>\n",
       "      <td>3879</td>\n",
       "      <td>13343</td>\n",
       "      <td>0</td>\n",
       "      <td>0</td>\n",
       "      <td>0</td>\n",
       "      <td>0</td>\n",
       "      <td>29617</td>\n",
       "      <td>18497</td>\n",
       "      <td>0</td>\n",
       "      <td>149842</td>\n",
       "      <td>222511</td>\n",
       "      <td>América</td>\n",
       "    </tr>\n",
       "    <tr>\n",
       "      <th>94</th>\n",
       "      <td>Vanuatu</td>\n",
       "      <td>0</td>\n",
       "      <td>0</td>\n",
       "      <td>0</td>\n",
       "      <td>0</td>\n",
       "      <td>0</td>\n",
       "      <td>0</td>\n",
       "      <td>0</td>\n",
       "      <td>0</td>\n",
       "      <td>0</td>\n",
       "      <td>0</td>\n",
       "      <td>0</td>\n",
       "      <td>0</td>\n",
       "      <td>0</td>\n",
       "      <td>31</td>\n",
       "      <td>0</td>\n",
       "      <td>31</td>\n",
       "      <td>Oceania</td>\n",
       "    </tr>\n",
       "    <tr>\n",
       "      <th>95</th>\n",
       "      <td>Venezuela</td>\n",
       "      <td>27370</td>\n",
       "      <td>0</td>\n",
       "      <td>0</td>\n",
       "      <td>0</td>\n",
       "      <td>0</td>\n",
       "      <td>7492</td>\n",
       "      <td>0</td>\n",
       "      <td>232</td>\n",
       "      <td>0</td>\n",
       "      <td>0</td>\n",
       "      <td>2646</td>\n",
       "      <td>355</td>\n",
       "      <td>0</td>\n",
       "      <td>9808</td>\n",
       "      <td>35944</td>\n",
       "      <td>56477</td>\n",
       "      <td>América</td>\n",
       "    </tr>\n",
       "  </tbody>\n",
       "</table>\n",
       "<p>96 rows × 18 columns</p>\n",
       "</div>"
      ],
      "text/plain": [
       "                 País  2007-Dolar  2008-Dolar  2009-Dolar  2010-Dolar  \\\n",
       "0         Afeganistão           0           0           0           0   \n",
       "1       África do Sul           0           0           0           0   \n",
       "2            Alemanha      238052      429970      393482      138666   \n",
       "3              Angola       49753       71083       84235      189891   \n",
       "4   Antígua e Barbuda           0           0           0           0   \n",
       "..                ...         ...         ...         ...         ...   \n",
       "91            Turquia           0           0           0           0   \n",
       "92             Tuvalu           0           0           0           0   \n",
       "93            Uruguai           0           0           0        2929   \n",
       "94            Vanuatu           0           0           0           0   \n",
       "95          Venezuela       27370           0           0           0   \n",
       "\n",
       "    2011-Dolar  2012-Dolar  2013-Dolar  2014-Dolar  2015-Dolar  2016-Dolar  \\\n",
       "0            0           0           0           0           0           0   \n",
       "1            0           0           0           0           0           0   \n",
       "2       144150       56342      265978      761653       44780       68109   \n",
       "3        69001        8861        9300       23124       17089       35390   \n",
       "4            0           0           0           0           0           0   \n",
       "..         ...         ...         ...         ...         ...         ...   \n",
       "91           0           0           0           0           0           0   \n",
       "92           0           0           0           0           0           0   \n",
       "93        4404        3879       13343           0           0           0   \n",
       "94           0           0           0           0           0           0   \n",
       "95           0        7492           0         232           0           0   \n",
       "\n",
       "    2017-Dolar  2018-Dolar  2019-Dolar  2020-Dolar  2021-Dolar    Total  \\\n",
       "0            0           0           0           0          46       46   \n",
       "1            0           0          95          21           0      116   \n",
       "2        87702       45382       25467       32605        6741  2501027   \n",
       "3        61680         709        1065           0           0   571428   \n",
       "4            0         191        1549        1864        2268     5872   \n",
       "..         ...         ...         ...         ...         ...      ...   \n",
       "91           0         150         209           0         878     1237   \n",
       "92           0           0           0           4           0        4   \n",
       "93           0       29617       18497           0      149842   222511   \n",
       "94           0           0           0          31           0       31   \n",
       "95        2646         355           0        9808       35944    56477   \n",
       "\n",
       "   Continente  \n",
       "0        Ásia  \n",
       "1      África  \n",
       "2      Europa  \n",
       "3      África  \n",
       "4     América  \n",
       "..        ...  \n",
       "91       Ásia  \n",
       "92    Oceania  \n",
       "93    América  \n",
       "94    Oceania  \n",
       "95    América  \n",
       "\n",
       "[96 rows x 18 columns]"
      ]
     },
     "execution_count": 88,
     "metadata": {},
     "output_type": "execute_result"
    }
   ],
   "source": [
    "dados_dolar_combinado = dados_dolar.merge(dados_pais_continente[[\"País\",\"Continente\"]],on = \"País\")\n",
    "dados_dolar_combinado"
   ]
  },
  {
   "cell_type": "code",
   "execution_count": 89,
   "metadata": {},
   "outputs": [
    {
     "data": {
      "text/html": [
       "<div>\n",
       "<style scoped>\n",
       "    .dataframe tbody tr th:only-of-type {\n",
       "        vertical-align: middle;\n",
       "    }\n",
       "\n",
       "    .dataframe tbody tr th {\n",
       "        vertical-align: top;\n",
       "    }\n",
       "\n",
       "    .dataframe thead th {\n",
       "        text-align: right;\n",
       "    }\n",
       "</style>\n",
       "<table border=\"1\" class=\"dataframe\">\n",
       "  <thead>\n",
       "    <tr style=\"text-align: right;\">\n",
       "      <th></th>\n",
       "      <th>Total</th>\n",
       "    </tr>\n",
       "  </thead>\n",
       "  <tbody>\n",
       "    <tr>\n",
       "      <th>2007</th>\n",
       "      <td>3.58</td>\n",
       "    </tr>\n",
       "    <tr>\n",
       "      <th>2008</th>\n",
       "      <td>6.99</td>\n",
       "    </tr>\n",
       "    <tr>\n",
       "      <th>2009</th>\n",
       "      <td>8.87</td>\n",
       "    </tr>\n",
       "  </tbody>\n",
       "</table>\n",
       "</div>"
      ],
      "text/plain": [
       "      Total\n",
       "2007   3.58\n",
       "2008   6.99\n",
       "2009   8.87"
      ]
     },
     "execution_count": 89,
     "metadata": {},
     "output_type": "execute_result"
    }
   ],
   "source": [
    "dados_dolar_anual_total = dados_dolar_combinado.copy()\n",
    "dados_dolar_anual_total.columns = dados_dolar_anual_total.columns.str.replace(\"-Dolar\",\"\")\n",
    "export_por_ano = dados_dolar_anual_total.iloc[:,1:-2].sum().to_frame().rename(columns={0: \"Total\"})\n",
    "\n",
    "export_por_ano_dolar = export_por_ano.copy()\n",
    "\n",
    "export_por_ano[\"Total\"] = (export_por_ano[\"Total\"] / 1e6).round(2)\n",
    "export_por_ano.head(3)"
   ]
  },
  {
   "cell_type": "code",
   "execution_count": 159,
   "metadata": {},
   "outputs": [
    {
     "data": {
      "image/png": "[encoded data removed]",
      "text/plain": [
       "<Figure size 1400x600 with 1 Axes>"
      ]
     },
     "metadata": {},
     "output_type": "display_data"
    }
   ],
   "source": [
    "# Definindo a área do gráfico e o tema da visualização\n",
    "fig, ax = plt.subplots(figsize=(14,6))\n",
    "\n",
    "# Desenhando o gráfico\n",
    "ax.plot(export_por_ano.index, export_por_ano[\"Total\"], marker=\"o\")\n",
    "\n",
    " # Personalizando o gráfico\n",
    "ax.set_title('Exportação de Vinhos em milhões de dolares (U$ mi) (2007 - 2021)', \n",
    "             loc='left', fontsize=18, color = CINZA1, pad = 40)\n",
    "ax.set_xlabel(\"\")\n",
    "ax.set_ylabel(\"\")\n",
    "ax.xaxis.set_tick_params(labelsize = 14, labelcolor= CINZA2)\n",
    "ax.yaxis.set_major_formatter(ticker.StrMethodFormatter(\"U$ {x} mi\"))\n",
    "ax.grid(axis = \"y\", linestyle=\"--\", lw = 1)\n",
    "ax.set_ylim(0, 25)\n",
    "sns.despine(left= True, bottom = True)\n",
    "\n",
    "loc = ticker.MultipleLocator(base=2.0)\n",
    "ax.xaxis.set_major_locator(loc)\n",
    "\n",
    "plt.show()"
   ]
  },
  {
   "cell_type": "code",
   "execution_count": 91,
   "metadata": {},
   "outputs": [
    {
     "data": {
      "text/html": [
       "<div>\n",
       "<style scoped>\n",
       "    .dataframe tbody tr th:only-of-type {\n",
       "        vertical-align: middle;\n",
       "    }\n",
       "\n",
       "    .dataframe tbody tr th {\n",
       "        vertical-align: top;\n",
       "    }\n",
       "\n",
       "    .dataframe thead th {\n",
       "        text-align: right;\n",
       "    }\n",
       "</style>\n",
       "<table border=\"1\" class=\"dataframe\">\n",
       "  <thead>\n",
       "    <tr style=\"text-align: right;\">\n",
       "      <th></th>\n",
       "      <th>Continente</th>\n",
       "      <th>Total</th>\n",
       "    </tr>\n",
       "  </thead>\n",
       "  <tbody>\n",
       "    <tr>\n",
       "      <th>0</th>\n",
       "      <td>Europa</td>\n",
       "      <td>46.1</td>\n",
       "    </tr>\n",
       "    <tr>\n",
       "      <th>1</th>\n",
       "      <td>América</td>\n",
       "      <td>45.0</td>\n",
       "    </tr>\n",
       "    <tr>\n",
       "      <th>2</th>\n",
       "      <td>Ásia</td>\n",
       "      <td>7.5</td>\n",
       "    </tr>\n",
       "    <tr>\n",
       "      <th>3</th>\n",
       "      <td>África</td>\n",
       "      <td>1.0</td>\n",
       "    </tr>\n",
       "    <tr>\n",
       "      <th>4</th>\n",
       "      <td>Oceania</td>\n",
       "      <td>0.5</td>\n",
       "    </tr>\n",
       "  </tbody>\n",
       "</table>\n",
       "</div>"
      ],
      "text/plain": [
       "  Continente  Total\n",
       "0     Europa   46.1\n",
       "1    América   45.0\n",
       "2       Ásia    7.5\n",
       "3     África    1.0\n",
       "4    Oceania    0.5"
      ]
     },
     "execution_count": 91,
     "metadata": {},
     "output_type": "execute_result"
    }
   ],
   "source": [
    "vendas_por_continente = dados_dolar_combinado.groupby(\"Continente\").sum()[[\"Total\"]]\n",
    "vendas_por_continente = vendas_por_continente.sort_values(\"Total\", ascending=False)\n",
    "vendas_por_continente = (vendas_por_continente / 1e6).round(1)\n",
    "vendas_por_continente = vendas_por_continente.reset_index()\n",
    "vendas_por_continente"
   ]
  },
  {
   "cell_type": "code",
   "execution_count": 92,
   "metadata": {},
   "outputs": [
    {
     "data": {
      "image/png": "[encoded data removed]",
      "text/plain": [
       "<Figure size 800x800 with 1 Axes>"
      ]
     },
     "metadata": {},
     "output_type": "display_data"
    }
   ],
   "source": [
    "# Definindo a área do gráfico e o tema da visualização\n",
    "fig, ax = plt.subplots(figsize=(8,8))\n",
    "sns.set_theme(style=\"white\")\n",
    "\n",
    "# Desenhando o gráfico\n",
    "ax = sns.barplot(data = vendas_por_continente , x = \"Continente\", y= \"Total\", palette = PALETA01)\n",
    "\n",
    " # Personalizando o gráfico\n",
    "ax.set_title('Exportação de Vinhos em milhões de dolares (U$ mi)\\npor continente (2007 - 2021)', \n",
    "             loc='left', fontsize=18, color = CINZA1, pad = 10)\n",
    "ax.set_xlabel(\"\")\n",
    "ax.set_ylabel(\"\")\n",
    "ax.xaxis.set_tick_params(labelsize = 14, labelcolor= CINZA2)\n",
    "ax.yaxis.set_major_formatter(ticker.StrMethodFormatter(\"U$ {x} mi\"))\n",
    "ax.set_ylim(0, 50)\n",
    "ax.set_yticklabels([])\n",
    "sns.despine(left= True, bottom = True)\n",
    "\n",
    "# Adicionando os valores\n",
    "for container in ax.containers:\n",
    "  labels = [f'U$ {valor.get_height()} mi' for valor in container]\n",
    "  ax.bar_label(container, label_type=\"edge\", labels = labels, size = 14, color = CINZA1, padding = 10)\n",
    "\n",
    "plt.show()"
   ]
  },
  {
   "cell_type": "code",
   "execution_count": 93,
   "metadata": {},
   "outputs": [
    {
     "data": {
      "text/html": [
       "<div>\n",
       "<style scoped>\n",
       "    .dataframe tbody tr th:only-of-type {\n",
       "        vertical-align: middle;\n",
       "    }\n",
       "\n",
       "    .dataframe tbody tr th {\n",
       "        vertical-align: top;\n",
       "    }\n",
       "\n",
       "    .dataframe thead th {\n",
       "        text-align: right;\n",
       "    }\n",
       "</style>\n",
       "<table border=\"1\" class=\"dataframe\">\n",
       "  <thead>\n",
       "    <tr style=\"text-align: right;\">\n",
       "      <th></th>\n",
       "      <th>País</th>\n",
       "      <th>2007-Dolar</th>\n",
       "      <th>2008-Dolar</th>\n",
       "      <th>2009-Dolar</th>\n",
       "      <th>2010-Dolar</th>\n",
       "      <th>2011-Dolar</th>\n",
       "      <th>2012-Dolar</th>\n",
       "      <th>2013-Dolar</th>\n",
       "      <th>2014-Dolar</th>\n",
       "      <th>2015-Dolar</th>\n",
       "      <th>2016-Dolar</th>\n",
       "      <th>2017-Dolar</th>\n",
       "      <th>2018-Dolar</th>\n",
       "      <th>2019-Dolar</th>\n",
       "      <th>2020-Dolar</th>\n",
       "      <th>2021-Dolar</th>\n",
       "      <th>Total</th>\n",
       "      <th>Continente</th>\n",
       "    </tr>\n",
       "  </thead>\n",
       "  <tbody>\n",
       "    <tr>\n",
       "      <th>70</th>\n",
       "      <td>Paraguai</td>\n",
       "      <td>801519</td>\n",
       "      <td>1374088</td>\n",
       "      <td>392087</td>\n",
       "      <td>449197</td>\n",
       "      <td>276281</td>\n",
       "      <td>428279</td>\n",
       "      <td>680828</td>\n",
       "      <td>908028</td>\n",
       "      <td>741370</td>\n",
       "      <td>1655417</td>\n",
       "      <td>4274650</td>\n",
       "      <td>5494321</td>\n",
       "      <td>3826587</td>\n",
       "      <td>3869243</td>\n",
       "      <td>7192362</td>\n",
       "      <td>31562738</td>\n",
       "      <td>América</td>\n",
       "    </tr>\n",
       "    <tr>\n",
       "      <th>76</th>\n",
       "      <td>Rússia</td>\n",
       "      <td>173160</td>\n",
       "      <td>2352768</td>\n",
       "      <td>5732280</td>\n",
       "      <td>0</td>\n",
       "      <td>0</td>\n",
       "      <td>2103968</td>\n",
       "      <td>14795694</td>\n",
       "      <td>61440</td>\n",
       "      <td>18240</td>\n",
       "      <td>0</td>\n",
       "      <td>0</td>\n",
       "      <td>0</td>\n",
       "      <td>0</td>\n",
       "      <td>8550</td>\n",
       "      <td>312926</td>\n",
       "      <td>25385866</td>\n",
       "      <td>Europa</td>\n",
       "    </tr>\n",
       "    <tr>\n",
       "      <th>36</th>\n",
       "      <td>Estados Unidos</td>\n",
       "      <td>810038</td>\n",
       "      <td>804607</td>\n",
       "      <td>660066</td>\n",
       "      <td>478630</td>\n",
       "      <td>1030254</td>\n",
       "      <td>303986</td>\n",
       "      <td>786556</td>\n",
       "      <td>494216</td>\n",
       "      <td>524109</td>\n",
       "      <td>687411</td>\n",
       "      <td>1523699</td>\n",
       "      <td>512519</td>\n",
       "      <td>616274</td>\n",
       "      <td>610793</td>\n",
       "      <td>203554</td>\n",
       "      <td>9236674</td>\n",
       "      <td>América</td>\n",
       "    </tr>\n",
       "    <tr>\n",
       "      <th>74</th>\n",
       "      <td>Reino Unido</td>\n",
       "      <td>144244</td>\n",
       "      <td>155076</td>\n",
       "      <td>68788</td>\n",
       "      <td>295690</td>\n",
       "      <td>285642</td>\n",
       "      <td>334856</td>\n",
       "      <td>305005</td>\n",
       "      <td>1373747</td>\n",
       "      <td>308407</td>\n",
       "      <td>536681</td>\n",
       "      <td>242883</td>\n",
       "      <td>296827</td>\n",
       "      <td>164592</td>\n",
       "      <td>82722</td>\n",
       "      <td>122394</td>\n",
       "      <td>4573310</td>\n",
       "      <td>Europa</td>\n",
       "    </tr>\n",
       "    <tr>\n",
       "      <th>21</th>\n",
       "      <td>China</td>\n",
       "      <td>30390</td>\n",
       "      <td>25926</td>\n",
       "      <td>482400</td>\n",
       "      <td>2358</td>\n",
       "      <td>334867</td>\n",
       "      <td>642177</td>\n",
       "      <td>279956</td>\n",
       "      <td>455340</td>\n",
       "      <td>222866</td>\n",
       "      <td>499622</td>\n",
       "      <td>266086</td>\n",
       "      <td>126336</td>\n",
       "      <td>376828</td>\n",
       "      <td>363000</td>\n",
       "      <td>264116</td>\n",
       "      <td>4341878</td>\n",
       "      <td>Ásia</td>\n",
       "    </tr>\n",
       "  </tbody>\n",
       "</table>\n",
       "</div>"
      ],
      "text/plain": [
       "              País  2007-Dolar  2008-Dolar  2009-Dolar  2010-Dolar  \\\n",
       "70        Paraguai      801519     1374088      392087      449197   \n",
       "76          Rússia      173160     2352768     5732280           0   \n",
       "36  Estados Unidos      810038      804607      660066      478630   \n",
       "74     Reino Unido      144244      155076       68788      295690   \n",
       "21           China       30390       25926      482400        2358   \n",
       "\n",
       "    2011-Dolar  2012-Dolar  2013-Dolar  2014-Dolar  2015-Dolar  2016-Dolar  \\\n",
       "70      276281      428279      680828      908028      741370     1655417   \n",
       "76           0     2103968    14795694       61440       18240           0   \n",
       "36     1030254      303986      786556      494216      524109      687411   \n",
       "74      285642      334856      305005     1373747      308407      536681   \n",
       "21      334867      642177      279956      455340      222866      499622   \n",
       "\n",
       "    2017-Dolar  2018-Dolar  2019-Dolar  2020-Dolar  2021-Dolar     Total  \\\n",
       "70     4274650     5494321     3826587     3869243     7192362  31562738   \n",
       "76           0           0           0        8550      312926  25385866   \n",
       "36     1523699      512519      616274      610793      203554   9236674   \n",
       "74      242883      296827      164592       82722      122394   4573310   \n",
       "21      266086      126336      376828      363000      264116   4341878   \n",
       "\n",
       "   Continente  \n",
       "70    América  \n",
       "76     Europa  \n",
       "36    América  \n",
       "74     Europa  \n",
       "21       Ásia  "
      ]
     },
     "execution_count": 93,
     "metadata": {},
     "output_type": "execute_result"
    }
   ],
   "source": [
    "dados_dolar_ordenados = dados_dolar_combinado.sort_values(\"Total\", axis= 0 , ascending= False)\n",
    "dados_dolar_ordenados.head()"
   ]
  },
  {
   "cell_type": "code",
   "execution_count": 94,
   "metadata": {},
   "outputs": [
    {
     "data": {
      "image/png": "[encoded data removed]",
      "text/plain": [
       "<Figure size 1200x600 with 1 Axes>"
      ]
     },
     "metadata": {},
     "output_type": "display_data"
    }
   ],
   "source": [
    "# Definindo a área do gráfico e o tema da visualização\n",
    "fig, ax = plt.subplots(figsize=(12,6))\n",
    "sns.set_theme(style=\"white\")\n",
    "\n",
    "# Desenhando o gráfico\n",
    "data = dados_dolar_ordenados.head(10)\n",
    "ax = sns.barplot(data = data, y = \"País\", x = \"Total\", palette = PALETA02)\n",
    "\n",
    " # Personalizando o gráfico\n",
    "ax.set_title('Exportação de Vinhos em milhões de dolares (U$ mi)\\npor país (2007 - 2021)', \n",
    "             loc='left', fontsize=18, color = CINZA1, pad = 10)\n",
    "ax.set_xlabel(\"\")\n",
    "ax.set_ylabel(\"\")\n",
    "ax.yaxis.set_tick_params(labelsize = 14, labelcolor= CINZA2)\n",
    "ax.set_xticklabels([])\n",
    "sns.despine(left= True, bottom = True)\n",
    "\n",
    "# Escrevendo os valores de cada barra no gráfico\n",
    "for i, valor in enumerate(data[\"Total\"]):\n",
    "    qtd = f'U$ {valor:,.0f}'.replace(',','.')\n",
    "    offset = 1e5  # offset de 1.000\n",
    "    offset_fora = 3.7e6\n",
    "    if valor > 5e6:\n",
    "      ax.text(valor - offset, i, qtd, color= CINZA5, fontsize=12, fontweight='bold', ha='right', va='center')\n",
    "    else:\n",
    "       ax.text(valor + offset_fora, i, qtd, color= CINZA1, fontsize=12, fontweight='bold', ha='right', va='center')\n",
    "      \n",
    "plt.show()"
   ]
  },
  {
   "cell_type": "code",
   "execution_count": 95,
   "metadata": {},
   "outputs": [
    {
     "data": {
      "text/html": [
       "<div>\n",
       "<style scoped>\n",
       "    .dataframe tbody tr th:only-of-type {\n",
       "        vertical-align: middle;\n",
       "    }\n",
       "\n",
       "    .dataframe tbody tr th {\n",
       "        vertical-align: top;\n",
       "    }\n",
       "\n",
       "    .dataframe thead th {\n",
       "        text-align: right;\n",
       "    }\n",
       "</style>\n",
       "<table border=\"1\" class=\"dataframe\">\n",
       "  <thead>\n",
       "    <tr style=\"text-align: right;\">\n",
       "      <th></th>\n",
       "      <th>País</th>\n",
       "      <th>2007-Dolar</th>\n",
       "      <th>2008-Dolar</th>\n",
       "      <th>2009-Dolar</th>\n",
       "      <th>2010-Dolar</th>\n",
       "      <th>2011-Dolar</th>\n",
       "      <th>2012-Dolar</th>\n",
       "      <th>2013-Dolar</th>\n",
       "      <th>2014-Dolar</th>\n",
       "      <th>2015-Dolar</th>\n",
       "      <th>2016-Dolar</th>\n",
       "      <th>2017-Dolar</th>\n",
       "      <th>2018-Dolar</th>\n",
       "      <th>2019-Dolar</th>\n",
       "      <th>2020-Dolar</th>\n",
       "      <th>2021-Dolar</th>\n",
       "      <th>Total</th>\n",
       "      <th>Continente</th>\n",
       "    </tr>\n",
       "  </thead>\n",
       "  <tbody>\n",
       "    <tr>\n",
       "      <th>0</th>\n",
       "      <td>Afeganistão</td>\n",
       "      <td>0</td>\n",
       "      <td>0</td>\n",
       "      <td>0</td>\n",
       "      <td>0</td>\n",
       "      <td>0</td>\n",
       "      <td>0</td>\n",
       "      <td>0</td>\n",
       "      <td>0</td>\n",
       "      <td>0</td>\n",
       "      <td>0</td>\n",
       "      <td>0</td>\n",
       "      <td>0</td>\n",
       "      <td>0</td>\n",
       "      <td>0</td>\n",
       "      <td>46</td>\n",
       "      <td>46</td>\n",
       "      <td>Ásia</td>\n",
       "    </tr>\n",
       "    <tr>\n",
       "      <th>1</th>\n",
       "      <td>África do Sul</td>\n",
       "      <td>0</td>\n",
       "      <td>0</td>\n",
       "      <td>0</td>\n",
       "      <td>0</td>\n",
       "      <td>0</td>\n",
       "      <td>0</td>\n",
       "      <td>0</td>\n",
       "      <td>0</td>\n",
       "      <td>0</td>\n",
       "      <td>0</td>\n",
       "      <td>0</td>\n",
       "      <td>0</td>\n",
       "      <td>95</td>\n",
       "      <td>21</td>\n",
       "      <td>0</td>\n",
       "      <td>116</td>\n",
       "      <td>África</td>\n",
       "    </tr>\n",
       "    <tr>\n",
       "      <th>2</th>\n",
       "      <td>Alemanha</td>\n",
       "      <td>238052</td>\n",
       "      <td>429970</td>\n",
       "      <td>393482</td>\n",
       "      <td>138666</td>\n",
       "      <td>144150</td>\n",
       "      <td>56342</td>\n",
       "      <td>265978</td>\n",
       "      <td>761653</td>\n",
       "      <td>44780</td>\n",
       "      <td>68109</td>\n",
       "      <td>87702</td>\n",
       "      <td>45382</td>\n",
       "      <td>25467</td>\n",
       "      <td>32605</td>\n",
       "      <td>6741</td>\n",
       "      <td>2501027</td>\n",
       "      <td>Europa</td>\n",
       "    </tr>\n",
       "    <tr>\n",
       "      <th>3</th>\n",
       "      <td>Angola</td>\n",
       "      <td>49753</td>\n",
       "      <td>71083</td>\n",
       "      <td>84235</td>\n",
       "      <td>189891</td>\n",
       "      <td>69001</td>\n",
       "      <td>8861</td>\n",
       "      <td>9300</td>\n",
       "      <td>23124</td>\n",
       "      <td>17089</td>\n",
       "      <td>35390</td>\n",
       "      <td>61680</td>\n",
       "      <td>709</td>\n",
       "      <td>1065</td>\n",
       "      <td>0</td>\n",
       "      <td>0</td>\n",
       "      <td>571428</td>\n",
       "      <td>África</td>\n",
       "    </tr>\n",
       "    <tr>\n",
       "      <th>4</th>\n",
       "      <td>Antígua e Barbuda</td>\n",
       "      <td>0</td>\n",
       "      <td>0</td>\n",
       "      <td>0</td>\n",
       "      <td>0</td>\n",
       "      <td>0</td>\n",
       "      <td>0</td>\n",
       "      <td>0</td>\n",
       "      <td>0</td>\n",
       "      <td>0</td>\n",
       "      <td>0</td>\n",
       "      <td>0</td>\n",
       "      <td>191</td>\n",
       "      <td>1549</td>\n",
       "      <td>1864</td>\n",
       "      <td>2268</td>\n",
       "      <td>5872</td>\n",
       "      <td>América</td>\n",
       "    </tr>\n",
       "  </tbody>\n",
       "</table>\n",
       "</div>"
      ],
      "text/plain": [
       "                País  2007-Dolar  2008-Dolar  2009-Dolar  2010-Dolar  \\\n",
       "0        Afeganistão           0           0           0           0   \n",
       "1      África do Sul           0           0           0           0   \n",
       "2           Alemanha      238052      429970      393482      138666   \n",
       "3             Angola       49753       71083       84235      189891   \n",
       "4  Antígua e Barbuda           0           0           0           0   \n",
       "\n",
       "   2011-Dolar  2012-Dolar  2013-Dolar  2014-Dolar  2015-Dolar  2016-Dolar  \\\n",
       "0           0           0           0           0           0           0   \n",
       "1           0           0           0           0           0           0   \n",
       "2      144150       56342      265978      761653       44780       68109   \n",
       "3       69001        8861        9300       23124       17089       35390   \n",
       "4           0           0           0           0           0           0   \n",
       "\n",
       "   2017-Dolar  2018-Dolar  2019-Dolar  2020-Dolar  2021-Dolar    Total  \\\n",
       "0           0           0           0           0          46       46   \n",
       "1           0           0          95          21           0      116   \n",
       "2       87702       45382       25467       32605        6741  2501027   \n",
       "3       61680         709        1065           0           0   571428   \n",
       "4           0         191        1549        1864        2268     5872   \n",
       "\n",
       "  Continente  \n",
       "0       Ásia  \n",
       "1     África  \n",
       "2     Europa  \n",
       "3     África  \n",
       "4    América  "
      ]
     },
     "execution_count": 95,
     "metadata": {},
     "output_type": "execute_result"
    }
   ],
   "source": [
    "dados_dolar_combinado.head()"
   ]
  },
  {
   "attachments": {},
   "cell_type": "markdown",
   "metadata": {},
   "source": [
    "## Vendas por continente de 2007 a 2021"
   ]
  },
  {
   "cell_type": "code",
   "execution_count": 96,
   "metadata": {},
   "outputs": [
    {
     "data": {
      "text/html": [
       "<div>\n",
       "<style scoped>\n",
       "    .dataframe tbody tr th:only-of-type {\n",
       "        vertical-align: middle;\n",
       "    }\n",
       "\n",
       "    .dataframe tbody tr th {\n",
       "        vertical-align: top;\n",
       "    }\n",
       "\n",
       "    .dataframe thead th {\n",
       "        text-align: right;\n",
       "    }\n",
       "</style>\n",
       "<table border=\"1\" class=\"dataframe\">\n",
       "  <thead>\n",
       "    <tr style=\"text-align: right;\">\n",
       "      <th></th>\n",
       "      <th>Continente</th>\n",
       "      <th>Ano</th>\n",
       "      <th>Vendas_Dolar</th>\n",
       "    </tr>\n",
       "  </thead>\n",
       "  <tbody>\n",
       "    <tr>\n",
       "      <th>0</th>\n",
       "      <td>Ásia</td>\n",
       "      <td>2007</td>\n",
       "      <td>0</td>\n",
       "    </tr>\n",
       "    <tr>\n",
       "      <th>1</th>\n",
       "      <td>África</td>\n",
       "      <td>2007</td>\n",
       "      <td>0</td>\n",
       "    </tr>\n",
       "    <tr>\n",
       "      <th>2</th>\n",
       "      <td>Europa</td>\n",
       "      <td>2007</td>\n",
       "      <td>238052</td>\n",
       "    </tr>\n",
       "    <tr>\n",
       "      <th>3</th>\n",
       "      <td>África</td>\n",
       "      <td>2007</td>\n",
       "      <td>49753</td>\n",
       "    </tr>\n",
       "    <tr>\n",
       "      <th>4</th>\n",
       "      <td>América</td>\n",
       "      <td>2007</td>\n",
       "      <td>0</td>\n",
       "    </tr>\n",
       "  </tbody>\n",
       "</table>\n",
       "</div>"
      ],
      "text/plain": [
       "  Continente   Ano  Vendas_Dolar\n",
       "0       Ásia  2007             0\n",
       "1     África  2007             0\n",
       "2     Europa  2007        238052\n",
       "3     África  2007         49753\n",
       "4    América  2007             0"
      ]
     },
     "execution_count": 96,
     "metadata": {},
     "output_type": "execute_result"
    }
   ],
   "source": [
    "dados_dolar_anual = dados_dolar_combinado.copy()\n",
    "cols = dados_dolar_anual.columns.str.replace(\"-Dolar\",\"\")\n",
    "dados_dolar_anual.columns = cols\n",
    "dados_dolar_anual = dados_dolar_anual.melt(id_vars = \"Continente\", value_vars=dados_dolar_anual.columns[1:16], var_name=\"Ano\", value_name=\"Vendas_Dolar\")\n",
    "dados_dolar_anual.head()"
   ]
  },
  {
   "cell_type": "code",
   "execution_count": 97,
   "metadata": {},
   "outputs": [
    {
     "data": {
      "text/html": [
       "<div>\n",
       "<style scoped>\n",
       "    .dataframe tbody tr th:only-of-type {\n",
       "        vertical-align: middle;\n",
       "    }\n",
       "\n",
       "    .dataframe tbody tr th {\n",
       "        vertical-align: top;\n",
       "    }\n",
       "\n",
       "    .dataframe thead th {\n",
       "        text-align: right;\n",
       "    }\n",
       "</style>\n",
       "<table border=\"1\" class=\"dataframe\">\n",
       "  <thead>\n",
       "    <tr style=\"text-align: right;\">\n",
       "      <th>Continente</th>\n",
       "      <th>América</th>\n",
       "      <th>Europa</th>\n",
       "      <th>Oceania</th>\n",
       "      <th>África</th>\n",
       "      <th>Ásia</th>\n",
       "    </tr>\n",
       "    <tr>\n",
       "      <th>Ano</th>\n",
       "      <th></th>\n",
       "      <th></th>\n",
       "      <th></th>\n",
       "      <th></th>\n",
       "      <th></th>\n",
       "    </tr>\n",
       "  </thead>\n",
       "  <tbody>\n",
       "    <tr>\n",
       "      <th>2007</th>\n",
       "      <td>1.760867</td>\n",
       "      <td>1.406368</td>\n",
       "      <td>0.000281</td>\n",
       "      <td>0.049764</td>\n",
       "      <td>0.365141</td>\n",
       "    </tr>\n",
       "    <tr>\n",
       "      <th>2008</th>\n",
       "      <td>2.267468</td>\n",
       "      <td>4.257593</td>\n",
       "      <td>0.099280</td>\n",
       "      <td>0.115445</td>\n",
       "      <td>0.250764</td>\n",
       "    </tr>\n",
       "    <tr>\n",
       "      <th>2009</th>\n",
       "      <td>1.174108</td>\n",
       "      <td>6.810480</td>\n",
       "      <td>0.009195</td>\n",
       "      <td>0.084350</td>\n",
       "      <td>0.793024</td>\n",
       "    </tr>\n",
       "    <tr>\n",
       "      <th>2010</th>\n",
       "      <td>0.952470</td>\n",
       "      <td>1.140144</td>\n",
       "      <td>0.017960</td>\n",
       "      <td>0.239257</td>\n",
       "      <td>0.076986</td>\n",
       "    </tr>\n",
       "    <tr>\n",
       "      <th>2011</th>\n",
       "      <td>1.561014</td>\n",
       "      <td>1.358602</td>\n",
       "      <td>0.048696</td>\n",
       "      <td>0.070606</td>\n",
       "      <td>0.498104</td>\n",
       "    </tr>\n",
       "  </tbody>\n",
       "</table>\n",
       "</div>"
      ],
      "text/plain": [
       "Continente   América    Europa   Oceania    África      Ásia\n",
       "Ano                                                         \n",
       "2007        1.760867  1.406368  0.000281  0.049764  0.365141\n",
       "2008        2.267468  4.257593  0.099280  0.115445  0.250764\n",
       "2009        1.174108  6.810480  0.009195  0.084350  0.793024\n",
       "2010        0.952470  1.140144  0.017960  0.239257  0.076986\n",
       "2011        1.561014  1.358602  0.048696  0.070606  0.498104"
      ]
     },
     "execution_count": 97,
     "metadata": {},
     "output_type": "execute_result"
    }
   ],
   "source": [
    "# Criando uma tabela cruzada (crosstab) com os valores de venda por ano por continente\n",
    "vendas_por_ano = pd.crosstab(index = dados_dolar_anual.Ano, columns = dados_dolar_anual.Continente, \n",
    "                             values = dados_dolar_anual.Vendas_Dolar, aggfunc=\"sum\")\n",
    "\n",
    "vendas_por_ano = vendas_por_ano / 1e6\n",
    "\n",
    "vendas_por_ano.head()"
   ]
  },
  {
   "cell_type": "code",
   "execution_count": 98,
   "metadata": {},
   "outputs": [
    {
     "data": {
      "application/vnd.plotly.v1+json": {
       "config": {
        "plotlyServerURL": "https://plot.ly"
       },
       "data": [
        {
         "hovertemplate": "Continente=América<br>Ano=%{x}<br>value=%{y}<extra></extra>",
         "legendgroup": "América",
         "line": {
          "color": "#636efa",
          "dash": "solid"
         },
         "marker": {
          "symbol": "circle"
         },
         "mode": "lines+markers",
         "name": "América",
         "orientation": "v",
         "showlegend": true,
         "type": "scatter",
         "x": [
          "2007",
          "2008",
          "2009",
          "2010",
          "2011",
          "2012",
          "2013",
          "2014",
          "2015",
          "2016",
          "2017",
          "2018",
          "2019",
          "2020",
          "2021"
         ],
         "xaxis": "x",
         "y": [
          1.760867,
          2.267468,
          1.174108,
          0.95247,
          1.561014,
          0.93755,
          1.689503,
          1.811094,
          1.50644,
          2.502031,
          5.934897,
          6.425972,
          4.666265,
          5.059433,
          8.559709
         ],
         "yaxis": "y"
        },
        {
         "hovertemplate": "Continente=Europa<br>Ano=%{x}<br>value=%{y}<extra></extra>",
         "legendgroup": "Europa",
         "line": {
          "color": "#EF553B",
          "dash": "solid"
         },
         "marker": {
          "symbol": "circle"
         },
         "mode": "lines+markers",
         "name": "Europa",
         "orientation": "v",
         "showlegend": true,
         "type": "scatter",
         "x": [
          "2007",
          "2008",
          "2009",
          "2010",
          "2011",
          "2012",
          "2013",
          "2014",
          "2015",
          "2016",
          "2017",
          "2018",
          "2019",
          "2020",
          "2021"
         ],
         "xaxis": "x",
         "y": [
          1.406368,
          4.257593,
          6.81048,
          1.140144,
          1.358602,
          3.596092,
          20.046078,
          4.456661,
          0.791808,
          1.013894,
          0.553963,
          0.616103,
          0.56428,
          0.321178,
          0.565593
         ],
         "yaxis": "y"
        },
        {
         "hovertemplate": "Continente=Oceania<br>Ano=%{x}<br>value=%{y}<extra></extra>",
         "legendgroup": "Oceania",
         "line": {
          "color": "#00cc96",
          "dash": "solid"
         },
         "marker": {
          "symbol": "circle"
         },
         "mode": "lines+markers",
         "name": "Oceania",
         "orientation": "v",
         "showlegend": true,
         "type": "scatter",
         "x": [
          "2007",
          "2008",
          "2009",
          "2010",
          "2011",
          "2012",
          "2013",
          "2014",
          "2015",
          "2016",
          "2017",
          "2018",
          "2019",
          "2020",
          "2021"
         ],
         "xaxis": "x",
         "y": [
          0.000281,
          0.09928,
          0.009195,
          0.01796,
          0.048696,
          0.064862,
          0.105807,
          0.057384,
          0.051487,
          0.023271,
          0.01564,
          0.012467,
          0.007514,
          0.003963,
          0.026435
         ],
         "yaxis": "y"
        },
        {
         "hovertemplate": "Continente=África<br>Ano=%{x}<br>value=%{y}<extra></extra>",
         "legendgroup": "África",
         "line": {
          "color": "#ab63fa",
          "dash": "solid"
         },
         "marker": {
          "symbol": "circle"
         },
         "mode": "lines+markers",
         "name": "África",
         "orientation": "v",
         "showlegend": true,
         "type": "scatter",
         "x": [
          "2007",
          "2008",
          "2009",
          "2010",
          "2011",
          "2012",
          "2013",
          "2014",
          "2015",
          "2016",
          "2017",
          "2018",
          "2019",
          "2020",
          "2021"
         ],
         "xaxis": "x",
         "y": [
          0.049764,
          0.115445,
          0.08435,
          0.239257,
          0.070606,
          0.019057,
          0.011545,
          0.023124,
          0.017089,
          0.03539,
          0.069156,
          0.025966,
          0.07051,
          0.079439,
          0.170604
         ],
         "yaxis": "y"
        },
        {
         "hovertemplate": "Continente=Ásia<br>Ano=%{x}<br>value=%{y}<extra></extra>",
         "legendgroup": "Ásia",
         "line": {
          "color": "#FFA15A",
          "dash": "solid"
         },
         "marker": {
          "symbol": "circle"
         },
         "mode": "lines+markers",
         "name": "Ásia",
         "orientation": "v",
         "showlegend": true,
         "type": "scatter",
         "x": [
          "2007",
          "2008",
          "2009",
          "2010",
          "2011",
          "2012",
          "2013",
          "2014",
          "2015",
          "2016",
          "2017",
          "2018",
          "2019",
          "2020",
          "2021"
         ],
         "xaxis": "x",
         "y": [
          0.365141,
          0.250764,
          0.793024,
          0.076986,
          0.498104,
          0.766791,
          0.770268,
          0.988555,
          0.342496,
          0.757174,
          0.492712,
          0.28315,
          0.524231,
          0.512975,
          0.43504
         ],
         "yaxis": "y"
        }
       ],
       "layout": {
        "font": {
         "color": "grey",
         "family": "DejaVu Sans",
         "size": 15
        },
        "height": 600,
        "legend": {
         "title": {
          "text": "Continente"
         },
         "tracegroupgap": 0
        },
        "margin": {
         "t": 60
        },
        "plot_bgcolor": "#f8f9fa",
        "template": {
         "data": {
          "bar": [
           {
            "error_x": {
             "color": "#2a3f5f"
            },
            "error_y": {
             "color": "#2a3f5f"
            },
            "marker": {
             "line": {
              "color": "#E5ECF6",
              "width": 0.5
             },
             "pattern": {
              "fillmode": "overlay",
              "size": 10,
              "solidity": 0.2
             }
            },
            "type": "bar"
           }
          ],
          "barpolar": [
           {
            "marker": {
             "line": {
              "color": "#E5ECF6",
              "width": 0.5
             },
             "pattern": {
              "fillmode": "overlay",
              "size": 10,
              "solidity": 0.2
             }
            },
            "type": "barpolar"
           }
          ],
          "carpet": [
           {
            "aaxis": {
             "endlinecolor": "#2a3f5f",
             "gridcolor": "white",
             "linecolor": "white",
             "minorgridcolor": "white",
             "startlinecolor": "#2a3f5f"
            },
            "baxis": {
             "endlinecolor": "#2a3f5f",
             "gridcolor": "white",
             "linecolor": "white",
             "minorgridcolor": "white",
             "startlinecolor": "#2a3f5f"
            },
            "type": "carpet"
           }
          ],
          "choropleth": [
           {
            "colorbar": {
             "outlinewidth": 0,
             "ticks": ""
            },
            "type": "choropleth"
           }
          ],
          "contour": [
           {
            "colorbar": {
             "outlinewidth": 0,
             "ticks": ""
            },
            "colorscale": [
             [
              0,
              "#0d0887"
             ],
             [
              0.1111111111111111,
              "#46039f"
             ],
             [
              0.2222222222222222,
              "#7201a8"
             ],
             [
              0.3333333333333333,
              "#9c179e"
             ],
             [
              0.4444444444444444,
              "#bd3786"
             ],
             [
              0.5555555555555556,
              "#d8576b"
             ],
             [
              0.6666666666666666,
              "#ed7953"
             ],
             [
              0.7777777777777778,
              "#fb9f3a"
             ],
             [
              0.8888888888888888,
              "#fdca26"
             ],
             [
              1,
              "#f0f921"
             ]
            ],
            "type": "contour"
           }
          ],
          "contourcarpet": [
           {
            "colorbar": {
             "outlinewidth": 0,
             "ticks": ""
            },
            "type": "contourcarpet"
           }
          ],
          "heatmap": [
           {
            "colorbar": {
             "outlinewidth": 0,
             "ticks": ""
            },
            "colorscale": [
             [
              0,
              "#0d0887"
             ],
             [
              0.1111111111111111,
              "#46039f"
             ],
             [
              0.2222222222222222,
              "#7201a8"
             ],
             [
              0.3333333333333333,
              "#9c179e"
             ],
             [
              0.4444444444444444,
              "#bd3786"
             ],
             [
              0.5555555555555556,
              "#d8576b"
             ],
             [
              0.6666666666666666,
              "#ed7953"
             ],
             [
              0.7777777777777778,
              "#fb9f3a"
             ],
             [
              0.8888888888888888,
              "#fdca26"
             ],
             [
              1,
              "#f0f921"
             ]
            ],
            "type": "heatmap"
           }
          ],
          "heatmapgl": [
           {
            "colorbar": {
             "outlinewidth": 0,
             "ticks": ""
            },
            "colorscale": [
             [
              0,
              "#0d0887"
             ],
             [
              0.1111111111111111,
              "#46039f"
             ],
             [
              0.2222222222222222,
              "#7201a8"
             ],
             [
              0.3333333333333333,
              "#9c179e"
             ],
             [
              0.4444444444444444,
              "#bd3786"
             ],
             [
              0.5555555555555556,
              "#d8576b"
             ],
             [
              0.6666666666666666,
              "#ed7953"
             ],
             [
              0.7777777777777778,
              "#fb9f3a"
             ],
             [
              0.8888888888888888,
              "#fdca26"
             ],
             [
              1,
              "#f0f921"
             ]
            ],
            "type": "heatmapgl"
           }
          ],
          "histogram": [
           {
            "marker": {
             "pattern": {
              "fillmode": "overlay",
              "size": 10,
              "solidity": 0.2
             }
            },
            "type": "histogram"
           }
          ],
          "histogram2d": [
           {
            "colorbar": {
             "outlinewidth": 0,
             "ticks": ""
            },
            "colorscale": [
             [
              0,
              "#0d0887"
             ],
             [
              0.1111111111111111,
              "#46039f"
             ],
             [
              0.2222222222222222,
              "#7201a8"
             ],
             [
              0.3333333333333333,
              "#9c179e"
             ],
             [
              0.4444444444444444,
              "#bd3786"
             ],
             [
              0.5555555555555556,
              "#d8576b"
             ],
             [
              0.6666666666666666,
              "#ed7953"
             ],
             [
              0.7777777777777778,
              "#fb9f3a"
             ],
             [
              0.8888888888888888,
              "#fdca26"
             ],
             [
              1,
              "#f0f921"
             ]
            ],
            "type": "histogram2d"
           }
          ],
          "histogram2dcontour": [
           {
            "colorbar": {
             "outlinewidth": 0,
             "ticks": ""
            },
            "colorscale": [
             [
              0,
              "#0d0887"
             ],
             [
              0.1111111111111111,
              "#46039f"
             ],
             [
              0.2222222222222222,
              "#7201a8"
             ],
             [
              0.3333333333333333,
              "#9c179e"
             ],
             [
              0.4444444444444444,
              "#bd3786"
             ],
             [
              0.5555555555555556,
              "#d8576b"
             ],
             [
              0.6666666666666666,
              "#ed7953"
             ],
             [
              0.7777777777777778,
              "#fb9f3a"
             ],
             [
              0.8888888888888888,
              "#fdca26"
             ],
             [
              1,
              "#f0f921"
             ]
            ],
            "type": "histogram2dcontour"
           }
          ],
          "mesh3d": [
           {
            "colorbar": {
             "outlinewidth": 0,
             "ticks": ""
            },
            "type": "mesh3d"
           }
          ],
          "parcoords": [
           {
            "line": {
             "colorbar": {
              "outlinewidth": 0,
              "ticks": ""
             }
            },
            "type": "parcoords"
           }
          ],
          "pie": [
           {
            "automargin": true,
            "type": "pie"
           }
          ],
          "scatter": [
           {
            "fillpattern": {
             "fillmode": "overlay",
             "size": 10,
             "solidity": 0.2
            },
            "type": "scatter"
           }
          ],
          "scatter3d": [
           {
            "line": {
             "colorbar": {
              "outlinewidth": 0,
              "ticks": ""
             }
            },
            "marker": {
             "colorbar": {
              "outlinewidth": 0,
              "ticks": ""
             }
            },
            "type": "scatter3d"
           }
          ],
          "scattercarpet": [
           {
            "marker": {
             "colorbar": {
              "outlinewidth": 0,
              "ticks": ""
             }
            },
            "type": "scattercarpet"
           }
          ],
          "scattergeo": [
           {
            "marker": {
             "colorbar": {
              "outlinewidth": 0,
              "ticks": ""
             }
            },
            "type": "scattergeo"
           }
          ],
          "scattergl": [
           {
            "marker": {
             "colorbar": {
              "outlinewidth": 0,
              "ticks": ""
             }
            },
            "type": "scattergl"
           }
          ],
          "scattermapbox": [
           {
            "marker": {
             "colorbar": {
              "outlinewidth": 0,
              "ticks": ""
             }
            },
            "type": "scattermapbox"
           }
          ],
          "scatterpolar": [
           {
            "marker": {
             "colorbar": {
              "outlinewidth": 0,
              "ticks": ""
             }
            },
            "type": "scatterpolar"
           }
          ],
          "scatterpolargl": [
           {
            "marker": {
             "colorbar": {
              "outlinewidth": 0,
              "ticks": ""
             }
            },
            "type": "scatterpolargl"
           }
          ],
          "scatterternary": [
           {
            "marker": {
             "colorbar": {
              "outlinewidth": 0,
              "ticks": ""
             }
            },
            "type": "scatterternary"
           }
          ],
          "surface": [
           {
            "colorbar": {
             "outlinewidth": 0,
             "ticks": ""
            },
            "colorscale": [
             [
              0,
              "#0d0887"
             ],
             [
              0.1111111111111111,
              "#46039f"
             ],
             [
              0.2222222222222222,
              "#7201a8"
             ],
             [
              0.3333333333333333,
              "#9c179e"
             ],
             [
              0.4444444444444444,
              "#bd3786"
             ],
             [
              0.5555555555555556,
              "#d8576b"
             ],
             [
              0.6666666666666666,
              "#ed7953"
             ],
             [
              0.7777777777777778,
              "#fb9f3a"
             ],
             [
              0.8888888888888888,
              "#fdca26"
             ],
             [
              1,
              "#f0f921"
             ]
            ],
            "type": "surface"
           }
          ],
          "table": [
           {
            "cells": {
             "fill": {
              "color": "#EBF0F8"
             },
             "line": {
              "color": "white"
             }
            },
            "header": {
             "fill": {
              "color": "#C8D4E3"
             },
             "line": {
              "color": "white"
             }
            },
            "type": "table"
           }
          ]
         },
         "layout": {
          "annotationdefaults": {
           "arrowcolor": "#2a3f5f",
           "arrowhead": 0,
           "arrowwidth": 1
          },
          "autotypenumbers": "strict",
          "coloraxis": {
           "colorbar": {
            "outlinewidth": 0,
            "ticks": ""
           }
          },
          "colorscale": {
           "diverging": [
            [
             0,
             "#8e0152"
            ],
            [
             0.1,
             "#c51b7d"
            ],
            [
             0.2,
             "#de77ae"
            ],
            [
             0.3,
             "#f1b6da"
            ],
            [
             0.4,
             "#fde0ef"
            ],
            [
             0.5,
             "#f7f7f7"
            ],
            [
             0.6,
             "#e6f5d0"
            ],
            [
             0.7,
             "#b8e186"
            ],
            [
             0.8,
             "#7fbc41"
            ],
            [
             0.9,
             "#4d9221"
            ],
            [
             1,
             "#276419"
            ]
           ],
           "sequential": [
            [
             0,
             "#0d0887"
            ],
            [
             0.1111111111111111,
             "#46039f"
            ],
            [
             0.2222222222222222,
             "#7201a8"
            ],
            [
             0.3333333333333333,
             "#9c179e"
            ],
            [
             0.4444444444444444,
             "#bd3786"
            ],
            [
             0.5555555555555556,
             "#d8576b"
            ],
            [
             0.6666666666666666,
             "#ed7953"
            ],
            [
             0.7777777777777778,
             "#fb9f3a"
            ],
            [
             0.8888888888888888,
             "#fdca26"
            ],
            [
             1,
             "#f0f921"
            ]
           ],
           "sequentialminus": [
            [
             0,
             "#0d0887"
            ],
            [
             0.1111111111111111,
             "#46039f"
            ],
            [
             0.2222222222222222,
             "#7201a8"
            ],
            [
             0.3333333333333333,
             "#9c179e"
            ],
            [
             0.4444444444444444,
             "#bd3786"
            ],
            [
             0.5555555555555556,
             "#d8576b"
            ],
            [
             0.6666666666666666,
             "#ed7953"
            ],
            [
             0.7777777777777778,
             "#fb9f3a"
            ],
            [
             0.8888888888888888,
             "#fdca26"
            ],
            [
             1,
             "#f0f921"
            ]
           ]
          },
          "colorway": [
           "#636efa",
           "#EF553B",
           "#00cc96",
           "#ab63fa",
           "#FFA15A",
           "#19d3f3",
           "#FF6692",
           "#B6E880",
           "#FF97FF",
           "#FECB52"
          ],
          "font": {
           "color": "#2a3f5f"
          },
          "geo": {
           "bgcolor": "white",
           "lakecolor": "white",
           "landcolor": "#E5ECF6",
           "showlakes": true,
           "showland": true,
           "subunitcolor": "white"
          },
          "hoverlabel": {
           "align": "left"
          },
          "hovermode": "closest",
          "mapbox": {
           "style": "light"
          },
          "paper_bgcolor": "white",
          "plot_bgcolor": "#E5ECF6",
          "polar": {
           "angularaxis": {
            "gridcolor": "white",
            "linecolor": "white",
            "ticks": ""
           },
           "bgcolor": "#E5ECF6",
           "radialaxis": {
            "gridcolor": "white",
            "linecolor": "white",
            "ticks": ""
           }
          },
          "scene": {
           "xaxis": {
            "backgroundcolor": "#E5ECF6",
            "gridcolor": "white",
            "gridwidth": 2,
            "linecolor": "white",
            "showbackground": true,
            "ticks": "",
            "zerolinecolor": "white"
           },
           "yaxis": {
            "backgroundcolor": "#E5ECF6",
            "gridcolor": "white",
            "gridwidth": 2,
            "linecolor": "white",
            "showbackground": true,
            "ticks": "",
            "zerolinecolor": "white"
           },
           "zaxis": {
            "backgroundcolor": "#E5ECF6",
            "gridcolor": "white",
            "gridwidth": 2,
            "linecolor": "white",
            "showbackground": true,
            "ticks": "",
            "zerolinecolor": "white"
           }
          },
          "shapedefaults": {
           "line": {
            "color": "#2a3f5f"
           }
          },
          "ternary": {
           "aaxis": {
            "gridcolor": "white",
            "linecolor": "white",
            "ticks": ""
           },
           "baxis": {
            "gridcolor": "white",
            "linecolor": "white",
            "ticks": ""
           },
           "bgcolor": "#E5ECF6",
           "caxis": {
            "gridcolor": "white",
            "linecolor": "white",
            "ticks": ""
           }
          },
          "title": {
           "x": 0.05
          },
          "xaxis": {
           "automargin": true,
           "gridcolor": "white",
           "linecolor": "white",
           "ticks": "",
           "title": {
            "standoff": 15
           },
           "zerolinecolor": "white",
           "zerolinewidth": 2
          },
          "yaxis": {
           "automargin": true,
           "gridcolor": "white",
           "linecolor": "white",
           "ticks": "",
           "title": {
            "standoff": 15
           },
           "zerolinecolor": "white",
           "zerolinewidth": 2
          }
         }
        },
        "title": {
         "font": {
          "color": "black",
          "size": 24
         },
         "text": "Vendas de vinho por continente em milhões de dólares<br><sup size=1 style=\"color:#555655\">De 2007 a 2021</sup>"
        },
        "width": 1200,
        "xaxis": {
         "anchor": "y",
         "domain": [
          0,
          1
         ],
         "tickmode": "array",
         "tickvals": [
          2007,
          2009,
          2011,
          2013,
          2015,
          2017,
          2019,
          2021
         ],
         "title": {
          "text": ""
         }
        },
        "yaxis": {
         "anchor": "x",
         "domain": [
          0,
          1
         ],
         "tickprefix": "U$ ",
         "ticksuffix": " Mi",
         "title": {
          "text": ""
         }
        }
       }
      }
     },
     "metadata": {},
     "output_type": "display_data"
    }
   ],
   "source": [
    "# Importando a biblioteca\n",
    "import plotly.express as px\n",
    "\n",
    "fig = px.line(vendas_por_ano, x=vendas_por_ano.index, y=vendas_por_ano.columns, markers = True)\n",
    "\n",
    "# Ajustando o layout do gráfico\n",
    "fig.update_layout(width=1200, height=600, font_family = 'DejaVu Sans', font_size=15,\n",
    "                  font_color= \"grey\", title_font_color= \"black\", title_font_size=24,\n",
    "                  title_text='Vendas de vinho por continente em milhões de dólares' +\n",
    "                             '<br><sup size=1 style=\"color:#555655\">De 2007 a 2021</sup>',\n",
    "                  xaxis_title='', yaxis_title='', plot_bgcolor= \"#f8f9fa\")\n",
    "\n",
    "# Ajustando os ticks do eixo y para o formato em milhões\n",
    "fig.update_yaxes(tickprefix=\"U$ \", ticksuffix=\" Mi\")\n",
    "\n",
    "fig.update_xaxes(tickmode='array', tickvals=np.arange(2007,2022,2))\n",
    "\n",
    "fig.show()"
   ]
  },
  {
   "attachments": {},
   "cell_type": "markdown",
   "metadata": {},
   "source": [
    "## Vendas nos Top 5 países que mais consomem de 2007 a 2021"
   ]
  },
  {
   "cell_type": "code",
   "execution_count": 99,
   "metadata": {},
   "outputs": [
    {
     "data": {
      "text/html": [
       "<div>\n",
       "<style scoped>\n",
       "    .dataframe tbody tr th:only-of-type {\n",
       "        vertical-align: middle;\n",
       "    }\n",
       "\n",
       "    .dataframe tbody tr th {\n",
       "        vertical-align: top;\n",
       "    }\n",
       "\n",
       "    .dataframe thead th {\n",
       "        text-align: right;\n",
       "    }\n",
       "</style>\n",
       "<table border=\"1\" class=\"dataframe\">\n",
       "  <thead>\n",
       "    <tr style=\"text-align: right;\">\n",
       "      <th></th>\n",
       "      <th>País</th>\n",
       "      <th>2007</th>\n",
       "      <th>2008</th>\n",
       "      <th>2009</th>\n",
       "      <th>2010</th>\n",
       "      <th>2011</th>\n",
       "      <th>2012</th>\n",
       "      <th>2013</th>\n",
       "      <th>2014</th>\n",
       "      <th>2015</th>\n",
       "      <th>2016</th>\n",
       "      <th>2017</th>\n",
       "      <th>2018</th>\n",
       "      <th>2019</th>\n",
       "      <th>2020</th>\n",
       "      <th>2021</th>\n",
       "      <th>Total</th>\n",
       "      <th>Continente</th>\n",
       "    </tr>\n",
       "  </thead>\n",
       "  <tbody>\n",
       "    <tr>\n",
       "      <th>70</th>\n",
       "      <td>Paraguai</td>\n",
       "      <td>801519</td>\n",
       "      <td>1374088</td>\n",
       "      <td>392087</td>\n",
       "      <td>449197</td>\n",
       "      <td>276281</td>\n",
       "      <td>428279</td>\n",
       "      <td>680828</td>\n",
       "      <td>908028</td>\n",
       "      <td>741370</td>\n",
       "      <td>1655417</td>\n",
       "      <td>4274650</td>\n",
       "      <td>5494321</td>\n",
       "      <td>3826587</td>\n",
       "      <td>3869243</td>\n",
       "      <td>7192362</td>\n",
       "      <td>31562738</td>\n",
       "      <td>América</td>\n",
       "    </tr>\n",
       "    <tr>\n",
       "      <th>76</th>\n",
       "      <td>Rússia</td>\n",
       "      <td>173160</td>\n",
       "      <td>2352768</td>\n",
       "      <td>5732280</td>\n",
       "      <td>0</td>\n",
       "      <td>0</td>\n",
       "      <td>2103968</td>\n",
       "      <td>14795694</td>\n",
       "      <td>61440</td>\n",
       "      <td>18240</td>\n",
       "      <td>0</td>\n",
       "      <td>0</td>\n",
       "      <td>0</td>\n",
       "      <td>0</td>\n",
       "      <td>8550</td>\n",
       "      <td>312926</td>\n",
       "      <td>25385866</td>\n",
       "      <td>Europa</td>\n",
       "    </tr>\n",
       "    <tr>\n",
       "      <th>36</th>\n",
       "      <td>Estados Unidos</td>\n",
       "      <td>810038</td>\n",
       "      <td>804607</td>\n",
       "      <td>660066</td>\n",
       "      <td>478630</td>\n",
       "      <td>1030254</td>\n",
       "      <td>303986</td>\n",
       "      <td>786556</td>\n",
       "      <td>494216</td>\n",
       "      <td>524109</td>\n",
       "      <td>687411</td>\n",
       "      <td>1523699</td>\n",
       "      <td>512519</td>\n",
       "      <td>616274</td>\n",
       "      <td>610793</td>\n",
       "      <td>203554</td>\n",
       "      <td>9236674</td>\n",
       "      <td>América</td>\n",
       "    </tr>\n",
       "    <tr>\n",
       "      <th>74</th>\n",
       "      <td>Reino Unido</td>\n",
       "      <td>144244</td>\n",
       "      <td>155076</td>\n",
       "      <td>68788</td>\n",
       "      <td>295690</td>\n",
       "      <td>285642</td>\n",
       "      <td>334856</td>\n",
       "      <td>305005</td>\n",
       "      <td>1373747</td>\n",
       "      <td>308407</td>\n",
       "      <td>536681</td>\n",
       "      <td>242883</td>\n",
       "      <td>296827</td>\n",
       "      <td>164592</td>\n",
       "      <td>82722</td>\n",
       "      <td>122394</td>\n",
       "      <td>4573310</td>\n",
       "      <td>Europa</td>\n",
       "    </tr>\n",
       "    <tr>\n",
       "      <th>21</th>\n",
       "      <td>China</td>\n",
       "      <td>30390</td>\n",
       "      <td>25926</td>\n",
       "      <td>482400</td>\n",
       "      <td>2358</td>\n",
       "      <td>334867</td>\n",
       "      <td>642177</td>\n",
       "      <td>279956</td>\n",
       "      <td>455340</td>\n",
       "      <td>222866</td>\n",
       "      <td>499622</td>\n",
       "      <td>266086</td>\n",
       "      <td>126336</td>\n",
       "      <td>376828</td>\n",
       "      <td>363000</td>\n",
       "      <td>264116</td>\n",
       "      <td>4341878</td>\n",
       "      <td>Ásia</td>\n",
       "    </tr>\n",
       "  </tbody>\n",
       "</table>\n",
       "</div>"
      ],
      "text/plain": [
       "              País    2007     2008     2009    2010     2011     2012  \\\n",
       "70        Paraguai  801519  1374088   392087  449197   276281   428279   \n",
       "76          Rússia  173160  2352768  5732280       0        0  2103968   \n",
       "36  Estados Unidos  810038   804607   660066  478630  1030254   303986   \n",
       "74     Reino Unido  144244   155076    68788  295690   285642   334856   \n",
       "21           China   30390    25926   482400    2358   334867   642177   \n",
       "\n",
       "        2013     2014    2015     2016     2017     2018     2019     2020  \\\n",
       "70    680828   908028  741370  1655417  4274650  5494321  3826587  3869243   \n",
       "76  14795694    61440   18240        0        0        0        0     8550   \n",
       "36    786556   494216  524109   687411  1523699   512519   616274   610793   \n",
       "74    305005  1373747  308407   536681   242883   296827   164592    82722   \n",
       "21    279956   455340  222866   499622   266086   126336   376828   363000   \n",
       "\n",
       "       2021     Total Continente  \n",
       "70  7192362  31562738    América  \n",
       "76   312926  25385866     Europa  \n",
       "36   203554   9236674    América  \n",
       "74   122394   4573310     Europa  \n",
       "21   264116   4341878       Ásia  "
      ]
     },
     "execution_count": 99,
     "metadata": {},
     "output_type": "execute_result"
    }
   ],
   "source": [
    "dados_dolar_anual_paises = dados_dolar_combinado.copy()\n",
    "dados_dolar_anual_paises.columns = dados_dolar_anual_paises.columns.str.replace(\"-Dolar\",\"\")\n",
    "dados_dolar_anual_paises = dados_dolar_anual_paises.sort_values(\"Total\", axis= 0 , ascending= False)\n",
    "dados_dolar_anual_paises = dados_dolar_anual_paises[:5]\n",
    "dados_dolar_anual_paises"
   ]
  },
  {
   "cell_type": "code",
   "execution_count": 100,
   "metadata": {},
   "outputs": [
    {
     "data": {
      "text/html": [
       "<div>\n",
       "<style scoped>\n",
       "    .dataframe tbody tr th:only-of-type {\n",
       "        vertical-align: middle;\n",
       "    }\n",
       "\n",
       "    .dataframe tbody tr th {\n",
       "        vertical-align: top;\n",
       "    }\n",
       "\n",
       "    .dataframe thead th {\n",
       "        text-align: right;\n",
       "    }\n",
       "</style>\n",
       "<table border=\"1\" class=\"dataframe\">\n",
       "  <thead>\n",
       "    <tr style=\"text-align: right;\">\n",
       "      <th></th>\n",
       "      <th>País</th>\n",
       "      <th>Ano</th>\n",
       "      <th>Vendas_Dolar</th>\n",
       "    </tr>\n",
       "  </thead>\n",
       "  <tbody>\n",
       "    <tr>\n",
       "      <th>0</th>\n",
       "      <td>Paraguai</td>\n",
       "      <td>2007</td>\n",
       "      <td>801519</td>\n",
       "    </tr>\n",
       "    <tr>\n",
       "      <th>1</th>\n",
       "      <td>Rússia</td>\n",
       "      <td>2007</td>\n",
       "      <td>173160</td>\n",
       "    </tr>\n",
       "    <tr>\n",
       "      <th>2</th>\n",
       "      <td>Estados Unidos</td>\n",
       "      <td>2007</td>\n",
       "      <td>810038</td>\n",
       "    </tr>\n",
       "    <tr>\n",
       "      <th>3</th>\n",
       "      <td>Reino Unido</td>\n",
       "      <td>2007</td>\n",
       "      <td>144244</td>\n",
       "    </tr>\n",
       "    <tr>\n",
       "      <th>4</th>\n",
       "      <td>China</td>\n",
       "      <td>2007</td>\n",
       "      <td>30390</td>\n",
       "    </tr>\n",
       "  </tbody>\n",
       "</table>\n",
       "</div>"
      ],
      "text/plain": [
       "             País   Ano  Vendas_Dolar\n",
       "0        Paraguai  2007        801519\n",
       "1          Rússia  2007        173160\n",
       "2  Estados Unidos  2007        810038\n",
       "3     Reino Unido  2007        144244\n",
       "4           China  2007         30390"
      ]
     },
     "execution_count": 100,
     "metadata": {},
     "output_type": "execute_result"
    }
   ],
   "source": [
    "dados_dolar_anual_paises = dados_dolar_anual_paises.melt(id_vars = \"País\", value_vars=dados_dolar_anual_paises.columns[1:16], var_name=\"Ano\", value_name=\"Vendas_Dolar\")\n",
    "dados_dolar_anual_paises.head()"
   ]
  },
  {
   "cell_type": "code",
   "execution_count": 101,
   "metadata": {},
   "outputs": [
    {
     "data": {
      "text/html": [
       "<div>\n",
       "<style scoped>\n",
       "    .dataframe tbody tr th:only-of-type {\n",
       "        vertical-align: middle;\n",
       "    }\n",
       "\n",
       "    .dataframe tbody tr th {\n",
       "        vertical-align: top;\n",
       "    }\n",
       "\n",
       "    .dataframe thead th {\n",
       "        text-align: right;\n",
       "    }\n",
       "</style>\n",
       "<table border=\"1\" class=\"dataframe\">\n",
       "  <thead>\n",
       "    <tr style=\"text-align: right;\">\n",
       "      <th>País</th>\n",
       "      <th>China</th>\n",
       "      <th>Estados Unidos</th>\n",
       "      <th>Paraguai</th>\n",
       "      <th>Reino Unido</th>\n",
       "      <th>Rússia</th>\n",
       "    </tr>\n",
       "    <tr>\n",
       "      <th>Ano</th>\n",
       "      <th></th>\n",
       "      <th></th>\n",
       "      <th></th>\n",
       "      <th></th>\n",
       "      <th></th>\n",
       "    </tr>\n",
       "  </thead>\n",
       "  <tbody>\n",
       "    <tr>\n",
       "      <th>2007</th>\n",
       "      <td>0.030390</td>\n",
       "      <td>0.810038</td>\n",
       "      <td>0.801519</td>\n",
       "      <td>0.144244</td>\n",
       "      <td>0.173160</td>\n",
       "    </tr>\n",
       "    <tr>\n",
       "      <th>2008</th>\n",
       "      <td>0.025926</td>\n",
       "      <td>0.804607</td>\n",
       "      <td>1.374088</td>\n",
       "      <td>0.155076</td>\n",
       "      <td>2.352768</td>\n",
       "    </tr>\n",
       "    <tr>\n",
       "      <th>2009</th>\n",
       "      <td>0.482400</td>\n",
       "      <td>0.660066</td>\n",
       "      <td>0.392087</td>\n",
       "      <td>0.068788</td>\n",
       "      <td>5.732280</td>\n",
       "    </tr>\n",
       "    <tr>\n",
       "      <th>2010</th>\n",
       "      <td>0.002358</td>\n",
       "      <td>0.478630</td>\n",
       "      <td>0.449197</td>\n",
       "      <td>0.295690</td>\n",
       "      <td>0.000000</td>\n",
       "    </tr>\n",
       "    <tr>\n",
       "      <th>2011</th>\n",
       "      <td>0.334867</td>\n",
       "      <td>1.030254</td>\n",
       "      <td>0.276281</td>\n",
       "      <td>0.285642</td>\n",
       "      <td>0.000000</td>\n",
       "    </tr>\n",
       "  </tbody>\n",
       "</table>\n",
       "</div>"
      ],
      "text/plain": [
       "País     China  Estados Unidos  Paraguai  Reino Unido    Rússia\n",
       "Ano                                                            \n",
       "2007  0.030390        0.810038  0.801519     0.144244  0.173160\n",
       "2008  0.025926        0.804607  1.374088     0.155076  2.352768\n",
       "2009  0.482400        0.660066  0.392087     0.068788  5.732280\n",
       "2010  0.002358        0.478630  0.449197     0.295690  0.000000\n",
       "2011  0.334867        1.030254  0.276281     0.285642  0.000000"
      ]
     },
     "execution_count": 101,
     "metadata": {},
     "output_type": "execute_result"
    }
   ],
   "source": [
    "# Criando uma tabela cruzada (crosstab) com os valores de venda por ano por continente\n",
    "vendas_por_ano_paises = pd.crosstab(index = dados_dolar_anual_paises.Ano, columns = dados_dolar_anual_paises[\"País\"], \n",
    "                             values = dados_dolar_anual_paises.Vendas_Dolar, aggfunc=\"sum\")\n",
    "\n",
    "vendas_por_ano_paises = vendas_por_ano_paises / 1e6\n",
    "\n",
    "vendas_por_ano_paises.head()"
   ]
  },
  {
   "cell_type": "code",
   "execution_count": 102,
   "metadata": {},
   "outputs": [
    {
     "data": {
      "application/vnd.plotly.v1+json": {
       "config": {
        "plotlyServerURL": "https://plot.ly"
       },
       "data": [
        {
         "hovertemplate": "País=China<br>Ano=%{x}<br>value=%{y}<extra></extra>",
         "legendgroup": "China",
         "line": {
          "color": "#636efa",
          "dash": "solid"
         },
         "marker": {
          "symbol": "circle"
         },
         "mode": "lines+markers",
         "name": "China",
         "orientation": "v",
         "showlegend": true,
         "type": "scatter",
         "x": [
          "2007",
          "2008",
          "2009",
          "2010",
          "2011",
          "2012",
          "2013",
          "2014",
          "2015",
          "2016",
          "2017",
          "2018",
          "2019",
          "2020",
          "2021"
         ],
         "xaxis": "x",
         "y": [
          0.03039,
          0.025926,
          0.4824,
          0.002358,
          0.334867,
          0.642177,
          0.279956,
          0.45534,
          0.222866,
          0.499622,
          0.266086,
          0.126336,
          0.376828,
          0.363,
          0.264116
         ],
         "yaxis": "y"
        },
        {
         "hovertemplate": "País=Estados Unidos<br>Ano=%{x}<br>value=%{y}<extra></extra>",
         "legendgroup": "Estados Unidos",
         "line": {
          "color": "#EF553B",
          "dash": "solid"
         },
         "marker": {
          "symbol": "circle"
         },
         "mode": "lines+markers",
         "name": "Estados Unidos",
         "orientation": "v",
         "showlegend": true,
         "type": "scatter",
         "x": [
          "2007",
          "2008",
          "2009",
          "2010",
          "2011",
          "2012",
          "2013",
          "2014",
          "2015",
          "2016",
          "2017",
          "2018",
          "2019",
          "2020",
          "2021"
         ],
         "xaxis": "x",
         "y": [
          0.810038,
          0.804607,
          0.660066,
          0.47863,
          1.030254,
          0.303986,
          0.786556,
          0.494216,
          0.524109,
          0.687411,
          1.523699,
          0.512519,
          0.616274,
          0.610793,
          0.203554
         ],
         "yaxis": "y"
        },
        {
         "hovertemplate": "País=Paraguai<br>Ano=%{x}<br>value=%{y}<extra></extra>",
         "legendgroup": "Paraguai",
         "line": {
          "color": "#00cc96",
          "dash": "solid"
         },
         "marker": {
          "symbol": "circle"
         },
         "mode": "lines+markers",
         "name": "Paraguai",
         "orientation": "v",
         "showlegend": true,
         "type": "scatter",
         "x": [
          "2007",
          "2008",
          "2009",
          "2010",
          "2011",
          "2012",
          "2013",
          "2014",
          "2015",
          "2016",
          "2017",
          "2018",
          "2019",
          "2020",
          "2021"
         ],
         "xaxis": "x",
         "y": [
          0.801519,
          1.374088,
          0.392087,
          0.449197,
          0.276281,
          0.428279,
          0.680828,
          0.908028,
          0.74137,
          1.655417,
          4.27465,
          5.494321,
          3.826587,
          3.869243,
          7.192362
         ],
         "yaxis": "y"
        },
        {
         "hovertemplate": "País=Reino Unido<br>Ano=%{x}<br>value=%{y}<extra></extra>",
         "legendgroup": "Reino Unido",
         "line": {
          "color": "#ab63fa",
          "dash": "solid"
         },
         "marker": {
          "symbol": "circle"
         },
         "mode": "lines+markers",
         "name": "Reino Unido",
         "orientation": "v",
         "showlegend": true,
         "type": "scatter",
         "x": [
          "2007",
          "2008",
          "2009",
          "2010",
          "2011",
          "2012",
          "2013",
          "2014",
          "2015",
          "2016",
          "2017",
          "2018",
          "2019",
          "2020",
          "2021"
         ],
         "xaxis": "x",
         "y": [
          0.144244,
          0.155076,
          0.068788,
          0.29569,
          0.285642,
          0.334856,
          0.305005,
          1.373747,
          0.308407,
          0.536681,
          0.242883,
          0.296827,
          0.164592,
          0.082722,
          0.122394
         ],
         "yaxis": "y"
        },
        {
         "hovertemplate": "País=Rússia<br>Ano=%{x}<br>value=%{y}<extra></extra>",
         "legendgroup": "Rússia",
         "line": {
          "color": "#FFA15A",
          "dash": "solid"
         },
         "marker": {
          "symbol": "circle"
         },
         "mode": "lines+markers",
         "name": "Rússia",
         "orientation": "v",
         "showlegend": true,
         "type": "scatter",
         "x": [
          "2007",
          "2008",
          "2009",
          "2010",
          "2011",
          "2012",
          "2013",
          "2014",
          "2015",
          "2016",
          "2017",
          "2018",
          "2019",
          "2020",
          "2021"
         ],
         "xaxis": "x",
         "y": [
          0.17316,
          2.352768,
          5.73228,
          0,
          0,
          2.103968,
          14.795694,
          0.06144,
          0.01824,
          0,
          0,
          0,
          0,
          0.00855,
          0.312926
         ],
         "yaxis": "y"
        }
       ],
       "layout": {
        "font": {
         "color": "grey",
         "family": "DejaVu Sans",
         "size": 15
        },
        "height": 600,
        "legend": {
         "title": {
          "text": "País"
         },
         "tracegroupgap": 0
        },
        "margin": {
         "t": 60
        },
        "plot_bgcolor": "#f8f9fa",
        "template": {
         "data": {
          "bar": [
           {
            "error_x": {
             "color": "#2a3f5f"
            },
            "error_y": {
             "color": "#2a3f5f"
            },
            "marker": {
             "line": {
              "color": "#E5ECF6",
              "width": 0.5
             },
             "pattern": {
              "fillmode": "overlay",
              "size": 10,
              "solidity": 0.2
             }
            },
            "type": "bar"
           }
          ],
          "barpolar": [
           {
            "marker": {
             "line": {
              "color": "#E5ECF6",
              "width": 0.5
             },
             "pattern": {
              "fillmode": "overlay",
              "size": 10,
              "solidity": 0.2
             }
            },
            "type": "barpolar"
           }
          ],
          "carpet": [
           {
            "aaxis": {
             "endlinecolor": "#2a3f5f",
             "gridcolor": "white",
             "linecolor": "white",
             "minorgridcolor": "white",
             "startlinecolor": "#2a3f5f"
            },
            "baxis": {
             "endlinecolor": "#2a3f5f",
             "gridcolor": "white",
             "linecolor": "white",
             "minorgridcolor": "white",
             "startlinecolor": "#2a3f5f"
            },
            "type": "carpet"
           }
          ],
          "choropleth": [
           {
            "colorbar": {
             "outlinewidth": 0,
             "ticks": ""
            },
            "type": "choropleth"
           }
          ],
          "contour": [
           {
            "colorbar": {
             "outlinewidth": 0,
             "ticks": ""
            },
            "colorscale": [
             [
              0,
              "#0d0887"
             ],
             [
              0.1111111111111111,
              "#46039f"
             ],
             [
              0.2222222222222222,
              "#7201a8"
             ],
             [
              0.3333333333333333,
              "#9c179e"
             ],
             [
              0.4444444444444444,
              "#bd3786"
             ],
             [
              0.5555555555555556,
              "#d8576b"
             ],
             [
              0.6666666666666666,
              "#ed7953"
             ],
             [
              0.7777777777777778,
              "#fb9f3a"
             ],
             [
              0.8888888888888888,
              "#fdca26"
             ],
             [
              1,
              "#f0f921"
             ]
            ],
            "type": "contour"
           }
          ],
          "contourcarpet": [
           {
            "colorbar": {
             "outlinewidth": 0,
             "ticks": ""
            },
            "type": "contourcarpet"
           }
          ],
          "heatmap": [
           {
            "colorbar": {
             "outlinewidth": 0,
             "ticks": ""
            },
            "colorscale": [
             [
              0,
              "#0d0887"
             ],
             [
              0.1111111111111111,
              "#46039f"
             ],
             [
              0.2222222222222222,
              "#7201a8"
             ],
             [
              0.3333333333333333,
              "#9c179e"
             ],
             [
              0.4444444444444444,
              "#bd3786"
             ],
             [
              0.5555555555555556,
              "#d8576b"
             ],
             [
              0.6666666666666666,
              "#ed7953"
             ],
             [
              0.7777777777777778,
              "#fb9f3a"
             ],
             [
              0.8888888888888888,
              "#fdca26"
             ],
             [
              1,
              "#f0f921"
             ]
            ],
            "type": "heatmap"
           }
          ],
          "heatmapgl": [
           {
            "colorbar": {
             "outlinewidth": 0,
             "ticks": ""
            },
            "colorscale": [
             [
              0,
              "#0d0887"
             ],
             [
              0.1111111111111111,
              "#46039f"
             ],
             [
              0.2222222222222222,
              "#7201a8"
             ],
             [
              0.3333333333333333,
              "#9c179e"
             ],
             [
              0.4444444444444444,
              "#bd3786"
             ],
             [
              0.5555555555555556,
              "#d8576b"
             ],
             [
              0.6666666666666666,
              "#ed7953"
             ],
             [
              0.7777777777777778,
              "#fb9f3a"
             ],
             [
              0.8888888888888888,
              "#fdca26"
             ],
             [
              1,
              "#f0f921"
             ]
            ],
            "type": "heatmapgl"
           }
          ],
          "histogram": [
           {
            "marker": {
             "pattern": {
              "fillmode": "overlay",
              "size": 10,
              "solidity": 0.2
             }
            },
            "type": "histogram"
           }
          ],
          "histogram2d": [
           {
            "colorbar": {
             "outlinewidth": 0,
             "ticks": ""
            },
            "colorscale": [
             [
              0,
              "#0d0887"
             ],
             [
              0.1111111111111111,
              "#46039f"
             ],
             [
              0.2222222222222222,
              "#7201a8"
             ],
             [
              0.3333333333333333,
              "#9c179e"
             ],
             [
              0.4444444444444444,
              "#bd3786"
             ],
             [
              0.5555555555555556,
              "#d8576b"
             ],
             [
              0.6666666666666666,
              "#ed7953"
             ],
             [
              0.7777777777777778,
              "#fb9f3a"
             ],
             [
              0.8888888888888888,
              "#fdca26"
             ],
             [
              1,
              "#f0f921"
             ]
            ],
            "type": "histogram2d"
           }
          ],
          "histogram2dcontour": [
           {
            "colorbar": {
             "outlinewidth": 0,
             "ticks": ""
            },
            "colorscale": [
             [
              0,
              "#0d0887"
             ],
             [
              0.1111111111111111,
              "#46039f"
             ],
             [
              0.2222222222222222,
              "#7201a8"
             ],
             [
              0.3333333333333333,
              "#9c179e"
             ],
             [
              0.4444444444444444,
              "#bd3786"
             ],
             [
              0.5555555555555556,
              "#d8576b"
             ],
             [
              0.6666666666666666,
              "#ed7953"
             ],
             [
              0.7777777777777778,
              "#fb9f3a"
             ],
             [
              0.8888888888888888,
              "#fdca26"
             ],
             [
              1,
              "#f0f921"
             ]
            ],
            "type": "histogram2dcontour"
           }
          ],
          "mesh3d": [
           {
            "colorbar": {
             "outlinewidth": 0,
             "ticks": ""
            },
            "type": "mesh3d"
           }
          ],
          "parcoords": [
           {
            "line": {
             "colorbar": {
              "outlinewidth": 0,
              "ticks": ""
             }
            },
            "type": "parcoords"
           }
          ],
          "pie": [
           {
            "automargin": true,
            "type": "pie"
           }
          ],
          "scatter": [
           {
            "fillpattern": {
             "fillmode": "overlay",
             "size": 10,
             "solidity": 0.2
            },
            "type": "scatter"
           }
          ],
          "scatter3d": [
           {
            "line": {
             "colorbar": {
              "outlinewidth": 0,
              "ticks": ""
             }
            },
            "marker": {
             "colorbar": {
              "outlinewidth": 0,
              "ticks": ""
             }
            },
            "type": "scatter3d"
           }
          ],
          "scattercarpet": [
           {
            "marker": {
             "colorbar": {
              "outlinewidth": 0,
              "ticks": ""
             }
            },
            "type": "scattercarpet"
           }
          ],
          "scattergeo": [
           {
            "marker": {
             "colorbar": {
              "outlinewidth": 0,
              "ticks": ""
             }
            },
            "type": "scattergeo"
           }
          ],
          "scattergl": [
           {
            "marker": {
             "colorbar": {
              "outlinewidth": 0,
              "ticks": ""
             }
            },
            "type": "scattergl"
           }
          ],
          "scattermapbox": [
           {
            "marker": {
             "colorbar": {
              "outlinewidth": 0,
              "ticks": ""
             }
            },
            "type": "scattermapbox"
           }
          ],
          "scatterpolar": [
           {
            "marker": {
             "colorbar": {
              "outlinewidth": 0,
              "ticks": ""
             }
            },
            "type": "scatterpolar"
           }
          ],
          "scatterpolargl": [
           {
            "marker": {
             "colorbar": {
              "outlinewidth": 0,
              "ticks": ""
             }
            },
            "type": "scatterpolargl"
           }
          ],
          "scatterternary": [
           {
            "marker": {
             "colorbar": {
              "outlinewidth": 0,
              "ticks": ""
             }
            },
            "type": "scatterternary"
           }
          ],
          "surface": [
           {
            "colorbar": {
             "outlinewidth": 0,
             "ticks": ""
            },
            "colorscale": [
             [
              0,
              "#0d0887"
             ],
             [
              0.1111111111111111,
              "#46039f"
             ],
             [
              0.2222222222222222,
              "#7201a8"
             ],
             [
              0.3333333333333333,
              "#9c179e"
             ],
             [
              0.4444444444444444,
              "#bd3786"
             ],
             [
              0.5555555555555556,
              "#d8576b"
             ],
             [
              0.6666666666666666,
              "#ed7953"
             ],
             [
              0.7777777777777778,
              "#fb9f3a"
             ],
             [
              0.8888888888888888,
              "#fdca26"
             ],
             [
              1,
              "#f0f921"
             ]
            ],
            "type": "surface"
           }
          ],
          "table": [
           {
            "cells": {
             "fill": {
              "color": "#EBF0F8"
             },
             "line": {
              "color": "white"
             }
            },
            "header": {
             "fill": {
              "color": "#C8D4E3"
             },
             "line": {
              "color": "white"
             }
            },
            "type": "table"
           }
          ]
         },
         "layout": {
          "annotationdefaults": {
           "arrowcolor": "#2a3f5f",
           "arrowhead": 0,
           "arrowwidth": 1
          },
          "autotypenumbers": "strict",
          "coloraxis": {
           "colorbar": {
            "outlinewidth": 0,
            "ticks": ""
           }
          },
          "colorscale": {
           "diverging": [
            [
             0,
             "#8e0152"
            ],
            [
             0.1,
             "#c51b7d"
            ],
            [
             0.2,
             "#de77ae"
            ],
            [
             0.3,
             "#f1b6da"
            ],
            [
             0.4,
             "#fde0ef"
            ],
            [
             0.5,
             "#f7f7f7"
            ],
            [
             0.6,
             "#e6f5d0"
            ],
            [
             0.7,
             "#b8e186"
            ],
            [
             0.8,
             "#7fbc41"
            ],
            [
             0.9,
             "#4d9221"
            ],
            [
             1,
             "#276419"
            ]
           ],
           "sequential": [
            [
             0,
             "#0d0887"
            ],
            [
             0.1111111111111111,
             "#46039f"
            ],
            [
             0.2222222222222222,
             "#7201a8"
            ],
            [
             0.3333333333333333,
             "#9c179e"
            ],
            [
             0.4444444444444444,
             "#bd3786"
            ],
            [
             0.5555555555555556,
             "#d8576b"
            ],
            [
             0.6666666666666666,
             "#ed7953"
            ],
            [
             0.7777777777777778,
             "#fb9f3a"
            ],
            [
             0.8888888888888888,
             "#fdca26"
            ],
            [
             1,
             "#f0f921"
            ]
           ],
           "sequentialminus": [
            [
             0,
             "#0d0887"
            ],
            [
             0.1111111111111111,
             "#46039f"
            ],
            [
             0.2222222222222222,
             "#7201a8"
            ],
            [
             0.3333333333333333,
             "#9c179e"
            ],
            [
             0.4444444444444444,
             "#bd3786"
            ],
            [
             0.5555555555555556,
             "#d8576b"
            ],
            [
             0.6666666666666666,
             "#ed7953"
            ],
            [
             0.7777777777777778,
             "#fb9f3a"
            ],
            [
             0.8888888888888888,
             "#fdca26"
            ],
            [
             1,
             "#f0f921"
            ]
           ]
          },
          "colorway": [
           "#636efa",
           "#EF553B",
           "#00cc96",
           "#ab63fa",
           "#FFA15A",
           "#19d3f3",
           "#FF6692",
           "#B6E880",
           "#FF97FF",
           "#FECB52"
          ],
          "font": {
           "color": "#2a3f5f"
          },
          "geo": {
           "bgcolor": "white",
           "lakecolor": "white",
           "landcolor": "#E5ECF6",
           "showlakes": true,
           "showland": true,
           "subunitcolor": "white"
          },
          "hoverlabel": {
           "align": "left"
          },
          "hovermode": "closest",
          "mapbox": {
           "style": "light"
          },
          "paper_bgcolor": "white",
          "plot_bgcolor": "#E5ECF6",
          "polar": {
           "angularaxis": {
            "gridcolor": "white",
            "linecolor": "white",
            "ticks": ""
           },
           "bgcolor": "#E5ECF6",
           "radialaxis": {
            "gridcolor": "white",
            "linecolor": "white",
            "ticks": ""
           }
          },
          "scene": {
           "xaxis": {
            "backgroundcolor": "#E5ECF6",
            "gridcolor": "white",
            "gridwidth": 2,
            "linecolor": "white",
            "showbackground": true,
            "ticks": "",
            "zerolinecolor": "white"
           },
           "yaxis": {
            "backgroundcolor": "#E5ECF6",
            "gridcolor": "white",
            "gridwidth": 2,
            "linecolor": "white",
            "showbackground": true,
            "ticks": "",
            "zerolinecolor": "white"
           },
           "zaxis": {
            "backgroundcolor": "#E5ECF6",
            "gridcolor": "white",
            "gridwidth": 2,
            "linecolor": "white",
            "showbackground": true,
            "ticks": "",
            "zerolinecolor": "white"
           }
          },
          "shapedefaults": {
           "line": {
            "color": "#2a3f5f"
           }
          },
          "ternary": {
           "aaxis": {
            "gridcolor": "white",
            "linecolor": "white",
            "ticks": ""
           },
           "baxis": {
            "gridcolor": "white",
            "linecolor": "white",
            "ticks": ""
           },
           "bgcolor": "#E5ECF6",
           "caxis": {
            "gridcolor": "white",
            "linecolor": "white",
            "ticks": ""
           }
          },
          "title": {
           "x": 0.05
          },
          "xaxis": {
           "automargin": true,
           "gridcolor": "white",
           "linecolor": "white",
           "ticks": "",
           "title": {
            "standoff": 15
           },
           "zerolinecolor": "white",
           "zerolinewidth": 2
          },
          "yaxis": {
           "automargin": true,
           "gridcolor": "white",
           "linecolor": "white",
           "ticks": "",
           "title": {
            "standoff": 15
           },
           "zerolinecolor": "white",
           "zerolinewidth": 2
          }
         }
        },
        "title": {
         "font": {
          "color": "black",
          "size": 24
         },
         "text": "Vendas de vinho nos Top 5 países que mais consomem<br><sup size=1 style=\"color:#555655\">De 2007 a 2021</sup>"
        },
        "width": 1000,
        "xaxis": {
         "anchor": "y",
         "domain": [
          0,
          1
         ],
         "tickmode": "array",
         "tickvals": [
          2007,
          2009,
          2011,
          2013,
          2015,
          2017,
          2019,
          2021
         ],
         "title": {
          "text": ""
         }
        },
        "yaxis": {
         "anchor": "x",
         "domain": [
          0,
          1
         ],
         "tickprefix": "U$ ",
         "ticksuffix": " Mi",
         "title": {
          "text": ""
         }
        }
       }
      }
     },
     "metadata": {},
     "output_type": "display_data"
    }
   ],
   "source": [
    "# Importando a biblioteca\n",
    "import plotly.express as px\n",
    "\n",
    "fig = px.line(vendas_por_ano_paises, x=vendas_por_ano_paises.index, y=vendas_por_ano_paises.columns, markers = True)\n",
    "\n",
    "# Ajustando o layout do gráfico\n",
    "fig.update_layout(width=1000, height=600, font_family = 'DejaVu Sans', font_size=15,\n",
    "                  font_color= \"grey\", title_font_color= \"black\", title_font_size=24,\n",
    "                  title_text='Vendas de vinho nos Top 5 países que mais consomem' +\n",
    "                             '<br><sup size=1 style=\"color:#555655\">De 2007 a 2021</sup>',\n",
    "                  xaxis_title='', yaxis_title='', plot_bgcolor= \"#f8f9fa\")\n",
    "\n",
    "# Ajustando os ticks do eixo y para o formato em milhões\n",
    "fig.update_yaxes(tickprefix=\"U$ \", ticksuffix=\" Mi\")\n",
    "\n",
    "fig.update_xaxes(tickmode='array', tickvals=np.arange(2007,2022,2))\n",
    "\n",
    "fig.show()"
   ]
  },
  {
   "attachments": {},
   "cell_type": "markdown",
   "metadata": {},
   "source": [
    "## Quantidade de vinho de mesa vendido por continente em litros de 2007 a 2021"
   ]
  },
  {
   "cell_type": "code",
   "execution_count": 103,
   "metadata": {},
   "outputs": [
    {
     "data": {
      "text/html": [
       "<div>\n",
       "<style scoped>\n",
       "    .dataframe tbody tr th:only-of-type {\n",
       "        vertical-align: middle;\n",
       "    }\n",
       "\n",
       "    .dataframe tbody tr th {\n",
       "        vertical-align: top;\n",
       "    }\n",
       "\n",
       "    .dataframe thead th {\n",
       "        text-align: right;\n",
       "    }\n",
       "</style>\n",
       "<table border=\"1\" class=\"dataframe\">\n",
       "  <thead>\n",
       "    <tr style=\"text-align: right;\">\n",
       "      <th></th>\n",
       "      <th>Id</th>\n",
       "      <th>País</th>\n",
       "      <th>1970</th>\n",
       "      <th>1970.1</th>\n",
       "      <th>1971</th>\n",
       "      <th>1971.1</th>\n",
       "      <th>1972</th>\n",
       "      <th>1972.1</th>\n",
       "      <th>1973</th>\n",
       "      <th>1973.1</th>\n",
       "      <th>...</th>\n",
       "      <th>2017</th>\n",
       "      <th>2017.1</th>\n",
       "      <th>2018</th>\n",
       "      <th>2018.1</th>\n",
       "      <th>2019</th>\n",
       "      <th>2019.1</th>\n",
       "      <th>2020</th>\n",
       "      <th>2020.1</th>\n",
       "      <th>2021</th>\n",
       "      <th>2021.1</th>\n",
       "    </tr>\n",
       "  </thead>\n",
       "  <tbody>\n",
       "    <tr>\n",
       "      <th>0</th>\n",
       "      <td>1</td>\n",
       "      <td>Afeganistão</td>\n",
       "      <td>0</td>\n",
       "      <td>0</td>\n",
       "      <td>0</td>\n",
       "      <td>0</td>\n",
       "      <td>0</td>\n",
       "      <td>0</td>\n",
       "      <td>0</td>\n",
       "      <td>0</td>\n",
       "      <td>...</td>\n",
       "      <td>0</td>\n",
       "      <td>0</td>\n",
       "      <td>0</td>\n",
       "      <td>0</td>\n",
       "      <td>0</td>\n",
       "      <td>0</td>\n",
       "      <td>0</td>\n",
       "      <td>0</td>\n",
       "      <td>11</td>\n",
       "      <td>46</td>\n",
       "    </tr>\n",
       "    <tr>\n",
       "      <th>1</th>\n",
       "      <td>2</td>\n",
       "      <td>África do Sul</td>\n",
       "      <td>0</td>\n",
       "      <td>0</td>\n",
       "      <td>0</td>\n",
       "      <td>0</td>\n",
       "      <td>0</td>\n",
       "      <td>0</td>\n",
       "      <td>0</td>\n",
       "      <td>0</td>\n",
       "      <td>...</td>\n",
       "      <td>0</td>\n",
       "      <td>0</td>\n",
       "      <td>0</td>\n",
       "      <td>0</td>\n",
       "      <td>26</td>\n",
       "      <td>95</td>\n",
       "      <td>4</td>\n",
       "      <td>21</td>\n",
       "      <td>0</td>\n",
       "      <td>0</td>\n",
       "    </tr>\n",
       "    <tr>\n",
       "      <th>2</th>\n",
       "      <td>3</td>\n",
       "      <td>Alemanha, República Democrática</td>\n",
       "      <td>0</td>\n",
       "      <td>0</td>\n",
       "      <td>0</td>\n",
       "      <td>0</td>\n",
       "      <td>4168</td>\n",
       "      <td>2630</td>\n",
       "      <td>12000</td>\n",
       "      <td>8250</td>\n",
       "      <td>...</td>\n",
       "      <td>15467</td>\n",
       "      <td>87702</td>\n",
       "      <td>10794</td>\n",
       "      <td>45382</td>\n",
       "      <td>3660</td>\n",
       "      <td>25467</td>\n",
       "      <td>6261</td>\n",
       "      <td>32605</td>\n",
       "      <td>2698</td>\n",
       "      <td>6741</td>\n",
       "    </tr>\n",
       "  </tbody>\n",
       "</table>\n",
       "<p>3 rows × 106 columns</p>\n",
       "</div>"
      ],
      "text/plain": [
       "   Id                             País  1970  1970.1  1971  1971.1  1972  \\\n",
       "0   1                      Afeganistão     0       0     0       0     0   \n",
       "1   2                    África do Sul     0       0     0       0     0   \n",
       "2   3  Alemanha, República Democrática     0       0     0       0  4168   \n",
       "\n",
       "   1972.1   1973  1973.1  ...   2017  2017.1   2018  2018.1  2019  2019.1  \\\n",
       "0       0      0       0  ...      0       0      0       0     0       0   \n",
       "1       0      0       0  ...      0       0      0       0    26      95   \n",
       "2    2630  12000    8250  ...  15467   87702  10794   45382  3660   25467   \n",
       "\n",
       "   2020  2020.1  2021  2021.1  \n",
       "0     0       0    11      46  \n",
       "1     4      21     0       0  \n",
       "2  6261   32605  2698    6741  \n",
       "\n",
       "[3 rows x 106 columns]"
      ]
     },
     "execution_count": 103,
     "metadata": {},
     "output_type": "execute_result"
    }
   ],
   "source": [
    "dados.head(3)"
   ]
  },
  {
   "cell_type": "code",
   "execution_count": 104,
   "metadata": {},
   "outputs": [
    {
     "data": {
      "text/html": [
       "<div>\n",
       "<style scoped>\n",
       "    .dataframe tbody tr th:only-of-type {\n",
       "        vertical-align: middle;\n",
       "    }\n",
       "\n",
       "    .dataframe tbody tr th {\n",
       "        vertical-align: top;\n",
       "    }\n",
       "\n",
       "    .dataframe thead th {\n",
       "        text-align: right;\n",
       "    }\n",
       "</style>\n",
       "<table border=\"1\" class=\"dataframe\">\n",
       "  <thead>\n",
       "    <tr style=\"text-align: right;\">\n",
       "      <th></th>\n",
       "      <th>País</th>\n",
       "      <th>2007</th>\n",
       "      <th>2008</th>\n",
       "      <th>2009</th>\n",
       "      <th>2010</th>\n",
       "      <th>2011</th>\n",
       "      <th>2012</th>\n",
       "      <th>2013</th>\n",
       "      <th>2014</th>\n",
       "      <th>2015</th>\n",
       "      <th>2016</th>\n",
       "      <th>2017</th>\n",
       "      <th>2018</th>\n",
       "      <th>2019</th>\n",
       "      <th>2020</th>\n",
       "      <th>2021</th>\n",
       "      <th>Total</th>\n",
       "    </tr>\n",
       "  </thead>\n",
       "  <tbody>\n",
       "    <tr>\n",
       "      <th>0</th>\n",
       "      <td>Afeganistão</td>\n",
       "      <td>0</td>\n",
       "      <td>0</td>\n",
       "      <td>0</td>\n",
       "      <td>0</td>\n",
       "      <td>0</td>\n",
       "      <td>0</td>\n",
       "      <td>0</td>\n",
       "      <td>0</td>\n",
       "      <td>0</td>\n",
       "      <td>0</td>\n",
       "      <td>0</td>\n",
       "      <td>0</td>\n",
       "      <td>0</td>\n",
       "      <td>0</td>\n",
       "      <td>11</td>\n",
       "      <td>11</td>\n",
       "    </tr>\n",
       "    <tr>\n",
       "      <th>1</th>\n",
       "      <td>África do Sul</td>\n",
       "      <td>0</td>\n",
       "      <td>0</td>\n",
       "      <td>0</td>\n",
       "      <td>0</td>\n",
       "      <td>0</td>\n",
       "      <td>0</td>\n",
       "      <td>0</td>\n",
       "      <td>0</td>\n",
       "      <td>0</td>\n",
       "      <td>0</td>\n",
       "      <td>0</td>\n",
       "      <td>0</td>\n",
       "      <td>26</td>\n",
       "      <td>4</td>\n",
       "      <td>0</td>\n",
       "      <td>30</td>\n",
       "    </tr>\n",
       "    <tr>\n",
       "      <th>2</th>\n",
       "      <td>Alemanha, República Democrática</td>\n",
       "      <td>119512</td>\n",
       "      <td>265742</td>\n",
       "      <td>225086</td>\n",
       "      <td>27715</td>\n",
       "      <td>36070</td>\n",
       "      <td>8189</td>\n",
       "      <td>61699</td>\n",
       "      <td>213348</td>\n",
       "      <td>10680</td>\n",
       "      <td>14012</td>\n",
       "      <td>15467</td>\n",
       "      <td>10794</td>\n",
       "      <td>3660</td>\n",
       "      <td>6261</td>\n",
       "      <td>2698</td>\n",
       "      <td>1020933</td>\n",
       "    </tr>\n",
       "    <tr>\n",
       "      <th>3</th>\n",
       "      <td>Angola</td>\n",
       "      <td>25931</td>\n",
       "      <td>25721</td>\n",
       "      <td>54786</td>\n",
       "      <td>33557</td>\n",
       "      <td>13889</td>\n",
       "      <td>2833</td>\n",
       "      <td>1573</td>\n",
       "      <td>12182</td>\n",
       "      <td>1908</td>\n",
       "      <td>7359</td>\n",
       "      <td>10170</td>\n",
       "      <td>477</td>\n",
       "      <td>345</td>\n",
       "      <td>0</td>\n",
       "      <td>0</td>\n",
       "      <td>190731</td>\n",
       "    </tr>\n",
       "    <tr>\n",
       "      <th>4</th>\n",
       "      <td>Anguilla</td>\n",
       "      <td>0</td>\n",
       "      <td>0</td>\n",
       "      <td>0</td>\n",
       "      <td>0</td>\n",
       "      <td>0</td>\n",
       "      <td>0</td>\n",
       "      <td>0</td>\n",
       "      <td>0</td>\n",
       "      <td>0</td>\n",
       "      <td>0</td>\n",
       "      <td>0</td>\n",
       "      <td>0</td>\n",
       "      <td>0</td>\n",
       "      <td>0</td>\n",
       "      <td>0</td>\n",
       "      <td>0</td>\n",
       "    </tr>\n",
       "  </tbody>\n",
       "</table>\n",
       "</div>"
      ],
      "text/plain": [
       "                              País    2007    2008    2009   2010   2011  \\\n",
       "0                      Afeganistão       0       0       0      0      0   \n",
       "1                    África do Sul       0       0       0      0      0   \n",
       "2  Alemanha, República Democrática  119512  265742  225086  27715  36070   \n",
       "3                           Angola   25931   25721   54786  33557  13889   \n",
       "4                         Anguilla       0       0       0      0      0   \n",
       "\n",
       "   2012   2013    2014   2015   2016   2017   2018  2019  2020  2021    Total  \n",
       "0     0      0       0      0      0      0      0     0     0    11       11  \n",
       "1     0      0       0      0      0      0      0    26     4     0       30  \n",
       "2  8189  61699  213348  10680  14012  15467  10794  3660  6261  2698  1020933  \n",
       "3  2833   1573   12182   1908   7359  10170    477   345     0     0   190731  \n",
       "4     0      0       0      0      0      0      0     0     0     0        0  "
      ]
     },
     "execution_count": 104,
     "metadata": {},
     "output_type": "execute_result"
    }
   ],
   "source": [
    "col_pais = dados[[\"País\"]]\n",
    "dados_15anos = dados[dados.columns[-30:]]\n",
    "dados_qtd = dados_15anos[dados_15anos.columns[::2]]\n",
    "dados_qtd = col_pais.join(dados_qtd)\n",
    "dados_qtd[\"Total\"] = dados_qtd.iloc[:,1:].sum(axis = 1)\n",
    "dados_qtd.head()"
   ]
  },
  {
   "cell_type": "code",
   "execution_count": 105,
   "metadata": {},
   "outputs": [
    {
     "data": {
      "text/html": [
       "<div>\n",
       "<style scoped>\n",
       "    .dataframe tbody tr th:only-of-type {\n",
       "        vertical-align: middle;\n",
       "    }\n",
       "\n",
       "    .dataframe tbody tr th {\n",
       "        vertical-align: top;\n",
       "    }\n",
       "\n",
       "    .dataframe thead th {\n",
       "        text-align: right;\n",
       "    }\n",
       "</style>\n",
       "<table border=\"1\" class=\"dataframe\">\n",
       "  <thead>\n",
       "    <tr style=\"text-align: right;\">\n",
       "      <th></th>\n",
       "      <th>País</th>\n",
       "      <th>2007</th>\n",
       "      <th>2008</th>\n",
       "      <th>2009</th>\n",
       "      <th>2010</th>\n",
       "      <th>2011</th>\n",
       "      <th>2012</th>\n",
       "      <th>2013</th>\n",
       "      <th>2014</th>\n",
       "      <th>2015</th>\n",
       "      <th>2016</th>\n",
       "      <th>2017</th>\n",
       "      <th>2018</th>\n",
       "      <th>2019</th>\n",
       "      <th>2020</th>\n",
       "      <th>2021</th>\n",
       "      <th>Total</th>\n",
       "    </tr>\n",
       "  </thead>\n",
       "  <tbody>\n",
       "    <tr>\n",
       "      <th>0</th>\n",
       "      <td>Afeganistão</td>\n",
       "      <td>0</td>\n",
       "      <td>0</td>\n",
       "      <td>0</td>\n",
       "      <td>0</td>\n",
       "      <td>0</td>\n",
       "      <td>0</td>\n",
       "      <td>0</td>\n",
       "      <td>0</td>\n",
       "      <td>0</td>\n",
       "      <td>0</td>\n",
       "      <td>0</td>\n",
       "      <td>0</td>\n",
       "      <td>0</td>\n",
       "      <td>0</td>\n",
       "      <td>11</td>\n",
       "      <td>11</td>\n",
       "    </tr>\n",
       "    <tr>\n",
       "      <th>1</th>\n",
       "      <td>África do Sul</td>\n",
       "      <td>0</td>\n",
       "      <td>0</td>\n",
       "      <td>0</td>\n",
       "      <td>0</td>\n",
       "      <td>0</td>\n",
       "      <td>0</td>\n",
       "      <td>0</td>\n",
       "      <td>0</td>\n",
       "      <td>0</td>\n",
       "      <td>0</td>\n",
       "      <td>0</td>\n",
       "      <td>0</td>\n",
       "      <td>26</td>\n",
       "      <td>4</td>\n",
       "      <td>0</td>\n",
       "      <td>30</td>\n",
       "    </tr>\n",
       "    <tr>\n",
       "      <th>2</th>\n",
       "      <td>Alemanha</td>\n",
       "      <td>119512</td>\n",
       "      <td>265742</td>\n",
       "      <td>225086</td>\n",
       "      <td>27715</td>\n",
       "      <td>36070</td>\n",
       "      <td>8189</td>\n",
       "      <td>61699</td>\n",
       "      <td>213348</td>\n",
       "      <td>10680</td>\n",
       "      <td>14012</td>\n",
       "      <td>15467</td>\n",
       "      <td>10794</td>\n",
       "      <td>3660</td>\n",
       "      <td>6261</td>\n",
       "      <td>2698</td>\n",
       "      <td>1020933</td>\n",
       "    </tr>\n",
       "    <tr>\n",
       "      <th>3</th>\n",
       "      <td>Angola</td>\n",
       "      <td>25931</td>\n",
       "      <td>25721</td>\n",
       "      <td>54786</td>\n",
       "      <td>33557</td>\n",
       "      <td>13889</td>\n",
       "      <td>2833</td>\n",
       "      <td>1573</td>\n",
       "      <td>12182</td>\n",
       "      <td>1908</td>\n",
       "      <td>7359</td>\n",
       "      <td>10170</td>\n",
       "      <td>477</td>\n",
       "      <td>345</td>\n",
       "      <td>0</td>\n",
       "      <td>0</td>\n",
       "      <td>190731</td>\n",
       "    </tr>\n",
       "    <tr>\n",
       "      <th>4</th>\n",
       "      <td>Anguilla</td>\n",
       "      <td>0</td>\n",
       "      <td>0</td>\n",
       "      <td>0</td>\n",
       "      <td>0</td>\n",
       "      <td>0</td>\n",
       "      <td>0</td>\n",
       "      <td>0</td>\n",
       "      <td>0</td>\n",
       "      <td>0</td>\n",
       "      <td>0</td>\n",
       "      <td>0</td>\n",
       "      <td>0</td>\n",
       "      <td>0</td>\n",
       "      <td>0</td>\n",
       "      <td>0</td>\n",
       "      <td>0</td>\n",
       "    </tr>\n",
       "  </tbody>\n",
       "</table>\n",
       "</div>"
      ],
      "text/plain": [
       "            País    2007    2008    2009   2010   2011  2012   2013    2014  \\\n",
       "0    Afeganistão       0       0       0      0      0     0      0       0   \n",
       "1  África do Sul       0       0       0      0      0     0      0       0   \n",
       "2       Alemanha  119512  265742  225086  27715  36070  8189  61699  213348   \n",
       "3         Angola   25931   25721   54786  33557  13889  2833   1573   12182   \n",
       "4       Anguilla       0       0       0      0      0     0      0       0   \n",
       "\n",
       "    2015   2016   2017   2018  2019  2020  2021    Total  \n",
       "0      0      0      0      0     0     0    11       11  \n",
       "1      0      0      0      0    26     4     0       30  \n",
       "2  10680  14012  15467  10794  3660  6261  2698  1020933  \n",
       "3   1908   7359  10170    477   345     0     0   190731  \n",
       "4      0      0      0      0     0     0     0        0  "
      ]
     },
     "execution_count": 105,
     "metadata": {},
     "output_type": "execute_result"
    }
   ],
   "source": [
    "dados_qtd.loc[dados_qtd[\"País\"] == \"Alemanha, República Democrática\", \"País\"] = \"Alemanha\"\n",
    "dados_qtd.loc[dados_qtd[\"País\"] == \"Coreia, Republica Sul\", \"País\"] = \"Coreia do Sul\"\n",
    "dados_qtd.loc[dados_qtd[\"País\"] == \"Eslovaca, Republica\", \"País\"] = \"Eslováquia\"\n",
    "dados_qtd.loc[dados_qtd[\"País\"] == \"Taiwan (FORMOSA)\", \"País\"] = \"Taiwan\"\n",
    "dados_qtd.loc[dados_qtd[\"País\"] == \"Tcheca, República\", \"País\"] = \"Chéquia\"\n",
    "dados_qtd.head()"
   ]
  },
  {
   "cell_type": "code",
   "execution_count": 106,
   "metadata": {},
   "outputs": [
    {
     "data": {
      "text/html": [
       "<div>\n",
       "<style scoped>\n",
       "    .dataframe tbody tr th:only-of-type {\n",
       "        vertical-align: middle;\n",
       "    }\n",
       "\n",
       "    .dataframe tbody tr th {\n",
       "        vertical-align: top;\n",
       "    }\n",
       "\n",
       "    .dataframe thead th {\n",
       "        text-align: right;\n",
       "    }\n",
       "</style>\n",
       "<table border=\"1\" class=\"dataframe\">\n",
       "  <thead>\n",
       "    <tr style=\"text-align: right;\">\n",
       "      <th></th>\n",
       "      <th>País</th>\n",
       "      <th>2007</th>\n",
       "      <th>2008</th>\n",
       "      <th>2009</th>\n",
       "      <th>2010</th>\n",
       "      <th>2011</th>\n",
       "      <th>2012</th>\n",
       "      <th>2013</th>\n",
       "      <th>2014</th>\n",
       "      <th>2015</th>\n",
       "      <th>2016</th>\n",
       "      <th>2017</th>\n",
       "      <th>2018</th>\n",
       "      <th>2019</th>\n",
       "      <th>2020</th>\n",
       "      <th>2021</th>\n",
       "      <th>Total</th>\n",
       "      <th>Continente</th>\n",
       "    </tr>\n",
       "  </thead>\n",
       "  <tbody>\n",
       "    <tr>\n",
       "      <th>0</th>\n",
       "      <td>Afeganistão</td>\n",
       "      <td>0</td>\n",
       "      <td>0</td>\n",
       "      <td>0</td>\n",
       "      <td>0</td>\n",
       "      <td>0</td>\n",
       "      <td>0</td>\n",
       "      <td>0</td>\n",
       "      <td>0</td>\n",
       "      <td>0</td>\n",
       "      <td>0</td>\n",
       "      <td>0</td>\n",
       "      <td>0</td>\n",
       "      <td>0</td>\n",
       "      <td>0</td>\n",
       "      <td>11</td>\n",
       "      <td>11</td>\n",
       "      <td>Ásia</td>\n",
       "    </tr>\n",
       "    <tr>\n",
       "      <th>1</th>\n",
       "      <td>África do Sul</td>\n",
       "      <td>0</td>\n",
       "      <td>0</td>\n",
       "      <td>0</td>\n",
       "      <td>0</td>\n",
       "      <td>0</td>\n",
       "      <td>0</td>\n",
       "      <td>0</td>\n",
       "      <td>0</td>\n",
       "      <td>0</td>\n",
       "      <td>0</td>\n",
       "      <td>0</td>\n",
       "      <td>0</td>\n",
       "      <td>26</td>\n",
       "      <td>4</td>\n",
       "      <td>0</td>\n",
       "      <td>30</td>\n",
       "      <td>África</td>\n",
       "    </tr>\n",
       "    <tr>\n",
       "      <th>2</th>\n",
       "      <td>Alemanha</td>\n",
       "      <td>119512</td>\n",
       "      <td>265742</td>\n",
       "      <td>225086</td>\n",
       "      <td>27715</td>\n",
       "      <td>36070</td>\n",
       "      <td>8189</td>\n",
       "      <td>61699</td>\n",
       "      <td>213348</td>\n",
       "      <td>10680</td>\n",
       "      <td>14012</td>\n",
       "      <td>15467</td>\n",
       "      <td>10794</td>\n",
       "      <td>3660</td>\n",
       "      <td>6261</td>\n",
       "      <td>2698</td>\n",
       "      <td>1020933</td>\n",
       "      <td>Europa</td>\n",
       "    </tr>\n",
       "    <tr>\n",
       "      <th>3</th>\n",
       "      <td>Angola</td>\n",
       "      <td>25931</td>\n",
       "      <td>25721</td>\n",
       "      <td>54786</td>\n",
       "      <td>33557</td>\n",
       "      <td>13889</td>\n",
       "      <td>2833</td>\n",
       "      <td>1573</td>\n",
       "      <td>12182</td>\n",
       "      <td>1908</td>\n",
       "      <td>7359</td>\n",
       "      <td>10170</td>\n",
       "      <td>477</td>\n",
       "      <td>345</td>\n",
       "      <td>0</td>\n",
       "      <td>0</td>\n",
       "      <td>190731</td>\n",
       "      <td>África</td>\n",
       "    </tr>\n",
       "    <tr>\n",
       "      <th>4</th>\n",
       "      <td>Antígua e Barbuda</td>\n",
       "      <td>0</td>\n",
       "      <td>0</td>\n",
       "      <td>0</td>\n",
       "      <td>0</td>\n",
       "      <td>0</td>\n",
       "      <td>0</td>\n",
       "      <td>0</td>\n",
       "      <td>0</td>\n",
       "      <td>0</td>\n",
       "      <td>0</td>\n",
       "      <td>0</td>\n",
       "      <td>37</td>\n",
       "      <td>219</td>\n",
       "      <td>624</td>\n",
       "      <td>805</td>\n",
       "      <td>1685</td>\n",
       "      <td>América</td>\n",
       "    </tr>\n",
       "  </tbody>\n",
       "</table>\n",
       "</div>"
      ],
      "text/plain": [
       "                País    2007    2008    2009   2010   2011  2012   2013  \\\n",
       "0        Afeganistão       0       0       0      0      0     0      0   \n",
       "1      África do Sul       0       0       0      0      0     0      0   \n",
       "2           Alemanha  119512  265742  225086  27715  36070  8189  61699   \n",
       "3             Angola   25931   25721   54786  33557  13889  2833   1573   \n",
       "4  Antígua e Barbuda       0       0       0      0      0     0      0   \n",
       "\n",
       "     2014   2015   2016   2017   2018  2019  2020  2021    Total Continente  \n",
       "0       0      0      0      0      0     0     0    11       11       Ásia  \n",
       "1       0      0      0      0      0    26     4     0       30     África  \n",
       "2  213348  10680  14012  15467  10794  3660  6261  2698  1020933     Europa  \n",
       "3   12182   1908   7359  10170    477   345     0     0   190731     África  \n",
       "4       0      0      0      0     37   219   624   805     1685    América  "
      ]
     },
     "execution_count": 106,
     "metadata": {},
     "output_type": "execute_result"
    }
   ],
   "source": [
    "dados_qtd_combinado = dados_qtd.merge(dados_pais_continente[[\"País\",\"Continente\"]],on = \"País\")\n",
    "dados_qtd_combinado.head()"
   ]
  },
  {
   "cell_type": "code",
   "execution_count": 107,
   "metadata": {},
   "outputs": [
    {
     "data": {
      "text/html": [
       "<div>\n",
       "<style scoped>\n",
       "    .dataframe tbody tr th:only-of-type {\n",
       "        vertical-align: middle;\n",
       "    }\n",
       "\n",
       "    .dataframe tbody tr th {\n",
       "        vertical-align: top;\n",
       "    }\n",
       "\n",
       "    .dataframe thead th {\n",
       "        text-align: right;\n",
       "    }\n",
       "</style>\n",
       "<table border=\"1\" class=\"dataframe\">\n",
       "  <thead>\n",
       "    <tr style=\"text-align: right;\">\n",
       "      <th></th>\n",
       "      <th>Continente</th>\n",
       "      <th>Ano</th>\n",
       "      <th>Vendas_Litros</th>\n",
       "    </tr>\n",
       "  </thead>\n",
       "  <tbody>\n",
       "    <tr>\n",
       "      <th>0</th>\n",
       "      <td>Ásia</td>\n",
       "      <td>2007</td>\n",
       "      <td>0</td>\n",
       "    </tr>\n",
       "    <tr>\n",
       "      <th>1</th>\n",
       "      <td>África</td>\n",
       "      <td>2007</td>\n",
       "      <td>0</td>\n",
       "    </tr>\n",
       "    <tr>\n",
       "      <th>2</th>\n",
       "      <td>Europa</td>\n",
       "      <td>2007</td>\n",
       "      <td>119512</td>\n",
       "    </tr>\n",
       "    <tr>\n",
       "      <th>3</th>\n",
       "      <td>África</td>\n",
       "      <td>2007</td>\n",
       "      <td>25931</td>\n",
       "    </tr>\n",
       "    <tr>\n",
       "      <th>4</th>\n",
       "      <td>América</td>\n",
       "      <td>2007</td>\n",
       "      <td>0</td>\n",
       "    </tr>\n",
       "  </tbody>\n",
       "</table>\n",
       "</div>"
      ],
      "text/plain": [
       "  Continente   Ano  Vendas_Litros\n",
       "0       Ásia  2007              0\n",
       "1     África  2007              0\n",
       "2     Europa  2007         119512\n",
       "3     África  2007          25931\n",
       "4    América  2007              0"
      ]
     },
     "execution_count": 107,
     "metadata": {},
     "output_type": "execute_result"
    }
   ],
   "source": [
    "dados_qtd_anual = dados_qtd_combinado.melt(id_vars = \"Continente\", value_vars=dados_qtd_combinado.columns[1:16], var_name=\"Ano\", value_name=\"Vendas_Litros\")\n",
    "dados_qtd_anual.head()"
   ]
  },
  {
   "cell_type": "code",
   "execution_count": 108,
   "metadata": {},
   "outputs": [
    {
     "data": {
      "text/html": [
       "<div>\n",
       "<style scoped>\n",
       "    .dataframe tbody tr th:only-of-type {\n",
       "        vertical-align: middle;\n",
       "    }\n",
       "\n",
       "    .dataframe tbody tr th {\n",
       "        vertical-align: top;\n",
       "    }\n",
       "\n",
       "    .dataframe thead th {\n",
       "        text-align: right;\n",
       "    }\n",
       "</style>\n",
       "<table border=\"1\" class=\"dataframe\">\n",
       "  <thead>\n",
       "    <tr style=\"text-align: right;\">\n",
       "      <th>Continente</th>\n",
       "      <th>América</th>\n",
       "      <th>Europa</th>\n",
       "      <th>Oceania</th>\n",
       "      <th>África</th>\n",
       "      <th>Ásia</th>\n",
       "    </tr>\n",
       "    <tr>\n",
       "      <th>Ano</th>\n",
       "      <th></th>\n",
       "      <th></th>\n",
       "      <th></th>\n",
       "      <th></th>\n",
       "      <th></th>\n",
       "    </tr>\n",
       "  </thead>\n",
       "  <tbody>\n",
       "    <tr>\n",
       "      <th>2007</th>\n",
       "      <td>1867448</td>\n",
       "      <td>901901</td>\n",
       "      <td>60</td>\n",
       "      <td>25942</td>\n",
       "      <td>373809</td>\n",
       "    </tr>\n",
       "    <tr>\n",
       "      <th>2008</th>\n",
       "      <td>2663022</td>\n",
       "      <td>7093754</td>\n",
       "      <td>218726</td>\n",
       "      <td>56609</td>\n",
       "      <td>256962</td>\n",
       "    </tr>\n",
       "    <tr>\n",
       "      <th>2009</th>\n",
       "      <td>925453</td>\n",
       "      <td>22685787</td>\n",
       "      <td>1014</td>\n",
       "      <td>54827</td>\n",
       "      <td>1821709</td>\n",
       "    </tr>\n",
       "    <tr>\n",
       "      <th>2010</th>\n",
       "      <td>749419</td>\n",
       "      <td>312891</td>\n",
       "      <td>1823</td>\n",
       "      <td>45548</td>\n",
       "      <td>112973</td>\n",
       "    </tr>\n",
       "    <tr>\n",
       "      <th>2011</th>\n",
       "      <td>616560</td>\n",
       "      <td>392094</td>\n",
       "      <td>6219</td>\n",
       "      <td>14903</td>\n",
       "      <td>161554</td>\n",
       "    </tr>\n",
       "  </tbody>\n",
       "</table>\n",
       "</div>"
      ],
      "text/plain": [
       "Continente  América    Europa  Oceania  África     Ásia\n",
       "Ano                                                    \n",
       "2007        1867448    901901       60   25942   373809\n",
       "2008        2663022   7093754   218726   56609   256962\n",
       "2009         925453  22685787     1014   54827  1821709\n",
       "2010         749419    312891     1823   45548   112973\n",
       "2011         616560    392094     6219   14903   161554"
      ]
     },
     "execution_count": 108,
     "metadata": {},
     "output_type": "execute_result"
    }
   ],
   "source": [
    "# Criando uma tabela cruzada (crosstab) com os valores de venda por ano por continente\n",
    "vendas_por_ano_qtd = pd.crosstab(index = dados_qtd_anual.Ano, columns = dados_qtd_anual.Continente, \n",
    "                             values = dados_qtd_anual.Vendas_Litros, aggfunc=\"sum\")\n",
    "\n",
    "# vendas_por_ano_qtd = vendas_por_ano_qtd / 1e6\n",
    "\n",
    "vendas_por_ano_qtd.head()"
   ]
  },
  {
   "cell_type": "code",
   "execution_count": 109,
   "metadata": {},
   "outputs": [
    {
     "data": {
      "application/vnd.plotly.v1+json": {
       "config": {
        "plotlyServerURL": "https://plot.ly"
       },
       "data": [
        {
         "hovertemplate": "Continente=América<br>Ano=%{x}<br>value=%{y}<extra></extra>",
         "legendgroup": "América",
         "line": {
          "color": "#636efa",
          "dash": "solid"
         },
         "marker": {
          "symbol": "circle"
         },
         "mode": "lines+markers",
         "name": "América",
         "orientation": "v",
         "showlegend": true,
         "type": "scatter",
         "x": [
          "2007",
          "2008",
          "2009",
          "2010",
          "2011",
          "2012",
          "2013",
          "2014",
          "2015",
          "2016",
          "2017",
          "2018",
          "2019",
          "2020",
          "2021"
         ],
         "xaxis": "x",
         "y": [
          1867448,
          2663022,
          925453,
          749419,
          616560,
          540104,
          775323,
          852981,
          824963,
          1335749,
          2609551,
          3565215,
          2743793,
          4052442,
          7548405
         ],
         "yaxis": "y"
        },
        {
         "hovertemplate": "Continente=Europa<br>Ano=%{x}<br>value=%{y}<extra></extra>",
         "legendgroup": "Europa",
         "line": {
          "color": "#EF553B",
          "dash": "solid"
         },
         "marker": {
          "symbol": "circle"
         },
         "mode": "lines+markers",
         "name": "Europa",
         "orientation": "v",
         "showlegend": true,
         "type": "scatter",
         "x": [
          "2007",
          "2008",
          "2009",
          "2010",
          "2011",
          "2012",
          "2013",
          "2014",
          "2015",
          "2016",
          "2017",
          "2018",
          "2019",
          "2020",
          "2021"
         ],
         "xaxis": "x",
         "y": [
          901901,
          7093754,
          22685787,
          312891,
          392094,
          5057924,
          8171762,
          1206820,
          255532,
          208518,
          111822,
          138453,
          137207,
          72158,
          235882
         ],
         "yaxis": "y"
        },
        {
         "hovertemplate": "Continente=Oceania<br>Ano=%{x}<br>value=%{y}<extra></extra>",
         "legendgroup": "Oceania",
         "line": {
          "color": "#00cc96",
          "dash": "solid"
         },
         "marker": {
          "symbol": "circle"
         },
         "mode": "lines+markers",
         "name": "Oceania",
         "orientation": "v",
         "showlegend": true,
         "type": "scatter",
         "x": [
          "2007",
          "2008",
          "2009",
          "2010",
          "2011",
          "2012",
          "2013",
          "2014",
          "2015",
          "2016",
          "2017",
          "2018",
          "2019",
          "2020",
          "2021"
         ],
         "xaxis": "x",
         "y": [
          60,
          218726,
          1014,
          1823,
          6219,
          11709,
          17711,
          9108,
          8246,
          2458,
          3028,
          3024,
          1661,
          1128,
          8589
         ],
         "yaxis": "y"
        },
        {
         "hovertemplate": "Continente=África<br>Ano=%{x}<br>value=%{y}<extra></extra>",
         "legendgroup": "África",
         "line": {
          "color": "#ab63fa",
          "dash": "solid"
         },
         "marker": {
          "symbol": "circle"
         },
         "mode": "lines+markers",
         "name": "África",
         "orientation": "v",
         "showlegend": true,
         "type": "scatter",
         "x": [
          "2007",
          "2008",
          "2009",
          "2010",
          "2011",
          "2012",
          "2013",
          "2014",
          "2015",
          "2016",
          "2017",
          "2018",
          "2019",
          "2020",
          "2021"
         ],
         "xaxis": "x",
         "y": [
          25942,
          56609,
          54827,
          45548,
          14903,
          9282,
          2923,
          12182,
          1908,
          7359,
          11919,
          17512,
          40940,
          45312,
          96819
         ],
         "yaxis": "y"
        },
        {
         "hovertemplate": "Continente=Ásia<br>Ano=%{x}<br>value=%{y}<extra></extra>",
         "legendgroup": "Ásia",
         "line": {
          "color": "#FFA15A",
          "dash": "solid"
         },
         "marker": {
          "symbol": "circle"
         },
         "mode": "lines+markers",
         "name": "Ásia",
         "orientation": "v",
         "showlegend": true,
         "type": "scatter",
         "x": [
          "2007",
          "2008",
          "2009",
          "2010",
          "2011",
          "2012",
          "2013",
          "2014",
          "2015",
          "2016",
          "2017",
          "2018",
          "2019",
          "2020",
          "2021"
         ],
         "xaxis": "x",
         "y": [
          373809,
          256962,
          1821709,
          112973,
          161554,
          118795,
          148930,
          201115,
          87635,
          192397,
          131763,
          87548,
          181905,
          178692,
          126212
         ],
         "yaxis": "y"
        }
       ],
       "layout": {
        "font": {
         "color": "grey",
         "family": "DejaVu Sans",
         "size": 15
        },
        "height": 600,
        "legend": {
         "title": {
          "text": "Continente"
         },
         "tracegroupgap": 0
        },
        "margin": {
         "t": 60
        },
        "plot_bgcolor": "#f8f9fa",
        "template": {
         "data": {
          "bar": [
           {
            "error_x": {
             "color": "#2a3f5f"
            },
            "error_y": {
             "color": "#2a3f5f"
            },
            "marker": {
             "line": {
              "color": "#E5ECF6",
              "width": 0.5
             },
             "pattern": {
              "fillmode": "overlay",
              "size": 10,
              "solidity": 0.2
             }
            },
            "type": "bar"
           }
          ],
          "barpolar": [
           {
            "marker": {
             "line": {
              "color": "#E5ECF6",
              "width": 0.5
             },
             "pattern": {
              "fillmode": "overlay",
              "size": 10,
              "solidity": 0.2
             }
            },
            "type": "barpolar"
           }
          ],
          "carpet": [
           {
            "aaxis": {
             "endlinecolor": "#2a3f5f",
             "gridcolor": "white",
             "linecolor": "white",
             "minorgridcolor": "white",
             "startlinecolor": "#2a3f5f"
            },
            "baxis": {
             "endlinecolor": "#2a3f5f",
             "gridcolor": "white",
             "linecolor": "white",
             "minorgridcolor": "white",
             "startlinecolor": "#2a3f5f"
            },
            "type": "carpet"
           }
          ],
          "choropleth": [
           {
            "colorbar": {
             "outlinewidth": 0,
             "ticks": ""
            },
            "type": "choropleth"
           }
          ],
          "contour": [
           {
            "colorbar": {
             "outlinewidth": 0,
             "ticks": ""
            },
            "colorscale": [
             [
              0,
              "#0d0887"
             ],
             [
              0.1111111111111111,
              "#46039f"
             ],
             [
              0.2222222222222222,
              "#7201a8"
             ],
             [
              0.3333333333333333,
              "#9c179e"
             ],
             [
              0.4444444444444444,
              "#bd3786"
             ],
             [
              0.5555555555555556,
              "#d8576b"
             ],
             [
              0.6666666666666666,
              "#ed7953"
             ],
             [
              0.7777777777777778,
              "#fb9f3a"
             ],
             [
              0.8888888888888888,
              "#fdca26"
             ],
             [
              1,
              "#f0f921"
             ]
            ],
            "type": "contour"
           }
          ],
          "contourcarpet": [
           {
            "colorbar": {
             "outlinewidth": 0,
             "ticks": ""
            },
            "type": "contourcarpet"
           }
          ],
          "heatmap": [
           {
            "colorbar": {
             "outlinewidth": 0,
             "ticks": ""
            },
            "colorscale": [
             [
              0,
              "#0d0887"
             ],
             [
              0.1111111111111111,
              "#46039f"
             ],
             [
              0.2222222222222222,
              "#7201a8"
             ],
             [
              0.3333333333333333,
              "#9c179e"
             ],
             [
              0.4444444444444444,
              "#bd3786"
             ],
             [
              0.5555555555555556,
              "#d8576b"
             ],
             [
              0.6666666666666666,
              "#ed7953"
             ],
             [
              0.7777777777777778,
              "#fb9f3a"
             ],
             [
              0.8888888888888888,
              "#fdca26"
             ],
             [
              1,
              "#f0f921"
             ]
            ],
            "type": "heatmap"
           }
          ],
          "heatmapgl": [
           {
            "colorbar": {
             "outlinewidth": 0,
             "ticks": ""
            },
            "colorscale": [
             [
              0,
              "#0d0887"
             ],
             [
              0.1111111111111111,
              "#46039f"
             ],
             [
              0.2222222222222222,
              "#7201a8"
             ],
             [
              0.3333333333333333,
              "#9c179e"
             ],
             [
              0.4444444444444444,
              "#bd3786"
             ],
             [
              0.5555555555555556,
              "#d8576b"
             ],
             [
              0.6666666666666666,
              "#ed7953"
             ],
             [
              0.7777777777777778,
              "#fb9f3a"
             ],
             [
              0.8888888888888888,
              "#fdca26"
             ],
             [
              1,
              "#f0f921"
             ]
            ],
            "type": "heatmapgl"
           }
          ],
          "histogram": [
           {
            "marker": {
             "pattern": {
              "fillmode": "overlay",
              "size": 10,
              "solidity": 0.2
             }
            },
            "type": "histogram"
           }
          ],
          "histogram2d": [
           {
            "colorbar": {
             "outlinewidth": 0,
             "ticks": ""
            },
            "colorscale": [
             [
              0,
              "#0d0887"
             ],
             [
              0.1111111111111111,
              "#46039f"
             ],
             [
              0.2222222222222222,
              "#7201a8"
             ],
             [
              0.3333333333333333,
              "#9c179e"
             ],
             [
              0.4444444444444444,
              "#bd3786"
             ],
             [
              0.5555555555555556,
              "#d8576b"
             ],
             [
              0.6666666666666666,
              "#ed7953"
             ],
             [
              0.7777777777777778,
              "#fb9f3a"
             ],
             [
              0.8888888888888888,
              "#fdca26"
             ],
             [
              1,
              "#f0f921"
             ]
            ],
            "type": "histogram2d"
           }
          ],
          "histogram2dcontour": [
           {
            "colorbar": {
             "outlinewidth": 0,
             "ticks": ""
            },
            "colorscale": [
             [
              0,
              "#0d0887"
             ],
             [
              0.1111111111111111,
              "#46039f"
             ],
             [
              0.2222222222222222,
              "#7201a8"
             ],
             [
              0.3333333333333333,
              "#9c179e"
             ],
             [
              0.4444444444444444,
              "#bd3786"
             ],
             [
              0.5555555555555556,
              "#d8576b"
             ],
             [
              0.6666666666666666,
              "#ed7953"
             ],
             [
              0.7777777777777778,
              "#fb9f3a"
             ],
             [
              0.8888888888888888,
              "#fdca26"
             ],
             [
              1,
              "#f0f921"
             ]
            ],
            "type": "histogram2dcontour"
           }
          ],
          "mesh3d": [
           {
            "colorbar": {
             "outlinewidth": 0,
             "ticks": ""
            },
            "type": "mesh3d"
           }
          ],
          "parcoords": [
           {
            "line": {
             "colorbar": {
              "outlinewidth": 0,
              "ticks": ""
             }
            },
            "type": "parcoords"
           }
          ],
          "pie": [
           {
            "automargin": true,
            "type": "pie"
           }
          ],
          "scatter": [
           {
            "fillpattern": {
             "fillmode": "overlay",
             "size": 10,
             "solidity": 0.2
            },
            "type": "scatter"
           }
          ],
          "scatter3d": [
           {
            "line": {
             "colorbar": {
              "outlinewidth": 0,
              "ticks": ""
             }
            },
            "marker": {
             "colorbar": {
              "outlinewidth": 0,
              "ticks": ""
             }
            },
            "type": "scatter3d"
           }
          ],
          "scattercarpet": [
           {
            "marker": {
             "colorbar": {
              "outlinewidth": 0,
              "ticks": ""
             }
            },
            "type": "scattercarpet"
           }
          ],
          "scattergeo": [
           {
            "marker": {
             "colorbar": {
              "outlinewidth": 0,
              "ticks": ""
             }
            },
            "type": "scattergeo"
           }
          ],
          "scattergl": [
           {
            "marker": {
             "colorbar": {
              "outlinewidth": 0,
              "ticks": ""
             }
            },
            "type": "scattergl"
           }
          ],
          "scattermapbox": [
           {
            "marker": {
             "colorbar": {
              "outlinewidth": 0,
              "ticks": ""
             }
            },
            "type": "scattermapbox"
           }
          ],
          "scatterpolar": [
           {
            "marker": {
             "colorbar": {
              "outlinewidth": 0,
              "ticks": ""
             }
            },
            "type": "scatterpolar"
           }
          ],
          "scatterpolargl": [
           {
            "marker": {
             "colorbar": {
              "outlinewidth": 0,
              "ticks": ""
             }
            },
            "type": "scatterpolargl"
           }
          ],
          "scatterternary": [
           {
            "marker": {
             "colorbar": {
              "outlinewidth": 0,
              "ticks": ""
             }
            },
            "type": "scatterternary"
           }
          ],
          "surface": [
           {
            "colorbar": {
             "outlinewidth": 0,
             "ticks": ""
            },
            "colorscale": [
             [
              0,
              "#0d0887"
             ],
             [
              0.1111111111111111,
              "#46039f"
             ],
             [
              0.2222222222222222,
              "#7201a8"
             ],
             [
              0.3333333333333333,
              "#9c179e"
             ],
             [
              0.4444444444444444,
              "#bd3786"
             ],
             [
              0.5555555555555556,
              "#d8576b"
             ],
             [
              0.6666666666666666,
              "#ed7953"
             ],
             [
              0.7777777777777778,
              "#fb9f3a"
             ],
             [
              0.8888888888888888,
              "#fdca26"
             ],
             [
              1,
              "#f0f921"
             ]
            ],
            "type": "surface"
           }
          ],
          "table": [
           {
            "cells": {
             "fill": {
              "color": "#EBF0F8"
             },
             "line": {
              "color": "white"
             }
            },
            "header": {
             "fill": {
              "color": "#C8D4E3"
             },
             "line": {
              "color": "white"
             }
            },
            "type": "table"
           }
          ]
         },
         "layout": {
          "annotationdefaults": {
           "arrowcolor": "#2a3f5f",
           "arrowhead": 0,
           "arrowwidth": 1
          },
          "autotypenumbers": "strict",
          "coloraxis": {
           "colorbar": {
            "outlinewidth": 0,
            "ticks": ""
           }
          },
          "colorscale": {
           "diverging": [
            [
             0,
             "#8e0152"
            ],
            [
             0.1,
             "#c51b7d"
            ],
            [
             0.2,
             "#de77ae"
            ],
            [
             0.3,
             "#f1b6da"
            ],
            [
             0.4,
             "#fde0ef"
            ],
            [
             0.5,
             "#f7f7f7"
            ],
            [
             0.6,
             "#e6f5d0"
            ],
            [
             0.7,
             "#b8e186"
            ],
            [
             0.8,
             "#7fbc41"
            ],
            [
             0.9,
             "#4d9221"
            ],
            [
             1,
             "#276419"
            ]
           ],
           "sequential": [
            [
             0,
             "#0d0887"
            ],
            [
             0.1111111111111111,
             "#46039f"
            ],
            [
             0.2222222222222222,
             "#7201a8"
            ],
            [
             0.3333333333333333,
             "#9c179e"
            ],
            [
             0.4444444444444444,
             "#bd3786"
            ],
            [
             0.5555555555555556,
             "#d8576b"
            ],
            [
             0.6666666666666666,
             "#ed7953"
            ],
            [
             0.7777777777777778,
             "#fb9f3a"
            ],
            [
             0.8888888888888888,
             "#fdca26"
            ],
            [
             1,
             "#f0f921"
            ]
           ],
           "sequentialminus": [
            [
             0,
             "#0d0887"
            ],
            [
             0.1111111111111111,
             "#46039f"
            ],
            [
             0.2222222222222222,
             "#7201a8"
            ],
            [
             0.3333333333333333,
             "#9c179e"
            ],
            [
             0.4444444444444444,
             "#bd3786"
            ],
            [
             0.5555555555555556,
             "#d8576b"
            ],
            [
             0.6666666666666666,
             "#ed7953"
            ],
            [
             0.7777777777777778,
             "#fb9f3a"
            ],
            [
             0.8888888888888888,
             "#fdca26"
            ],
            [
             1,
             "#f0f921"
            ]
           ]
          },
          "colorway": [
           "#636efa",
           "#EF553B",
           "#00cc96",
           "#ab63fa",
           "#FFA15A",
           "#19d3f3",
           "#FF6692",
           "#B6E880",
           "#FF97FF",
           "#FECB52"
          ],
          "font": {
           "color": "#2a3f5f"
          },
          "geo": {
           "bgcolor": "white",
           "lakecolor": "white",
           "landcolor": "#E5ECF6",
           "showlakes": true,
           "showland": true,
           "subunitcolor": "white"
          },
          "hoverlabel": {
           "align": "left"
          },
          "hovermode": "closest",
          "mapbox": {
           "style": "light"
          },
          "paper_bgcolor": "white",
          "plot_bgcolor": "#E5ECF6",
          "polar": {
           "angularaxis": {
            "gridcolor": "white",
            "linecolor": "white",
            "ticks": ""
           },
           "bgcolor": "#E5ECF6",
           "radialaxis": {
            "gridcolor": "white",
            "linecolor": "white",
            "ticks": ""
           }
          },
          "scene": {
           "xaxis": {
            "backgroundcolor": "#E5ECF6",
            "gridcolor": "white",
            "gridwidth": 2,
            "linecolor": "white",
            "showbackground": true,
            "ticks": "",
            "zerolinecolor": "white"
           },
           "yaxis": {
            "backgroundcolor": "#E5ECF6",
            "gridcolor": "white",
            "gridwidth": 2,
            "linecolor": "white",
            "showbackground": true,
            "ticks": "",
            "zerolinecolor": "white"
           },
           "zaxis": {
            "backgroundcolor": "#E5ECF6",
            "gridcolor": "white",
            "gridwidth": 2,
            "linecolor": "white",
            "showbackground": true,
            "ticks": "",
            "zerolinecolor": "white"
           }
          },
          "shapedefaults": {
           "line": {
            "color": "#2a3f5f"
           }
          },
          "ternary": {
           "aaxis": {
            "gridcolor": "white",
            "linecolor": "white",
            "ticks": ""
           },
           "baxis": {
            "gridcolor": "white",
            "linecolor": "white",
            "ticks": ""
           },
           "bgcolor": "#E5ECF6",
           "caxis": {
            "gridcolor": "white",
            "linecolor": "white",
            "ticks": ""
           }
          },
          "title": {
           "x": 0.05
          },
          "xaxis": {
           "automargin": true,
           "gridcolor": "white",
           "linecolor": "white",
           "ticks": "",
           "title": {
            "standoff": 15
           },
           "zerolinecolor": "white",
           "zerolinewidth": 2
          },
          "yaxis": {
           "automargin": true,
           "gridcolor": "white",
           "linecolor": "white",
           "ticks": "",
           "title": {
            "standoff": 15
           },
           "zerolinecolor": "white",
           "zerolinewidth": 2
          }
         }
        },
        "title": {
         "font": {
          "color": "black",
          "size": 24
         },
         "text": "Quantidade de vinho de mesa exportado por continente em litros<br><sup size=1 style=\"color:#555655\">De 2007 a 2021</sup>"
        },
        "width": 1000,
        "xaxis": {
         "anchor": "y",
         "domain": [
          0,
          1
         ],
         "tickmode": "array",
         "tickvals": [
          2007,
          2009,
          2011,
          2013,
          2015,
          2017,
          2019,
          2021
         ],
         "title": {
          "text": ""
         }
        },
        "yaxis": {
         "anchor": "x",
         "domain": [
          0,
          1
         ],
         "ticksuffix": " Litros",
         "title": {
          "text": ""
         }
        }
       }
      }
     },
     "metadata": {},
     "output_type": "display_data"
    }
   ],
   "source": [
    "# Importando a biblioteca\n",
    "import plotly.express as px\n",
    "\n",
    "fig = px.line(vendas_por_ano_qtd, x=vendas_por_ano_qtd.index, y=vendas_por_ano_qtd.columns, markers = True)\n",
    "\n",
    "# Ajustando o layout do gráfico\n",
    "fig.update_layout(width=1000, height=600, font_family = 'DejaVu Sans', font_size=15,\n",
    "                  font_color= \"grey\", title_font_color= \"black\", title_font_size=24,\n",
    "                  title_text='Quantidade de vinho de mesa exportado por continente em litros' +\n",
    "                             '<br><sup size=1 style=\"color:#555655\">De 2007 a 2021</sup>',\n",
    "                  xaxis_title='', yaxis_title='', plot_bgcolor= \"#f8f9fa\")\n",
    "\n",
    "#Ajustando os ticks do eixo y para litros\n",
    "fig.update_yaxes(ticksuffix=\" Litros\")\n",
    "\n",
    "fig.update_xaxes(tickmode='array', tickvals=np.arange(2007,2022,2))\n",
    "\n",
    "fig.show()"
   ]
  },
  {
   "attachments": {},
   "cell_type": "markdown",
   "metadata": {},
   "source": [
    "## Quantidade de vinho de mesa vendido por país em litros de 2007 a 2021"
   ]
  },
  {
   "cell_type": "code",
   "execution_count": 110,
   "metadata": {},
   "outputs": [
    {
     "data": {
      "text/html": [
       "<div>\n",
       "<style scoped>\n",
       "    .dataframe tbody tr th:only-of-type {\n",
       "        vertical-align: middle;\n",
       "    }\n",
       "\n",
       "    .dataframe tbody tr th {\n",
       "        vertical-align: top;\n",
       "    }\n",
       "\n",
       "    .dataframe thead th {\n",
       "        text-align: right;\n",
       "    }\n",
       "</style>\n",
       "<table border=\"1\" class=\"dataframe\">\n",
       "  <thead>\n",
       "    <tr style=\"text-align: right;\">\n",
       "      <th></th>\n",
       "      <th>País</th>\n",
       "      <th>2007</th>\n",
       "      <th>2008</th>\n",
       "      <th>2009</th>\n",
       "      <th>2010</th>\n",
       "      <th>2011</th>\n",
       "      <th>2012</th>\n",
       "      <th>2013</th>\n",
       "      <th>2014</th>\n",
       "      <th>2015</th>\n",
       "      <th>2016</th>\n",
       "      <th>2017</th>\n",
       "      <th>2018</th>\n",
       "      <th>2019</th>\n",
       "      <th>2020</th>\n",
       "      <th>2021</th>\n",
       "      <th>Total</th>\n",
       "      <th>Continente</th>\n",
       "    </tr>\n",
       "  </thead>\n",
       "  <tbody>\n",
       "    <tr>\n",
       "      <th>0</th>\n",
       "      <td>Afeganistão</td>\n",
       "      <td>0</td>\n",
       "      <td>0</td>\n",
       "      <td>0</td>\n",
       "      <td>0</td>\n",
       "      <td>0</td>\n",
       "      <td>0</td>\n",
       "      <td>0</td>\n",
       "      <td>0</td>\n",
       "      <td>0</td>\n",
       "      <td>0</td>\n",
       "      <td>0</td>\n",
       "      <td>0</td>\n",
       "      <td>0</td>\n",
       "      <td>0</td>\n",
       "      <td>11</td>\n",
       "      <td>11</td>\n",
       "      <td>Ásia</td>\n",
       "    </tr>\n",
       "    <tr>\n",
       "      <th>1</th>\n",
       "      <td>África do Sul</td>\n",
       "      <td>0</td>\n",
       "      <td>0</td>\n",
       "      <td>0</td>\n",
       "      <td>0</td>\n",
       "      <td>0</td>\n",
       "      <td>0</td>\n",
       "      <td>0</td>\n",
       "      <td>0</td>\n",
       "      <td>0</td>\n",
       "      <td>0</td>\n",
       "      <td>0</td>\n",
       "      <td>0</td>\n",
       "      <td>26</td>\n",
       "      <td>4</td>\n",
       "      <td>0</td>\n",
       "      <td>30</td>\n",
       "      <td>África</td>\n",
       "    </tr>\n",
       "    <tr>\n",
       "      <th>2</th>\n",
       "      <td>Alemanha</td>\n",
       "      <td>119512</td>\n",
       "      <td>265742</td>\n",
       "      <td>225086</td>\n",
       "      <td>27715</td>\n",
       "      <td>36070</td>\n",
       "      <td>8189</td>\n",
       "      <td>61699</td>\n",
       "      <td>213348</td>\n",
       "      <td>10680</td>\n",
       "      <td>14012</td>\n",
       "      <td>15467</td>\n",
       "      <td>10794</td>\n",
       "      <td>3660</td>\n",
       "      <td>6261</td>\n",
       "      <td>2698</td>\n",
       "      <td>1020933</td>\n",
       "      <td>Europa</td>\n",
       "    </tr>\n",
       "  </tbody>\n",
       "</table>\n",
       "</div>"
      ],
      "text/plain": [
       "            País    2007    2008    2009   2010   2011  2012   2013    2014  \\\n",
       "0    Afeganistão       0       0       0      0      0     0      0       0   \n",
       "1  África do Sul       0       0       0      0      0     0      0       0   \n",
       "2       Alemanha  119512  265742  225086  27715  36070  8189  61699  213348   \n",
       "\n",
       "    2015   2016   2017   2018  2019  2020  2021    Total Continente  \n",
       "0      0      0      0      0     0     0    11       11       Ásia  \n",
       "1      0      0      0      0    26     4     0       30     África  \n",
       "2  10680  14012  15467  10794  3660  6261  2698  1020933     Europa  "
      ]
     },
     "execution_count": 110,
     "metadata": {},
     "output_type": "execute_result"
    }
   ],
   "source": [
    "dados_qtd_combinado.head(3)"
   ]
  },
  {
   "cell_type": "code",
   "execution_count": 111,
   "metadata": {},
   "outputs": [
    {
     "data": {
      "text/html": [
       "<div>\n",
       "<style scoped>\n",
       "    .dataframe tbody tr th:only-of-type {\n",
       "        vertical-align: middle;\n",
       "    }\n",
       "\n",
       "    .dataframe tbody tr th {\n",
       "        vertical-align: top;\n",
       "    }\n",
       "\n",
       "    .dataframe thead th {\n",
       "        text-align: right;\n",
       "    }\n",
       "</style>\n",
       "<table border=\"1\" class=\"dataframe\">\n",
       "  <thead>\n",
       "    <tr style=\"text-align: right;\">\n",
       "      <th></th>\n",
       "      <th>País</th>\n",
       "      <th>2007</th>\n",
       "      <th>2008</th>\n",
       "      <th>2009</th>\n",
       "      <th>2010</th>\n",
       "      <th>2011</th>\n",
       "      <th>2012</th>\n",
       "      <th>2013</th>\n",
       "      <th>2014</th>\n",
       "      <th>2015</th>\n",
       "      <th>2016</th>\n",
       "      <th>2017</th>\n",
       "      <th>2018</th>\n",
       "      <th>2019</th>\n",
       "      <th>2020</th>\n",
       "      <th>2021</th>\n",
       "      <th>Total</th>\n",
       "      <th>Continente</th>\n",
       "    </tr>\n",
       "  </thead>\n",
       "  <tbody>\n",
       "    <tr>\n",
       "      <th>76</th>\n",
       "      <td>Rússia</td>\n",
       "      <td>266400</td>\n",
       "      <td>6207658</td>\n",
       "      <td>21912914</td>\n",
       "      <td>0</td>\n",
       "      <td>0</td>\n",
       "      <td>4528176</td>\n",
       "      <td>5893291</td>\n",
       "      <td>190656</td>\n",
       "      <td>47664</td>\n",
       "      <td>0</td>\n",
       "      <td>0</td>\n",
       "      <td>0</td>\n",
       "      <td>0</td>\n",
       "      <td>1463</td>\n",
       "      <td>181931</td>\n",
       "      <td>39230153</td>\n",
       "      <td>Europa</td>\n",
       "    </tr>\n",
       "    <tr>\n",
       "      <th>70</th>\n",
       "      <td>Paraguai</td>\n",
       "      <td>1285459</td>\n",
       "      <td>2191901</td>\n",
       "      <td>486927</td>\n",
       "      <td>510989</td>\n",
       "      <td>240168</td>\n",
       "      <td>354824</td>\n",
       "      <td>481564</td>\n",
       "      <td>521847</td>\n",
       "      <td>495428</td>\n",
       "      <td>985739</td>\n",
       "      <td>2393468</td>\n",
       "      <td>3234168</td>\n",
       "      <td>2419537</td>\n",
       "      <td>3299013</td>\n",
       "      <td>6522527</td>\n",
       "      <td>25423559</td>\n",
       "      <td>América</td>\n",
       "    </tr>\n",
       "    <tr>\n",
       "      <th>36</th>\n",
       "      <td>Estados Unidos</td>\n",
       "      <td>479269</td>\n",
       "      <td>443895</td>\n",
       "      <td>372319</td>\n",
       "      <td>228968</td>\n",
       "      <td>306787</td>\n",
       "      <td>146585</td>\n",
       "      <td>245368</td>\n",
       "      <td>222267</td>\n",
       "      <td>195896</td>\n",
       "      <td>258072</td>\n",
       "      <td>132688</td>\n",
       "      <td>169109</td>\n",
       "      <td>209765</td>\n",
       "      <td>300178</td>\n",
       "      <td>111085</td>\n",
       "      <td>3822251</td>\n",
       "      <td>América</td>\n",
       "    </tr>\n",
       "    <tr>\n",
       "      <th>21</th>\n",
       "      <td>China</td>\n",
       "      <td>7638</td>\n",
       "      <td>8689</td>\n",
       "      <td>1553416</td>\n",
       "      <td>795</td>\n",
       "      <td>54156</td>\n",
       "      <td>87905</td>\n",
       "      <td>40929</td>\n",
       "      <td>64040</td>\n",
       "      <td>47609</td>\n",
       "      <td>134106</td>\n",
       "      <td>67594</td>\n",
       "      <td>30835</td>\n",
       "      <td>129852</td>\n",
       "      <td>122253</td>\n",
       "      <td>61884</td>\n",
       "      <td>2411701</td>\n",
       "      <td>Ásia</td>\n",
       "    </tr>\n",
       "    <tr>\n",
       "      <th>35</th>\n",
       "      <td>Espanha</td>\n",
       "      <td>0</td>\n",
       "      <td>2942</td>\n",
       "      <td>2181</td>\n",
       "      <td>0</td>\n",
       "      <td>5206</td>\n",
       "      <td>0</td>\n",
       "      <td>1972980</td>\n",
       "      <td>0</td>\n",
       "      <td>0</td>\n",
       "      <td>0</td>\n",
       "      <td>0</td>\n",
       "      <td>6123</td>\n",
       "      <td>3540</td>\n",
       "      <td>28</td>\n",
       "      <td>0</td>\n",
       "      <td>1993000</td>\n",
       "      <td>Europa</td>\n",
       "    </tr>\n",
       "  </tbody>\n",
       "</table>\n",
       "</div>"
      ],
      "text/plain": [
       "              País     2007     2008      2009    2010    2011     2012  \\\n",
       "76          Rússia   266400  6207658  21912914       0       0  4528176   \n",
       "70        Paraguai  1285459  2191901    486927  510989  240168   354824   \n",
       "36  Estados Unidos   479269   443895    372319  228968  306787   146585   \n",
       "21           China     7638     8689   1553416     795   54156    87905   \n",
       "35         Espanha        0     2942      2181       0    5206        0   \n",
       "\n",
       "       2013    2014    2015    2016     2017     2018     2019     2020  \\\n",
       "76  5893291  190656   47664       0        0        0        0     1463   \n",
       "70   481564  521847  495428  985739  2393468  3234168  2419537  3299013   \n",
       "36   245368  222267  195896  258072   132688   169109   209765   300178   \n",
       "21    40929   64040   47609  134106    67594    30835   129852   122253   \n",
       "35  1972980       0       0       0        0     6123     3540       28   \n",
       "\n",
       "       2021     Total Continente  \n",
       "76   181931  39230153     Europa  \n",
       "70  6522527  25423559    América  \n",
       "36   111085   3822251    América  \n",
       "21    61884   2411701       Ásia  \n",
       "35        0   1993000     Europa  "
      ]
     },
     "execution_count": 111,
     "metadata": {},
     "output_type": "execute_result"
    }
   ],
   "source": [
    "dados_qtd_anual_paises = dados_qtd_combinado.copy()\n",
    "dados_qtd_anual_paises = dados_qtd_anual_paises.sort_values(\"Total\", axis= 0 , ascending= False)\n",
    "dados_qtd_anual_paises = dados_qtd_anual_paises[:5]\n",
    "dados_qtd_anual_paises"
   ]
  },
  {
   "cell_type": "code",
   "execution_count": 112,
   "metadata": {},
   "outputs": [
    {
     "data": {
      "text/html": [
       "<div>\n",
       "<style scoped>\n",
       "    .dataframe tbody tr th:only-of-type {\n",
       "        vertical-align: middle;\n",
       "    }\n",
       "\n",
       "    .dataframe tbody tr th {\n",
       "        vertical-align: top;\n",
       "    }\n",
       "\n",
       "    .dataframe thead th {\n",
       "        text-align: right;\n",
       "    }\n",
       "</style>\n",
       "<table border=\"1\" class=\"dataframe\">\n",
       "  <thead>\n",
       "    <tr style=\"text-align: right;\">\n",
       "      <th></th>\n",
       "      <th>País</th>\n",
       "      <th>Ano</th>\n",
       "      <th>Vendas_Litros</th>\n",
       "    </tr>\n",
       "  </thead>\n",
       "  <tbody>\n",
       "    <tr>\n",
       "      <th>0</th>\n",
       "      <td>Rússia</td>\n",
       "      <td>2007</td>\n",
       "      <td>266400</td>\n",
       "    </tr>\n",
       "    <tr>\n",
       "      <th>1</th>\n",
       "      <td>Paraguai</td>\n",
       "      <td>2007</td>\n",
       "      <td>1285459</td>\n",
       "    </tr>\n",
       "    <tr>\n",
       "      <th>2</th>\n",
       "      <td>Estados Unidos</td>\n",
       "      <td>2007</td>\n",
       "      <td>479269</td>\n",
       "    </tr>\n",
       "    <tr>\n",
       "      <th>3</th>\n",
       "      <td>China</td>\n",
       "      <td>2007</td>\n",
       "      <td>7638</td>\n",
       "    </tr>\n",
       "    <tr>\n",
       "      <th>4</th>\n",
       "      <td>Espanha</td>\n",
       "      <td>2007</td>\n",
       "      <td>0</td>\n",
       "    </tr>\n",
       "  </tbody>\n",
       "</table>\n",
       "</div>"
      ],
      "text/plain": [
       "             País   Ano  Vendas_Litros\n",
       "0          Rússia  2007         266400\n",
       "1        Paraguai  2007        1285459\n",
       "2  Estados Unidos  2007         479269\n",
       "3           China  2007           7638\n",
       "4         Espanha  2007              0"
      ]
     },
     "execution_count": 112,
     "metadata": {},
     "output_type": "execute_result"
    }
   ],
   "source": [
    "dados_qtd_anual_paises = dados_qtd_anual_paises.melt(id_vars = \"País\", value_vars=dados_qtd_combinado.columns[1:16], var_name=\"Ano\", value_name=\"Vendas_Litros\")\n",
    "dados_qtd_anual_paises.head()"
   ]
  },
  {
   "cell_type": "code",
   "execution_count": 113,
   "metadata": {},
   "outputs": [
    {
     "data": {
      "text/html": [
       "<div>\n",
       "<style scoped>\n",
       "    .dataframe tbody tr th:only-of-type {\n",
       "        vertical-align: middle;\n",
       "    }\n",
       "\n",
       "    .dataframe tbody tr th {\n",
       "        vertical-align: top;\n",
       "    }\n",
       "\n",
       "    .dataframe thead th {\n",
       "        text-align: right;\n",
       "    }\n",
       "</style>\n",
       "<table border=\"1\" class=\"dataframe\">\n",
       "  <thead>\n",
       "    <tr style=\"text-align: right;\">\n",
       "      <th>País</th>\n",
       "      <th>China</th>\n",
       "      <th>Espanha</th>\n",
       "      <th>Estados Unidos</th>\n",
       "      <th>Paraguai</th>\n",
       "      <th>Rússia</th>\n",
       "    </tr>\n",
       "    <tr>\n",
       "      <th>Ano</th>\n",
       "      <th></th>\n",
       "      <th></th>\n",
       "      <th></th>\n",
       "      <th></th>\n",
       "      <th></th>\n",
       "    </tr>\n",
       "  </thead>\n",
       "  <tbody>\n",
       "    <tr>\n",
       "      <th>2007</th>\n",
       "      <td>7638</td>\n",
       "      <td>0</td>\n",
       "      <td>479269</td>\n",
       "      <td>1285459</td>\n",
       "      <td>266400</td>\n",
       "    </tr>\n",
       "    <tr>\n",
       "      <th>2008</th>\n",
       "      <td>8689</td>\n",
       "      <td>2942</td>\n",
       "      <td>443895</td>\n",
       "      <td>2191901</td>\n",
       "      <td>6207658</td>\n",
       "    </tr>\n",
       "    <tr>\n",
       "      <th>2009</th>\n",
       "      <td>1553416</td>\n",
       "      <td>2181</td>\n",
       "      <td>372319</td>\n",
       "      <td>486927</td>\n",
       "      <td>21912914</td>\n",
       "    </tr>\n",
       "    <tr>\n",
       "      <th>2010</th>\n",
       "      <td>795</td>\n",
       "      <td>0</td>\n",
       "      <td>228968</td>\n",
       "      <td>510989</td>\n",
       "      <td>0</td>\n",
       "    </tr>\n",
       "    <tr>\n",
       "      <th>2011</th>\n",
       "      <td>54156</td>\n",
       "      <td>5206</td>\n",
       "      <td>306787</td>\n",
       "      <td>240168</td>\n",
       "      <td>0</td>\n",
       "    </tr>\n",
       "    <tr>\n",
       "      <th>2012</th>\n",
       "      <td>87905</td>\n",
       "      <td>0</td>\n",
       "      <td>146585</td>\n",
       "      <td>354824</td>\n",
       "      <td>4528176</td>\n",
       "    </tr>\n",
       "    <tr>\n",
       "      <th>2013</th>\n",
       "      <td>40929</td>\n",
       "      <td>1972980</td>\n",
       "      <td>245368</td>\n",
       "      <td>481564</td>\n",
       "      <td>5893291</td>\n",
       "    </tr>\n",
       "    <tr>\n",
       "      <th>2014</th>\n",
       "      <td>64040</td>\n",
       "      <td>0</td>\n",
       "      <td>222267</td>\n",
       "      <td>521847</td>\n",
       "      <td>190656</td>\n",
       "    </tr>\n",
       "    <tr>\n",
       "      <th>2015</th>\n",
       "      <td>47609</td>\n",
       "      <td>0</td>\n",
       "      <td>195896</td>\n",
       "      <td>495428</td>\n",
       "      <td>47664</td>\n",
       "    </tr>\n",
       "    <tr>\n",
       "      <th>2016</th>\n",
       "      <td>134106</td>\n",
       "      <td>0</td>\n",
       "      <td>258072</td>\n",
       "      <td>985739</td>\n",
       "      <td>0</td>\n",
       "    </tr>\n",
       "    <tr>\n",
       "      <th>2017</th>\n",
       "      <td>67594</td>\n",
       "      <td>0</td>\n",
       "      <td>132688</td>\n",
       "      <td>2393468</td>\n",
       "      <td>0</td>\n",
       "    </tr>\n",
       "    <tr>\n",
       "      <th>2018</th>\n",
       "      <td>30835</td>\n",
       "      <td>6123</td>\n",
       "      <td>169109</td>\n",
       "      <td>3234168</td>\n",
       "      <td>0</td>\n",
       "    </tr>\n",
       "    <tr>\n",
       "      <th>2019</th>\n",
       "      <td>129852</td>\n",
       "      <td>3540</td>\n",
       "      <td>209765</td>\n",
       "      <td>2419537</td>\n",
       "      <td>0</td>\n",
       "    </tr>\n",
       "    <tr>\n",
       "      <th>2020</th>\n",
       "      <td>122253</td>\n",
       "      <td>28</td>\n",
       "      <td>300178</td>\n",
       "      <td>3299013</td>\n",
       "      <td>1463</td>\n",
       "    </tr>\n",
       "    <tr>\n",
       "      <th>2021</th>\n",
       "      <td>61884</td>\n",
       "      <td>0</td>\n",
       "      <td>111085</td>\n",
       "      <td>6522527</td>\n",
       "      <td>181931</td>\n",
       "    </tr>\n",
       "  </tbody>\n",
       "</table>\n",
       "</div>"
      ],
      "text/plain": [
       "País    China  Espanha  Estados Unidos  Paraguai    Rússia\n",
       "Ano                                                       \n",
       "2007     7638        0          479269   1285459    266400\n",
       "2008     8689     2942          443895   2191901   6207658\n",
       "2009  1553416     2181          372319    486927  21912914\n",
       "2010      795        0          228968    510989         0\n",
       "2011    54156     5206          306787    240168         0\n",
       "2012    87905        0          146585    354824   4528176\n",
       "2013    40929  1972980          245368    481564   5893291\n",
       "2014    64040        0          222267    521847    190656\n",
       "2015    47609        0          195896    495428     47664\n",
       "2016   134106        0          258072    985739         0\n",
       "2017    67594        0          132688   2393468         0\n",
       "2018    30835     6123          169109   3234168         0\n",
       "2019   129852     3540          209765   2419537         0\n",
       "2020   122253       28          300178   3299013      1463\n",
       "2021    61884        0          111085   6522527    181931"
      ]
     },
     "execution_count": 113,
     "metadata": {},
     "output_type": "execute_result"
    }
   ],
   "source": [
    "# Criando uma tabela cruzada (crosstab) com os valores de venda por ano por continente\n",
    "vendas_por_ano_qtd_paises = pd.crosstab(index = dados_qtd_anual_paises.Ano, columns = dados_qtd_anual_paises[\"País\"], \n",
    "                             values = dados_qtd_anual_paises.Vendas_Litros, aggfunc=\"sum\")\n",
    "\n",
    "# vendas_por_ano_qtd_paises = vendas_por_ano_qtd_paises / 1e6\n",
    "\n",
    "vendas_por_ano_qtd_paises"
   ]
  },
  {
   "cell_type": "code",
   "execution_count": 114,
   "metadata": {},
   "outputs": [
    {
     "data": {
      "application/vnd.plotly.v1+json": {
       "config": {
        "plotlyServerURL": "https://plot.ly"
       },
       "data": [
        {
         "hovertemplate": "País=China<br>Ano=%{x}<br>value=%{y}<extra></extra>",
         "legendgroup": "China",
         "line": {
          "color": "#636efa",
          "dash": "solid"
         },
         "marker": {
          "symbol": "circle"
         },
         "mode": "lines+markers",
         "name": "China",
         "orientation": "v",
         "showlegend": true,
         "type": "scatter",
         "x": [
          "2007",
          "2008",
          "2009",
          "2010",
          "2011",
          "2012",
          "2013",
          "2014",
          "2015",
          "2016",
          "2017",
          "2018",
          "2019",
          "2020",
          "2021"
         ],
         "xaxis": "x",
         "y": [
          7638,
          8689,
          1553416,
          795,
          54156,
          87905,
          40929,
          64040,
          47609,
          134106,
          67594,
          30835,
          129852,
          122253,
          61884
         ],
         "yaxis": "y"
        },
        {
         "hovertemplate": "País=Espanha<br>Ano=%{x}<br>value=%{y}<extra></extra>",
         "legendgroup": "Espanha",
         "line": {
          "color": "#EF553B",
          "dash": "solid"
         },
         "marker": {
          "symbol": "circle"
         },
         "mode": "lines+markers",
         "name": "Espanha",
         "orientation": "v",
         "showlegend": true,
         "type": "scatter",
         "x": [
          "2007",
          "2008",
          "2009",
          "2010",
          "2011",
          "2012",
          "2013",
          "2014",
          "2015",
          "2016",
          "2017",
          "2018",
          "2019",
          "2020",
          "2021"
         ],
         "xaxis": "x",
         "y": [
          0,
          2942,
          2181,
          0,
          5206,
          0,
          1972980,
          0,
          0,
          0,
          0,
          6123,
          3540,
          28,
          0
         ],
         "yaxis": "y"
        },
        {
         "hovertemplate": "País=Estados Unidos<br>Ano=%{x}<br>value=%{y}<extra></extra>",
         "legendgroup": "Estados Unidos",
         "line": {
          "color": "#00cc96",
          "dash": "solid"
         },
         "marker": {
          "symbol": "circle"
         },
         "mode": "lines+markers",
         "name": "Estados Unidos",
         "orientation": "v",
         "showlegend": true,
         "type": "scatter",
         "x": [
          "2007",
          "2008",
          "2009",
          "2010",
          "2011",
          "2012",
          "2013",
          "2014",
          "2015",
          "2016",
          "2017",
          "2018",
          "2019",
          "2020",
          "2021"
         ],
         "xaxis": "x",
         "y": [
          479269,
          443895,
          372319,
          228968,
          306787,
          146585,
          245368,
          222267,
          195896,
          258072,
          132688,
          169109,
          209765,
          300178,
          111085
         ],
         "yaxis": "y"
        },
        {
         "hovertemplate": "País=Paraguai<br>Ano=%{x}<br>value=%{y}<extra></extra>",
         "legendgroup": "Paraguai",
         "line": {
          "color": "#ab63fa",
          "dash": "solid"
         },
         "marker": {
          "symbol": "circle"
         },
         "mode": "lines+markers",
         "name": "Paraguai",
         "orientation": "v",
         "showlegend": true,
         "type": "scatter",
         "x": [
          "2007",
          "2008",
          "2009",
          "2010",
          "2011",
          "2012",
          "2013",
          "2014",
          "2015",
          "2016",
          "2017",
          "2018",
          "2019",
          "2020",
          "2021"
         ],
         "xaxis": "x",
         "y": [
          1285459,
          2191901,
          486927,
          510989,
          240168,
          354824,
          481564,
          521847,
          495428,
          985739,
          2393468,
          3234168,
          2419537,
          3299013,
          6522527
         ],
         "yaxis": "y"
        },
        {
         "hovertemplate": "País=Rússia<br>Ano=%{x}<br>value=%{y}<extra></extra>",
         "legendgroup": "Rússia",
         "line": {
          "color": "#FFA15A",
          "dash": "solid"
         },
         "marker": {
          "symbol": "circle"
         },
         "mode": "lines+markers",
         "name": "Rússia",
         "orientation": "v",
         "showlegend": true,
         "type": "scatter",
         "x": [
          "2007",
          "2008",
          "2009",
          "2010",
          "2011",
          "2012",
          "2013",
          "2014",
          "2015",
          "2016",
          "2017",
          "2018",
          "2019",
          "2020",
          "2021"
         ],
         "xaxis": "x",
         "y": [
          266400,
          6207658,
          21912914,
          0,
          0,
          4528176,
          5893291,
          190656,
          47664,
          0,
          0,
          0,
          0,
          1463,
          181931
         ],
         "yaxis": "y"
        }
       ],
       "layout": {
        "font": {
         "color": "grey",
         "family": "DejaVu Sans",
         "size": 15
        },
        "height": 600,
        "legend": {
         "title": {
          "text": "País"
         },
         "tracegroupgap": 0
        },
        "margin": {
         "t": 60
        },
        "plot_bgcolor": "#f8f9fa",
        "template": {
         "data": {
          "bar": [
           {
            "error_x": {
             "color": "#2a3f5f"
            },
            "error_y": {
             "color": "#2a3f5f"
            },
            "marker": {
             "line": {
              "color": "#E5ECF6",
              "width": 0.5
             },
             "pattern": {
              "fillmode": "overlay",
              "size": 10,
              "solidity": 0.2
             }
            },
            "type": "bar"
           }
          ],
          "barpolar": [
           {
            "marker": {
             "line": {
              "color": "#E5ECF6",
              "width": 0.5
             },
             "pattern": {
              "fillmode": "overlay",
              "size": 10,
              "solidity": 0.2
             }
            },
            "type": "barpolar"
           }
          ],
          "carpet": [
           {
            "aaxis": {
             "endlinecolor": "#2a3f5f",
             "gridcolor": "white",
             "linecolor": "white",
             "minorgridcolor": "white",
             "startlinecolor": "#2a3f5f"
            },
            "baxis": {
             "endlinecolor": "#2a3f5f",
             "gridcolor": "white",
             "linecolor": "white",
             "minorgridcolor": "white",
             "startlinecolor": "#2a3f5f"
            },
            "type": "carpet"
           }
          ],
          "choropleth": [
           {
            "colorbar": {
             "outlinewidth": 0,
             "ticks": ""
            },
            "type": "choropleth"
           }
          ],
          "contour": [
           {
            "colorbar": {
             "outlinewidth": 0,
             "ticks": ""
            },
            "colorscale": [
             [
              0,
              "#0d0887"
             ],
             [
              0.1111111111111111,
              "#46039f"
             ],
             [
              0.2222222222222222,
              "#7201a8"
             ],
             [
              0.3333333333333333,
              "#9c179e"
             ],
             [
              0.4444444444444444,
              "#bd3786"
             ],
             [
              0.5555555555555556,
              "#d8576b"
             ],
             [
              0.6666666666666666,
              "#ed7953"
             ],
             [
              0.7777777777777778,
              "#fb9f3a"
             ],
             [
              0.8888888888888888,
              "#fdca26"
             ],
             [
              1,
              "#f0f921"
             ]
            ],
            "type": "contour"
           }
          ],
          "contourcarpet": [
           {
            "colorbar": {
             "outlinewidth": 0,
             "ticks": ""
            },
            "type": "contourcarpet"
           }
          ],
          "heatmap": [
           {
            "colorbar": {
             "outlinewidth": 0,
             "ticks": ""
            },
            "colorscale": [
             [
              0,
              "#0d0887"
             ],
             [
              0.1111111111111111,
              "#46039f"
             ],
             [
              0.2222222222222222,
              "#7201a8"
             ],
             [
              0.3333333333333333,
              "#9c179e"
             ],
             [
              0.4444444444444444,
              "#bd3786"
             ],
             [
              0.5555555555555556,
              "#d8576b"
             ],
             [
              0.6666666666666666,
              "#ed7953"
             ],
             [
              0.7777777777777778,
              "#fb9f3a"
             ],
             [
              0.8888888888888888,
              "#fdca26"
             ],
             [
              1,
              "#f0f921"
             ]
            ],
            "type": "heatmap"
           }
          ],
          "heatmapgl": [
           {
            "colorbar": {
             "outlinewidth": 0,
             "ticks": ""
            },
            "colorscale": [
             [
              0,
              "#0d0887"
             ],
             [
              0.1111111111111111,
              "#46039f"
             ],
             [
              0.2222222222222222,
              "#7201a8"
             ],
             [
              0.3333333333333333,
              "#9c179e"
             ],
             [
              0.4444444444444444,
              "#bd3786"
             ],
             [
              0.5555555555555556,
              "#d8576b"
             ],
             [
              0.6666666666666666,
              "#ed7953"
             ],
             [
              0.7777777777777778,
              "#fb9f3a"
             ],
             [
              0.8888888888888888,
              "#fdca26"
             ],
             [
              1,
              "#f0f921"
             ]
            ],
            "type": "heatmapgl"
           }
          ],
          "histogram": [
           {
            "marker": {
             "pattern": {
              "fillmode": "overlay",
              "size": 10,
              "solidity": 0.2
             }
            },
            "type": "histogram"
           }
          ],
          "histogram2d": [
           {
            "colorbar": {
             "outlinewidth": 0,
             "ticks": ""
            },
            "colorscale": [
             [
              0,
              "#0d0887"
             ],
             [
              0.1111111111111111,
              "#46039f"
             ],
             [
              0.2222222222222222,
              "#7201a8"
             ],
             [
              0.3333333333333333,
              "#9c179e"
             ],
             [
              0.4444444444444444,
              "#bd3786"
             ],
             [
              0.5555555555555556,
              "#d8576b"
             ],
             [
              0.6666666666666666,
              "#ed7953"
             ],
             [
              0.7777777777777778,
              "#fb9f3a"
             ],
             [
              0.8888888888888888,
              "#fdca26"
             ],
             [
              1,
              "#f0f921"
             ]
            ],
            "type": "histogram2d"
           }
          ],
          "histogram2dcontour": [
           {
            "colorbar": {
             "outlinewidth": 0,
             "ticks": ""
            },
            "colorscale": [
             [
              0,
              "#0d0887"
             ],
             [
              0.1111111111111111,
              "#46039f"
             ],
             [
              0.2222222222222222,
              "#7201a8"
             ],
             [
              0.3333333333333333,
              "#9c179e"
             ],
             [
              0.4444444444444444,
              "#bd3786"
             ],
             [
              0.5555555555555556,
              "#d8576b"
             ],
             [
              0.6666666666666666,
              "#ed7953"
             ],
             [
              0.7777777777777778,
              "#fb9f3a"
             ],
             [
              0.8888888888888888,
              "#fdca26"
             ],
             [
              1,
              "#f0f921"
             ]
            ],
            "type": "histogram2dcontour"
           }
          ],
          "mesh3d": [
           {
            "colorbar": {
             "outlinewidth": 0,
             "ticks": ""
            },
            "type": "mesh3d"
           }
          ],
          "parcoords": [
           {
            "line": {
             "colorbar": {
              "outlinewidth": 0,
              "ticks": ""
             }
            },
            "type": "parcoords"
           }
          ],
          "pie": [
           {
            "automargin": true,
            "type": "pie"
           }
          ],
          "scatter": [
           {
            "fillpattern": {
             "fillmode": "overlay",
             "size": 10,
             "solidity": 0.2
            },
            "type": "scatter"
           }
          ],
          "scatter3d": [
           {
            "line": {
             "colorbar": {
              "outlinewidth": 0,
              "ticks": ""
             }
            },
            "marker": {
             "colorbar": {
              "outlinewidth": 0,
              "ticks": ""
             }
            },
            "type": "scatter3d"
           }
          ],
          "scattercarpet": [
           {
            "marker": {
             "colorbar": {
              "outlinewidth": 0,
              "ticks": ""
             }
            },
            "type": "scattercarpet"
           }
          ],
          "scattergeo": [
           {
            "marker": {
             "colorbar": {
              "outlinewidth": 0,
              "ticks": ""
             }
            },
            "type": "scattergeo"
           }
          ],
          "scattergl": [
           {
            "marker": {
             "colorbar": {
              "outlinewidth": 0,
              "ticks": ""
             }
            },
            "type": "scattergl"
           }
          ],
          "scattermapbox": [
           {
            "marker": {
             "colorbar": {
              "outlinewidth": 0,
              "ticks": ""
             }
            },
            "type": "scattermapbox"
           }
          ],
          "scatterpolar": [
           {
            "marker": {
             "colorbar": {
              "outlinewidth": 0,
              "ticks": ""
             }
            },
            "type": "scatterpolar"
           }
          ],
          "scatterpolargl": [
           {
            "marker": {
             "colorbar": {
              "outlinewidth": 0,
              "ticks": ""
             }
            },
            "type": "scatterpolargl"
           }
          ],
          "scatterternary": [
           {
            "marker": {
             "colorbar": {
              "outlinewidth": 0,
              "ticks": ""
             }
            },
            "type": "scatterternary"
           }
          ],
          "surface": [
           {
            "colorbar": {
             "outlinewidth": 0,
             "ticks": ""
            },
            "colorscale": [
             [
              0,
              "#0d0887"
             ],
             [
              0.1111111111111111,
              "#46039f"
             ],
             [
              0.2222222222222222,
              "#7201a8"
             ],
             [
              0.3333333333333333,
              "#9c179e"
             ],
             [
              0.4444444444444444,
              "#bd3786"
             ],
             [
              0.5555555555555556,
              "#d8576b"
             ],
             [
              0.6666666666666666,
              "#ed7953"
             ],
             [
              0.7777777777777778,
              "#fb9f3a"
             ],
             [
              0.8888888888888888,
              "#fdca26"
             ],
             [
              1,
              "#f0f921"
             ]
            ],
            "type": "surface"
           }
          ],
          "table": [
           {
            "cells": {
             "fill": {
              "color": "#EBF0F8"
             },
             "line": {
              "color": "white"
             }
            },
            "header": {
             "fill": {
              "color": "#C8D4E3"
             },
             "line": {
              "color": "white"
             }
            },
            "type": "table"
           }
          ]
         },
         "layout": {
          "annotationdefaults": {
           "arrowcolor": "#2a3f5f",
           "arrowhead": 0,
           "arrowwidth": 1
          },
          "autotypenumbers": "strict",
          "coloraxis": {
           "colorbar": {
            "outlinewidth": 0,
            "ticks": ""
           }
          },
          "colorscale": {
           "diverging": [
            [
             0,
             "#8e0152"
            ],
            [
             0.1,
             "#c51b7d"
            ],
            [
             0.2,
             "#de77ae"
            ],
            [
             0.3,
             "#f1b6da"
            ],
            [
             0.4,
             "#fde0ef"
            ],
            [
             0.5,
             "#f7f7f7"
            ],
            [
             0.6,
             "#e6f5d0"
            ],
            [
             0.7,
             "#b8e186"
            ],
            [
             0.8,
             "#7fbc41"
            ],
            [
             0.9,
             "#4d9221"
            ],
            [
             1,
             "#276419"
            ]
           ],
           "sequential": [
            [
             0,
             "#0d0887"
            ],
            [
             0.1111111111111111,
             "#46039f"
            ],
            [
             0.2222222222222222,
             "#7201a8"
            ],
            [
             0.3333333333333333,
             "#9c179e"
            ],
            [
             0.4444444444444444,
             "#bd3786"
            ],
            [
             0.5555555555555556,
             "#d8576b"
            ],
            [
             0.6666666666666666,
             "#ed7953"
            ],
            [
             0.7777777777777778,
             "#fb9f3a"
            ],
            [
             0.8888888888888888,
             "#fdca26"
            ],
            [
             1,
             "#f0f921"
            ]
           ],
           "sequentialminus": [
            [
             0,
             "#0d0887"
            ],
            [
             0.1111111111111111,
             "#46039f"
            ],
            [
             0.2222222222222222,
             "#7201a8"
            ],
            [
             0.3333333333333333,
             "#9c179e"
            ],
            [
             0.4444444444444444,
             "#bd3786"
            ],
            [
             0.5555555555555556,
             "#d8576b"
            ],
            [
             0.6666666666666666,
             "#ed7953"
            ],
            [
             0.7777777777777778,
             "#fb9f3a"
            ],
            [
             0.8888888888888888,
             "#fdca26"
            ],
            [
             1,
             "#f0f921"
            ]
           ]
          },
          "colorway": [
           "#636efa",
           "#EF553B",
           "#00cc96",
           "#ab63fa",
           "#FFA15A",
           "#19d3f3",
           "#FF6692",
           "#B6E880",
           "#FF97FF",
           "#FECB52"
          ],
          "font": {
           "color": "#2a3f5f"
          },
          "geo": {
           "bgcolor": "white",
           "lakecolor": "white",
           "landcolor": "#E5ECF6",
           "showlakes": true,
           "showland": true,
           "subunitcolor": "white"
          },
          "hoverlabel": {
           "align": "left"
          },
          "hovermode": "closest",
          "mapbox": {
           "style": "light"
          },
          "paper_bgcolor": "white",
          "plot_bgcolor": "#E5ECF6",
          "polar": {
           "angularaxis": {
            "gridcolor": "white",
            "linecolor": "white",
            "ticks": ""
           },
           "bgcolor": "#E5ECF6",
           "radialaxis": {
            "gridcolor": "white",
            "linecolor": "white",
            "ticks": ""
           }
          },
          "scene": {
           "xaxis": {
            "backgroundcolor": "#E5ECF6",
            "gridcolor": "white",
            "gridwidth": 2,
            "linecolor": "white",
            "showbackground": true,
            "ticks": "",
            "zerolinecolor": "white"
           },
           "yaxis": {
            "backgroundcolor": "#E5ECF6",
            "gridcolor": "white",
            "gridwidth": 2,
            "linecolor": "white",
            "showbackground": true,
            "ticks": "",
            "zerolinecolor": "white"
           },
           "zaxis": {
            "backgroundcolor": "#E5ECF6",
            "gridcolor": "white",
            "gridwidth": 2,
            "linecolor": "white",
            "showbackground": true,
            "ticks": "",
            "zerolinecolor": "white"
           }
          },
          "shapedefaults": {
           "line": {
            "color": "#2a3f5f"
           }
          },
          "ternary": {
           "aaxis": {
            "gridcolor": "white",
            "linecolor": "white",
            "ticks": ""
           },
           "baxis": {
            "gridcolor": "white",
            "linecolor": "white",
            "ticks": ""
           },
           "bgcolor": "#E5ECF6",
           "caxis": {
            "gridcolor": "white",
            "linecolor": "white",
            "ticks": ""
           }
          },
          "title": {
           "x": 0.05
          },
          "xaxis": {
           "automargin": true,
           "gridcolor": "white",
           "linecolor": "white",
           "ticks": "",
           "title": {
            "standoff": 15
           },
           "zerolinecolor": "white",
           "zerolinewidth": 2
          },
          "yaxis": {
           "automargin": true,
           "gridcolor": "white",
           "linecolor": "white",
           "ticks": "",
           "title": {
            "standoff": 15
           },
           "zerolinecolor": "white",
           "zerolinewidth": 2
          }
         }
        },
        "title": {
         "font": {
          "color": "black",
          "size": 24
         },
         "text": "Quantidade de vinho de mesa exportado por país em litros<br><sup size=1 style=\"color:#555655\">De 2007 a 2021</sup>"
        },
        "width": 1000,
        "xaxis": {
         "anchor": "y",
         "domain": [
          0,
          1
         ],
         "tickmode": "array",
         "tickvals": [
          2007,
          2009,
          2011,
          2013,
          2015,
          2017,
          2019,
          2021
         ],
         "title": {
          "text": ""
         }
        },
        "yaxis": {
         "anchor": "x",
         "domain": [
          0,
          1
         ],
         "ticksuffix": " Litros",
         "title": {
          "text": ""
         }
        }
       }
      }
     },
     "metadata": {},
     "output_type": "display_data"
    }
   ],
   "source": [
    "# Importando a biblioteca\n",
    "import plotly.express as px\n",
    "\n",
    "fig = px.line(vendas_por_ano_qtd_paises, x=vendas_por_ano_qtd_paises.index, y=vendas_por_ano_qtd_paises.columns, markers = True)\n",
    "\n",
    "# Ajustando o layout do gráfico\n",
    "fig.update_layout(width=1000, height=600, font_family = 'DejaVu Sans', font_size=15,\n",
    "                  font_color= \"grey\", title_font_color= \"black\", title_font_size=24,\n",
    "                  title_text='Quantidade de vinho de mesa exportado por país em litros' +\n",
    "                             '<br><sup size=1 style=\"color:#555655\">De 2007 a 2021</sup>',\n",
    "                  xaxis_title='', yaxis_title='', plot_bgcolor= \"#f8f9fa\")\n",
    "\n",
    "# Ajustando os ticks do eixo y para litros\n",
    "fig.update_yaxes(ticksuffix=\" Litros\")\n",
    "\n",
    "fig.update_xaxes(tickmode='array', tickvals=np.arange(2007,2022,2))\n",
    "\n",
    "fig.show()"
   ]
  },
  {
   "attachments": {},
   "cell_type": "markdown",
   "metadata": {},
   "source": [
    "## Distribuição por continente das vendas de vinhos de mesa (2007 e 2021)"
   ]
  },
  {
   "cell_type": "code",
   "execution_count": 115,
   "metadata": {},
   "outputs": [],
   "source": [
    "dados_dolar_anual[\"Ano\"] = dados_dolar_anual[\"Ano\"].astype(\"int64\")"
   ]
  },
  {
   "cell_type": "code",
   "execution_count": 116,
   "metadata": {},
   "outputs": [
    {
     "data": {
      "application/vnd.plotly.v1+json": {
       "config": {
        "plotlyServerURL": "https://plot.ly"
       },
       "data": [
        {
         "branchvalues": "total",
         "customdata": [
          [
           "Ásia"
          ],
          [
           "(?)"
          ],
          [
           "Oceania"
          ],
          [
           "Europa"
          ],
          [
           "África"
          ],
          [
           "América"
          ]
         ],
         "domain": {
          "x": [
           0,
           1
          ],
          "y": [
           0,
           1
          ]
         },
         "hovertemplate": "<b>Vendas:</b> = U$ %{value}",
         "ids": [
          "Em 2007/Ásia",
          "Em 2007",
          "Em 2007/Oceania",
          "Em 2007/Europa",
          "Em 2007/África",
          "Em 2007/América"
         ],
         "labels": [
          "Ásia",
          "Em 2007",
          "Oceania",
          "Europa",
          "África",
          "América"
         ],
         "marker": {
          "colors": [
           "#EF553B",
           "white",
           "#00cc96",
           "#ab63fa",
           "#FFA15A",
           "#19d3f3"
          ]
         },
         "name": "",
         "parents": [
          "Em 2007",
          "",
          "Em 2007",
          "Em 2007",
          "Em 2007",
          "Em 2007"
         ],
         "type": "treemap",
         "values": [
          365141,
          3582421,
          281,
          1406368,
          49764,
          1760867
         ]
        }
       ],
       "layout": {
        "annotations": [
         {
          "align": "left",
          "font": {
           "size": 12
          },
          "showarrow": false,
          "text": "Fonte dos dados: <a href=\"http://vitibrasil.cnpuv.embrapa.br/index.php\">Dados da Vitivinicultura (Embrapa Uva e Vinho)</a>",
          "x": 1,
          "xref": "paper",
          "y": -0.03,
          "yref": "paper"
         }
        ],
        "font": {
         "color": "grey",
         "family": "DejaVu Sans",
         "size": 14
        },
        "height": 400,
        "legend": {
         "tracegroupgap": 0
        },
        "margin": {
         "b": 25,
         "l": 25,
         "r": 25,
         "t": 50
        },
        "template": {
         "data": {
          "bar": [
           {
            "error_x": {
             "color": "#2a3f5f"
            },
            "error_y": {
             "color": "#2a3f5f"
            },
            "marker": {
             "line": {
              "color": "#E5ECF6",
              "width": 0.5
             },
             "pattern": {
              "fillmode": "overlay",
              "size": 10,
              "solidity": 0.2
             }
            },
            "type": "bar"
           }
          ],
          "barpolar": [
           {
            "marker": {
             "line": {
              "color": "#E5ECF6",
              "width": 0.5
             },
             "pattern": {
              "fillmode": "overlay",
              "size": 10,
              "solidity": 0.2
             }
            },
            "type": "barpolar"
           }
          ],
          "carpet": [
           {
            "aaxis": {
             "endlinecolor": "#2a3f5f",
             "gridcolor": "white",
             "linecolor": "white",
             "minorgridcolor": "white",
             "startlinecolor": "#2a3f5f"
            },
            "baxis": {
             "endlinecolor": "#2a3f5f",
             "gridcolor": "white",
             "linecolor": "white",
             "minorgridcolor": "white",
             "startlinecolor": "#2a3f5f"
            },
            "type": "carpet"
           }
          ],
          "choropleth": [
           {
            "colorbar": {
             "outlinewidth": 0,
             "ticks": ""
            },
            "type": "choropleth"
           }
          ],
          "contour": [
           {
            "colorbar": {
             "outlinewidth": 0,
             "ticks": ""
            },
            "colorscale": [
             [
              0,
              "#0d0887"
             ],
             [
              0.1111111111111111,
              "#46039f"
             ],
             [
              0.2222222222222222,
              "#7201a8"
             ],
             [
              0.3333333333333333,
              "#9c179e"
             ],
             [
              0.4444444444444444,
              "#bd3786"
             ],
             [
              0.5555555555555556,
              "#d8576b"
             ],
             [
              0.6666666666666666,
              "#ed7953"
             ],
             [
              0.7777777777777778,
              "#fb9f3a"
             ],
             [
              0.8888888888888888,
              "#fdca26"
             ],
             [
              1,
              "#f0f921"
             ]
            ],
            "type": "contour"
           }
          ],
          "contourcarpet": [
           {
            "colorbar": {
             "outlinewidth": 0,
             "ticks": ""
            },
            "type": "contourcarpet"
           }
          ],
          "heatmap": [
           {
            "colorbar": {
             "outlinewidth": 0,
             "ticks": ""
            },
            "colorscale": [
             [
              0,
              "#0d0887"
             ],
             [
              0.1111111111111111,
              "#46039f"
             ],
             [
              0.2222222222222222,
              "#7201a8"
             ],
             [
              0.3333333333333333,
              "#9c179e"
             ],
             [
              0.4444444444444444,
              "#bd3786"
             ],
             [
              0.5555555555555556,
              "#d8576b"
             ],
             [
              0.6666666666666666,
              "#ed7953"
             ],
             [
              0.7777777777777778,
              "#fb9f3a"
             ],
             [
              0.8888888888888888,
              "#fdca26"
             ],
             [
              1,
              "#f0f921"
             ]
            ],
            "type": "heatmap"
           }
          ],
          "heatmapgl": [
           {
            "colorbar": {
             "outlinewidth": 0,
             "ticks": ""
            },
            "colorscale": [
             [
              0,
              "#0d0887"
             ],
             [
              0.1111111111111111,
              "#46039f"
             ],
             [
              0.2222222222222222,
              "#7201a8"
             ],
             [
              0.3333333333333333,
              "#9c179e"
             ],
             [
              0.4444444444444444,
              "#bd3786"
             ],
             [
              0.5555555555555556,
              "#d8576b"
             ],
             [
              0.6666666666666666,
              "#ed7953"
             ],
             [
              0.7777777777777778,
              "#fb9f3a"
             ],
             [
              0.8888888888888888,
              "#fdca26"
             ],
             [
              1,
              "#f0f921"
             ]
            ],
            "type": "heatmapgl"
           }
          ],
          "histogram": [
           {
            "marker": {
             "pattern": {
              "fillmode": "overlay",
              "size": 10,
              "solidity": 0.2
             }
            },
            "type": "histogram"
           }
          ],
          "histogram2d": [
           {
            "colorbar": {
             "outlinewidth": 0,
             "ticks": ""
            },
            "colorscale": [
             [
              0,
              "#0d0887"
             ],
             [
              0.1111111111111111,
              "#46039f"
             ],
             [
              0.2222222222222222,
              "#7201a8"
             ],
             [
              0.3333333333333333,
              "#9c179e"
             ],
             [
              0.4444444444444444,
              "#bd3786"
             ],
             [
              0.5555555555555556,
              "#d8576b"
             ],
             [
              0.6666666666666666,
              "#ed7953"
             ],
             [
              0.7777777777777778,
              "#fb9f3a"
             ],
             [
              0.8888888888888888,
              "#fdca26"
             ],
             [
              1,
              "#f0f921"
             ]
            ],
            "type": "histogram2d"
           }
          ],
          "histogram2dcontour": [
           {
            "colorbar": {
             "outlinewidth": 0,
             "ticks": ""
            },
            "colorscale": [
             [
              0,
              "#0d0887"
             ],
             [
              0.1111111111111111,
              "#46039f"
             ],
             [
              0.2222222222222222,
              "#7201a8"
             ],
             [
              0.3333333333333333,
              "#9c179e"
             ],
             [
              0.4444444444444444,
              "#bd3786"
             ],
             [
              0.5555555555555556,
              "#d8576b"
             ],
             [
              0.6666666666666666,
              "#ed7953"
             ],
             [
              0.7777777777777778,
              "#fb9f3a"
             ],
             [
              0.8888888888888888,
              "#fdca26"
             ],
             [
              1,
              "#f0f921"
             ]
            ],
            "type": "histogram2dcontour"
           }
          ],
          "mesh3d": [
           {
            "colorbar": {
             "outlinewidth": 0,
             "ticks": ""
            },
            "type": "mesh3d"
           }
          ],
          "parcoords": [
           {
            "line": {
             "colorbar": {
              "outlinewidth": 0,
              "ticks": ""
             }
            },
            "type": "parcoords"
           }
          ],
          "pie": [
           {
            "automargin": true,
            "type": "pie"
           }
          ],
          "scatter": [
           {
            "fillpattern": {
             "fillmode": "overlay",
             "size": 10,
             "solidity": 0.2
            },
            "type": "scatter"
           }
          ],
          "scatter3d": [
           {
            "line": {
             "colorbar": {
              "outlinewidth": 0,
              "ticks": ""
             }
            },
            "marker": {
             "colorbar": {
              "outlinewidth": 0,
              "ticks": ""
             }
            },
            "type": "scatter3d"
           }
          ],
          "scattercarpet": [
           {
            "marker": {
             "colorbar": {
              "outlinewidth": 0,
              "ticks": ""
             }
            },
            "type": "scattercarpet"
           }
          ],
          "scattergeo": [
           {
            "marker": {
             "colorbar": {
              "outlinewidth": 0,
              "ticks": ""
             }
            },
            "type": "scattergeo"
           }
          ],
          "scattergl": [
           {
            "marker": {
             "colorbar": {
              "outlinewidth": 0,
              "ticks": ""
             }
            },
            "type": "scattergl"
           }
          ],
          "scattermapbox": [
           {
            "marker": {
             "colorbar": {
              "outlinewidth": 0,
              "ticks": ""
             }
            },
            "type": "scattermapbox"
           }
          ],
          "scatterpolar": [
           {
            "marker": {
             "colorbar": {
              "outlinewidth": 0,
              "ticks": ""
             }
            },
            "type": "scatterpolar"
           }
          ],
          "scatterpolargl": [
           {
            "marker": {
             "colorbar": {
              "outlinewidth": 0,
              "ticks": ""
             }
            },
            "type": "scatterpolargl"
           }
          ],
          "scatterternary": [
           {
            "marker": {
             "colorbar": {
              "outlinewidth": 0,
              "ticks": ""
             }
            },
            "type": "scatterternary"
           }
          ],
          "surface": [
           {
            "colorbar": {
             "outlinewidth": 0,
             "ticks": ""
            },
            "colorscale": [
             [
              0,
              "#0d0887"
             ],
             [
              0.1111111111111111,
              "#46039f"
             ],
             [
              0.2222222222222222,
              "#7201a8"
             ],
             [
              0.3333333333333333,
              "#9c179e"
             ],
             [
              0.4444444444444444,
              "#bd3786"
             ],
             [
              0.5555555555555556,
              "#d8576b"
             ],
             [
              0.6666666666666666,
              "#ed7953"
             ],
             [
              0.7777777777777778,
              "#fb9f3a"
             ],
             [
              0.8888888888888888,
              "#fdca26"
             ],
             [
              1,
              "#f0f921"
             ]
            ],
            "type": "surface"
           }
          ],
          "table": [
           {
            "cells": {
             "fill": {
              "color": "#EBF0F8"
             },
             "line": {
              "color": "white"
             }
            },
            "header": {
             "fill": {
              "color": "#C8D4E3"
             },
             "line": {
              "color": "white"
             }
            },
            "type": "table"
           }
          ]
         },
         "layout": {
          "annotationdefaults": {
           "arrowcolor": "#2a3f5f",
           "arrowhead": 0,
           "arrowwidth": 1
          },
          "autotypenumbers": "strict",
          "coloraxis": {
           "colorbar": {
            "outlinewidth": 0,
            "ticks": ""
           }
          },
          "colorscale": {
           "diverging": [
            [
             0,
             "#8e0152"
            ],
            [
             0.1,
             "#c51b7d"
            ],
            [
             0.2,
             "#de77ae"
            ],
            [
             0.3,
             "#f1b6da"
            ],
            [
             0.4,
             "#fde0ef"
            ],
            [
             0.5,
             "#f7f7f7"
            ],
            [
             0.6,
             "#e6f5d0"
            ],
            [
             0.7,
             "#b8e186"
            ],
            [
             0.8,
             "#7fbc41"
            ],
            [
             0.9,
             "#4d9221"
            ],
            [
             1,
             "#276419"
            ]
           ],
           "sequential": [
            [
             0,
             "#0d0887"
            ],
            [
             0.1111111111111111,
             "#46039f"
            ],
            [
             0.2222222222222222,
             "#7201a8"
            ],
            [
             0.3333333333333333,
             "#9c179e"
            ],
            [
             0.4444444444444444,
             "#bd3786"
            ],
            [
             0.5555555555555556,
             "#d8576b"
            ],
            [
             0.6666666666666666,
             "#ed7953"
            ],
            [
             0.7777777777777778,
             "#fb9f3a"
            ],
            [
             0.8888888888888888,
             "#fdca26"
            ],
            [
             1,
             "#f0f921"
            ]
           ],
           "sequentialminus": [
            [
             0,
             "#0d0887"
            ],
            [
             0.1111111111111111,
             "#46039f"
            ],
            [
             0.2222222222222222,
             "#7201a8"
            ],
            [
             0.3333333333333333,
             "#9c179e"
            ],
            [
             0.4444444444444444,
             "#bd3786"
            ],
            [
             0.5555555555555556,
             "#d8576b"
            ],
            [
             0.6666666666666666,
             "#ed7953"
            ],
            [
             0.7777777777777778,
             "#fb9f3a"
            ],
            [
             0.8888888888888888,
             "#fdca26"
            ],
            [
             1,
             "#f0f921"
            ]
           ]
          },
          "colorway": [
           "#636efa",
           "#EF553B",
           "#00cc96",
           "#ab63fa",
           "#FFA15A",
           "#19d3f3",
           "#FF6692",
           "#B6E880",
           "#FF97FF",
           "#FECB52"
          ],
          "font": {
           "color": "#2a3f5f"
          },
          "geo": {
           "bgcolor": "white",
           "lakecolor": "white",
           "landcolor": "#E5ECF6",
           "showlakes": true,
           "showland": true,
           "subunitcolor": "white"
          },
          "hoverlabel": {
           "align": "left"
          },
          "hovermode": "closest",
          "mapbox": {
           "style": "light"
          },
          "paper_bgcolor": "white",
          "plot_bgcolor": "#E5ECF6",
          "polar": {
           "angularaxis": {
            "gridcolor": "white",
            "linecolor": "white",
            "ticks": ""
           },
           "bgcolor": "#E5ECF6",
           "radialaxis": {
            "gridcolor": "white",
            "linecolor": "white",
            "ticks": ""
           }
          },
          "scene": {
           "xaxis": {
            "backgroundcolor": "#E5ECF6",
            "gridcolor": "white",
            "gridwidth": 2,
            "linecolor": "white",
            "showbackground": true,
            "ticks": "",
            "zerolinecolor": "white"
           },
           "yaxis": {
            "backgroundcolor": "#E5ECF6",
            "gridcolor": "white",
            "gridwidth": 2,
            "linecolor": "white",
            "showbackground": true,
            "ticks": "",
            "zerolinecolor": "white"
           },
           "zaxis": {
            "backgroundcolor": "#E5ECF6",
            "gridcolor": "white",
            "gridwidth": 2,
            "linecolor": "white",
            "showbackground": true,
            "ticks": "",
            "zerolinecolor": "white"
           }
          },
          "shapedefaults": {
           "line": {
            "color": "#2a3f5f"
           }
          },
          "ternary": {
           "aaxis": {
            "gridcolor": "white",
            "linecolor": "white",
            "ticks": ""
           },
           "baxis": {
            "gridcolor": "white",
            "linecolor": "white",
            "ticks": ""
           },
           "bgcolor": "#E5ECF6",
           "caxis": {
            "gridcolor": "white",
            "linecolor": "white",
            "ticks": ""
           }
          },
          "title": {
           "x": 0.05
          },
          "xaxis": {
           "automargin": true,
           "gridcolor": "white",
           "linecolor": "white",
           "ticks": "",
           "title": {
            "standoff": 15
           },
           "zerolinecolor": "white",
           "zerolinewidth": 2
          },
          "yaxis": {
           "automargin": true,
           "gridcolor": "white",
           "linecolor": "white",
           "ticks": "",
           "title": {
            "standoff": 15
           },
           "zerolinecolor": "white",
           "zerolinewidth": 2
          }
         }
        },
        "title": {
         "font": {
          "color": "black",
          "size": 24
         },
         "text": "Distribuição por continente das vendas de vinhos de mesa"
        },
        "width": 1000
       }
      }
     },
     "metadata": {},
     "output_type": "display_data"
    }
   ],
   "source": [
    "# Importando a biblioteca\n",
    "import plotly.express as px\n",
    "\n",
    "# Gerando o gráfico de árvore (TREEMAP)\n",
    "fig = px.treemap(dados_dolar_anual.query(\"Ano == 2007\"),\n",
    "                 path=[px.Constant(\"Em 2007\"), 'Continente'],\n",
    "                 values='Vendas_Dolar', color='Continente', title='Distribuição por continente das vendas de vinhos de mesa',\n",
    "                 color_discrete_map={'(?)': \"white\"})\n",
    "\n",
    "# Ajustando o layout do gráfico\n",
    "fig.update_layout(width=1000, height=400, margin = dict(t=50, l=25, r=25, b=25), font_family = 'DejaVu Sans',\n",
    "                  font_size=14, font_color= \"grey\", title_font_color= \"black\", title_font_size=24)\n",
    "\n",
    "fig.update_traces(hovertemplate='<b>Vendas:</b> = U$ %{value}')\n",
    "\n",
    "fig.add_annotation(text='Fonte dos dados: <a href=\"http://vitibrasil.cnpuv.embrapa.br/index.php\">'\n",
    "                        'Dados da Vitivinicultura (Embrapa Uva e Vinho)</a>',\n",
    "                   align=\"left\", xref=\"paper\", yref = \"paper\", x=1, y=-0.03, showarrow=False, font_size=12)\n",
    "fig.show()"
   ]
  },
  {
   "cell_type": "code",
   "execution_count": 117,
   "metadata": {},
   "outputs": [
    {
     "data": {
      "application/vnd.plotly.v1+json": {
       "config": {
        "plotlyServerURL": "https://plot.ly"
       },
       "data": [
        {
         "branchvalues": "total",
         "customdata": [
          [
           "Ásia"
          ],
          [
           "(?)"
          ],
          [
           "Oceania"
          ],
          [
           "Europa"
          ],
          [
           "África"
          ],
          [
           "América"
          ]
         ],
         "domain": {
          "x": [
           0,
           1
          ],
          "y": [
           0,
           1
          ]
         },
         "hovertemplate": "<b>Vendas:</b> = U$ %{value}",
         "ids": [
          "Em 2021/Ásia",
          "Em 2021",
          "Em 2021/Oceania",
          "Em 2021/Europa",
          "Em 2021/África",
          "Em 2021/América"
         ],
         "labels": [
          "Ásia",
          "Em 2021",
          "Oceania",
          "Europa",
          "África",
          "América"
         ],
         "marker": {
          "colors": [
           "#EF553B",
           "white",
           "#00cc96",
           "#ab63fa",
           "#FFA15A",
           "#19d3f3"
          ]
         },
         "name": "",
         "parents": [
          "Em 2021",
          "",
          "Em 2021",
          "Em 2021",
          "Em 2021",
          "Em 2021"
         ],
         "type": "treemap",
         "values": [
          435040,
          9757381,
          26435,
          565593,
          170604,
          8559709
         ]
        }
       ],
       "layout": {
        "annotations": [
         {
          "align": "left",
          "font": {
           "size": 12
          },
          "showarrow": false,
          "text": "Fonte dos dados: <a href=\"http://vitibrasil.cnpuv.embrapa.br/index.php\">Dados da Vitivinicultura (Embrapa Uva e Vinho)</a>",
          "x": 1,
          "xref": "paper",
          "y": -0.03,
          "yref": "paper"
         }
        ],
        "font": {
         "color": "grey",
         "family": "DejaVu Sans",
         "size": 14
        },
        "height": 400,
        "legend": {
         "tracegroupgap": 0
        },
        "margin": {
         "b": 25,
         "l": 25,
         "r": 25,
         "t": 50
        },
        "template": {
         "data": {
          "bar": [
           {
            "error_x": {
             "color": "#2a3f5f"
            },
            "error_y": {
             "color": "#2a3f5f"
            },
            "marker": {
             "line": {
              "color": "#E5ECF6",
              "width": 0.5
             },
             "pattern": {
              "fillmode": "overlay",
              "size": 10,
              "solidity": 0.2
             }
            },
            "type": "bar"
           }
          ],
          "barpolar": [
           {
            "marker": {
             "line": {
              "color": "#E5ECF6",
              "width": 0.5
             },
             "pattern": {
              "fillmode": "overlay",
              "size": 10,
              "solidity": 0.2
             }
            },
            "type": "barpolar"
           }
          ],
          "carpet": [
           {
            "aaxis": {
             "endlinecolor": "#2a3f5f",
             "gridcolor": "white",
             "linecolor": "white",
             "minorgridcolor": "white",
             "startlinecolor": "#2a3f5f"
            },
            "baxis": {
             "endlinecolor": "#2a3f5f",
             "gridcolor": "white",
             "linecolor": "white",
             "minorgridcolor": "white",
             "startlinecolor": "#2a3f5f"
            },
            "type": "carpet"
           }
          ],
          "choropleth": [
           {
            "colorbar": {
             "outlinewidth": 0,
             "ticks": ""
            },
            "type": "choropleth"
           }
          ],
          "contour": [
           {
            "colorbar": {
             "outlinewidth": 0,
             "ticks": ""
            },
            "colorscale": [
             [
              0,
              "#0d0887"
             ],
             [
              0.1111111111111111,
              "#46039f"
             ],
             [
              0.2222222222222222,
              "#7201a8"
             ],
             [
              0.3333333333333333,
              "#9c179e"
             ],
             [
              0.4444444444444444,
              "#bd3786"
             ],
             [
              0.5555555555555556,
              "#d8576b"
             ],
             [
              0.6666666666666666,
              "#ed7953"
             ],
             [
              0.7777777777777778,
              "#fb9f3a"
             ],
             [
              0.8888888888888888,
              "#fdca26"
             ],
             [
              1,
              "#f0f921"
             ]
            ],
            "type": "contour"
           }
          ],
          "contourcarpet": [
           {
            "colorbar": {
             "outlinewidth": 0,
             "ticks": ""
            },
            "type": "contourcarpet"
           }
          ],
          "heatmap": [
           {
            "colorbar": {
             "outlinewidth": 0,
             "ticks": ""
            },
            "colorscale": [
             [
              0,
              "#0d0887"
             ],
             [
              0.1111111111111111,
              "#46039f"
             ],
             [
              0.2222222222222222,
              "#7201a8"
             ],
             [
              0.3333333333333333,
              "#9c179e"
             ],
             [
              0.4444444444444444,
              "#bd3786"
             ],
             [
              0.5555555555555556,
              "#d8576b"
             ],
             [
              0.6666666666666666,
              "#ed7953"
             ],
             [
              0.7777777777777778,
              "#fb9f3a"
             ],
             [
              0.8888888888888888,
              "#fdca26"
             ],
             [
              1,
              "#f0f921"
             ]
            ],
            "type": "heatmap"
           }
          ],
          "heatmapgl": [
           {
            "colorbar": {
             "outlinewidth": 0,
             "ticks": ""
            },
            "colorscale": [
             [
              0,
              "#0d0887"
             ],
             [
              0.1111111111111111,
              "#46039f"
             ],
             [
              0.2222222222222222,
              "#7201a8"
             ],
             [
              0.3333333333333333,
              "#9c179e"
             ],
             [
              0.4444444444444444,
              "#bd3786"
             ],
             [
              0.5555555555555556,
              "#d8576b"
             ],
             [
              0.6666666666666666,
              "#ed7953"
             ],
             [
              0.7777777777777778,
              "#fb9f3a"
             ],
             [
              0.8888888888888888,
              "#fdca26"
             ],
             [
              1,
              "#f0f921"
             ]
            ],
            "type": "heatmapgl"
           }
          ],
          "histogram": [
           {
            "marker": {
             "pattern": {
              "fillmode": "overlay",
              "size": 10,
              "solidity": 0.2
             }
            },
            "type": "histogram"
           }
          ],
          "histogram2d": [
           {
            "colorbar": {
             "outlinewidth": 0,
             "ticks": ""
            },
            "colorscale": [
             [
              0,
              "#0d0887"
             ],
             [
              0.1111111111111111,
              "#46039f"
             ],
             [
              0.2222222222222222,
              "#7201a8"
             ],
             [
              0.3333333333333333,
              "#9c179e"
             ],
             [
              0.4444444444444444,
              "#bd3786"
             ],
             [
              0.5555555555555556,
              "#d8576b"
             ],
             [
              0.6666666666666666,
              "#ed7953"
             ],
             [
              0.7777777777777778,
              "#fb9f3a"
             ],
             [
              0.8888888888888888,
              "#fdca26"
             ],
             [
              1,
              "#f0f921"
             ]
            ],
            "type": "histogram2d"
           }
          ],
          "histogram2dcontour": [
           {
            "colorbar": {
             "outlinewidth": 0,
             "ticks": ""
            },
            "colorscale": [
             [
              0,
              "#0d0887"
             ],
             [
              0.1111111111111111,
              "#46039f"
             ],
             [
              0.2222222222222222,
              "#7201a8"
             ],
             [
              0.3333333333333333,
              "#9c179e"
             ],
             [
              0.4444444444444444,
              "#bd3786"
             ],
             [
              0.5555555555555556,
              "#d8576b"
             ],
             [
              0.6666666666666666,
              "#ed7953"
             ],
             [
              0.7777777777777778,
              "#fb9f3a"
             ],
             [
              0.8888888888888888,
              "#fdca26"
             ],
             [
              1,
              "#f0f921"
             ]
            ],
            "type": "histogram2dcontour"
           }
          ],
          "mesh3d": [
           {
            "colorbar": {
             "outlinewidth": 0,
             "ticks": ""
            },
            "type": "mesh3d"
           }
          ],
          "parcoords": [
           {
            "line": {
             "colorbar": {
              "outlinewidth": 0,
              "ticks": ""
             }
            },
            "type": "parcoords"
           }
          ],
          "pie": [
           {
            "automargin": true,
            "type": "pie"
           }
          ],
          "scatter": [
           {
            "fillpattern": {
             "fillmode": "overlay",
             "size": 10,
             "solidity": 0.2
            },
            "type": "scatter"
           }
          ],
          "scatter3d": [
           {
            "line": {
             "colorbar": {
              "outlinewidth": 0,
              "ticks": ""
             }
            },
            "marker": {
             "colorbar": {
              "outlinewidth": 0,
              "ticks": ""
             }
            },
            "type": "scatter3d"
           }
          ],
          "scattercarpet": [
           {
            "marker": {
             "colorbar": {
              "outlinewidth": 0,
              "ticks": ""
             }
            },
            "type": "scattercarpet"
           }
          ],
          "scattergeo": [
           {
            "marker": {
             "colorbar": {
              "outlinewidth": 0,
              "ticks": ""
             }
            },
            "type": "scattergeo"
           }
          ],
          "scattergl": [
           {
            "marker": {
             "colorbar": {
              "outlinewidth": 0,
              "ticks": ""
             }
            },
            "type": "scattergl"
           }
          ],
          "scattermapbox": [
           {
            "marker": {
             "colorbar": {
              "outlinewidth": 0,
              "ticks": ""
             }
            },
            "type": "scattermapbox"
           }
          ],
          "scatterpolar": [
           {
            "marker": {
             "colorbar": {
              "outlinewidth": 0,
              "ticks": ""
             }
            },
            "type": "scatterpolar"
           }
          ],
          "scatterpolargl": [
           {
            "marker": {
             "colorbar": {
              "outlinewidth": 0,
              "ticks": ""
             }
            },
            "type": "scatterpolargl"
           }
          ],
          "scatterternary": [
           {
            "marker": {
             "colorbar": {
              "outlinewidth": 0,
              "ticks": ""
             }
            },
            "type": "scatterternary"
           }
          ],
          "surface": [
           {
            "colorbar": {
             "outlinewidth": 0,
             "ticks": ""
            },
            "colorscale": [
             [
              0,
              "#0d0887"
             ],
             [
              0.1111111111111111,
              "#46039f"
             ],
             [
              0.2222222222222222,
              "#7201a8"
             ],
             [
              0.3333333333333333,
              "#9c179e"
             ],
             [
              0.4444444444444444,
              "#bd3786"
             ],
             [
              0.5555555555555556,
              "#d8576b"
             ],
             [
              0.6666666666666666,
              "#ed7953"
             ],
             [
              0.7777777777777778,
              "#fb9f3a"
             ],
             [
              0.8888888888888888,
              "#fdca26"
             ],
             [
              1,
              "#f0f921"
             ]
            ],
            "type": "surface"
           }
          ],
          "table": [
           {
            "cells": {
             "fill": {
              "color": "#EBF0F8"
             },
             "line": {
              "color": "white"
             }
            },
            "header": {
             "fill": {
              "color": "#C8D4E3"
             },
             "line": {
              "color": "white"
             }
            },
            "type": "table"
           }
          ]
         },
         "layout": {
          "annotationdefaults": {
           "arrowcolor": "#2a3f5f",
           "arrowhead": 0,
           "arrowwidth": 1
          },
          "autotypenumbers": "strict",
          "coloraxis": {
           "colorbar": {
            "outlinewidth": 0,
            "ticks": ""
           }
          },
          "colorscale": {
           "diverging": [
            [
             0,
             "#8e0152"
            ],
            [
             0.1,
             "#c51b7d"
            ],
            [
             0.2,
             "#de77ae"
            ],
            [
             0.3,
             "#f1b6da"
            ],
            [
             0.4,
             "#fde0ef"
            ],
            [
             0.5,
             "#f7f7f7"
            ],
            [
             0.6,
             "#e6f5d0"
            ],
            [
             0.7,
             "#b8e186"
            ],
            [
             0.8,
             "#7fbc41"
            ],
            [
             0.9,
             "#4d9221"
            ],
            [
             1,
             "#276419"
            ]
           ],
           "sequential": [
            [
             0,
             "#0d0887"
            ],
            [
             0.1111111111111111,
             "#46039f"
            ],
            [
             0.2222222222222222,
             "#7201a8"
            ],
            [
             0.3333333333333333,
             "#9c179e"
            ],
            [
             0.4444444444444444,
             "#bd3786"
            ],
            [
             0.5555555555555556,
             "#d8576b"
            ],
            [
             0.6666666666666666,
             "#ed7953"
            ],
            [
             0.7777777777777778,
             "#fb9f3a"
            ],
            [
             0.8888888888888888,
             "#fdca26"
            ],
            [
             1,
             "#f0f921"
            ]
           ],
           "sequentialminus": [
            [
             0,
             "#0d0887"
            ],
            [
             0.1111111111111111,
             "#46039f"
            ],
            [
             0.2222222222222222,
             "#7201a8"
            ],
            [
             0.3333333333333333,
             "#9c179e"
            ],
            [
             0.4444444444444444,
             "#bd3786"
            ],
            [
             0.5555555555555556,
             "#d8576b"
            ],
            [
             0.6666666666666666,
             "#ed7953"
            ],
            [
             0.7777777777777778,
             "#fb9f3a"
            ],
            [
             0.8888888888888888,
             "#fdca26"
            ],
            [
             1,
             "#f0f921"
            ]
           ]
          },
          "colorway": [
           "#636efa",
           "#EF553B",
           "#00cc96",
           "#ab63fa",
           "#FFA15A",
           "#19d3f3",
           "#FF6692",
           "#B6E880",
           "#FF97FF",
           "#FECB52"
          ],
          "font": {
           "color": "#2a3f5f"
          },
          "geo": {
           "bgcolor": "white",
           "lakecolor": "white",
           "landcolor": "#E5ECF6",
           "showlakes": true,
           "showland": true,
           "subunitcolor": "white"
          },
          "hoverlabel": {
           "align": "left"
          },
          "hovermode": "closest",
          "mapbox": {
           "style": "light"
          },
          "paper_bgcolor": "white",
          "plot_bgcolor": "#E5ECF6",
          "polar": {
           "angularaxis": {
            "gridcolor": "white",
            "linecolor": "white",
            "ticks": ""
           },
           "bgcolor": "#E5ECF6",
           "radialaxis": {
            "gridcolor": "white",
            "linecolor": "white",
            "ticks": ""
           }
          },
          "scene": {
           "xaxis": {
            "backgroundcolor": "#E5ECF6",
            "gridcolor": "white",
            "gridwidth": 2,
            "linecolor": "white",
            "showbackground": true,
            "ticks": "",
            "zerolinecolor": "white"
           },
           "yaxis": {
            "backgroundcolor": "#E5ECF6",
            "gridcolor": "white",
            "gridwidth": 2,
            "linecolor": "white",
            "showbackground": true,
            "ticks": "",
            "zerolinecolor": "white"
           },
           "zaxis": {
            "backgroundcolor": "#E5ECF6",
            "gridcolor": "white",
            "gridwidth": 2,
            "linecolor": "white",
            "showbackground": true,
            "ticks": "",
            "zerolinecolor": "white"
           }
          },
          "shapedefaults": {
           "line": {
            "color": "#2a3f5f"
           }
          },
          "ternary": {
           "aaxis": {
            "gridcolor": "white",
            "linecolor": "white",
            "ticks": ""
           },
           "baxis": {
            "gridcolor": "white",
            "linecolor": "white",
            "ticks": ""
           },
           "bgcolor": "#E5ECF6",
           "caxis": {
            "gridcolor": "white",
            "linecolor": "white",
            "ticks": ""
           }
          },
          "title": {
           "x": 0.05
          },
          "xaxis": {
           "automargin": true,
           "gridcolor": "white",
           "linecolor": "white",
           "ticks": "",
           "title": {
            "standoff": 15
           },
           "zerolinecolor": "white",
           "zerolinewidth": 2
          },
          "yaxis": {
           "automargin": true,
           "gridcolor": "white",
           "linecolor": "white",
           "ticks": "",
           "title": {
            "standoff": 15
           },
           "zerolinecolor": "white",
           "zerolinewidth": 2
          }
         }
        },
        "title": {
         "font": {
          "color": "black",
          "size": 24
         },
         "text": "Distribuição por continente das vendas de vinhos de mesa"
        },
        "width": 1000
       }
      }
     },
     "metadata": {},
     "output_type": "display_data"
    }
   ],
   "source": [
    "# Importando a biblioteca\n",
    "import plotly.express as px\n",
    "\n",
    "# Gerando o gráfico de árvore (TREEMAP)\n",
    "fig = px.treemap(dados_dolar_anual.query(\"Ano == 2021\"),\n",
    "                 path=[px.Constant(\"Em 2021\"), 'Continente'],\n",
    "                 values='Vendas_Dolar', color='Continente', title='Distribuição por continente das vendas de vinhos de mesa',\n",
    "                 color_discrete_map={'(?)': \"white\"})\n",
    "\n",
    "# Ajustando o layout do gráfico\n",
    "fig.update_layout(width=1000, height=400, margin = dict(t=50, l=25, r=25, b=25), font_family = 'DejaVu Sans',\n",
    "                  font_size=14, font_color= \"grey\", title_font_color= \"black\", title_font_size=24)\n",
    "\n",
    "fig.update_traces(hovertemplate='<b>Vendas:</b> = U$ %{value}')\n",
    "\n",
    "fig.add_annotation(text='Fonte dos dados: <a href=\"http://vitibrasil.cnpuv.embrapa.br/index.php\">'\n",
    "                        'Dados da Vitivinicultura (Embrapa Uva e Vinho)</a>',\n",
    "                   align=\"left\", xref=\"paper\", yref = \"paper\", x=1, y=-0.03, showarrow=False, font_size=12)\n",
    "fig.show()"
   ]
  },
  {
   "cell_type": "code",
   "execution_count": null,
   "metadata": {},
   "outputs": [],
   "source": []
  },
  {
   "attachments": {},
   "cell_type": "markdown",
   "metadata": {},
   "source": [
    "## Distribuição por top 10 países das vendas de vinhos de mesa (2007 e 2021)"
   ]
  },
  {
   "cell_type": "code",
   "execution_count": 118,
   "metadata": {},
   "outputs": [
    {
     "data": {
      "text/html": [
       "<div>\n",
       "<style scoped>\n",
       "    .dataframe tbody tr th:only-of-type {\n",
       "        vertical-align: middle;\n",
       "    }\n",
       "\n",
       "    .dataframe tbody tr th {\n",
       "        vertical-align: top;\n",
       "    }\n",
       "\n",
       "    .dataframe thead th {\n",
       "        text-align: right;\n",
       "    }\n",
       "</style>\n",
       "<table border=\"1\" class=\"dataframe\">\n",
       "  <thead>\n",
       "    <tr style=\"text-align: right;\">\n",
       "      <th></th>\n",
       "      <th>País</th>\n",
       "      <th>2007</th>\n",
       "      <th>2008</th>\n",
       "      <th>2009</th>\n",
       "      <th>2010</th>\n",
       "      <th>2011</th>\n",
       "      <th>2012</th>\n",
       "      <th>2013</th>\n",
       "      <th>2014</th>\n",
       "      <th>2015</th>\n",
       "      <th>2016</th>\n",
       "      <th>2017</th>\n",
       "      <th>2018</th>\n",
       "      <th>2019</th>\n",
       "      <th>2020</th>\n",
       "      <th>2021</th>\n",
       "      <th>Total</th>\n",
       "      <th>Continente</th>\n",
       "    </tr>\n",
       "  </thead>\n",
       "  <tbody>\n",
       "    <tr>\n",
       "      <th>70</th>\n",
       "      <td>Paraguai</td>\n",
       "      <td>801519</td>\n",
       "      <td>1374088</td>\n",
       "      <td>392087</td>\n",
       "      <td>449197</td>\n",
       "      <td>276281</td>\n",
       "      <td>428279</td>\n",
       "      <td>680828</td>\n",
       "      <td>908028</td>\n",
       "      <td>741370</td>\n",
       "      <td>1655417</td>\n",
       "      <td>4274650</td>\n",
       "      <td>5494321</td>\n",
       "      <td>3826587</td>\n",
       "      <td>3869243</td>\n",
       "      <td>7192362</td>\n",
       "      <td>31562738</td>\n",
       "      <td>América</td>\n",
       "    </tr>\n",
       "    <tr>\n",
       "      <th>76</th>\n",
       "      <td>Rússia</td>\n",
       "      <td>173160</td>\n",
       "      <td>2352768</td>\n",
       "      <td>5732280</td>\n",
       "      <td>0</td>\n",
       "      <td>0</td>\n",
       "      <td>2103968</td>\n",
       "      <td>14795694</td>\n",
       "      <td>61440</td>\n",
       "      <td>18240</td>\n",
       "      <td>0</td>\n",
       "      <td>0</td>\n",
       "      <td>0</td>\n",
       "      <td>0</td>\n",
       "      <td>8550</td>\n",
       "      <td>312926</td>\n",
       "      <td>25385866</td>\n",
       "      <td>Europa</td>\n",
       "    </tr>\n",
       "    <tr>\n",
       "      <th>36</th>\n",
       "      <td>Estados Unidos</td>\n",
       "      <td>810038</td>\n",
       "      <td>804607</td>\n",
       "      <td>660066</td>\n",
       "      <td>478630</td>\n",
       "      <td>1030254</td>\n",
       "      <td>303986</td>\n",
       "      <td>786556</td>\n",
       "      <td>494216</td>\n",
       "      <td>524109</td>\n",
       "      <td>687411</td>\n",
       "      <td>1523699</td>\n",
       "      <td>512519</td>\n",
       "      <td>616274</td>\n",
       "      <td>610793</td>\n",
       "      <td>203554</td>\n",
       "      <td>9236674</td>\n",
       "      <td>América</td>\n",
       "    </tr>\n",
       "    <tr>\n",
       "      <th>74</th>\n",
       "      <td>Reino Unido</td>\n",
       "      <td>144244</td>\n",
       "      <td>155076</td>\n",
       "      <td>68788</td>\n",
       "      <td>295690</td>\n",
       "      <td>285642</td>\n",
       "      <td>334856</td>\n",
       "      <td>305005</td>\n",
       "      <td>1373747</td>\n",
       "      <td>308407</td>\n",
       "      <td>536681</td>\n",
       "      <td>242883</td>\n",
       "      <td>296827</td>\n",
       "      <td>164592</td>\n",
       "      <td>82722</td>\n",
       "      <td>122394</td>\n",
       "      <td>4573310</td>\n",
       "      <td>Europa</td>\n",
       "    </tr>\n",
       "    <tr>\n",
       "      <th>21</th>\n",
       "      <td>China</td>\n",
       "      <td>30390</td>\n",
       "      <td>25926</td>\n",
       "      <td>482400</td>\n",
       "      <td>2358</td>\n",
       "      <td>334867</td>\n",
       "      <td>642177</td>\n",
       "      <td>279956</td>\n",
       "      <td>455340</td>\n",
       "      <td>222866</td>\n",
       "      <td>499622</td>\n",
       "      <td>266086</td>\n",
       "      <td>126336</td>\n",
       "      <td>376828</td>\n",
       "      <td>363000</td>\n",
       "      <td>264116</td>\n",
       "      <td>4341878</td>\n",
       "      <td>Ásia</td>\n",
       "    </tr>\n",
       "    <tr>\n",
       "      <th>35</th>\n",
       "      <td>Espanha</td>\n",
       "      <td>0</td>\n",
       "      <td>6834</td>\n",
       "      <td>4050</td>\n",
       "      <td>0</td>\n",
       "      <td>24618</td>\n",
       "      <td>0</td>\n",
       "      <td>3748940</td>\n",
       "      <td>0</td>\n",
       "      <td>0</td>\n",
       "      <td>0</td>\n",
       "      <td>0</td>\n",
       "      <td>22631</td>\n",
       "      <td>1353</td>\n",
       "      <td>126</td>\n",
       "      <td>0</td>\n",
       "      <td>3808552</td>\n",
       "      <td>Europa</td>\n",
       "    </tr>\n",
       "    <tr>\n",
       "      <th>68</th>\n",
       "      <td>Países Baixos</td>\n",
       "      <td>364751</td>\n",
       "      <td>783635</td>\n",
       "      <td>136991</td>\n",
       "      <td>302182</td>\n",
       "      <td>395356</td>\n",
       "      <td>539641</td>\n",
       "      <td>255690</td>\n",
       "      <td>773767</td>\n",
       "      <td>186464</td>\n",
       "      <td>190203</td>\n",
       "      <td>0</td>\n",
       "      <td>32395</td>\n",
       "      <td>148031</td>\n",
       "      <td>1532</td>\n",
       "      <td>8484</td>\n",
       "      <td>3754371</td>\n",
       "      <td>Europa</td>\n",
       "    </tr>\n",
       "    <tr>\n",
       "      <th>2</th>\n",
       "      <td>Alemanha</td>\n",
       "      <td>238052</td>\n",
       "      <td>429970</td>\n",
       "      <td>393482</td>\n",
       "      <td>138666</td>\n",
       "      <td>144150</td>\n",
       "      <td>56342</td>\n",
       "      <td>265978</td>\n",
       "      <td>761653</td>\n",
       "      <td>44780</td>\n",
       "      <td>68109</td>\n",
       "      <td>87702</td>\n",
       "      <td>45382</td>\n",
       "      <td>25467</td>\n",
       "      <td>32605</td>\n",
       "      <td>6741</td>\n",
       "      <td>2501027</td>\n",
       "      <td>Europa</td>\n",
       "    </tr>\n",
       "    <tr>\n",
       "      <th>54</th>\n",
       "      <td>Japão</td>\n",
       "      <td>316867</td>\n",
       "      <td>178333</td>\n",
       "      <td>283436</td>\n",
       "      <td>74628</td>\n",
       "      <td>144662</td>\n",
       "      <td>116961</td>\n",
       "      <td>429088</td>\n",
       "      <td>401774</td>\n",
       "      <td>87853</td>\n",
       "      <td>90954</td>\n",
       "      <td>92886</td>\n",
       "      <td>112342</td>\n",
       "      <td>99642</td>\n",
       "      <td>92674</td>\n",
       "      <td>90275</td>\n",
       "      <td>2295508</td>\n",
       "      <td>Ásia</td>\n",
       "    </tr>\n",
       "    <tr>\n",
       "      <th>44</th>\n",
       "      <td>Haiti</td>\n",
       "      <td>0</td>\n",
       "      <td>20</td>\n",
       "      <td>5863</td>\n",
       "      <td>3750</td>\n",
       "      <td>0</td>\n",
       "      <td>0</td>\n",
       "      <td>0</td>\n",
       "      <td>0</td>\n",
       "      <td>0</td>\n",
       "      <td>0</td>\n",
       "      <td>0</td>\n",
       "      <td>144425</td>\n",
       "      <td>129803</td>\n",
       "      <td>471152</td>\n",
       "      <td>831181</td>\n",
       "      <td>1586194</td>\n",
       "      <td>América</td>\n",
       "    </tr>\n",
       "  </tbody>\n",
       "</table>\n",
       "</div>"
      ],
      "text/plain": [
       "              País    2007     2008     2009    2010     2011     2012  \\\n",
       "70        Paraguai  801519  1374088   392087  449197   276281   428279   \n",
       "76          Rússia  173160  2352768  5732280       0        0  2103968   \n",
       "36  Estados Unidos  810038   804607   660066  478630  1030254   303986   \n",
       "74     Reino Unido  144244   155076    68788  295690   285642   334856   \n",
       "21           China   30390    25926   482400    2358   334867   642177   \n",
       "35         Espanha       0     6834     4050       0    24618        0   \n",
       "68   Países Baixos  364751   783635   136991  302182   395356   539641   \n",
       "2         Alemanha  238052   429970   393482  138666   144150    56342   \n",
       "54           Japão  316867   178333   283436   74628   144662   116961   \n",
       "44           Haiti       0       20     5863    3750        0        0   \n",
       "\n",
       "        2013     2014    2015     2016     2017     2018     2019     2020  \\\n",
       "70    680828   908028  741370  1655417  4274650  5494321  3826587  3869243   \n",
       "76  14795694    61440   18240        0        0        0        0     8550   \n",
       "36    786556   494216  524109   687411  1523699   512519   616274   610793   \n",
       "74    305005  1373747  308407   536681   242883   296827   164592    82722   \n",
       "21    279956   455340  222866   499622   266086   126336   376828   363000   \n",
       "35   3748940        0       0        0        0    22631     1353      126   \n",
       "68    255690   773767  186464   190203        0    32395   148031     1532   \n",
       "2     265978   761653   44780    68109    87702    45382    25467    32605   \n",
       "54    429088   401774   87853    90954    92886   112342    99642    92674   \n",
       "44         0        0       0        0        0   144425   129803   471152   \n",
       "\n",
       "       2021     Total Continente  \n",
       "70  7192362  31562738    América  \n",
       "76   312926  25385866     Europa  \n",
       "36   203554   9236674    América  \n",
       "74   122394   4573310     Europa  \n",
       "21   264116   4341878       Ásia  \n",
       "35        0   3808552     Europa  \n",
       "68     8484   3754371     Europa  \n",
       "2      6741   2501027     Europa  \n",
       "54    90275   2295508       Ásia  \n",
       "44   831181   1586194    América  "
      ]
     },
     "execution_count": 118,
     "metadata": {},
     "output_type": "execute_result"
    }
   ],
   "source": [
    "dados_dolar_anual_paises = dados_dolar_combinado.copy()\n",
    "dados_dolar_anual_paises.columns = dados_dolar_anual_paises.columns.str.replace(\"-Dolar\",\"\")\n",
    "dados_dolar_anual_paises = dados_dolar_anual_paises.sort_values(\"Total\", axis= 0 , ascending= False)\n",
    "dados_dolar_anual_paises = dados_dolar_anual_paises[:10]\n",
    "dados_dolar_anual_paises"
   ]
  },
  {
   "cell_type": "code",
   "execution_count": 119,
   "metadata": {},
   "outputs": [
    {
     "data": {
      "text/html": [
       "<div>\n",
       "<style scoped>\n",
       "    .dataframe tbody tr th:only-of-type {\n",
       "        vertical-align: middle;\n",
       "    }\n",
       "\n",
       "    .dataframe tbody tr th {\n",
       "        vertical-align: top;\n",
       "    }\n",
       "\n",
       "    .dataframe thead th {\n",
       "        text-align: right;\n",
       "    }\n",
       "</style>\n",
       "<table border=\"1\" class=\"dataframe\">\n",
       "  <thead>\n",
       "    <tr style=\"text-align: right;\">\n",
       "      <th></th>\n",
       "      <th>País</th>\n",
       "      <th>Ano</th>\n",
       "      <th>Vendas_Dolar</th>\n",
       "    </tr>\n",
       "  </thead>\n",
       "  <tbody>\n",
       "    <tr>\n",
       "      <th>0</th>\n",
       "      <td>Paraguai</td>\n",
       "      <td>2007</td>\n",
       "      <td>801519</td>\n",
       "    </tr>\n",
       "    <tr>\n",
       "      <th>1</th>\n",
       "      <td>Rússia</td>\n",
       "      <td>2007</td>\n",
       "      <td>173160</td>\n",
       "    </tr>\n",
       "    <tr>\n",
       "      <th>2</th>\n",
       "      <td>Estados Unidos</td>\n",
       "      <td>2007</td>\n",
       "      <td>810038</td>\n",
       "    </tr>\n",
       "    <tr>\n",
       "      <th>3</th>\n",
       "      <td>Reino Unido</td>\n",
       "      <td>2007</td>\n",
       "      <td>144244</td>\n",
       "    </tr>\n",
       "    <tr>\n",
       "      <th>4</th>\n",
       "      <td>China</td>\n",
       "      <td>2007</td>\n",
       "      <td>30390</td>\n",
       "    </tr>\n",
       "  </tbody>\n",
       "</table>\n",
       "</div>"
      ],
      "text/plain": [
       "             País   Ano  Vendas_Dolar\n",
       "0        Paraguai  2007        801519\n",
       "1          Rússia  2007        173160\n",
       "2  Estados Unidos  2007        810038\n",
       "3     Reino Unido  2007        144244\n",
       "4           China  2007         30390"
      ]
     },
     "execution_count": 119,
     "metadata": {},
     "output_type": "execute_result"
    }
   ],
   "source": [
    "dados_dolar_anual_paises = dados_dolar_anual_paises.melt(id_vars = \"País\", value_vars=dados_dolar_anual_paises.columns[1:16], var_name=\"Ano\", value_name=\"Vendas_Dolar\")\n",
    "dados_dolar_anual_paises[\"Ano\"] = dados_dolar_anual_paises[\"Ano\"].astype(\"int64\")\n",
    "dados_dolar_anual_paises.head()"
   ]
  },
  {
   "cell_type": "code",
   "execution_count": 120,
   "metadata": {},
   "outputs": [
    {
     "data": {
      "application/vnd.plotly.v1+json": {
       "config": {
        "plotlyServerURL": "https://plot.ly"
       },
       "data": [
        {
         "branchvalues": "total",
         "customdata": [
          [
           "Países Baixos"
          ],
          [
           "Haiti"
          ],
          [
           "Japão"
          ],
          [
           "Espanha"
          ],
          [
           "Rússia"
          ],
          [
           "Reino Unido"
          ],
          [
           "Alemanha"
          ],
          [
           "Paraguai"
          ],
          [
           "Estados Unidos"
          ],
          [
           "China"
          ],
          [
           "(?)"
          ]
         ],
         "domain": {
          "x": [
           0,
           1
          ],
          "y": [
           0,
           1
          ]
         },
         "hovertemplate": "<b>Vendas:</b> = U$ %{value}",
         "ids": [
          "Em 2007/Países Baixos",
          "Em 2007/Haiti",
          "Em 2007/Japão",
          "Em 2007/Espanha",
          "Em 2007/Rússia",
          "Em 2007/Reino Unido",
          "Em 2007/Alemanha",
          "Em 2007/Paraguai",
          "Em 2007/Estados Unidos",
          "Em 2007/China",
          "Em 2007"
         ],
         "labels": [
          "Países Baixos",
          "Haiti",
          "Japão",
          "Espanha",
          "Rússia",
          "Reino Unido",
          "Alemanha",
          "Paraguai",
          "Estados Unidos",
          "China",
          "Em 2007"
         ],
         "marker": {
          "colors": [
           "#EF553B",
           "#00cc96",
           "#ab63fa",
           "#FFA15A",
           "#19d3f3",
           "#FF6692",
           "#B6E880",
           "#FF97FF",
           "#FECB52",
           "#636efa",
           "white"
          ]
         },
         "name": "",
         "parents": [
          "Em 2007",
          "Em 2007",
          "Em 2007",
          "Em 2007",
          "Em 2007",
          "Em 2007",
          "Em 2007",
          "Em 2007",
          "Em 2007",
          "Em 2007",
          ""
         ],
         "type": "treemap",
         "values": [
          364751,
          0,
          316867,
          0,
          173160,
          144244,
          238052,
          801519,
          810038,
          30390,
          2879021
         ]
        }
       ],
       "layout": {
        "annotations": [
         {
          "align": "left",
          "font": {
           "size": 12
          },
          "showarrow": false,
          "text": "Fonte dos dados: <a href=\"http://vitibrasil.cnpuv.embrapa.br/index.php\">Dados da Vitivinicultura (Embrapa Uva e Vinho)</a>",
          "x": 1,
          "xref": "paper",
          "y": -0.03,
          "yref": "paper"
         }
        ],
        "font": {
         "color": "grey",
         "family": "DejaVu Sans",
         "size": 14
        },
        "height": 400,
        "legend": {
         "tracegroupgap": 0
        },
        "margin": {
         "b": 25,
         "l": 25,
         "r": 25,
         "t": 50
        },
        "template": {
         "data": {
          "bar": [
           {
            "error_x": {
             "color": "#2a3f5f"
            },
            "error_y": {
             "color": "#2a3f5f"
            },
            "marker": {
             "line": {
              "color": "#E5ECF6",
              "width": 0.5
             },
             "pattern": {
              "fillmode": "overlay",
              "size": 10,
              "solidity": 0.2
             }
            },
            "type": "bar"
           }
          ],
          "barpolar": [
           {
            "marker": {
             "line": {
              "color": "#E5ECF6",
              "width": 0.5
             },
             "pattern": {
              "fillmode": "overlay",
              "size": 10,
              "solidity": 0.2
             }
            },
            "type": "barpolar"
           }
          ],
          "carpet": [
           {
            "aaxis": {
             "endlinecolor": "#2a3f5f",
             "gridcolor": "white",
             "linecolor": "white",
             "minorgridcolor": "white",
             "startlinecolor": "#2a3f5f"
            },
            "baxis": {
             "endlinecolor": "#2a3f5f",
             "gridcolor": "white",
             "linecolor": "white",
             "minorgridcolor": "white",
             "startlinecolor": "#2a3f5f"
            },
            "type": "carpet"
           }
          ],
          "choropleth": [
           {
            "colorbar": {
             "outlinewidth": 0,
             "ticks": ""
            },
            "type": "choropleth"
           }
          ],
          "contour": [
           {
            "colorbar": {
             "outlinewidth": 0,
             "ticks": ""
            },
            "colorscale": [
             [
              0,
              "#0d0887"
             ],
             [
              0.1111111111111111,
              "#46039f"
             ],
             [
              0.2222222222222222,
              "#7201a8"
             ],
             [
              0.3333333333333333,
              "#9c179e"
             ],
             [
              0.4444444444444444,
              "#bd3786"
             ],
             [
              0.5555555555555556,
              "#d8576b"
             ],
             [
              0.6666666666666666,
              "#ed7953"
             ],
             [
              0.7777777777777778,
              "#fb9f3a"
             ],
             [
              0.8888888888888888,
              "#fdca26"
             ],
             [
              1,
              "#f0f921"
             ]
            ],
            "type": "contour"
           }
          ],
          "contourcarpet": [
           {
            "colorbar": {
             "outlinewidth": 0,
             "ticks": ""
            },
            "type": "contourcarpet"
           }
          ],
          "heatmap": [
           {
            "colorbar": {
             "outlinewidth": 0,
             "ticks": ""
            },
            "colorscale": [
             [
              0,
              "#0d0887"
             ],
             [
              0.1111111111111111,
              "#46039f"
             ],
             [
              0.2222222222222222,
              "#7201a8"
             ],
             [
              0.3333333333333333,
              "#9c179e"
             ],
             [
              0.4444444444444444,
              "#bd3786"
             ],
             [
              0.5555555555555556,
              "#d8576b"
             ],
             [
              0.6666666666666666,
              "#ed7953"
             ],
             [
              0.7777777777777778,
              "#fb9f3a"
             ],
             [
              0.8888888888888888,
              "#fdca26"
             ],
             [
              1,
              "#f0f921"
             ]
            ],
            "type": "heatmap"
           }
          ],
          "heatmapgl": [
           {
            "colorbar": {
             "outlinewidth": 0,
             "ticks": ""
            },
            "colorscale": [
             [
              0,
              "#0d0887"
             ],
             [
              0.1111111111111111,
              "#46039f"
             ],
             [
              0.2222222222222222,
              "#7201a8"
             ],
             [
              0.3333333333333333,
              "#9c179e"
             ],
             [
              0.4444444444444444,
              "#bd3786"
             ],
             [
              0.5555555555555556,
              "#d8576b"
             ],
             [
              0.6666666666666666,
              "#ed7953"
             ],
             [
              0.7777777777777778,
              "#fb9f3a"
             ],
             [
              0.8888888888888888,
              "#fdca26"
             ],
             [
              1,
              "#f0f921"
             ]
            ],
            "type": "heatmapgl"
           }
          ],
          "histogram": [
           {
            "marker": {
             "pattern": {
              "fillmode": "overlay",
              "size": 10,
              "solidity": 0.2
             }
            },
            "type": "histogram"
           }
          ],
          "histogram2d": [
           {
            "colorbar": {
             "outlinewidth": 0,
             "ticks": ""
            },
            "colorscale": [
             [
              0,
              "#0d0887"
             ],
             [
              0.1111111111111111,
              "#46039f"
             ],
             [
              0.2222222222222222,
              "#7201a8"
             ],
             [
              0.3333333333333333,
              "#9c179e"
             ],
             [
              0.4444444444444444,
              "#bd3786"
             ],
             [
              0.5555555555555556,
              "#d8576b"
             ],
             [
              0.6666666666666666,
              "#ed7953"
             ],
             [
              0.7777777777777778,
              "#fb9f3a"
             ],
             [
              0.8888888888888888,
              "#fdca26"
             ],
             [
              1,
              "#f0f921"
             ]
            ],
            "type": "histogram2d"
           }
          ],
          "histogram2dcontour": [
           {
            "colorbar": {
             "outlinewidth": 0,
             "ticks": ""
            },
            "colorscale": [
             [
              0,
              "#0d0887"
             ],
             [
              0.1111111111111111,
              "#46039f"
             ],
             [
              0.2222222222222222,
              "#7201a8"
             ],
             [
              0.3333333333333333,
              "#9c179e"
             ],
             [
              0.4444444444444444,
              "#bd3786"
             ],
             [
              0.5555555555555556,
              "#d8576b"
             ],
             [
              0.6666666666666666,
              "#ed7953"
             ],
             [
              0.7777777777777778,
              "#fb9f3a"
             ],
             [
              0.8888888888888888,
              "#fdca26"
             ],
             [
              1,
              "#f0f921"
             ]
            ],
            "type": "histogram2dcontour"
           }
          ],
          "mesh3d": [
           {
            "colorbar": {
             "outlinewidth": 0,
             "ticks": ""
            },
            "type": "mesh3d"
           }
          ],
          "parcoords": [
           {
            "line": {
             "colorbar": {
              "outlinewidth": 0,
              "ticks": ""
             }
            },
            "type": "parcoords"
           }
          ],
          "pie": [
           {
            "automargin": true,
            "type": "pie"
           }
          ],
          "scatter": [
           {
            "fillpattern": {
             "fillmode": "overlay",
             "size": 10,
             "solidity": 0.2
            },
            "type": "scatter"
           }
          ],
          "scatter3d": [
           {
            "line": {
             "colorbar": {
              "outlinewidth": 0,
              "ticks": ""
             }
            },
            "marker": {
             "colorbar": {
              "outlinewidth": 0,
              "ticks": ""
             }
            },
            "type": "scatter3d"
           }
          ],
          "scattercarpet": [
           {
            "marker": {
             "colorbar": {
              "outlinewidth": 0,
              "ticks": ""
             }
            },
            "type": "scattercarpet"
           }
          ],
          "scattergeo": [
           {
            "marker": {
             "colorbar": {
              "outlinewidth": 0,
              "ticks": ""
             }
            },
            "type": "scattergeo"
           }
          ],
          "scattergl": [
           {
            "marker": {
             "colorbar": {
              "outlinewidth": 0,
              "ticks": ""
             }
            },
            "type": "scattergl"
           }
          ],
          "scattermapbox": [
           {
            "marker": {
             "colorbar": {
              "outlinewidth": 0,
              "ticks": ""
             }
            },
            "type": "scattermapbox"
           }
          ],
          "scatterpolar": [
           {
            "marker": {
             "colorbar": {
              "outlinewidth": 0,
              "ticks": ""
             }
            },
            "type": "scatterpolar"
           }
          ],
          "scatterpolargl": [
           {
            "marker": {
             "colorbar": {
              "outlinewidth": 0,
              "ticks": ""
             }
            },
            "type": "scatterpolargl"
           }
          ],
          "scatterternary": [
           {
            "marker": {
             "colorbar": {
              "outlinewidth": 0,
              "ticks": ""
             }
            },
            "type": "scatterternary"
           }
          ],
          "surface": [
           {
            "colorbar": {
             "outlinewidth": 0,
             "ticks": ""
            },
            "colorscale": [
             [
              0,
              "#0d0887"
             ],
             [
              0.1111111111111111,
              "#46039f"
             ],
             [
              0.2222222222222222,
              "#7201a8"
             ],
             [
              0.3333333333333333,
              "#9c179e"
             ],
             [
              0.4444444444444444,
              "#bd3786"
             ],
             [
              0.5555555555555556,
              "#d8576b"
             ],
             [
              0.6666666666666666,
              "#ed7953"
             ],
             [
              0.7777777777777778,
              "#fb9f3a"
             ],
             [
              0.8888888888888888,
              "#fdca26"
             ],
             [
              1,
              "#f0f921"
             ]
            ],
            "type": "surface"
           }
          ],
          "table": [
           {
            "cells": {
             "fill": {
              "color": "#EBF0F8"
             },
             "line": {
              "color": "white"
             }
            },
            "header": {
             "fill": {
              "color": "#C8D4E3"
             },
             "line": {
              "color": "white"
             }
            },
            "type": "table"
           }
          ]
         },
         "layout": {
          "annotationdefaults": {
           "arrowcolor": "#2a3f5f",
           "arrowhead": 0,
           "arrowwidth": 1
          },
          "autotypenumbers": "strict",
          "coloraxis": {
           "colorbar": {
            "outlinewidth": 0,
            "ticks": ""
           }
          },
          "colorscale": {
           "diverging": [
            [
             0,
             "#8e0152"
            ],
            [
             0.1,
             "#c51b7d"
            ],
            [
             0.2,
             "#de77ae"
            ],
            [
             0.3,
             "#f1b6da"
            ],
            [
             0.4,
             "#fde0ef"
            ],
            [
             0.5,
             "#f7f7f7"
            ],
            [
             0.6,
             "#e6f5d0"
            ],
            [
             0.7,
             "#b8e186"
            ],
            [
             0.8,
             "#7fbc41"
            ],
            [
             0.9,
             "#4d9221"
            ],
            [
             1,
             "#276419"
            ]
           ],
           "sequential": [
            [
             0,
             "#0d0887"
            ],
            [
             0.1111111111111111,
             "#46039f"
            ],
            [
             0.2222222222222222,
             "#7201a8"
            ],
            [
             0.3333333333333333,
             "#9c179e"
            ],
            [
             0.4444444444444444,
             "#bd3786"
            ],
            [
             0.5555555555555556,
             "#d8576b"
            ],
            [
             0.6666666666666666,
             "#ed7953"
            ],
            [
             0.7777777777777778,
             "#fb9f3a"
            ],
            [
             0.8888888888888888,
             "#fdca26"
            ],
            [
             1,
             "#f0f921"
            ]
           ],
           "sequentialminus": [
            [
             0,
             "#0d0887"
            ],
            [
             0.1111111111111111,
             "#46039f"
            ],
            [
             0.2222222222222222,
             "#7201a8"
            ],
            [
             0.3333333333333333,
             "#9c179e"
            ],
            [
             0.4444444444444444,
             "#bd3786"
            ],
            [
             0.5555555555555556,
             "#d8576b"
            ],
            [
             0.6666666666666666,
             "#ed7953"
            ],
            [
             0.7777777777777778,
             "#fb9f3a"
            ],
            [
             0.8888888888888888,
             "#fdca26"
            ],
            [
             1,
             "#f0f921"
            ]
           ]
          },
          "colorway": [
           "#636efa",
           "#EF553B",
           "#00cc96",
           "#ab63fa",
           "#FFA15A",
           "#19d3f3",
           "#FF6692",
           "#B6E880",
           "#FF97FF",
           "#FECB52"
          ],
          "font": {
           "color": "#2a3f5f"
          },
          "geo": {
           "bgcolor": "white",
           "lakecolor": "white",
           "landcolor": "#E5ECF6",
           "showlakes": true,
           "showland": true,
           "subunitcolor": "white"
          },
          "hoverlabel": {
           "align": "left"
          },
          "hovermode": "closest",
          "mapbox": {
           "style": "light"
          },
          "paper_bgcolor": "white",
          "plot_bgcolor": "#E5ECF6",
          "polar": {
           "angularaxis": {
            "gridcolor": "white",
            "linecolor": "white",
            "ticks": ""
           },
           "bgcolor": "#E5ECF6",
           "radialaxis": {
            "gridcolor": "white",
            "linecolor": "white",
            "ticks": ""
           }
          },
          "scene": {
           "xaxis": {
            "backgroundcolor": "#E5ECF6",
            "gridcolor": "white",
            "gridwidth": 2,
            "linecolor": "white",
            "showbackground": true,
            "ticks": "",
            "zerolinecolor": "white"
           },
           "yaxis": {
            "backgroundcolor": "#E5ECF6",
            "gridcolor": "white",
            "gridwidth": 2,
            "linecolor": "white",
            "showbackground": true,
            "ticks": "",
            "zerolinecolor": "white"
           },
           "zaxis": {
            "backgroundcolor": "#E5ECF6",
            "gridcolor": "white",
            "gridwidth": 2,
            "linecolor": "white",
            "showbackground": true,
            "ticks": "",
            "zerolinecolor": "white"
           }
          },
          "shapedefaults": {
           "line": {
            "color": "#2a3f5f"
           }
          },
          "ternary": {
           "aaxis": {
            "gridcolor": "white",
            "linecolor": "white",
            "ticks": ""
           },
           "baxis": {
            "gridcolor": "white",
            "linecolor": "white",
            "ticks": ""
           },
           "bgcolor": "#E5ECF6",
           "caxis": {
            "gridcolor": "white",
            "linecolor": "white",
            "ticks": ""
           }
          },
          "title": {
           "x": 0.05
          },
          "xaxis": {
           "automargin": true,
           "gridcolor": "white",
           "linecolor": "white",
           "ticks": "",
           "title": {
            "standoff": 15
           },
           "zerolinecolor": "white",
           "zerolinewidth": 2
          },
          "yaxis": {
           "automargin": true,
           "gridcolor": "white",
           "linecolor": "white",
           "ticks": "",
           "title": {
            "standoff": 15
           },
           "zerolinecolor": "white",
           "zerolinewidth": 2
          }
         }
        },
        "title": {
         "font": {
          "color": "black",
          "size": 24
         },
         "text": "Distribuição por país das vendas de vinhos de mesa"
        },
        "width": 1000
       }
      }
     },
     "metadata": {},
     "output_type": "display_data"
    }
   ],
   "source": [
    "# Importando a biblioteca\n",
    "import plotly.express as px\n",
    "\n",
    "# Gerando o gráfico de árvore (TREEMAP)\n",
    "fig = px.treemap(dados_dolar_anual_paises.query(\"Ano == 2007\"),\n",
    "                 path=[px.Constant(\"Em 2007\"), 'País'],\n",
    "                 values='Vendas_Dolar', color='País', title='Distribuição por país das vendas de vinhos de mesa',\n",
    "                 color_discrete_map={'(?)': \"white\"})\n",
    "\n",
    "# Ajustando o layout do gráfico\n",
    "fig.update_layout(width=1000, height=400, margin = dict(t=50, l=25, r=25, b=25), font_family = 'DejaVu Sans',\n",
    "                  font_size=14, font_color= \"grey\", title_font_color= \"black\", title_font_size=24)\n",
    "\n",
    "fig.update_traces(hovertemplate='<b>Vendas:</b> = U$ %{value}')\n",
    "\n",
    "fig.add_annotation(text='Fonte dos dados: <a href=\"http://vitibrasil.cnpuv.embrapa.br/index.php\">'\n",
    "                        'Dados da Vitivinicultura (Embrapa Uva e Vinho)</a>',\n",
    "                   align=\"left\", xref=\"paper\", yref = \"paper\", x=1, y=-0.03, showarrow=False, font_size=12)\n",
    "fig.show()"
   ]
  },
  {
   "cell_type": "code",
   "execution_count": 121,
   "metadata": {},
   "outputs": [
    {
     "data": {
      "application/vnd.plotly.v1+json": {
       "config": {
        "plotlyServerURL": "https://plot.ly"
       },
       "data": [
        {
         "branchvalues": "total",
         "customdata": [
          [
           "Países Baixos"
          ],
          [
           "Haiti"
          ],
          [
           "Japão"
          ],
          [
           "Espanha"
          ],
          [
           "Rússia"
          ],
          [
           "Reino Unido"
          ],
          [
           "Alemanha"
          ],
          [
           "Paraguai"
          ],
          [
           "Estados Unidos"
          ],
          [
           "China"
          ],
          [
           "(?)"
          ]
         ],
         "domain": {
          "x": [
           0,
           1
          ],
          "y": [
           0,
           1
          ]
         },
         "hovertemplate": "<b>Vendas:</b> = U$ %{value}",
         "ids": [
          "Em 2021/Países Baixos",
          "Em 2021/Haiti",
          "Em 2021/Japão",
          "Em 2021/Espanha",
          "Em 2021/Rússia",
          "Em 2021/Reino Unido",
          "Em 2021/Alemanha",
          "Em 2021/Paraguai",
          "Em 2021/Estados Unidos",
          "Em 2021/China",
          "Em 2021"
         ],
         "labels": [
          "Países Baixos",
          "Haiti",
          "Japão",
          "Espanha",
          "Rússia",
          "Reino Unido",
          "Alemanha",
          "Paraguai",
          "Estados Unidos",
          "China",
          "Em 2021"
         ],
         "marker": {
          "colors": [
           "#EF553B",
           "#00cc96",
           "#ab63fa",
           "#FFA15A",
           "#19d3f3",
           "#FF6692",
           "#B6E880",
           "#FF97FF",
           "#FECB52",
           "#636efa",
           "white"
          ]
         },
         "name": "",
         "parents": [
          "Em 2021",
          "Em 2021",
          "Em 2021",
          "Em 2021",
          "Em 2021",
          "Em 2021",
          "Em 2021",
          "Em 2021",
          "Em 2021",
          "Em 2021",
          ""
         ],
         "type": "treemap",
         "values": [
          8484,
          831181,
          90275,
          0,
          312926,
          122394,
          6741,
          7192362,
          203554,
          264116,
          9032033
         ]
        }
       ],
       "layout": {
        "annotations": [
         {
          "align": "left",
          "font": {
           "size": 12
          },
          "showarrow": false,
          "text": "Fonte dos dados: <a href=\"http://vitibrasil.cnpuv.embrapa.br/index.php\">Dados da Vitivinicultura (Embrapa Uva e Vinho)</a>",
          "x": 1,
          "xref": "paper",
          "y": -0.03,
          "yref": "paper"
         }
        ],
        "font": {
         "color": "grey",
         "family": "DejaVu Sans",
         "size": 14
        },
        "height": 400,
        "legend": {
         "tracegroupgap": 0
        },
        "margin": {
         "b": 25,
         "l": 25,
         "r": 25,
         "t": 50
        },
        "template": {
         "data": {
          "bar": [
           {
            "error_x": {
             "color": "#2a3f5f"
            },
            "error_y": {
             "color": "#2a3f5f"
            },
            "marker": {
             "line": {
              "color": "#E5ECF6",
              "width": 0.5
             },
             "pattern": {
              "fillmode": "overlay",
              "size": 10,
              "solidity": 0.2
             }
            },
            "type": "bar"
           }
          ],
          "barpolar": [
           {
            "marker": {
             "line": {
              "color": "#E5ECF6",
              "width": 0.5
             },
             "pattern": {
              "fillmode": "overlay",
              "size": 10,
              "solidity": 0.2
             }
            },
            "type": "barpolar"
           }
          ],
          "carpet": [
           {
            "aaxis": {
             "endlinecolor": "#2a3f5f",
             "gridcolor": "white",
             "linecolor": "white",
             "minorgridcolor": "white",
             "startlinecolor": "#2a3f5f"
            },
            "baxis": {
             "endlinecolor": "#2a3f5f",
             "gridcolor": "white",
             "linecolor": "white",
             "minorgridcolor": "white",
             "startlinecolor": "#2a3f5f"
            },
            "type": "carpet"
           }
          ],
          "choropleth": [
           {
            "colorbar": {
             "outlinewidth": 0,
             "ticks": ""
            },
            "type": "choropleth"
           }
          ],
          "contour": [
           {
            "colorbar": {
             "outlinewidth": 0,
             "ticks": ""
            },
            "colorscale": [
             [
              0,
              "#0d0887"
             ],
             [
              0.1111111111111111,
              "#46039f"
             ],
             [
              0.2222222222222222,
              "#7201a8"
             ],
             [
              0.3333333333333333,
              "#9c179e"
             ],
             [
              0.4444444444444444,
              "#bd3786"
             ],
             [
              0.5555555555555556,
              "#d8576b"
             ],
             [
              0.6666666666666666,
              "#ed7953"
             ],
             [
              0.7777777777777778,
              "#fb9f3a"
             ],
             [
              0.8888888888888888,
              "#fdca26"
             ],
             [
              1,
              "#f0f921"
             ]
            ],
            "type": "contour"
           }
          ],
          "contourcarpet": [
           {
            "colorbar": {
             "outlinewidth": 0,
             "ticks": ""
            },
            "type": "contourcarpet"
           }
          ],
          "heatmap": [
           {
            "colorbar": {
             "outlinewidth": 0,
             "ticks": ""
            },
            "colorscale": [
             [
              0,
              "#0d0887"
             ],
             [
              0.1111111111111111,
              "#46039f"
             ],
             [
              0.2222222222222222,
              "#7201a8"
             ],
             [
              0.3333333333333333,
              "#9c179e"
             ],
             [
              0.4444444444444444,
              "#bd3786"
             ],
             [
              0.5555555555555556,
              "#d8576b"
             ],
             [
              0.6666666666666666,
              "#ed7953"
             ],
             [
              0.7777777777777778,
              "#fb9f3a"
             ],
             [
              0.8888888888888888,
              "#fdca26"
             ],
             [
              1,
              "#f0f921"
             ]
            ],
            "type": "heatmap"
           }
          ],
          "heatmapgl": [
           {
            "colorbar": {
             "outlinewidth": 0,
             "ticks": ""
            },
            "colorscale": [
             [
              0,
              "#0d0887"
             ],
             [
              0.1111111111111111,
              "#46039f"
             ],
             [
              0.2222222222222222,
              "#7201a8"
             ],
             [
              0.3333333333333333,
              "#9c179e"
             ],
             [
              0.4444444444444444,
              "#bd3786"
             ],
             [
              0.5555555555555556,
              "#d8576b"
             ],
             [
              0.6666666666666666,
              "#ed7953"
             ],
             [
              0.7777777777777778,
              "#fb9f3a"
             ],
             [
              0.8888888888888888,
              "#fdca26"
             ],
             [
              1,
              "#f0f921"
             ]
            ],
            "type": "heatmapgl"
           }
          ],
          "histogram": [
           {
            "marker": {
             "pattern": {
              "fillmode": "overlay",
              "size": 10,
              "solidity": 0.2
             }
            },
            "type": "histogram"
           }
          ],
          "histogram2d": [
           {
            "colorbar": {
             "outlinewidth": 0,
             "ticks": ""
            },
            "colorscale": [
             [
              0,
              "#0d0887"
             ],
             [
              0.1111111111111111,
              "#46039f"
             ],
             [
              0.2222222222222222,
              "#7201a8"
             ],
             [
              0.3333333333333333,
              "#9c179e"
             ],
             [
              0.4444444444444444,
              "#bd3786"
             ],
             [
              0.5555555555555556,
              "#d8576b"
             ],
             [
              0.6666666666666666,
              "#ed7953"
             ],
             [
              0.7777777777777778,
              "#fb9f3a"
             ],
             [
              0.8888888888888888,
              "#fdca26"
             ],
             [
              1,
              "#f0f921"
             ]
            ],
            "type": "histogram2d"
           }
          ],
          "histogram2dcontour": [
           {
            "colorbar": {
             "outlinewidth": 0,
             "ticks": ""
            },
            "colorscale": [
             [
              0,
              "#0d0887"
             ],
             [
              0.1111111111111111,
              "#46039f"
             ],
             [
              0.2222222222222222,
              "#7201a8"
             ],
             [
              0.3333333333333333,
              "#9c179e"
             ],
             [
              0.4444444444444444,
              "#bd3786"
             ],
             [
              0.5555555555555556,
              "#d8576b"
             ],
             [
              0.6666666666666666,
              "#ed7953"
             ],
             [
              0.7777777777777778,
              "#fb9f3a"
             ],
             [
              0.8888888888888888,
              "#fdca26"
             ],
             [
              1,
              "#f0f921"
             ]
            ],
            "type": "histogram2dcontour"
           }
          ],
          "mesh3d": [
           {
            "colorbar": {
             "outlinewidth": 0,
             "ticks": ""
            },
            "type": "mesh3d"
           }
          ],
          "parcoords": [
           {
            "line": {
             "colorbar": {
              "outlinewidth": 0,
              "ticks": ""
             }
            },
            "type": "parcoords"
           }
          ],
          "pie": [
           {
            "automargin": true,
            "type": "pie"
           }
          ],
          "scatter": [
           {
            "fillpattern": {
             "fillmode": "overlay",
             "size": 10,
             "solidity": 0.2
            },
            "type": "scatter"
           }
          ],
          "scatter3d": [
           {
            "line": {
             "colorbar": {
              "outlinewidth": 0,
              "ticks": ""
             }
            },
            "marker": {
             "colorbar": {
              "outlinewidth": 0,
              "ticks": ""
             }
            },
            "type": "scatter3d"
           }
          ],
          "scattercarpet": [
           {
            "marker": {
             "colorbar": {
              "outlinewidth": 0,
              "ticks": ""
             }
            },
            "type": "scattercarpet"
           }
          ],
          "scattergeo": [
           {
            "marker": {
             "colorbar": {
              "outlinewidth": 0,
              "ticks": ""
             }
            },
            "type": "scattergeo"
           }
          ],
          "scattergl": [
           {
            "marker": {
             "colorbar": {
              "outlinewidth": 0,
              "ticks": ""
             }
            },
            "type": "scattergl"
           }
          ],
          "scattermapbox": [
           {
            "marker": {
             "colorbar": {
              "outlinewidth": 0,
              "ticks": ""
             }
            },
            "type": "scattermapbox"
           }
          ],
          "scatterpolar": [
           {
            "marker": {
             "colorbar": {
              "outlinewidth": 0,
              "ticks": ""
             }
            },
            "type": "scatterpolar"
           }
          ],
          "scatterpolargl": [
           {
            "marker": {
             "colorbar": {
              "outlinewidth": 0,
              "ticks": ""
             }
            },
            "type": "scatterpolargl"
           }
          ],
          "scatterternary": [
           {
            "marker": {
             "colorbar": {
              "outlinewidth": 0,
              "ticks": ""
             }
            },
            "type": "scatterternary"
           }
          ],
          "surface": [
           {
            "colorbar": {
             "outlinewidth": 0,
             "ticks": ""
            },
            "colorscale": [
             [
              0,
              "#0d0887"
             ],
             [
              0.1111111111111111,
              "#46039f"
             ],
             [
              0.2222222222222222,
              "#7201a8"
             ],
             [
              0.3333333333333333,
              "#9c179e"
             ],
             [
              0.4444444444444444,
              "#bd3786"
             ],
             [
              0.5555555555555556,
              "#d8576b"
             ],
             [
              0.6666666666666666,
              "#ed7953"
             ],
             [
              0.7777777777777778,
              "#fb9f3a"
             ],
             [
              0.8888888888888888,
              "#fdca26"
             ],
             [
              1,
              "#f0f921"
             ]
            ],
            "type": "surface"
           }
          ],
          "table": [
           {
            "cells": {
             "fill": {
              "color": "#EBF0F8"
             },
             "line": {
              "color": "white"
             }
            },
            "header": {
             "fill": {
              "color": "#C8D4E3"
             },
             "line": {
              "color": "white"
             }
            },
            "type": "table"
           }
          ]
         },
         "layout": {
          "annotationdefaults": {
           "arrowcolor": "#2a3f5f",
           "arrowhead": 0,
           "arrowwidth": 1
          },
          "autotypenumbers": "strict",
          "coloraxis": {
           "colorbar": {
            "outlinewidth": 0,
            "ticks": ""
           }
          },
          "colorscale": {
           "diverging": [
            [
             0,
             "#8e0152"
            ],
            [
             0.1,
             "#c51b7d"
            ],
            [
             0.2,
             "#de77ae"
            ],
            [
             0.3,
             "#f1b6da"
            ],
            [
             0.4,
             "#fde0ef"
            ],
            [
             0.5,
             "#f7f7f7"
            ],
            [
             0.6,
             "#e6f5d0"
            ],
            [
             0.7,
             "#b8e186"
            ],
            [
             0.8,
             "#7fbc41"
            ],
            [
             0.9,
             "#4d9221"
            ],
            [
             1,
             "#276419"
            ]
           ],
           "sequential": [
            [
             0,
             "#0d0887"
            ],
            [
             0.1111111111111111,
             "#46039f"
            ],
            [
             0.2222222222222222,
             "#7201a8"
            ],
            [
             0.3333333333333333,
             "#9c179e"
            ],
            [
             0.4444444444444444,
             "#bd3786"
            ],
            [
             0.5555555555555556,
             "#d8576b"
            ],
            [
             0.6666666666666666,
             "#ed7953"
            ],
            [
             0.7777777777777778,
             "#fb9f3a"
            ],
            [
             0.8888888888888888,
             "#fdca26"
            ],
            [
             1,
             "#f0f921"
            ]
           ],
           "sequentialminus": [
            [
             0,
             "#0d0887"
            ],
            [
             0.1111111111111111,
             "#46039f"
            ],
            [
             0.2222222222222222,
             "#7201a8"
            ],
            [
             0.3333333333333333,
             "#9c179e"
            ],
            [
             0.4444444444444444,
             "#bd3786"
            ],
            [
             0.5555555555555556,
             "#d8576b"
            ],
            [
             0.6666666666666666,
             "#ed7953"
            ],
            [
             0.7777777777777778,
             "#fb9f3a"
            ],
            [
             0.8888888888888888,
             "#fdca26"
            ],
            [
             1,
             "#f0f921"
            ]
           ]
          },
          "colorway": [
           "#636efa",
           "#EF553B",
           "#00cc96",
           "#ab63fa",
           "#FFA15A",
           "#19d3f3",
           "#FF6692",
           "#B6E880",
           "#FF97FF",
           "#FECB52"
          ],
          "font": {
           "color": "#2a3f5f"
          },
          "geo": {
           "bgcolor": "white",
           "lakecolor": "white",
           "landcolor": "#E5ECF6",
           "showlakes": true,
           "showland": true,
           "subunitcolor": "white"
          },
          "hoverlabel": {
           "align": "left"
          },
          "hovermode": "closest",
          "mapbox": {
           "style": "light"
          },
          "paper_bgcolor": "white",
          "plot_bgcolor": "#E5ECF6",
          "polar": {
           "angularaxis": {
            "gridcolor": "white",
            "linecolor": "white",
            "ticks": ""
           },
           "bgcolor": "#E5ECF6",
           "radialaxis": {
            "gridcolor": "white",
            "linecolor": "white",
            "ticks": ""
           }
          },
          "scene": {
           "xaxis": {
            "backgroundcolor": "#E5ECF6",
            "gridcolor": "white",
            "gridwidth": 2,
            "linecolor": "white",
            "showbackground": true,
            "ticks": "",
            "zerolinecolor": "white"
           },
           "yaxis": {
            "backgroundcolor": "#E5ECF6",
            "gridcolor": "white",
            "gridwidth": 2,
            "linecolor": "white",
            "showbackground": true,
            "ticks": "",
            "zerolinecolor": "white"
           },
           "zaxis": {
            "backgroundcolor": "#E5ECF6",
            "gridcolor": "white",
            "gridwidth": 2,
            "linecolor": "white",
            "showbackground": true,
            "ticks": "",
            "zerolinecolor": "white"
           }
          },
          "shapedefaults": {
           "line": {
            "color": "#2a3f5f"
           }
          },
          "ternary": {
           "aaxis": {
            "gridcolor": "white",
            "linecolor": "white",
            "ticks": ""
           },
           "baxis": {
            "gridcolor": "white",
            "linecolor": "white",
            "ticks": ""
           },
           "bgcolor": "#E5ECF6",
           "caxis": {
            "gridcolor": "white",
            "linecolor": "white",
            "ticks": ""
           }
          },
          "title": {
           "x": 0.05
          },
          "xaxis": {
           "automargin": true,
           "gridcolor": "white",
           "linecolor": "white",
           "ticks": "",
           "title": {
            "standoff": 15
           },
           "zerolinecolor": "white",
           "zerolinewidth": 2
          },
          "yaxis": {
           "automargin": true,
           "gridcolor": "white",
           "linecolor": "white",
           "ticks": "",
           "title": {
            "standoff": 15
           },
           "zerolinecolor": "white",
           "zerolinewidth": 2
          }
         }
        },
        "title": {
         "font": {
          "color": "black",
          "size": 24
         },
         "text": "Distribuição por país das vendas de vinhos de mesa"
        },
        "width": 1000
       }
      }
     },
     "metadata": {},
     "output_type": "display_data"
    }
   ],
   "source": [
    "# Importando a biblioteca\n",
    "import plotly.express as px\n",
    "\n",
    "# Gerando o gráfico de árvore (TREEMAP)\n",
    "fig = px.treemap(dados_dolar_anual_paises.query(\"Ano == 2021\"),\n",
    "                 path=[px.Constant(\"Em 2021\"), 'País'],\n",
    "                 values='Vendas_Dolar', color='País', title='Distribuição por país das vendas de vinhos de mesa',\n",
    "                 color_discrete_map={'(?)': \"white\"})\n",
    "\n",
    "# Ajustando o layout do gráfico\n",
    "fig.update_layout(width=1000, height=400, margin = dict(t=50, l=25, r=25, b=25), font_family = 'DejaVu Sans',\n",
    "                  font_size=14, font_color= \"grey\", title_font_color= \"black\", title_font_size=24)\n",
    "\n",
    "fig.update_traces(hovertemplate='<b>Vendas:</b> = U$ %{value}')\n",
    "\n",
    "fig.add_annotation(text='Fonte dos dados: <a href=\"http://vitibrasil.cnpuv.embrapa.br/index.php\">'\n",
    "                        'Dados da Vitivinicultura (Embrapa Uva e Vinho)</a>',\n",
    "                   align=\"left\", xref=\"paper\", yref = \"paper\", x=1, y=-0.03, showarrow=False, font_size=12)\n",
    "fig.show()"
   ]
  },
  {
   "attachments": {},
   "cell_type": "markdown",
   "metadata": {},
   "source": [
    "## Distribuição por top 10 países das vendas de vinhos de mesa (2007 a 2021)"
   ]
  },
  {
   "cell_type": "code",
   "execution_count": 122,
   "metadata": {},
   "outputs": [
    {
     "data": {
      "text/html": [
       "<div>\n",
       "<style scoped>\n",
       "    .dataframe tbody tr th:only-of-type {\n",
       "        vertical-align: middle;\n",
       "    }\n",
       "\n",
       "    .dataframe tbody tr th {\n",
       "        vertical-align: top;\n",
       "    }\n",
       "\n",
       "    .dataframe thead th {\n",
       "        text-align: right;\n",
       "    }\n",
       "</style>\n",
       "<table border=\"1\" class=\"dataframe\">\n",
       "  <thead>\n",
       "    <tr style=\"text-align: right;\">\n",
       "      <th></th>\n",
       "      <th>País</th>\n",
       "      <th>Vendas_Dolar</th>\n",
       "    </tr>\n",
       "  </thead>\n",
       "  <tbody>\n",
       "    <tr>\n",
       "      <th>6</th>\n",
       "      <td>Paraguai</td>\n",
       "      <td>32364257</td>\n",
       "    </tr>\n",
       "    <tr>\n",
       "      <th>9</th>\n",
       "      <td>Rússia</td>\n",
       "      <td>25559026</td>\n",
       "    </tr>\n",
       "    <tr>\n",
       "      <th>3</th>\n",
       "      <td>Estados Unidos</td>\n",
       "      <td>10046712</td>\n",
       "    </tr>\n",
       "    <tr>\n",
       "      <th>8</th>\n",
       "      <td>Reino Unido</td>\n",
       "      <td>4717554</td>\n",
       "    </tr>\n",
       "    <tr>\n",
       "      <th>1</th>\n",
       "      <td>China</td>\n",
       "      <td>4372268</td>\n",
       "    </tr>\n",
       "    <tr>\n",
       "      <th>7</th>\n",
       "      <td>Países Baixos</td>\n",
       "      <td>4119122</td>\n",
       "    </tr>\n",
       "    <tr>\n",
       "      <th>2</th>\n",
       "      <td>Espanha</td>\n",
       "      <td>3808552</td>\n",
       "    </tr>\n",
       "    <tr>\n",
       "      <th>0</th>\n",
       "      <td>Alemanha</td>\n",
       "      <td>2739079</td>\n",
       "    </tr>\n",
       "    <tr>\n",
       "      <th>5</th>\n",
       "      <td>Japão</td>\n",
       "      <td>2612375</td>\n",
       "    </tr>\n",
       "    <tr>\n",
       "      <th>4</th>\n",
       "      <td>Haiti</td>\n",
       "      <td>1586194</td>\n",
       "    </tr>\n",
       "  </tbody>\n",
       "</table>\n",
       "</div>"
      ],
      "text/plain": [
       "             País  Vendas_Dolar\n",
       "6        Paraguai      32364257\n",
       "9          Rússia      25559026\n",
       "3  Estados Unidos      10046712\n",
       "8     Reino Unido       4717554\n",
       "1           China       4372268\n",
       "7   Países Baixos       4119122\n",
       "2         Espanha       3808552\n",
       "0        Alemanha       2739079\n",
       "5           Japão       2612375\n",
       "4           Haiti       1586194"
      ]
     },
     "execution_count": 122,
     "metadata": {},
     "output_type": "execute_result"
    }
   ],
   "source": [
    "dados_dolar_paises_total = dados_dolar_anual_paises.groupby(\"País\").sum()[[\"Vendas_Dolar\"]]\n",
    "dados_dolar_paises_total = dados_dolar_paises_total.reset_index()\n",
    "dados_dolar_paises_total = dados_dolar_paises_total.sort_values(by = \"Vendas_Dolar\", ascending=False)\n",
    "dados_dolar_paises_total"
   ]
  },
  {
   "cell_type": "code",
   "execution_count": 123,
   "metadata": {},
   "outputs": [
    {
     "data": {
      "application/vnd.plotly.v1+json": {
       "config": {
        "plotlyServerURL": "https://plot.ly"
       },
       "data": [
        {
         "branchvalues": "total",
         "customdata": [
          [
           "Países Baixos"
          ],
          [
           "Haiti"
          ],
          [
           "Paraguai"
          ],
          [
           "Espanha"
          ],
          [
           "Rússia"
          ],
          [
           "Reino Unido"
          ],
          [
           "Alemanha"
          ],
          [
           "Japão"
          ],
          [
           "Estados Unidos"
          ],
          [
           "China"
          ],
          [
           "(?)"
          ]
         ],
         "domain": {
          "x": [
           0,
           1
          ],
          "y": [
           0,
           1
          ]
         },
         "hovertemplate": "<b>Vendas:</b> = U$ %{value}",
         "ids": [
          "2007 a 2021/Países Baixos",
          "2007 a 2021/Haiti",
          "2007 a 2021/Paraguai",
          "2007 a 2021/Espanha",
          "2007 a 2021/Rússia",
          "2007 a 2021/Reino Unido",
          "2007 a 2021/Alemanha",
          "2007 a 2021/Japão",
          "2007 a 2021/Estados Unidos",
          "2007 a 2021/China",
          "2007 a 2021"
         ],
         "labels": [
          "Países Baixos",
          "Haiti",
          "Paraguai",
          "Espanha",
          "Rússia",
          "Reino Unido",
          "Alemanha",
          "Japão",
          "Estados Unidos",
          "China",
          "2007 a 2021"
         ],
         "marker": {
          "colors": [
           "#EF553B",
           "#00cc96",
           "#ab63fa",
           "#FFA15A",
           "#19d3f3",
           "#FF6692",
           "#B6E880",
           "#FF97FF",
           "#FECB52",
           "#636efa",
           "white"
          ]
         },
         "name": "",
         "parents": [
          "2007 a 2021",
          "2007 a 2021",
          "2007 a 2021",
          "2007 a 2021",
          "2007 a 2021",
          "2007 a 2021",
          "2007 a 2021",
          "2007 a 2021",
          "2007 a 2021",
          "2007 a 2021",
          ""
         ],
         "type": "treemap",
         "values": [
          4119122,
          1586194,
          32364257,
          3808552,
          25559026,
          4717554,
          2739079,
          2612375,
          10046712,
          4372268,
          91925139
         ]
        }
       ],
       "layout": {
        "annotations": [
         {
          "align": "left",
          "font": {
           "size": 12
          },
          "showarrow": false,
          "text": "Fonte dos dados: <a href=\"http://vitibrasil.cnpuv.embrapa.br/index.php\">Dados da Vitivinicultura (Embrapa Uva e Vinho)</a>",
          "x": 1,
          "xref": "paper",
          "y": -0.03,
          "yref": "paper"
         }
        ],
        "font": {
         "color": "grey",
         "family": "DejaVu Sans",
         "size": 14
        },
        "height": 400,
        "legend": {
         "tracegroupgap": 0
        },
        "margin": {
         "b": 25,
         "l": 25,
         "r": 25,
         "t": 50
        },
        "template": {
         "data": {
          "bar": [
           {
            "error_x": {
             "color": "#2a3f5f"
            },
            "error_y": {
             "color": "#2a3f5f"
            },
            "marker": {
             "line": {
              "color": "#E5ECF6",
              "width": 0.5
             },
             "pattern": {
              "fillmode": "overlay",
              "size": 10,
              "solidity": 0.2
             }
            },
            "type": "bar"
           }
          ],
          "barpolar": [
           {
            "marker": {
             "line": {
              "color": "#E5ECF6",
              "width": 0.5
             },
             "pattern": {
              "fillmode": "overlay",
              "size": 10,
              "solidity": 0.2
             }
            },
            "type": "barpolar"
           }
          ],
          "carpet": [
           {
            "aaxis": {
             "endlinecolor": "#2a3f5f",
             "gridcolor": "white",
             "linecolor": "white",
             "minorgridcolor": "white",
             "startlinecolor": "#2a3f5f"
            },
            "baxis": {
             "endlinecolor": "#2a3f5f",
             "gridcolor": "white",
             "linecolor": "white",
             "minorgridcolor": "white",
             "startlinecolor": "#2a3f5f"
            },
            "type": "carpet"
           }
          ],
          "choropleth": [
           {
            "colorbar": {
             "outlinewidth": 0,
             "ticks": ""
            },
            "type": "choropleth"
           }
          ],
          "contour": [
           {
            "colorbar": {
             "outlinewidth": 0,
             "ticks": ""
            },
            "colorscale": [
             [
              0,
              "#0d0887"
             ],
             [
              0.1111111111111111,
              "#46039f"
             ],
             [
              0.2222222222222222,
              "#7201a8"
             ],
             [
              0.3333333333333333,
              "#9c179e"
             ],
             [
              0.4444444444444444,
              "#bd3786"
             ],
             [
              0.5555555555555556,
              "#d8576b"
             ],
             [
              0.6666666666666666,
              "#ed7953"
             ],
             [
              0.7777777777777778,
              "#fb9f3a"
             ],
             [
              0.8888888888888888,
              "#fdca26"
             ],
             [
              1,
              "#f0f921"
             ]
            ],
            "type": "contour"
           }
          ],
          "contourcarpet": [
           {
            "colorbar": {
             "outlinewidth": 0,
             "ticks": ""
            },
            "type": "contourcarpet"
           }
          ],
          "heatmap": [
           {
            "colorbar": {
             "outlinewidth": 0,
             "ticks": ""
            },
            "colorscale": [
             [
              0,
              "#0d0887"
             ],
             [
              0.1111111111111111,
              "#46039f"
             ],
             [
              0.2222222222222222,
              "#7201a8"
             ],
             [
              0.3333333333333333,
              "#9c179e"
             ],
             [
              0.4444444444444444,
              "#bd3786"
             ],
             [
              0.5555555555555556,
              "#d8576b"
             ],
             [
              0.6666666666666666,
              "#ed7953"
             ],
             [
              0.7777777777777778,
              "#fb9f3a"
             ],
             [
              0.8888888888888888,
              "#fdca26"
             ],
             [
              1,
              "#f0f921"
             ]
            ],
            "type": "heatmap"
           }
          ],
          "heatmapgl": [
           {
            "colorbar": {
             "outlinewidth": 0,
             "ticks": ""
            },
            "colorscale": [
             [
              0,
              "#0d0887"
             ],
             [
              0.1111111111111111,
              "#46039f"
             ],
             [
              0.2222222222222222,
              "#7201a8"
             ],
             [
              0.3333333333333333,
              "#9c179e"
             ],
             [
              0.4444444444444444,
              "#bd3786"
             ],
             [
              0.5555555555555556,
              "#d8576b"
             ],
             [
              0.6666666666666666,
              "#ed7953"
             ],
             [
              0.7777777777777778,
              "#fb9f3a"
             ],
             [
              0.8888888888888888,
              "#fdca26"
             ],
             [
              1,
              "#f0f921"
             ]
            ],
            "type": "heatmapgl"
           }
          ],
          "histogram": [
           {
            "marker": {
             "pattern": {
              "fillmode": "overlay",
              "size": 10,
              "solidity": 0.2
             }
            },
            "type": "histogram"
           }
          ],
          "histogram2d": [
           {
            "colorbar": {
             "outlinewidth": 0,
             "ticks": ""
            },
            "colorscale": [
             [
              0,
              "#0d0887"
             ],
             [
              0.1111111111111111,
              "#46039f"
             ],
             [
              0.2222222222222222,
              "#7201a8"
             ],
             [
              0.3333333333333333,
              "#9c179e"
             ],
             [
              0.4444444444444444,
              "#bd3786"
             ],
             [
              0.5555555555555556,
              "#d8576b"
             ],
             [
              0.6666666666666666,
              "#ed7953"
             ],
             [
              0.7777777777777778,
              "#fb9f3a"
             ],
             [
              0.8888888888888888,
              "#fdca26"
             ],
             [
              1,
              "#f0f921"
             ]
            ],
            "type": "histogram2d"
           }
          ],
          "histogram2dcontour": [
           {
            "colorbar": {
             "outlinewidth": 0,
             "ticks": ""
            },
            "colorscale": [
             [
              0,
              "#0d0887"
             ],
             [
              0.1111111111111111,
              "#46039f"
             ],
             [
              0.2222222222222222,
              "#7201a8"
             ],
             [
              0.3333333333333333,
              "#9c179e"
             ],
             [
              0.4444444444444444,
              "#bd3786"
             ],
             [
              0.5555555555555556,
              "#d8576b"
             ],
             [
              0.6666666666666666,
              "#ed7953"
             ],
             [
              0.7777777777777778,
              "#fb9f3a"
             ],
             [
              0.8888888888888888,
              "#fdca26"
             ],
             [
              1,
              "#f0f921"
             ]
            ],
            "type": "histogram2dcontour"
           }
          ],
          "mesh3d": [
           {
            "colorbar": {
             "outlinewidth": 0,
             "ticks": ""
            },
            "type": "mesh3d"
           }
          ],
          "parcoords": [
           {
            "line": {
             "colorbar": {
              "outlinewidth": 0,
              "ticks": ""
             }
            },
            "type": "parcoords"
           }
          ],
          "pie": [
           {
            "automargin": true,
            "type": "pie"
           }
          ],
          "scatter": [
           {
            "fillpattern": {
             "fillmode": "overlay",
             "size": 10,
             "solidity": 0.2
            },
            "type": "scatter"
           }
          ],
          "scatter3d": [
           {
            "line": {
             "colorbar": {
              "outlinewidth": 0,
              "ticks": ""
             }
            },
            "marker": {
             "colorbar": {
              "outlinewidth": 0,
              "ticks": ""
             }
            },
            "type": "scatter3d"
           }
          ],
          "scattercarpet": [
           {
            "marker": {
             "colorbar": {
              "outlinewidth": 0,
              "ticks": ""
             }
            },
            "type": "scattercarpet"
           }
          ],
          "scattergeo": [
           {
            "marker": {
             "colorbar": {
              "outlinewidth": 0,
              "ticks": ""
             }
            },
            "type": "scattergeo"
           }
          ],
          "scattergl": [
           {
            "marker": {
             "colorbar": {
              "outlinewidth": 0,
              "ticks": ""
             }
            },
            "type": "scattergl"
           }
          ],
          "scattermapbox": [
           {
            "marker": {
             "colorbar": {
              "outlinewidth": 0,
              "ticks": ""
             }
            },
            "type": "scattermapbox"
           }
          ],
          "scatterpolar": [
           {
            "marker": {
             "colorbar": {
              "outlinewidth": 0,
              "ticks": ""
             }
            },
            "type": "scatterpolar"
           }
          ],
          "scatterpolargl": [
           {
            "marker": {
             "colorbar": {
              "outlinewidth": 0,
              "ticks": ""
             }
            },
            "type": "scatterpolargl"
           }
          ],
          "scatterternary": [
           {
            "marker": {
             "colorbar": {
              "outlinewidth": 0,
              "ticks": ""
             }
            },
            "type": "scatterternary"
           }
          ],
          "surface": [
           {
            "colorbar": {
             "outlinewidth": 0,
             "ticks": ""
            },
            "colorscale": [
             [
              0,
              "#0d0887"
             ],
             [
              0.1111111111111111,
              "#46039f"
             ],
             [
              0.2222222222222222,
              "#7201a8"
             ],
             [
              0.3333333333333333,
              "#9c179e"
             ],
             [
              0.4444444444444444,
              "#bd3786"
             ],
             [
              0.5555555555555556,
              "#d8576b"
             ],
             [
              0.6666666666666666,
              "#ed7953"
             ],
             [
              0.7777777777777778,
              "#fb9f3a"
             ],
             [
              0.8888888888888888,
              "#fdca26"
             ],
             [
              1,
              "#f0f921"
             ]
            ],
            "type": "surface"
           }
          ],
          "table": [
           {
            "cells": {
             "fill": {
              "color": "#EBF0F8"
             },
             "line": {
              "color": "white"
             }
            },
            "header": {
             "fill": {
              "color": "#C8D4E3"
             },
             "line": {
              "color": "white"
             }
            },
            "type": "table"
           }
          ]
         },
         "layout": {
          "annotationdefaults": {
           "arrowcolor": "#2a3f5f",
           "arrowhead": 0,
           "arrowwidth": 1
          },
          "autotypenumbers": "strict",
          "coloraxis": {
           "colorbar": {
            "outlinewidth": 0,
            "ticks": ""
           }
          },
          "colorscale": {
           "diverging": [
            [
             0,
             "#8e0152"
            ],
            [
             0.1,
             "#c51b7d"
            ],
            [
             0.2,
             "#de77ae"
            ],
            [
             0.3,
             "#f1b6da"
            ],
            [
             0.4,
             "#fde0ef"
            ],
            [
             0.5,
             "#f7f7f7"
            ],
            [
             0.6,
             "#e6f5d0"
            ],
            [
             0.7,
             "#b8e186"
            ],
            [
             0.8,
             "#7fbc41"
            ],
            [
             0.9,
             "#4d9221"
            ],
            [
             1,
             "#276419"
            ]
           ],
           "sequential": [
            [
             0,
             "#0d0887"
            ],
            [
             0.1111111111111111,
             "#46039f"
            ],
            [
             0.2222222222222222,
             "#7201a8"
            ],
            [
             0.3333333333333333,
             "#9c179e"
            ],
            [
             0.4444444444444444,
             "#bd3786"
            ],
            [
             0.5555555555555556,
             "#d8576b"
            ],
            [
             0.6666666666666666,
             "#ed7953"
            ],
            [
             0.7777777777777778,
             "#fb9f3a"
            ],
            [
             0.8888888888888888,
             "#fdca26"
            ],
            [
             1,
             "#f0f921"
            ]
           ],
           "sequentialminus": [
            [
             0,
             "#0d0887"
            ],
            [
             0.1111111111111111,
             "#46039f"
            ],
            [
             0.2222222222222222,
             "#7201a8"
            ],
            [
             0.3333333333333333,
             "#9c179e"
            ],
            [
             0.4444444444444444,
             "#bd3786"
            ],
            [
             0.5555555555555556,
             "#d8576b"
            ],
            [
             0.6666666666666666,
             "#ed7953"
            ],
            [
             0.7777777777777778,
             "#fb9f3a"
            ],
            [
             0.8888888888888888,
             "#fdca26"
            ],
            [
             1,
             "#f0f921"
            ]
           ]
          },
          "colorway": [
           "#636efa",
           "#EF553B",
           "#00cc96",
           "#ab63fa",
           "#FFA15A",
           "#19d3f3",
           "#FF6692",
           "#B6E880",
           "#FF97FF",
           "#FECB52"
          ],
          "font": {
           "color": "#2a3f5f"
          },
          "geo": {
           "bgcolor": "white",
           "lakecolor": "white",
           "landcolor": "#E5ECF6",
           "showlakes": true,
           "showland": true,
           "subunitcolor": "white"
          },
          "hoverlabel": {
           "align": "left"
          },
          "hovermode": "closest",
          "mapbox": {
           "style": "light"
          },
          "paper_bgcolor": "white",
          "plot_bgcolor": "#E5ECF6",
          "polar": {
           "angularaxis": {
            "gridcolor": "white",
            "linecolor": "white",
            "ticks": ""
           },
           "bgcolor": "#E5ECF6",
           "radialaxis": {
            "gridcolor": "white",
            "linecolor": "white",
            "ticks": ""
           }
          },
          "scene": {
           "xaxis": {
            "backgroundcolor": "#E5ECF6",
            "gridcolor": "white",
            "gridwidth": 2,
            "linecolor": "white",
            "showbackground": true,
            "ticks": "",
            "zerolinecolor": "white"
           },
           "yaxis": {
            "backgroundcolor": "#E5ECF6",
            "gridcolor": "white",
            "gridwidth": 2,
            "linecolor": "white",
            "showbackground": true,
            "ticks": "",
            "zerolinecolor": "white"
           },
           "zaxis": {
            "backgroundcolor": "#E5ECF6",
            "gridcolor": "white",
            "gridwidth": 2,
            "linecolor": "white",
            "showbackground": true,
            "ticks": "",
            "zerolinecolor": "white"
           }
          },
          "shapedefaults": {
           "line": {
            "color": "#2a3f5f"
           }
          },
          "ternary": {
           "aaxis": {
            "gridcolor": "white",
            "linecolor": "white",
            "ticks": ""
           },
           "baxis": {
            "gridcolor": "white",
            "linecolor": "white",
            "ticks": ""
           },
           "bgcolor": "#E5ECF6",
           "caxis": {
            "gridcolor": "white",
            "linecolor": "white",
            "ticks": ""
           }
          },
          "title": {
           "x": 0.05
          },
          "xaxis": {
           "automargin": true,
           "gridcolor": "white",
           "linecolor": "white",
           "ticks": "",
           "title": {
            "standoff": 15
           },
           "zerolinecolor": "white",
           "zerolinewidth": 2
          },
          "yaxis": {
           "automargin": true,
           "gridcolor": "white",
           "linecolor": "white",
           "ticks": "",
           "title": {
            "standoff": 15
           },
           "zerolinecolor": "white",
           "zerolinewidth": 2
          }
         }
        },
        "title": {
         "font": {
          "color": "black",
          "size": 24
         },
         "text": "Distribuição por país das vendas de vinhos de mesa"
        },
        "width": 1000
       }
      }
     },
     "metadata": {},
     "output_type": "display_data"
    }
   ],
   "source": [
    "# Importando a biblioteca\n",
    "import plotly.express as px\n",
    "\n",
    "# Gerando o gráfico de árvore (TREEMAP)\n",
    "fig = px.treemap(dados_dolar_paises_total,\n",
    "                 path=[px.Constant(\"2007 a 2021\"), 'País'],\n",
    "                 values='Vendas_Dolar', color='País', title='Distribuição por país das vendas de vinhos de mesa',\n",
    "                 color_discrete_map={'(?)': \"white\"})\n",
    "\n",
    "# Ajustando o layout do gráfico\n",
    "fig.update_layout(width=1000, height=400, margin = dict(t=50, l=25, r=25, b=25), font_family = 'DejaVu Sans',\n",
    "                  font_size=14, font_color= \"grey\", title_font_color= \"black\", title_font_size=24)\n",
    "\n",
    "fig.update_traces(hovertemplate='<b>Vendas:</b> = U$ %{value}')\n",
    "\n",
    "fig.add_annotation(text='Fonte dos dados: <a href=\"http://vitibrasil.cnpuv.embrapa.br/index.php\">'\n",
    "                        'Dados da Vitivinicultura (Embrapa Uva e Vinho)</a>',\n",
    "                   align=\"left\", xref=\"paper\", yref = \"paper\", x=1, y=-0.03, showarrow=False, font_size=12)\n",
    "fig.show()"
   ]
  },
  {
   "attachments": {},
   "cell_type": "markdown",
   "metadata": {},
   "source": [
    "## Top 10 países global distribuídos ano a ano (2007 a 2021)"
   ]
  },
  {
   "cell_type": "code",
   "execution_count": 124,
   "metadata": {},
   "outputs": [],
   "source": [
    "selecao_pais = dados_dolar_paises_total[\"País\"].to_list()"
   ]
  },
  {
   "cell_type": "code",
   "execution_count": 125,
   "metadata": {},
   "outputs": [
    {
     "data": {
      "text/html": [
       "<div>\n",
       "<style scoped>\n",
       "    .dataframe tbody tr th:only-of-type {\n",
       "        vertical-align: middle;\n",
       "    }\n",
       "\n",
       "    .dataframe tbody tr th {\n",
       "        vertical-align: top;\n",
       "    }\n",
       "\n",
       "    .dataframe thead th {\n",
       "        text-align: right;\n",
       "    }\n",
       "</style>\n",
       "<table border=\"1\" class=\"dataframe\">\n",
       "  <thead>\n",
       "    <tr style=\"text-align: right;\">\n",
       "      <th></th>\n",
       "      <th>País</th>\n",
       "      <th>Ano</th>\n",
       "      <th>Vendas_Dolar</th>\n",
       "    </tr>\n",
       "  </thead>\n",
       "  <tbody>\n",
       "    <tr>\n",
       "      <th>0</th>\n",
       "      <td>Paraguai</td>\n",
       "      <td>2007</td>\n",
       "      <td>801519</td>\n",
       "    </tr>\n",
       "    <tr>\n",
       "      <th>1</th>\n",
       "      <td>Rússia</td>\n",
       "      <td>2007</td>\n",
       "      <td>173160</td>\n",
       "    </tr>\n",
       "    <tr>\n",
       "      <th>2</th>\n",
       "      <td>Estados Unidos</td>\n",
       "      <td>2007</td>\n",
       "      <td>810038</td>\n",
       "    </tr>\n",
       "  </tbody>\n",
       "</table>\n",
       "</div>"
      ],
      "text/plain": [
       "             País   Ano  Vendas_Dolar\n",
       "0        Paraguai  2007        801519\n",
       "1          Rússia  2007        173160\n",
       "2  Estados Unidos  2007        810038"
      ]
     },
     "execution_count": 125,
     "metadata": {},
     "output_type": "execute_result"
    }
   ],
   "source": [
    "top10_ano = dados_dolar_anual_paises.query(\"País == @selecao_pais\")\n",
    "top10_ano.head(3)"
   ]
  },
  {
   "cell_type": "code",
   "execution_count": 126,
   "metadata": {},
   "outputs": [
    {
     "data": {
      "text/html": [
       "<div>\n",
       "<style scoped>\n",
       "    .dataframe tbody tr th:only-of-type {\n",
       "        vertical-align: middle;\n",
       "    }\n",
       "\n",
       "    .dataframe tbody tr th {\n",
       "        vertical-align: top;\n",
       "    }\n",
       "\n",
       "    .dataframe thead th {\n",
       "        text-align: right;\n",
       "    }\n",
       "</style>\n",
       "<table border=\"1\" class=\"dataframe\">\n",
       "  <thead>\n",
       "    <tr style=\"text-align: right;\">\n",
       "      <th>País</th>\n",
       "      <th>Alemanha</th>\n",
       "      <th>China</th>\n",
       "      <th>Espanha</th>\n",
       "      <th>Estados Unidos</th>\n",
       "      <th>Haiti</th>\n",
       "      <th>Japão</th>\n",
       "      <th>Paraguai</th>\n",
       "      <th>Países Baixos</th>\n",
       "      <th>Reino Unido</th>\n",
       "      <th>Rússia</th>\n",
       "    </tr>\n",
       "    <tr>\n",
       "      <th>Ano</th>\n",
       "      <th></th>\n",
       "      <th></th>\n",
       "      <th></th>\n",
       "      <th></th>\n",
       "      <th></th>\n",
       "      <th></th>\n",
       "      <th></th>\n",
       "      <th></th>\n",
       "      <th></th>\n",
       "      <th></th>\n",
       "    </tr>\n",
       "  </thead>\n",
       "  <tbody>\n",
       "    <tr>\n",
       "      <th>2007</th>\n",
       "      <td>238052</td>\n",
       "      <td>30390</td>\n",
       "      <td>0</td>\n",
       "      <td>810038</td>\n",
       "      <td>0</td>\n",
       "      <td>316867</td>\n",
       "      <td>801519</td>\n",
       "      <td>364751</td>\n",
       "      <td>144244</td>\n",
       "      <td>173160</td>\n",
       "    </tr>\n",
       "    <tr>\n",
       "      <th>2008</th>\n",
       "      <td>429970</td>\n",
       "      <td>25926</td>\n",
       "      <td>6834</td>\n",
       "      <td>804607</td>\n",
       "      <td>20</td>\n",
       "      <td>178333</td>\n",
       "      <td>1374088</td>\n",
       "      <td>783635</td>\n",
       "      <td>155076</td>\n",
       "      <td>2352768</td>\n",
       "    </tr>\n",
       "    <tr>\n",
       "      <th>2009</th>\n",
       "      <td>393482</td>\n",
       "      <td>482400</td>\n",
       "      <td>4050</td>\n",
       "      <td>660066</td>\n",
       "      <td>5863</td>\n",
       "      <td>283436</td>\n",
       "      <td>392087</td>\n",
       "      <td>136991</td>\n",
       "      <td>68788</td>\n",
       "      <td>5732280</td>\n",
       "    </tr>\n",
       "    <tr>\n",
       "      <th>2010</th>\n",
       "      <td>138666</td>\n",
       "      <td>2358</td>\n",
       "      <td>0</td>\n",
       "      <td>478630</td>\n",
       "      <td>3750</td>\n",
       "      <td>74628</td>\n",
       "      <td>449197</td>\n",
       "      <td>302182</td>\n",
       "      <td>295690</td>\n",
       "      <td>0</td>\n",
       "    </tr>\n",
       "    <tr>\n",
       "      <th>2011</th>\n",
       "      <td>144150</td>\n",
       "      <td>334867</td>\n",
       "      <td>24618</td>\n",
       "      <td>1030254</td>\n",
       "      <td>0</td>\n",
       "      <td>144662</td>\n",
       "      <td>276281</td>\n",
       "      <td>395356</td>\n",
       "      <td>285642</td>\n",
       "      <td>0</td>\n",
       "    </tr>\n",
       "    <tr>\n",
       "      <th>2012</th>\n",
       "      <td>56342</td>\n",
       "      <td>642177</td>\n",
       "      <td>0</td>\n",
       "      <td>303986</td>\n",
       "      <td>0</td>\n",
       "      <td>116961</td>\n",
       "      <td>428279</td>\n",
       "      <td>539641</td>\n",
       "      <td>334856</td>\n",
       "      <td>2103968</td>\n",
       "    </tr>\n",
       "    <tr>\n",
       "      <th>2013</th>\n",
       "      <td>265978</td>\n",
       "      <td>279956</td>\n",
       "      <td>3748940</td>\n",
       "      <td>786556</td>\n",
       "      <td>0</td>\n",
       "      <td>429088</td>\n",
       "      <td>680828</td>\n",
       "      <td>255690</td>\n",
       "      <td>305005</td>\n",
       "      <td>14795694</td>\n",
       "    </tr>\n",
       "    <tr>\n",
       "      <th>2014</th>\n",
       "      <td>761653</td>\n",
       "      <td>455340</td>\n",
       "      <td>0</td>\n",
       "      <td>494216</td>\n",
       "      <td>0</td>\n",
       "      <td>401774</td>\n",
       "      <td>908028</td>\n",
       "      <td>773767</td>\n",
       "      <td>1373747</td>\n",
       "      <td>61440</td>\n",
       "    </tr>\n",
       "    <tr>\n",
       "      <th>2015</th>\n",
       "      <td>44780</td>\n",
       "      <td>222866</td>\n",
       "      <td>0</td>\n",
       "      <td>524109</td>\n",
       "      <td>0</td>\n",
       "      <td>87853</td>\n",
       "      <td>741370</td>\n",
       "      <td>186464</td>\n",
       "      <td>308407</td>\n",
       "      <td>18240</td>\n",
       "    </tr>\n",
       "    <tr>\n",
       "      <th>2016</th>\n",
       "      <td>68109</td>\n",
       "      <td>499622</td>\n",
       "      <td>0</td>\n",
       "      <td>687411</td>\n",
       "      <td>0</td>\n",
       "      <td>90954</td>\n",
       "      <td>1655417</td>\n",
       "      <td>190203</td>\n",
       "      <td>536681</td>\n",
       "      <td>0</td>\n",
       "    </tr>\n",
       "    <tr>\n",
       "      <th>2017</th>\n",
       "      <td>87702</td>\n",
       "      <td>266086</td>\n",
       "      <td>0</td>\n",
       "      <td>1523699</td>\n",
       "      <td>0</td>\n",
       "      <td>92886</td>\n",
       "      <td>4274650</td>\n",
       "      <td>0</td>\n",
       "      <td>242883</td>\n",
       "      <td>0</td>\n",
       "    </tr>\n",
       "    <tr>\n",
       "      <th>2018</th>\n",
       "      <td>45382</td>\n",
       "      <td>126336</td>\n",
       "      <td>22631</td>\n",
       "      <td>512519</td>\n",
       "      <td>144425</td>\n",
       "      <td>112342</td>\n",
       "      <td>5494321</td>\n",
       "      <td>32395</td>\n",
       "      <td>296827</td>\n",
       "      <td>0</td>\n",
       "    </tr>\n",
       "    <tr>\n",
       "      <th>2019</th>\n",
       "      <td>25467</td>\n",
       "      <td>376828</td>\n",
       "      <td>1353</td>\n",
       "      <td>616274</td>\n",
       "      <td>129803</td>\n",
       "      <td>99642</td>\n",
       "      <td>3826587</td>\n",
       "      <td>148031</td>\n",
       "      <td>164592</td>\n",
       "      <td>0</td>\n",
       "    </tr>\n",
       "    <tr>\n",
       "      <th>2020</th>\n",
       "      <td>32605</td>\n",
       "      <td>363000</td>\n",
       "      <td>126</td>\n",
       "      <td>610793</td>\n",
       "      <td>471152</td>\n",
       "      <td>92674</td>\n",
       "      <td>3869243</td>\n",
       "      <td>1532</td>\n",
       "      <td>82722</td>\n",
       "      <td>8550</td>\n",
       "    </tr>\n",
       "    <tr>\n",
       "      <th>2021</th>\n",
       "      <td>6741</td>\n",
       "      <td>264116</td>\n",
       "      <td>0</td>\n",
       "      <td>203554</td>\n",
       "      <td>831181</td>\n",
       "      <td>90275</td>\n",
       "      <td>7192362</td>\n",
       "      <td>8484</td>\n",
       "      <td>122394</td>\n",
       "      <td>312926</td>\n",
       "    </tr>\n",
       "  </tbody>\n",
       "</table>\n",
       "</div>"
      ],
      "text/plain": [
       "País  Alemanha   China  Espanha  Estados Unidos   Haiti   Japão  Paraguai  \\\n",
       "Ano                                                                         \n",
       "2007    238052   30390        0          810038       0  316867    801519   \n",
       "2008    429970   25926     6834          804607      20  178333   1374088   \n",
       "2009    393482  482400     4050          660066    5863  283436    392087   \n",
       "2010    138666    2358        0          478630    3750   74628    449197   \n",
       "2011    144150  334867    24618         1030254       0  144662    276281   \n",
       "2012     56342  642177        0          303986       0  116961    428279   \n",
       "2013    265978  279956  3748940          786556       0  429088    680828   \n",
       "2014    761653  455340        0          494216       0  401774    908028   \n",
       "2015     44780  222866        0          524109       0   87853    741370   \n",
       "2016     68109  499622        0          687411       0   90954   1655417   \n",
       "2017     87702  266086        0         1523699       0   92886   4274650   \n",
       "2018     45382  126336    22631          512519  144425  112342   5494321   \n",
       "2019     25467  376828     1353          616274  129803   99642   3826587   \n",
       "2020     32605  363000      126          610793  471152   92674   3869243   \n",
       "2021      6741  264116        0          203554  831181   90275   7192362   \n",
       "\n",
       "País  Países Baixos  Reino Unido    Rússia  \n",
       "Ano                                         \n",
       "2007         364751       144244    173160  \n",
       "2008         783635       155076   2352768  \n",
       "2009         136991        68788   5732280  \n",
       "2010         302182       295690         0  \n",
       "2011         395356       285642         0  \n",
       "2012         539641       334856   2103968  \n",
       "2013         255690       305005  14795694  \n",
       "2014         773767      1373747     61440  \n",
       "2015         186464       308407     18240  \n",
       "2016         190203       536681         0  \n",
       "2017              0       242883         0  \n",
       "2018          32395       296827         0  \n",
       "2019         148031       164592         0  \n",
       "2020           1532        82722      8550  \n",
       "2021           8484       122394    312926  "
      ]
     },
     "execution_count": 126,
     "metadata": {},
     "output_type": "execute_result"
    }
   ],
   "source": [
    "# Criando uma tabela cruzada (crosstab) com os valores de venda de cada ano por país\n",
    "top10_ano_empilhado = pd.crosstab(index = top10_ano.Ano, columns = top10_ano[\"País\"], \n",
    "                                  values = top10_ano.Vendas_Dolar, aggfunc = \"sum\")\n",
    "\n",
    "top10_ano_empilhado"
   ]
  },
  {
   "cell_type": "code",
   "execution_count": 127,
   "metadata": {},
   "outputs": [
    {
     "data": {
      "image/png": "[encoded data removed]",
      "text/plain": [
       "<Figure size 1400x600 with 1 Axes>"
      ]
     },
     "metadata": {},
     "output_type": "display_data"
    }
   ],
   "source": [
    "# Gerando o gráfico de colunas empilhadas\n",
    "ax = top10_ano_empilhado.plot(kind=\"bar\", stacked=True, figsize=(14,6))\n",
    "\n",
    "# Personalizando o gráfico\n",
    "ax.set_title('Algum título', loc='left', fontsize=22)\n",
    "ax.set_xlabel('')\n",
    "ax.set_ylabel('')\n",
    "# ax.set_yticklabels([])\n",
    "ax.xaxis.set_tick_params(labelsize=14, rotation = 0)\n",
    "ax.set_frame_on(False)\n",
    "\n",
    "# remover todos os ticks do eixo x e y\n",
    "ax.tick_params(axis=\"both\", which =\"both\", length=0)\n",
    "\n",
    "plt.show()"
   ]
  },
  {
   "attachments": {},
   "cell_type": "markdown",
   "metadata": {},
   "source": [
    "### Ticket médio"
   ]
  },
  {
   "cell_type": "code",
   "execution_count": 128,
   "metadata": {},
   "outputs": [
    {
     "data": {
      "text/html": [
       "<div>\n",
       "<style scoped>\n",
       "    .dataframe tbody tr th:only-of-type {\n",
       "        vertical-align: middle;\n",
       "    }\n",
       "\n",
       "    .dataframe tbody tr th {\n",
       "        vertical-align: top;\n",
       "    }\n",
       "\n",
       "    .dataframe thead th {\n",
       "        text-align: right;\n",
       "    }\n",
       "</style>\n",
       "<table border=\"1\" class=\"dataframe\">\n",
       "  <thead>\n",
       "    <tr style=\"text-align: right;\">\n",
       "      <th></th>\n",
       "      <th>País</th>\n",
       "      <th>2007</th>\n",
       "      <th>2008</th>\n",
       "      <th>2009</th>\n",
       "      <th>2010</th>\n",
       "      <th>2011</th>\n",
       "      <th>2012</th>\n",
       "      <th>2013</th>\n",
       "      <th>2014</th>\n",
       "      <th>2015</th>\n",
       "      <th>2016</th>\n",
       "      <th>2017</th>\n",
       "      <th>2018</th>\n",
       "      <th>2019</th>\n",
       "      <th>2020</th>\n",
       "      <th>2021</th>\n",
       "      <th>Total</th>\n",
       "      <th>Continente</th>\n",
       "    </tr>\n",
       "  </thead>\n",
       "  <tbody>\n",
       "    <tr>\n",
       "      <th>0</th>\n",
       "      <td>Afeganistão</td>\n",
       "      <td>0</td>\n",
       "      <td>0</td>\n",
       "      <td>0</td>\n",
       "      <td>0</td>\n",
       "      <td>0</td>\n",
       "      <td>0</td>\n",
       "      <td>0</td>\n",
       "      <td>0</td>\n",
       "      <td>0</td>\n",
       "      <td>0</td>\n",
       "      <td>0</td>\n",
       "      <td>0</td>\n",
       "      <td>0</td>\n",
       "      <td>0</td>\n",
       "      <td>11</td>\n",
       "      <td>11</td>\n",
       "      <td>Ásia</td>\n",
       "    </tr>\n",
       "    <tr>\n",
       "      <th>1</th>\n",
       "      <td>África do Sul</td>\n",
       "      <td>0</td>\n",
       "      <td>0</td>\n",
       "      <td>0</td>\n",
       "      <td>0</td>\n",
       "      <td>0</td>\n",
       "      <td>0</td>\n",
       "      <td>0</td>\n",
       "      <td>0</td>\n",
       "      <td>0</td>\n",
       "      <td>0</td>\n",
       "      <td>0</td>\n",
       "      <td>0</td>\n",
       "      <td>26</td>\n",
       "      <td>4</td>\n",
       "      <td>0</td>\n",
       "      <td>30</td>\n",
       "      <td>África</td>\n",
       "    </tr>\n",
       "    <tr>\n",
       "      <th>2</th>\n",
       "      <td>Alemanha</td>\n",
       "      <td>119512</td>\n",
       "      <td>265742</td>\n",
       "      <td>225086</td>\n",
       "      <td>27715</td>\n",
       "      <td>36070</td>\n",
       "      <td>8189</td>\n",
       "      <td>61699</td>\n",
       "      <td>213348</td>\n",
       "      <td>10680</td>\n",
       "      <td>14012</td>\n",
       "      <td>15467</td>\n",
       "      <td>10794</td>\n",
       "      <td>3660</td>\n",
       "      <td>6261</td>\n",
       "      <td>2698</td>\n",
       "      <td>1020933</td>\n",
       "      <td>Europa</td>\n",
       "    </tr>\n",
       "  </tbody>\n",
       "</table>\n",
       "</div>"
      ],
      "text/plain": [
       "            País    2007    2008    2009   2010   2011  2012   2013    2014  \\\n",
       "0    Afeganistão       0       0       0      0      0     0      0       0   \n",
       "1  África do Sul       0       0       0      0      0     0      0       0   \n",
       "2       Alemanha  119512  265742  225086  27715  36070  8189  61699  213348   \n",
       "\n",
       "    2015   2016   2017   2018  2019  2020  2021    Total Continente  \n",
       "0      0      0      0      0     0     0    11       11       Ásia  \n",
       "1      0      0      0      0    26     4     0       30     África  \n",
       "2  10680  14012  15467  10794  3660  6261  2698  1020933     Europa  "
      ]
     },
     "execution_count": 128,
     "metadata": {},
     "output_type": "execute_result"
    }
   ],
   "source": [
    "dados_qtd_combinado.head(3)"
   ]
  },
  {
   "cell_type": "code",
   "execution_count": 129,
   "metadata": {},
   "outputs": [
    {
     "data": {
      "text/html": [
       "<div>\n",
       "<style scoped>\n",
       "    .dataframe tbody tr th:only-of-type {\n",
       "        vertical-align: middle;\n",
       "    }\n",
       "\n",
       "    .dataframe tbody tr th {\n",
       "        vertical-align: top;\n",
       "    }\n",
       "\n",
       "    .dataframe thead th {\n",
       "        text-align: right;\n",
       "    }\n",
       "</style>\n",
       "<table border=\"1\" class=\"dataframe\">\n",
       "  <thead>\n",
       "    <tr style=\"text-align: right;\">\n",
       "      <th></th>\n",
       "      <th>País</th>\n",
       "      <th>2007</th>\n",
       "      <th>2008</th>\n",
       "      <th>2009</th>\n",
       "      <th>2010</th>\n",
       "      <th>2011</th>\n",
       "      <th>2012</th>\n",
       "      <th>2013</th>\n",
       "      <th>2014</th>\n",
       "      <th>2015</th>\n",
       "      <th>2016</th>\n",
       "      <th>2017</th>\n",
       "      <th>2018</th>\n",
       "      <th>2019</th>\n",
       "      <th>2020</th>\n",
       "      <th>2021</th>\n",
       "      <th>Total</th>\n",
       "      <th>Continente</th>\n",
       "    </tr>\n",
       "  </thead>\n",
       "  <tbody>\n",
       "    <tr>\n",
       "      <th>0</th>\n",
       "      <td>Afeganistão</td>\n",
       "      <td>0</td>\n",
       "      <td>0</td>\n",
       "      <td>0</td>\n",
       "      <td>0</td>\n",
       "      <td>0</td>\n",
       "      <td>0</td>\n",
       "      <td>0</td>\n",
       "      <td>0</td>\n",
       "      <td>0</td>\n",
       "      <td>0</td>\n",
       "      <td>0</td>\n",
       "      <td>0</td>\n",
       "      <td>0</td>\n",
       "      <td>0</td>\n",
       "      <td>46</td>\n",
       "      <td>46</td>\n",
       "      <td>Ásia</td>\n",
       "    </tr>\n",
       "    <tr>\n",
       "      <th>1</th>\n",
       "      <td>África do Sul</td>\n",
       "      <td>0</td>\n",
       "      <td>0</td>\n",
       "      <td>0</td>\n",
       "      <td>0</td>\n",
       "      <td>0</td>\n",
       "      <td>0</td>\n",
       "      <td>0</td>\n",
       "      <td>0</td>\n",
       "      <td>0</td>\n",
       "      <td>0</td>\n",
       "      <td>0</td>\n",
       "      <td>0</td>\n",
       "      <td>95</td>\n",
       "      <td>21</td>\n",
       "      <td>0</td>\n",
       "      <td>116</td>\n",
       "      <td>África</td>\n",
       "    </tr>\n",
       "    <tr>\n",
       "      <th>2</th>\n",
       "      <td>Alemanha</td>\n",
       "      <td>238052</td>\n",
       "      <td>429970</td>\n",
       "      <td>393482</td>\n",
       "      <td>138666</td>\n",
       "      <td>144150</td>\n",
       "      <td>56342</td>\n",
       "      <td>265978</td>\n",
       "      <td>761653</td>\n",
       "      <td>44780</td>\n",
       "      <td>68109</td>\n",
       "      <td>87702</td>\n",
       "      <td>45382</td>\n",
       "      <td>25467</td>\n",
       "      <td>32605</td>\n",
       "      <td>6741</td>\n",
       "      <td>2501027</td>\n",
       "      <td>Europa</td>\n",
       "    </tr>\n",
       "  </tbody>\n",
       "</table>\n",
       "</div>"
      ],
      "text/plain": [
       "            País    2007    2008    2009    2010    2011   2012    2013  \\\n",
       "0    Afeganistão       0       0       0       0       0      0       0   \n",
       "1  África do Sul       0       0       0       0       0      0       0   \n",
       "2       Alemanha  238052  429970  393482  138666  144150  56342  265978   \n",
       "\n",
       "     2014   2015   2016   2017   2018   2019   2020  2021    Total Continente  \n",
       "0       0      0      0      0      0      0      0    46       46       Ásia  \n",
       "1       0      0      0      0      0     95     21     0      116     África  \n",
       "2  761653  44780  68109  87702  45382  25467  32605  6741  2501027     Europa  "
      ]
     },
     "execution_count": 129,
     "metadata": {},
     "output_type": "execute_result"
    }
   ],
   "source": [
    "dados_dolar_anual_total.head(3)"
   ]
  },
  {
   "cell_type": "code",
   "execution_count": 130,
   "metadata": {},
   "outputs": [
    {
     "data": {
      "text/html": [
       "<div>\n",
       "<style scoped>\n",
       "    .dataframe tbody tr th:only-of-type {\n",
       "        vertical-align: middle;\n",
       "    }\n",
       "\n",
       "    .dataframe tbody tr th {\n",
       "        vertical-align: top;\n",
       "    }\n",
       "\n",
       "    .dataframe thead th {\n",
       "        text-align: right;\n",
       "    }\n",
       "</style>\n",
       "<table border=\"1\" class=\"dataframe\">\n",
       "  <thead>\n",
       "    <tr style=\"text-align: right;\">\n",
       "      <th></th>\n",
       "      <th>País</th>\n",
       "      <th>Continente</th>\n",
       "      <th>Total_unidades</th>\n",
       "      <th>Total_U$</th>\n",
       "      <th>Ticket_medio</th>\n",
       "    </tr>\n",
       "  </thead>\n",
       "  <tbody>\n",
       "    <tr>\n",
       "      <th>38</th>\n",
       "      <td>Finlândia</td>\n",
       "      <td>Europa</td>\n",
       "      <td>86763</td>\n",
       "      <td>537432</td>\n",
       "      <td>6.194253</td>\n",
       "    </tr>\n",
       "    <tr>\n",
       "      <th>51</th>\n",
       "      <td>Irlanda</td>\n",
       "      <td>Europa</td>\n",
       "      <td>16970</td>\n",
       "      <td>104717</td>\n",
       "      <td>6.170713</td>\n",
       "    </tr>\n",
       "    <tr>\n",
       "      <th>19</th>\n",
       "      <td>Catar</td>\n",
       "      <td>Ásia</td>\n",
       "      <td>13339</td>\n",
       "      <td>81608</td>\n",
       "      <td>6.118000</td>\n",
       "    </tr>\n",
       "    <tr>\n",
       "      <th>18</th>\n",
       "      <td>Canadá</td>\n",
       "      <td>América</td>\n",
       "      <td>198480</td>\n",
       "      <td>1091633</td>\n",
       "      <td>5.499965</td>\n",
       "    </tr>\n",
       "    <tr>\n",
       "      <th>9</th>\n",
       "      <td>Bahamas</td>\n",
       "      <td>América</td>\n",
       "      <td>12886</td>\n",
       "      <td>70829</td>\n",
       "      <td>5.496585</td>\n",
       "    </tr>\n",
       "    <tr>\n",
       "      <th>58</th>\n",
       "      <td>Luxemburgo</td>\n",
       "      <td>Europa</td>\n",
       "      <td>67290</td>\n",
       "      <td>369132</td>\n",
       "      <td>5.485689</td>\n",
       "    </tr>\n",
       "    <tr>\n",
       "      <th>67</th>\n",
       "      <td>Nova Zelândia</td>\n",
       "      <td>Oceania</td>\n",
       "      <td>13967</td>\n",
       "      <td>75053</td>\n",
       "      <td>5.373595</td>\n",
       "    </tr>\n",
       "    <tr>\n",
       "      <th>65</th>\n",
       "      <td>Noruega</td>\n",
       "      <td>Europa</td>\n",
       "      <td>41688</td>\n",
       "      <td>222136</td>\n",
       "      <td>5.328536</td>\n",
       "    </tr>\n",
       "    <tr>\n",
       "      <th>83</th>\n",
       "      <td>Suíça</td>\n",
       "      <td>Europa</td>\n",
       "      <td>177400</td>\n",
       "      <td>885401</td>\n",
       "      <td>4.990986</td>\n",
       "    </tr>\n",
       "    <tr>\n",
       "      <th>31</th>\n",
       "      <td>Dinamarca</td>\n",
       "      <td>Europa</td>\n",
       "      <td>81582</td>\n",
       "      <td>375569</td>\n",
       "      <td>4.603577</td>\n",
       "    </tr>\n",
       "  </tbody>\n",
       "</table>\n",
       "</div>"
      ],
      "text/plain": [
       "             País Continente  Total_unidades  Total_U$  Ticket_medio\n",
       "38      Finlândia     Europa           86763    537432      6.194253\n",
       "51        Irlanda     Europa           16970    104717      6.170713\n",
       "19          Catar       Ásia           13339     81608      6.118000\n",
       "18         Canadá    América          198480   1091633      5.499965\n",
       "9         Bahamas    América           12886     70829      5.496585\n",
       "58     Luxemburgo     Europa           67290    369132      5.485689\n",
       "67  Nova Zelândia    Oceania           13967     75053      5.373595\n",
       "65        Noruega     Europa           41688    222136      5.328536\n",
       "83          Suíça     Europa          177400    885401      4.990986\n",
       "31      Dinamarca     Europa           81582    375569      4.603577"
      ]
     },
     "execution_count": 130,
     "metadata": {},
     "output_type": "execute_result"
    }
   ],
   "source": [
    "dados_ticket = dados_qtd_combinado[[\"País\",\"Continente\",\"Total\"]].merge(dados_dolar_anual_total[[\"País\",\"Total\"]], on = \"País\")\n",
    "dados_ticket.columns = [\"País\",\"Continente\",\"Total_unidades\",\"Total_U$\"]\n",
    "dados_ticket[\"Ticket_medio\"] = (dados_ticket[\"Total_U$\"]/dados_ticket[\"Total_unidades\"])\n",
    "dados_ticket.sort_values(\"Ticket_medio\",ascending=False, inplace=True)\n",
    "dados_ticket = dados_ticket.query(\"Total_unidades >= 10_000\")\n",
    "dados_ticket_10 = dados_ticket.head(10)\n",
    "dados_ticket_10"
   ]
  },
  {
   "cell_type": "code",
   "execution_count": 131,
   "metadata": {},
   "outputs": [
    {
     "data": {
      "text/html": [
       "<div>\n",
       "<style scoped>\n",
       "    .dataframe tbody tr th:only-of-type {\n",
       "        vertical-align: middle;\n",
       "    }\n",
       "\n",
       "    .dataframe tbody tr th {\n",
       "        vertical-align: top;\n",
       "    }\n",
       "\n",
       "    .dataframe thead th {\n",
       "        text-align: right;\n",
       "    }\n",
       "</style>\n",
       "<table border=\"1\" class=\"dataframe\">\n",
       "  <thead>\n",
       "    <tr style=\"text-align: right;\">\n",
       "      <th></th>\n",
       "      <th>Total_unidades</th>\n",
       "      <th>Total_U$</th>\n",
       "      <th>Ticket_medio</th>\n",
       "    </tr>\n",
       "  </thead>\n",
       "  <tbody>\n",
       "    <tr>\n",
       "      <th>count</th>\n",
       "      <td>10.000000</td>\n",
       "      <td>1.000000e+01</td>\n",
       "      <td>10.000000</td>\n",
       "    </tr>\n",
       "    <tr>\n",
       "      <th>mean</th>\n",
       "      <td>71036.500000</td>\n",
       "      <td>3.813510e+05</td>\n",
       "      <td>5.526190</td>\n",
       "    </tr>\n",
       "    <tr>\n",
       "      <th>std</th>\n",
       "      <td>68051.889777</td>\n",
       "      <td>3.597955e+05</td>\n",
       "      <td>0.518027</td>\n",
       "    </tr>\n",
       "    <tr>\n",
       "      <th>min</th>\n",
       "      <td>12886.000000</td>\n",
       "      <td>7.082900e+04</td>\n",
       "      <td>4.603577</td>\n",
       "    </tr>\n",
       "    <tr>\n",
       "      <th>25%</th>\n",
       "      <td>14717.750000</td>\n",
       "      <td>8.738525e+04</td>\n",
       "      <td>5.339801</td>\n",
       "    </tr>\n",
       "    <tr>\n",
       "      <th>50%</th>\n",
       "      <td>54489.000000</td>\n",
       "      <td>2.956340e+05</td>\n",
       "      <td>5.491137</td>\n",
       "    </tr>\n",
       "    <tr>\n",
       "      <th>75%</th>\n",
       "      <td>85467.750000</td>\n",
       "      <td>4.969662e+05</td>\n",
       "      <td>5.963491</td>\n",
       "    </tr>\n",
       "    <tr>\n",
       "      <th>max</th>\n",
       "      <td>198480.000000</td>\n",
       "      <td>1.091633e+06</td>\n",
       "      <td>6.194253</td>\n",
       "    </tr>\n",
       "  </tbody>\n",
       "</table>\n",
       "</div>"
      ],
      "text/plain": [
       "       Total_unidades      Total_U$  Ticket_medio\n",
       "count       10.000000  1.000000e+01     10.000000\n",
       "mean     71036.500000  3.813510e+05      5.526190\n",
       "std      68051.889777  3.597955e+05      0.518027\n",
       "min      12886.000000  7.082900e+04      4.603577\n",
       "25%      14717.750000  8.738525e+04      5.339801\n",
       "50%      54489.000000  2.956340e+05      5.491137\n",
       "75%      85467.750000  4.969662e+05      5.963491\n",
       "max     198480.000000  1.091633e+06      6.194253"
      ]
     },
     "execution_count": 131,
     "metadata": {},
     "output_type": "execute_result"
    }
   ],
   "source": [
    "dados_ticket_10.describe()"
   ]
  },
  {
   "cell_type": "code",
   "execution_count": 132,
   "metadata": {},
   "outputs": [
    {
     "data": {
      "image/png": "[encoded data removed]",
      "text/plain": [
       "<Figure size 1200x600 with 1 Axes>"
      ]
     },
     "metadata": {},
     "output_type": "display_data"
    }
   ],
   "source": [
    "# Definindo a área do gráfico e o tema da visualização\n",
    "fig, ax = plt.subplots(figsize=(12,6))\n",
    "sns.set_theme(style=\"white\")\n",
    "\n",
    "def cores_pelos_valores(valor, nome_palette):\n",
    "    # normalizando os valores entre [0, 1]\n",
    "    valores_normalizados = (valor - min(valor)) / (max(valor) - min(valor))\n",
    "    # convertendo para os indices de cores\n",
    "    indices_cor = np.round(valores_normalizados * (len(valor) - 1)).astype(np.int32)\n",
    "    # usando os indices para definir as cores em ordem crescente\n",
    "    palette = sns.color_palette(nome_palette, len(valor))\n",
    "    return np.array(palette).take(indices_cor, axis=0)\n",
    "\n",
    "# Desenhando o gráfico\n",
    "data = dados_dolar_ordenados.head(10)\n",
    "ax = sns.barplot(data = dados_ticket_10, y = \"País\", x = \"Ticket_medio\", \n",
    "                 palette = cores_pelos_valores(dados_ticket_10[\"Ticket_medio\"], reversed(PALETA02)))\n",
    "\n",
    "# ax.axvline(x = dados_ticket_10[\"Ticket_medio\"].mean(), color = CINZA3, linestyle=\"--\")\n",
    "\n",
    " # Personalizando o gráfico\n",
    "ax.set_title('Top 20 Ticket médio por país (2007 - 2021)', \n",
    "             loc='left', fontsize=18, color = CINZA1, pad = 10)\n",
    "ax.set_xlabel(\"\")\n",
    "ax.set_ylabel(\"\")\n",
    "ax.yaxis.set_tick_params(labelsize = 14, labelcolor= CINZA2)\n",
    "ax.set_xticklabels([])\n",
    "sns.despine(left= True, bottom = True)\n",
    "\n",
    "# Escrevendo os valores de cada barra no gráfico\n",
    "for i, valor in enumerate(dados_ticket_10[\"Ticket_medio\"]):\n",
    "    qtd = f'U$ {valor:,.2f}'\n",
    "    offset = 0.2\n",
    "    offset_fora = 0.5\n",
    "    if valor > dados_ticket_10[\"Ticket_medio\"].mean():\n",
    "      ax.text(valor - offset, i, qtd, color= CINZA5, fontsize=12, fontweight='bold', ha='right', va='center')\n",
    "    else:\n",
    "       ax.text(valor + offset_fora, i, qtd, color= CINZA1, fontsize=12, fontweight='bold', ha='right', va='center')\n",
    "      \n",
    "plt.show()"
   ]
  },
  {
   "attachments": {},
   "cell_type": "markdown",
   "metadata": {},
   "source": [
    "### Ticket Médio"
   ]
  },
  {
   "cell_type": "code",
   "execution_count": 133,
   "metadata": {},
   "outputs": [
    {
     "data": {
      "text/html": [
       "<div>\n",
       "<style scoped>\n",
       "    .dataframe tbody tr th:only-of-type {\n",
       "        vertical-align: middle;\n",
       "    }\n",
       "\n",
       "    .dataframe tbody tr th {\n",
       "        vertical-align: top;\n",
       "    }\n",
       "\n",
       "    .dataframe thead th {\n",
       "        text-align: right;\n",
       "    }\n",
       "</style>\n",
       "<table border=\"1\" class=\"dataframe\">\n",
       "  <thead>\n",
       "    <tr style=\"text-align: right;\">\n",
       "      <th></th>\n",
       "      <th>Total</th>\n",
       "    </tr>\n",
       "  </thead>\n",
       "  <tbody>\n",
       "    <tr>\n",
       "      <th>2007</th>\n",
       "      <td>3582421</td>\n",
       "    </tr>\n",
       "    <tr>\n",
       "      <th>2008</th>\n",
       "      <td>6990550</td>\n",
       "    </tr>\n",
       "    <tr>\n",
       "      <th>2009</th>\n",
       "      <td>8871157</td>\n",
       "    </tr>\n",
       "    <tr>\n",
       "      <th>2010</th>\n",
       "      <td>2426817</td>\n",
       "    </tr>\n",
       "    <tr>\n",
       "      <th>2011</th>\n",
       "      <td>3537022</td>\n",
       "    </tr>\n",
       "  </tbody>\n",
       "</table>\n",
       "</div>"
      ],
      "text/plain": [
       "        Total\n",
       "2007  3582421\n",
       "2008  6990550\n",
       "2009  8871157\n",
       "2010  2426817\n",
       "2011  3537022"
      ]
     },
     "execution_count": 133,
     "metadata": {},
     "output_type": "execute_result"
    }
   ],
   "source": [
    "export_por_ano_dolar.head()"
   ]
  },
  {
   "cell_type": "code",
   "execution_count": 134,
   "metadata": {},
   "outputs": [
    {
     "data": {
      "text/html": [
       "<div>\n",
       "<style scoped>\n",
       "    .dataframe tbody tr th:only-of-type {\n",
       "        vertical-align: middle;\n",
       "    }\n",
       "\n",
       "    .dataframe tbody tr th {\n",
       "        vertical-align: top;\n",
       "    }\n",
       "\n",
       "    .dataframe thead th {\n",
       "        text-align: right;\n",
       "    }\n",
       "</style>\n",
       "<table border=\"1\" class=\"dataframe\">\n",
       "  <thead>\n",
       "    <tr style=\"text-align: right;\">\n",
       "      <th></th>\n",
       "      <th>País</th>\n",
       "      <th>2007</th>\n",
       "      <th>2008</th>\n",
       "      <th>2009</th>\n",
       "      <th>2010</th>\n",
       "      <th>2011</th>\n",
       "      <th>2012</th>\n",
       "      <th>2013</th>\n",
       "      <th>2014</th>\n",
       "      <th>2015</th>\n",
       "      <th>2016</th>\n",
       "      <th>2017</th>\n",
       "      <th>2018</th>\n",
       "      <th>2019</th>\n",
       "      <th>2020</th>\n",
       "      <th>2021</th>\n",
       "      <th>Total</th>\n",
       "      <th>Continente</th>\n",
       "    </tr>\n",
       "  </thead>\n",
       "  <tbody>\n",
       "    <tr>\n",
       "      <th>0</th>\n",
       "      <td>Afeganistão</td>\n",
       "      <td>0</td>\n",
       "      <td>0</td>\n",
       "      <td>0</td>\n",
       "      <td>0</td>\n",
       "      <td>0</td>\n",
       "      <td>0</td>\n",
       "      <td>0</td>\n",
       "      <td>0</td>\n",
       "      <td>0</td>\n",
       "      <td>0</td>\n",
       "      <td>0</td>\n",
       "      <td>0</td>\n",
       "      <td>0</td>\n",
       "      <td>0</td>\n",
       "      <td>11</td>\n",
       "      <td>11</td>\n",
       "      <td>Ásia</td>\n",
       "    </tr>\n",
       "    <tr>\n",
       "      <th>1</th>\n",
       "      <td>África do Sul</td>\n",
       "      <td>0</td>\n",
       "      <td>0</td>\n",
       "      <td>0</td>\n",
       "      <td>0</td>\n",
       "      <td>0</td>\n",
       "      <td>0</td>\n",
       "      <td>0</td>\n",
       "      <td>0</td>\n",
       "      <td>0</td>\n",
       "      <td>0</td>\n",
       "      <td>0</td>\n",
       "      <td>0</td>\n",
       "      <td>26</td>\n",
       "      <td>4</td>\n",
       "      <td>0</td>\n",
       "      <td>30</td>\n",
       "      <td>África</td>\n",
       "    </tr>\n",
       "    <tr>\n",
       "      <th>2</th>\n",
       "      <td>Alemanha</td>\n",
       "      <td>119512</td>\n",
       "      <td>265742</td>\n",
       "      <td>225086</td>\n",
       "      <td>27715</td>\n",
       "      <td>36070</td>\n",
       "      <td>8189</td>\n",
       "      <td>61699</td>\n",
       "      <td>213348</td>\n",
       "      <td>10680</td>\n",
       "      <td>14012</td>\n",
       "      <td>15467</td>\n",
       "      <td>10794</td>\n",
       "      <td>3660</td>\n",
       "      <td>6261</td>\n",
       "      <td>2698</td>\n",
       "      <td>1020933</td>\n",
       "      <td>Europa</td>\n",
       "    </tr>\n",
       "  </tbody>\n",
       "</table>\n",
       "</div>"
      ],
      "text/plain": [
       "            País    2007    2008    2009   2010   2011  2012   2013    2014  \\\n",
       "0    Afeganistão       0       0       0      0      0     0      0       0   \n",
       "1  África do Sul       0       0       0      0      0     0      0       0   \n",
       "2       Alemanha  119512  265742  225086  27715  36070  8189  61699  213348   \n",
       "\n",
       "    2015   2016   2017   2018  2019  2020  2021    Total Continente  \n",
       "0      0      0      0      0     0     0    11       11       Ásia  \n",
       "1      0      0      0      0    26     4     0       30     África  \n",
       "2  10680  14012  15467  10794  3660  6261  2698  1020933     Europa  "
      ]
     },
     "execution_count": 134,
     "metadata": {},
     "output_type": "execute_result"
    }
   ],
   "source": [
    "dados_qtd_combinado.head(3)"
   ]
  },
  {
   "cell_type": "code",
   "execution_count": 135,
   "metadata": {},
   "outputs": [
    {
     "data": {
      "text/html": [
       "<div>\n",
       "<style scoped>\n",
       "    .dataframe tbody tr th:only-of-type {\n",
       "        vertical-align: middle;\n",
       "    }\n",
       "\n",
       "    .dataframe tbody tr th {\n",
       "        vertical-align: top;\n",
       "    }\n",
       "\n",
       "    .dataframe thead th {\n",
       "        text-align: right;\n",
       "    }\n",
       "</style>\n",
       "<table border=\"1\" class=\"dataframe\">\n",
       "  <thead>\n",
       "    <tr style=\"text-align: right;\">\n",
       "      <th>País</th>\n",
       "      <th>Ano</th>\n",
       "      <th>Afeganistão</th>\n",
       "      <th>África do Sul</th>\n",
       "      <th>Alemanha</th>\n",
       "      <th>Angola</th>\n",
       "      <th>Antígua e Barbuda</th>\n",
       "      <th>Argentina</th>\n",
       "      <th>Aruba</th>\n",
       "      <th>Austrália</th>\n",
       "      <th>Áustria</th>\n",
       "      <th>...</th>\n",
       "      <th>Tanzânia</th>\n",
       "      <th>Chéquia</th>\n",
       "      <th>Togo</th>\n",
       "      <th>Tunísia</th>\n",
       "      <th>Turquia</th>\n",
       "      <th>Tuvalu</th>\n",
       "      <th>Uruguai</th>\n",
       "      <th>Vanuatu</th>\n",
       "      <th>Venezuela</th>\n",
       "      <th>Total</th>\n",
       "    </tr>\n",
       "  </thead>\n",
       "  <tbody>\n",
       "    <tr>\n",
       "      <th>0</th>\n",
       "      <td>2007</td>\n",
       "      <td>0</td>\n",
       "      <td>0</td>\n",
       "      <td>119512</td>\n",
       "      <td>25931</td>\n",
       "      <td>0</td>\n",
       "      <td>0</td>\n",
       "      <td>0</td>\n",
       "      <td>60</td>\n",
       "      <td>0</td>\n",
       "      <td>...</td>\n",
       "      <td>0</td>\n",
       "      <td>85303</td>\n",
       "      <td>11</td>\n",
       "      <td>0</td>\n",
       "      <td>0</td>\n",
       "      <td>0</td>\n",
       "      <td>0</td>\n",
       "      <td>0</td>\n",
       "      <td>20700</td>\n",
       "      <td>3169160</td>\n",
       "    </tr>\n",
       "    <tr>\n",
       "      <th>1</th>\n",
       "      <td>2008</td>\n",
       "      <td>0</td>\n",
       "      <td>0</td>\n",
       "      <td>265742</td>\n",
       "      <td>25721</td>\n",
       "      <td>0</td>\n",
       "      <td>0</td>\n",
       "      <td>0</td>\n",
       "      <td>218726</td>\n",
       "      <td>0</td>\n",
       "      <td>...</td>\n",
       "      <td>0</td>\n",
       "      <td>17135</td>\n",
       "      <td>5160</td>\n",
       "      <td>0</td>\n",
       "      <td>0</td>\n",
       "      <td>0</td>\n",
       "      <td>0</td>\n",
       "      <td>0</td>\n",
       "      <td>0</td>\n",
       "      <td>10289073</td>\n",
       "    </tr>\n",
       "    <tr>\n",
       "      <th>2</th>\n",
       "      <td>2009</td>\n",
       "      <td>0</td>\n",
       "      <td>0</td>\n",
       "      <td>225086</td>\n",
       "      <td>54786</td>\n",
       "      <td>0</td>\n",
       "      <td>162</td>\n",
       "      <td>0</td>\n",
       "      <td>1014</td>\n",
       "      <td>0</td>\n",
       "      <td>...</td>\n",
       "      <td>0</td>\n",
       "      <td>9269</td>\n",
       "      <td>0</td>\n",
       "      <td>0</td>\n",
       "      <td>0</td>\n",
       "      <td>0</td>\n",
       "      <td>0</td>\n",
       "      <td>0</td>\n",
       "      <td>0</td>\n",
       "      <td>25488790</td>\n",
       "    </tr>\n",
       "    <tr>\n",
       "      <th>3</th>\n",
       "      <td>2010</td>\n",
       "      <td>0</td>\n",
       "      <td>0</td>\n",
       "      <td>27715</td>\n",
       "      <td>33557</td>\n",
       "      <td>0</td>\n",
       "      <td>0</td>\n",
       "      <td>0</td>\n",
       "      <td>1823</td>\n",
       "      <td>0</td>\n",
       "      <td>...</td>\n",
       "      <td>0</td>\n",
       "      <td>1091</td>\n",
       "      <td>0</td>\n",
       "      <td>0</td>\n",
       "      <td>0</td>\n",
       "      <td>0</td>\n",
       "      <td>914</td>\n",
       "      <td>0</td>\n",
       "      <td>0</td>\n",
       "      <td>1222654</td>\n",
       "    </tr>\n",
       "    <tr>\n",
       "      <th>4</th>\n",
       "      <td>2011</td>\n",
       "      <td>0</td>\n",
       "      <td>0</td>\n",
       "      <td>36070</td>\n",
       "      <td>13889</td>\n",
       "      <td>0</td>\n",
       "      <td>13253</td>\n",
       "      <td>900</td>\n",
       "      <td>3632</td>\n",
       "      <td>0</td>\n",
       "      <td>...</td>\n",
       "      <td>0</td>\n",
       "      <td>6846</td>\n",
       "      <td>0</td>\n",
       "      <td>0</td>\n",
       "      <td>0</td>\n",
       "      <td>0</td>\n",
       "      <td>1238</td>\n",
       "      <td>0</td>\n",
       "      <td>0</td>\n",
       "      <td>1191330</td>\n",
       "    </tr>\n",
       "  </tbody>\n",
       "</table>\n",
       "<p>5 rows × 98 columns</p>\n",
       "</div>"
      ],
      "text/plain": [
       "País   Ano  Afeganistão  África do Sul  Alemanha  Angola  Antígua e Barbuda  \\\n",
       "0     2007            0              0    119512   25931                  0   \n",
       "1     2008            0              0    265742   25721                  0   \n",
       "2     2009            0              0    225086   54786                  0   \n",
       "3     2010            0              0     27715   33557                  0   \n",
       "4     2011            0              0     36070   13889                  0   \n",
       "\n",
       "País  Argentina  Aruba  Austrália  Áustria  ...  Tanzânia  Chéquia  Togo  \\\n",
       "0             0      0         60        0  ...         0    85303    11   \n",
       "1             0      0     218726        0  ...         0    17135  5160   \n",
       "2           162      0       1014        0  ...         0     9269     0   \n",
       "3             0      0       1823        0  ...         0     1091     0   \n",
       "4         13253    900       3632        0  ...         0     6846     0   \n",
       "\n",
       "País  Tunísia  Turquia  Tuvalu  Uruguai  Vanuatu  Venezuela     Total  \n",
       "0           0        0       0        0        0      20700   3169160  \n",
       "1           0        0       0        0        0          0  10289073  \n",
       "2           0        0       0        0        0          0  25488790  \n",
       "3           0        0       0      914        0          0   1222654  \n",
       "4           0        0       0     1238        0          0   1191330  \n",
       "\n",
       "[5 rows x 98 columns]"
      ]
     },
     "execution_count": 135,
     "metadata": {},
     "output_type": "execute_result"
    }
   ],
   "source": [
    "total_unidades_ano = dados_qtd_combinado.drop([\"Total\",\"Continente\"], axis =1).set_index(\"País\").T\n",
    "total_unidades_ano[\"Total\"] = total_unidades_ano.sum(axis = 1)\n",
    "total_unidades_ano = total_unidades_ano.rename_axis('Ano').reset_index()\n",
    "total_unidades_ano.head()"
   ]
  },
  {
   "cell_type": "code",
   "execution_count": 139,
   "metadata": {},
   "outputs": [
    {
     "name": "stderr",
     "output_type": "stream",
     "text": [
      "C:\\Users\\Afonso\\AppData\\Local\\Temp\\ipykernel_2792\\941434900.py:2: SettingWithCopyWarning:\n",
      "\n",
      "\n",
      "A value is trying to be set on a copy of a slice from a DataFrame.\n",
      "Try using .loc[row_indexer,col_indexer] = value instead\n",
      "\n",
      "See the caveats in the documentation: https://pandas.pydata.org/pandas-docs/stable/user_guide/indexing.html#returning-a-view-versus-a-copy\n",
      "\n",
      "C:\\Users\\Afonso\\AppData\\Local\\Temp\\ipykernel_2792\\941434900.py:3: SettingWithCopyWarning:\n",
      "\n",
      "\n",
      "A value is trying to be set on a copy of a slice from a DataFrame.\n",
      "Try using .loc[row_indexer,col_indexer] = value instead\n",
      "\n",
      "See the caveats in the documentation: https://pandas.pydata.org/pandas-docs/stable/user_guide/indexing.html#returning-a-view-versus-a-copy\n",
      "\n"
     ]
    },
    {
     "data": {
      "text/html": [
       "<div>\n",
       "<style scoped>\n",
       "    .dataframe tbody tr th:only-of-type {\n",
       "        vertical-align: middle;\n",
       "    }\n",
       "\n",
       "    .dataframe tbody tr th {\n",
       "        vertical-align: top;\n",
       "    }\n",
       "\n",
       "    .dataframe thead th {\n",
       "        text-align: right;\n",
       "    }\n",
       "</style>\n",
       "<table border=\"1\" class=\"dataframe\">\n",
       "  <thead>\n",
       "    <tr style=\"text-align: right;\">\n",
       "      <th></th>\n",
       "      <th>Ano</th>\n",
       "      <th>Total_unidades</th>\n",
       "      <th>Total_US$</th>\n",
       "      <th>Ticket_medio</th>\n",
       "    </tr>\n",
       "  </thead>\n",
       "  <tbody>\n",
       "    <tr>\n",
       "      <th>0</th>\n",
       "      <td>2007</td>\n",
       "      <td>3169160</td>\n",
       "      <td>3582421</td>\n",
       "      <td>1.13</td>\n",
       "    </tr>\n",
       "    <tr>\n",
       "      <th>1</th>\n",
       "      <td>2008</td>\n",
       "      <td>10289073</td>\n",
       "      <td>6990550</td>\n",
       "      <td>0.68</td>\n",
       "    </tr>\n",
       "    <tr>\n",
       "      <th>2</th>\n",
       "      <td>2009</td>\n",
       "      <td>25488790</td>\n",
       "      <td>8871157</td>\n",
       "      <td>0.35</td>\n",
       "    </tr>\n",
       "    <tr>\n",
       "      <th>3</th>\n",
       "      <td>2010</td>\n",
       "      <td>1222654</td>\n",
       "      <td>2426817</td>\n",
       "      <td>1.98</td>\n",
       "    </tr>\n",
       "    <tr>\n",
       "      <th>4</th>\n",
       "      <td>2011</td>\n",
       "      <td>1191330</td>\n",
       "      <td>3537022</td>\n",
       "      <td>2.97</td>\n",
       "    </tr>\n",
       "    <tr>\n",
       "      <th>5</th>\n",
       "      <td>2012</td>\n",
       "      <td>5737814</td>\n",
       "      <td>5384352</td>\n",
       "      <td>0.94</td>\n",
       "    </tr>\n",
       "    <tr>\n",
       "      <th>6</th>\n",
       "      <td>2013</td>\n",
       "      <td>9116649</td>\n",
       "      <td>22623201</td>\n",
       "      <td>2.48</td>\n",
       "    </tr>\n",
       "    <tr>\n",
       "      <th>7</th>\n",
       "      <td>2014</td>\n",
       "      <td>2282206</td>\n",
       "      <td>7336818</td>\n",
       "      <td>3.21</td>\n",
       "    </tr>\n",
       "    <tr>\n",
       "      <th>8</th>\n",
       "      <td>2015</td>\n",
       "      <td>1178284</td>\n",
       "      <td>2709320</td>\n",
       "      <td>2.30</td>\n",
       "    </tr>\n",
       "    <tr>\n",
       "      <th>9</th>\n",
       "      <td>2016</td>\n",
       "      <td>1746481</td>\n",
       "      <td>4331760</td>\n",
       "      <td>2.48</td>\n",
       "    </tr>\n",
       "    <tr>\n",
       "      <th>10</th>\n",
       "      <td>2017</td>\n",
       "      <td>2868083</td>\n",
       "      <td>7066368</td>\n",
       "      <td>2.46</td>\n",
       "    </tr>\n",
       "    <tr>\n",
       "      <th>11</th>\n",
       "      <td>2018</td>\n",
       "      <td>3811752</td>\n",
       "      <td>7363658</td>\n",
       "      <td>1.93</td>\n",
       "    </tr>\n",
       "    <tr>\n",
       "      <th>12</th>\n",
       "      <td>2019</td>\n",
       "      <td>3105506</td>\n",
       "      <td>5832800</td>\n",
       "      <td>1.88</td>\n",
       "    </tr>\n",
       "    <tr>\n",
       "      <th>13</th>\n",
       "      <td>2020</td>\n",
       "      <td>4349732</td>\n",
       "      <td>5976988</td>\n",
       "      <td>1.37</td>\n",
       "    </tr>\n",
       "    <tr>\n",
       "      <th>14</th>\n",
       "      <td>2021</td>\n",
       "      <td>8015907</td>\n",
       "      <td>9757381</td>\n",
       "      <td>1.22</td>\n",
       "    </tr>\n",
       "  </tbody>\n",
       "</table>\n",
       "</div>"
      ],
      "text/plain": [
       "     Ano  Total_unidades  Total_US$  Ticket_medio\n",
       "0   2007         3169160    3582421          1.13\n",
       "1   2008        10289073    6990550          0.68\n",
       "2   2009        25488790    8871157          0.35\n",
       "3   2010         1222654    2426817          1.98\n",
       "4   2011         1191330    3537022          2.97\n",
       "5   2012         5737814    5384352          0.94\n",
       "6   2013         9116649   22623201          2.48\n",
       "7   2014         2282206    7336818          3.21\n",
       "8   2015         1178284    2709320          2.30\n",
       "9   2016         1746481    4331760          2.48\n",
       "10  2017         2868083    7066368          2.46\n",
       "11  2018         3811752    7363658          1.93\n",
       "12  2019         3105506    5832800          1.88\n",
       "13  2020         4349732    5976988          1.37\n",
       "14  2021         8015907    9757381          1.22"
      ]
     },
     "execution_count": 139,
     "metadata": {},
     "output_type": "execute_result"
    }
   ],
   "source": [
    "total_ticket_medio_ano = total_unidades_ano[[\"Ano\",\"Total\"]]\n",
    "total_ticket_medio_ano[\"US$\"] = export_por_ano_dolar[\"Total\"].values\n",
    "total_ticket_medio_ano[\"Ticket_medio\"] = (total_ticket_medio_ano[\"US$\"] / total_ticket_medio_ano[\"Total\"]).round(2)\n",
    "total_ticket_medio_ano.columns = [\"Ano\",\"Total_unidades\",\"Total_US$\",\"Ticket_medio\"]\n",
    "total_ticket_medio_ano"
   ]
  },
  {
   "cell_type": "code",
   "execution_count": 158,
   "metadata": {},
   "outputs": [
    {
     "data": {
      "image/png": "[encoded data removed]",
      "text/plain": [
       "<Figure size 1400x600 with 1 Axes>"
      ]
     },
     "metadata": {},
     "output_type": "display_data"
    }
   ],
   "source": [
    "# Definindo a área do gráfico e o tema da visualização\n",
    "fig, ax = plt.subplots(figsize=(14,6))\n",
    "\n",
    "# Desenhando o gráfico\n",
    "ax.plot(total_ticket_medio_ano[\"Ano\"], total_ticket_medio_ano[\"Ticket_medio\"], marker=\"o\")\n",
    "\n",
    " # Personalizando o gráfico\n",
    "ax.set_title('Ticket Médio por ano dos vinhos exportados (2007 - 2021)', \n",
    "             loc='left', fontsize=18, color = CINZA1, pad = 40)\n",
    "ax.set_xlabel(\"\")\n",
    "ax.set_ylabel(\"\")\n",
    "ax.xaxis.set_tick_params(labelsize = 14, labelcolor= CINZA2)\n",
    "ax.grid(axis = \"y\", linestyle=\"--\", lw = 1)\n",
    "ax.set_ylim(0, 3.5)\n",
    "sns.despine(left= True, bottom = True)\n",
    "\n",
    "# Ajustando os ticks do eixo x\n",
    "loc = ticker.MultipleLocator(base=2.0)\n",
    "ax.xaxis.set_major_locator(loc)\n",
    "\n",
    "# Ajustando os ticks do eixo y\n",
    "ax.yaxis.set_major_formatter(ticker.StrMethodFormatter(\"U$ {x:.2f}\"))\n",
    "\n",
    "plt.show()"
   ]
  },
  {
   "attachments": {},
   "cell_type": "markdown",
   "metadata": {},
   "source": [
    "## Ideias de texto para o Storytelling dos dados"
   ]
  },
  {
   "attachments": {},
   "cell_type": "markdown",
   "metadata": {},
   "source": [
    "\n",
    "Bem-vindos ao nosso relatório acerca das **exportações de vinhos de mesa** no Brasil!\n",
    "\n",
    "Trazemos aqui dados dos últimos **15 anos (2007 - 2021)** da exportação de vinhos brasileiros de nossa vinícola parceira a fim de suportar a nossa análise do porquê vocês devem investir em **Vinhos Bra SA** como uma empresa com potencial na exportação de vinhos de mesa no Brasil.\n",
    "\n",
    "Nesta apresentação, abordarei a quantidade de vinhos exportados e os fatores externos que podem impactar nossas análises. (*se a gente tiver algum dado de fator externo para colocar na análise*)\n",
    "\n",
    "Vamos dividir as nossas análises em dois níveis com os dados que possuímos: \n",
    "- Países que mais importam os nossos vinhos\n",
    "- Continentes com maior participação na importação dos vinhos.\n",
    "\n",
    "Começando com os números, nos últimos anos, temos observado um crescimento consistente nas exportações de vinhos brasileiros. (*criar gráfico de vendas por ano e juntar com o de vendas por país por ano*)\n",
    "\n",
    "De acordo com nossos relatórios, houve um aumento nas vendas em relação ... (*Será que é possível gerarmos gráficos de crescimento de 5 em 5 anos aqui, seriam três pontos... acho que um gráfico de inclinação pode mostrar isso* )  ao mesmo período do ano anterior. Países como .... (*adicionar os países mais importantes*) tem uma relevância significativa nas importações dos vinhos brasileiros. \n",
    "\n",
    "Podemos notar por exemplo, no ano de ... que a Rússia importou ..., isto pode ser ...\n",
    "O maior importador de nossos vinhos é o Paraguai (*colocar em números*) e nos últimos ... anos exportamos mais de ... vinhos (*pode ser em valor ou quantidade*) \n",
    "\n",
    "Isso indica uma demanda crescente pelos nossos produtos, refletindo a qualidade dos vinhos brasileiros e a crescente reputação que estamos conquistando no mercado internacional, sobretudo nos parceiros abaixo...(*apontar para o gráfico de distirbuição dos principais parceiros*).\n",
    "\n",
    "No entanto, é importante ressaltar que há fatores externos que podem influenciar nossas análises e o desempenho futuro. Um desses fatores é a ... (*falar de imprevisibilidade de demanda ou demandas não recorrentes e como fidelizá-las*). Flutuações nas taxas de câmbio também podem impactar os preços de exportação e a competitividade dos nossos produtos em relação a outras opções disponíveis no mercado global. Portanto, é essencial monitorar de perto as tendências cambiais e ajustar nossas estratégias de precificação conforme necessário.\n",
    "\n",
    "Outro fator a ser considerado é o ambiente regulatório e político nos mercados de destino (*investigar se podemos adicionar coisas relativas à países que não consomem ou alteraram bruscamente o consumo de nossos vinhos*). Alterações nas políticas comerciais, impostos de importação ou regulamentações sanitárias podem ter um impacto significativo nas nossas operações e no acesso aos mercados internacionais. Devemos estar atentos a essas mudanças e trabalhar em estreita colaboração com as autoridades competentes para garantir o cumprimento das normas e minimizar qualquer impacto negativo.\n",
    "\n",
    "Além disso, as condições climáticas também podem influenciar a produção de uvas e, consequentemente, a quantidade de vinhos disponíveis para exportação. Mudanças no clima, como períodos de seca ou chuvas excessivas, podem afetar a qualidade e a quantidade da colheita, afetando a disponibilidade dos nossos produtos. É fundamental acompanhar os relatórios climáticos e ajustar nossa produção e planejamento de exportação conforme necessário. (*só se puxarmos dados climáticos*)\n",
    "\n",
    "Para concluir, temos registrado um crescimento promissor nas exportações de vinhos brasileiros e estamoa atentos aos fatores externos que podem influenciar nossas análises e o desempenho futuro. Como empresa, estamos comprometidos em monitorar essas variáveis de perto, implementar estratégias de mitigação de risco e aproveitar as oportunidades que surgirem.\n",
    "\n",
    "Obrigado pela atenção e estou à disposição para responder a quaisquer perguntas que possam surgir."
   ]
  }
 ],
 "metadata": {
  "kernelspec": {
   "display_name": "Python 3",
   "language": "python",
   "name": "python3"
  },
  "language_info": {
   "codemirror_mode": {
    "name": "ipython",
    "version": 3
   },
   "file_extension": ".py",
   "mimetype": "text/x-python",
   "name": "python",
   "nbconvert_exporter": "python",
   "pygments_lexer": "ipython3",
   "version": "3.10.5"
  }
 },
 "nbformat": 4,
 "nbformat_minor": 4
}
